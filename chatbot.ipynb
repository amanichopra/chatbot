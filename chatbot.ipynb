{
  "cells": [
    {
      "cell_type": "code",
      "execution_count": 2,
      "metadata": {
        "id": "E4y8LXh9knay"
      },
      "outputs": [],
      "source": [
        "# For tips on running notebooks in Google Colab, see\n",
        "# https://pytorch.org/tutorials/beginner/colab\n",
        "%matplotlib inline"
      ]
    },
    {
      "cell_type": "markdown",
      "metadata": {
        "id": "MeIHXdexkna1"
      },
      "source": [
        "\n",
        "# Chatbot Tutorial\n",
        "**Author:** [Matthew Inkawhich](https://github.com/MatthewInkawhich)\n"
      ]
    },
    {
      "cell_type": "markdown",
      "metadata": {
        "id": "8GZqfZ-Jkna2"
      },
      "source": [
        "In this tutorial, we explore a fun and interesting use-case of recurrent\n",
        "sequence-to-sequence models. We will train a simple chatbot using movie\n",
        "scripts from the [Cornell Movie-Dialogs\n",
        "Corpus](https://www.cs.cornell.edu/~cristian/Cornell_Movie-Dialogs_Corpus.html)_.\n",
        "\n",
        "Conversational models are a hot topic in artificial intelligence\n",
        "research. Chatbots can be found in a variety of settings, including\n",
        "customer service applications and online helpdesks. These bots are often\n",
        "powered by retrieval-based models, which output predefined responses to\n",
        "questions of certain forms. In a highly restricted domain like a\n",
        "company’s IT helpdesk, these models may be sufficient, however, they are\n",
        "not robust enough for more general use-cases. Teaching a machine to\n",
        "carry out a meaningful conversation with a human in multiple domains is\n",
        "a research question that is far from solved. Recently, the deep learning\n",
        "boom has allowed for powerful generative models like Google’s [Neural\n",
        "Conversational Model](https://arxiv.org/abs/1506.05869)_, which marks\n",
        "a large step towards multi-domain generative conversational models. In\n",
        "this tutorial, we will implement this kind of model in PyTorch.\n",
        "\n",
        ".. figure:: /_static/img/chatbot/bot.png\n",
        "   :align: center\n",
        "   :alt: bot\n",
        "\n",
        "```python\n",
        "> hello?\n",
        "Bot: hello .\n",
        "> where am I?\n",
        "Bot: you re in a hospital .\n",
        "> who are you?\n",
        "Bot: i m a lawyer .\n",
        "> how are you doing?\n",
        "Bot: i m fine .\n",
        "> are you my friend?\n",
        "Bot: no .\n",
        "> you're under arrest\n",
        "Bot: i m trying to help you !\n",
        "> i'm just kidding\n",
        "Bot: i m sorry .\n",
        "> where are you from?\n",
        "Bot: san francisco .\n",
        "> it's time for me to leave\n",
        "Bot: i know .\n",
        "> goodbye\n",
        "Bot: goodbye .\n",
        "```\n",
        "**Tutorial Highlights**\n",
        "\n",
        "-  Handle loading and preprocessing of [Cornell Movie-Dialogs\n",
        "   Corpus](https://www.cs.cornell.edu/~cristian/Cornell_Movie-Dialogs_Corpus.html)_\n",
        "   dataset\n",
        "-  Implement a sequence-to-sequence model with [Luong attention\n",
        "   mechanism(s)](https://arxiv.org/abs/1508.04025)_\n",
        "-  Jointly train encoder and decoder models using mini-batches\n",
        "-  Implement greedy-search decoding module\n",
        "-  Interact with trained chatbot\n",
        "\n",
        "**Acknowledgments**\n",
        "\n",
        "This tutorial borrows code from the following sources:\n",
        "\n",
        "1) Yuan-Kuei Wu’s pytorch-chatbot implementation:\n",
        "   https://github.com/ywk991112/pytorch-chatbot\n",
        "\n",
        "2) Sean Robertson’s practical-pytorch seq2seq-translation example:\n",
        "   https://github.com/spro/practical-pytorch/tree/master/seq2seq-translation\n",
        "\n",
        "3) FloydHub Cornell Movie Corpus preprocessing code:\n",
        "   https://github.com/floydhub/textutil-preprocess-cornell-movie-corpus\n",
        "\n",
        "\n"
      ]
    },
    {
      "cell_type": "markdown",
      "metadata": {
        "id": "rm_q0_kVkna3"
      },
      "source": [
        "## Preparations\n",
        "\n",
        "To start, Download the data ZIP file\n",
        "[here](https://zissou.infosci.cornell.edu/convokit/datasets/movie-corpus/movie-corpus.zip)_\n",
        "\n"
      ]
    },
    {
      "cell_type": "code",
      "execution_count": 1,
      "metadata": {
        "id": "LY_MgOWfkna4"
      },
      "outputs": [],
      "source": [
        "# and put in a ``data/`` directory under the current directory.\n",
        "#\n",
        "# After that, let’s import some necessities.\n",
        "#\n",
        "\n",
        "import torch\n",
        "from torch.jit import script, trace\n",
        "import torch.nn as nn\n",
        "from torch import optim\n",
        "import torch.nn.functional as F\n",
        "import csv\n",
        "import random\n",
        "import re\n",
        "import os\n",
        "import unicodedata\n",
        "import codecs\n",
        "from io import open\n",
        "import itertools\n",
        "import math\n",
        "import json\n",
        "\n",
        "\n",
        "USE_CUDA = torch.cuda.is_available()\n",
        "device = torch.device(\"cuda\" if USE_CUDA else \"cpu\")"
      ]
    },
    {
      "cell_type": "code",
      "execution_count": 2,
      "metadata": {
        "colab": {
          "base_uri": "https://localhost:8080/"
        },
        "id": "th3IVhJfXc-E",
        "outputId": "d31f15f4-057f-4c1f-c487-8f1b31ef1dd9"
      },
      "outputs": [
        {
          "name": "stdout",
          "output_type": "stream",
          "text": [
            "Using device: cuda\n"
          ]
        }
      ],
      "source": [
        "print(f'Using device: {device}')"
      ]
    },
    {
      "cell_type": "markdown",
      "metadata": {
        "id": "8iMTAXvVkna4"
      },
      "source": [
        "## Load & Preprocess Data\n",
        "\n",
        "The next step is to reformat our data file and load the data into\n",
        "structures that we can work with.\n",
        "\n",
        "The [Cornell Movie-Dialogs\n",
        "Corpus](https://www.cs.cornell.edu/~cristian/Cornell_Movie-Dialogs_Corpus.html)_\n",
        "is a rich dataset of movie character dialog:\n",
        "\n",
        "-  220,579 conversational exchanges between 10,292 pairs of movie\n",
        "   characters\n",
        "-  9,035 characters from 617 movies\n",
        "-  304,713 total utterances\n",
        "\n",
        "This dataset is large and diverse, and there is a great variation of\n",
        "language formality, time periods, sentiment, etc. Our hope is that this\n",
        "diversity makes our model robust to many forms of inputs and queries.\n",
        "\n",
        "First, we’ll take a look at some lines of our datafile to see the\n",
        "original format.\n",
        "\n",
        "\n"
      ]
    },
    {
      "cell_type": "code",
      "execution_count": null,
      "metadata": {
        "colab": {
          "base_uri": "https://localhost:8080/"
        },
        "id": "d0oVOgJroUXp",
        "outputId": "a18b118e-2b63-4c8a-de36-5cf45a528b83"
      },
      "outputs": [],
      "source": [
        "from google.colab import drive\n",
        "drive.mount('/content/drive')"
      ]
    },
    {
      "cell_type": "code",
      "execution_count": 4,
      "metadata": {
        "colab": {
          "base_uri": "https://localhost:8080/"
        },
        "id": "RSvQDfiakna4",
        "outputId": "55dcfa4b-b776-49ba-cd95-0977b5ab0f4f"
      },
      "outputs": [
        {
          "name": "stdout",
          "output_type": "stream",
          "text": [
            "b'{\"id\": \"L1045\", \"conversation_id\": \"L1044\", \"text\": \"They do not!\", \"speaker\": \"u0\", \"meta\": {\"movie_id\": \"m0\", \"parsed\": [{\"rt\": 1, \"toks\": [{\"tok\": \"They\", \"tag\": \"PRP\", \"dep\": \"nsubj\", \"up\": 1, \"dn\": []}, {\"tok\": \"do\", \"tag\": \"VBP\", \"dep\": \"ROOT\", \"dn\": [0, 2, 3]}, {\"tok\": \"not\", \"tag\": \"RB\", \"dep\": \"neg\", \"up\": 1, \"dn\": []}, {\"tok\": \"!\", \"tag\": \".\", \"dep\": \"punct\", \"up\": 1, \"dn\": []}]}]}, \"reply-to\": \"L1044\", \"timestamp\": null, \"vectors\": []}\\n'\n",
            "b'{\"id\": \"L1044\", \"conversation_id\": \"L1044\", \"text\": \"They do to!\", \"speaker\": \"u2\", \"meta\": {\"movie_id\": \"m0\", \"parsed\": [{\"rt\": 1, \"toks\": [{\"tok\": \"They\", \"tag\": \"PRP\", \"dep\": \"nsubj\", \"up\": 1, \"dn\": []}, {\"tok\": \"do\", \"tag\": \"VBP\", \"dep\": \"ROOT\", \"dn\": [0, 2, 3]}, {\"tok\": \"to\", \"tag\": \"TO\", \"dep\": \"dobj\", \"up\": 1, \"dn\": []}, {\"tok\": \"!\", \"tag\": \".\", \"dep\": \"punct\", \"up\": 1, \"dn\": []}]}]}, \"reply-to\": null, \"timestamp\": null, \"vectors\": []}\\n'\n",
            "b'{\"id\": \"L985\", \"conversation_id\": \"L984\", \"text\": \"I hope so.\", \"speaker\": \"u0\", \"meta\": {\"movie_id\": \"m0\", \"parsed\": [{\"rt\": 1, \"toks\": [{\"tok\": \"I\", \"tag\": \"PRP\", \"dep\": \"nsubj\", \"up\": 1, \"dn\": []}, {\"tok\": \"hope\", \"tag\": \"VBP\", \"dep\": \"ROOT\", \"dn\": [0, 2, 3]}, {\"tok\": \"so\", \"tag\": \"RB\", \"dep\": \"advmod\", \"up\": 1, \"dn\": []}, {\"tok\": \".\", \"tag\": \".\", \"dep\": \"punct\", \"up\": 1, \"dn\": []}]}]}, \"reply-to\": \"L984\", \"timestamp\": null, \"vectors\": []}\\n'\n",
            "b'{\"id\": \"L984\", \"conversation_id\": \"L984\", \"text\": \"She okay?\", \"speaker\": \"u2\", \"meta\": {\"movie_id\": \"m0\", \"parsed\": [{\"rt\": 1, \"toks\": [{\"tok\": \"She\", \"tag\": \"PRP\", \"dep\": \"nsubj\", \"up\": 1, \"dn\": []}, {\"tok\": \"okay\", \"tag\": \"RB\", \"dep\": \"ROOT\", \"dn\": [0, 2]}, {\"tok\": \"?\", \"tag\": \".\", \"dep\": \"punct\", \"up\": 1, \"dn\": []}]}]}, \"reply-to\": null, \"timestamp\": null, \"vectors\": []}\\n'\n",
            "b'{\"id\": \"L925\", \"conversation_id\": \"L924\", \"text\": \"Let\\'s go.\", \"speaker\": \"u0\", \"meta\": {\"movie_id\": \"m0\", \"parsed\": [{\"rt\": 0, \"toks\": [{\"tok\": \"Let\", \"tag\": \"VB\", \"dep\": \"ROOT\", \"dn\": [2, 3]}, {\"tok\": \"\\'s\", \"tag\": \"PRP\", \"dep\": \"nsubj\", \"up\": 2, \"dn\": []}, {\"tok\": \"go\", \"tag\": \"VB\", \"dep\": \"ccomp\", \"up\": 0, \"dn\": [1]}, {\"tok\": \".\", \"tag\": \".\", \"dep\": \"punct\", \"up\": 0, \"dn\": []}]}]}, \"reply-to\": \"L924\", \"timestamp\": null, \"vectors\": []}\\n'\n",
            "b'{\"id\": \"L924\", \"conversation_id\": \"L924\", \"text\": \"Wow\", \"speaker\": \"u2\", \"meta\": {\"movie_id\": \"m0\", \"parsed\": [{\"rt\": 0, \"toks\": [{\"tok\": \"Wow\", \"tag\": \"UH\", \"dep\": \"ROOT\", \"dn\": []}]}]}, \"reply-to\": null, \"timestamp\": null, \"vectors\": []}\\n'\n",
            "b'{\"id\": \"L872\", \"conversation_id\": \"L870\", \"text\": \"Okay -- you\\'re gonna need to learn how to lie.\", \"speaker\": \"u0\", \"meta\": {\"movie_id\": \"m0\", \"parsed\": [{\"rt\": 4, \"toks\": [{\"tok\": \"Okay\", \"tag\": \"UH\", \"dep\": \"intj\", \"up\": 4, \"dn\": []}, {\"tok\": \"--\", \"tag\": \":\", \"dep\": \"punct\", \"up\": 4, \"dn\": []}, {\"tok\": \"you\", \"tag\": \"PRP\", \"dep\": \"nsubj\", \"up\": 4, \"dn\": []}, {\"tok\": \"\\'re\", \"tag\": \"VBP\", \"dep\": \"aux\", \"up\": 4, \"dn\": []}, {\"tok\": \"gon\", \"tag\": \"VBG\", \"dep\": \"ROOT\", \"dn\": [0, 1, 2, 3, 6, 12]}, {\"tok\": \"na\", \"tag\": \"TO\", \"dep\": \"aux\", \"up\": 6, \"dn\": []}, {\"tok\": \"need\", \"tag\": \"VB\", \"dep\": \"xcomp\", \"up\": 4, \"dn\": [5, 8]}, {\"tok\": \"to\", \"tag\": \"TO\", \"dep\": \"aux\", \"up\": 8, \"dn\": []}, {\"tok\": \"learn\", \"tag\": \"VB\", \"dep\": \"xcomp\", \"up\": 6, \"dn\": [7, 11]}, {\"tok\": \"how\", \"tag\": \"WRB\", \"dep\": \"advmod\", \"up\": 11, \"dn\": []}, {\"tok\": \"to\", \"tag\": \"TO\", \"dep\": \"aux\", \"up\": 11, \"dn\": []}, {\"tok\": \"lie\", \"tag\": \"VB\", \"dep\": \"xcomp\", \"up\": 8, \"dn\": [9, 10]}, {\"tok\": \".\", \"tag\": \".\", \"dep\": \"punct\", \"up\": 4, \"dn\": []}]}]}, \"reply-to\": \"L871\", \"timestamp\": null, \"vectors\": []}\\n'\n",
            "b'{\"id\": \"L871\", \"conversation_id\": \"L870\", \"text\": \"No\", \"speaker\": \"u2\", \"meta\": {\"movie_id\": \"m0\", \"parsed\": [{\"rt\": 0, \"toks\": [{\"tok\": \"No\", \"tag\": \"UH\", \"dep\": \"ROOT\", \"dn\": []}]}]}, \"reply-to\": \"L870\", \"timestamp\": null, \"vectors\": []}\\n'\n",
            "b'{\"id\": \"L870\", \"conversation_id\": \"L870\", \"text\": \"I\\'m kidding.  You know how sometimes you just become this \\\\\"persona\\\\\"?  And you don\\'t know how to quit?\", \"speaker\": \"u0\", \"meta\": {\"movie_id\": \"m0\", \"parsed\": [{\"rt\": 2, \"toks\": [{\"tok\": \"I\", \"tag\": \"PRP\", \"dep\": \"nsubj\", \"up\": 2, \"dn\": []}, {\"tok\": \"\\'m\", \"tag\": \"VBP\", \"dep\": \"aux\", \"up\": 2, \"dn\": []}, {\"tok\": \"kidding\", \"tag\": \"VBG\", \"dep\": \"ROOT\", \"dn\": [0, 1, 3]}, {\"tok\": \".\", \"tag\": \".\", \"dep\": \"punct\", \"up\": 2, \"dn\": [4]}, {\"tok\": \" \", \"tag\": \"_SP\", \"dep\": \"\", \"up\": 3, \"dn\": []}]}, {\"rt\": 1, \"toks\": [{\"tok\": \"You\", \"tag\": \"PRP\", \"dep\": \"nsubj\", \"up\": 1, \"dn\": []}, {\"tok\": \"know\", \"tag\": \"VBP\", \"dep\": \"ROOT\", \"dn\": [0, 6, 11]}, {\"tok\": \"how\", \"tag\": \"WRB\", \"dep\": \"advmod\", \"up\": 3, \"dn\": []}, {\"tok\": \"sometimes\", \"tag\": \"RB\", \"dep\": \"advmod\", \"up\": 6, \"dn\": [2]}, {\"tok\": \"you\", \"tag\": \"PRP\", \"dep\": \"nsubj\", \"up\": 6, \"dn\": []}, {\"tok\": \"just\", \"tag\": \"RB\", \"dep\": \"advmod\", \"up\": 6, \"dn\": []}, {\"tok\": \"become\", \"tag\": \"VBP\", \"dep\": \"ccomp\", \"up\": 1, \"dn\": [3, 4, 5, 9]}, {\"tok\": \"this\", \"tag\": \"DT\", \"dep\": \"det\", \"up\": 9, \"dn\": []}, {\"tok\": \"\\\\\"\", \"tag\": \"``\", \"dep\": \"punct\", \"up\": 9, \"dn\": []}, {\"tok\": \"persona\", \"tag\": \"NN\", \"dep\": \"attr\", \"up\": 6, \"dn\": [7, 8, 10]}, {\"tok\": \"\\\\\"\", \"tag\": \"\\'\\'\", \"dep\": \"punct\", \"up\": 9, \"dn\": []}, {\"tok\": \"?\", \"tag\": \".\", \"dep\": \"punct\", \"up\": 1, \"dn\": [12]}, {\"tok\": \" \", \"tag\": \"_SP\", \"dep\": \"\", \"up\": 11, \"dn\": []}]}, {\"rt\": 4, \"toks\": [{\"tok\": \"And\", \"tag\": \"CC\", \"dep\": \"cc\", \"up\": 4, \"dn\": []}, {\"tok\": \"you\", \"tag\": \"PRP\", \"dep\": \"nsubj\", \"up\": 4, \"dn\": []}, {\"tok\": \"do\", \"tag\": \"VBP\", \"dep\": \"aux\", \"up\": 4, \"dn\": []}, {\"tok\": \"n\\'t\", \"tag\": \"RB\", \"dep\": \"neg\", \"up\": 4, \"dn\": []}, {\"tok\": \"know\", \"tag\": \"VB\", \"dep\": \"ROOT\", \"dn\": [0, 1, 2, 3, 7, 8]}, {\"tok\": \"how\", \"tag\": \"WRB\", \"dep\": \"advmod\", \"up\": 7, \"dn\": []}, {\"tok\": \"to\", \"tag\": \"TO\", \"dep\": \"aux\", \"up\": 7, \"dn\": []}, {\"tok\": \"quit\", \"tag\": \"VB\", \"dep\": \"xcomp\", \"up\": 4, \"dn\": [5, 6]}, {\"tok\": \"?\", \"tag\": \".\", \"dep\": \"punct\", \"up\": 4, \"dn\": []}]}]}, \"reply-to\": null, \"timestamp\": null, \"vectors\": []}\\n'\n",
            "b'{\"id\": \"L869\", \"conversation_id\": \"L866\", \"text\": \"Like my fear of wearing pastels?\", \"speaker\": \"u0\", \"meta\": {\"movie_id\": \"m0\", \"parsed\": [{\"rt\": 0, \"toks\": [{\"tok\": \"Like\", \"tag\": \"IN\", \"dep\": \"ROOT\", \"dn\": [2, 6]}, {\"tok\": \"my\", \"tag\": \"PRP$\", \"dep\": \"poss\", \"up\": 2, \"dn\": []}, {\"tok\": \"fear\", \"tag\": \"NN\", \"dep\": \"pobj\", \"up\": 0, \"dn\": [1, 3]}, {\"tok\": \"of\", \"tag\": \"IN\", \"dep\": \"prep\", \"up\": 2, \"dn\": [4]}, {\"tok\": \"wearing\", \"tag\": \"VBG\", \"dep\": \"pcomp\", \"up\": 3, \"dn\": [5]}, {\"tok\": \"pastels\", \"tag\": \"NNS\", \"dep\": \"dobj\", \"up\": 4, \"dn\": []}, {\"tok\": \"?\", \"tag\": \".\", \"dep\": \"punct\", \"up\": 0, \"dn\": []}]}]}, \"reply-to\": \"L868\", \"timestamp\": null, \"vectors\": []}\\n'\n"
          ]
        }
      ],
      "source": [
        "corpus_name = \"movie-corpus\"\n",
        "#corpus = os.path.join(\"/content/drive/MyDrive/School/MS/Coursework/Fall 2023/High Performance ML/HW/HW3/data/\", corpus_name)\n",
        "corpus = os.path.join(\"/home/amanchopra/controllable-recipe-generation/\", corpus_name)\n",
        "\n",
        "def printLines(file, n=10):\n",
        "    with open(file, 'rb') as datafile:\n",
        "        lines = datafile.readlines()\n",
        "    for line in lines[:n]:\n",
        "        print(line)\n",
        "\n",
        "printLines(os.path.join(corpus, \"utterances.jsonl\"))"
      ]
    },
    {
      "cell_type": "markdown",
      "metadata": {
        "id": "IesrE5yrkna5"
      },
      "source": [
        "### Create formatted data file\n",
        "\n",
        "For convenience, we'll create a nicely formatted data file in which each line\n",
        "contains a tab-separated *query sentence* and a *response sentence* pair.\n",
        "\n",
        "The following functions facilitate the parsing of the raw\n",
        "``utterances.jsonl`` data file.\n",
        "\n",
        "-  ``loadLinesAndConversations`` splits each line of the file into a dictionary of\n",
        "   lines with fields: ``lineID``, ``characterID``, and text and then groups them\n",
        "   into conversations with fields: ``conversationID``, ``movieID``, and lines.\n",
        "-  ``extractSentencePairs`` extracts pairs of sentences from\n",
        "   conversations\n",
        "\n",
        "\n"
      ]
    },
    {
      "cell_type": "code",
      "execution_count": 5,
      "metadata": {
        "id": "ndn921ARkna5"
      },
      "outputs": [],
      "source": [
        "# Splits each line of the file to create lines and conversations\n",
        "def loadLinesAndConversations(fileName):\n",
        "    lines = {}\n",
        "    conversations = {}\n",
        "    with open(fileName, 'r', encoding='iso-8859-1') as f:\n",
        "        for line in f:\n",
        "            lineJson = json.loads(line)\n",
        "            # Extract fields for line object\n",
        "            lineObj = {}\n",
        "            lineObj[\"lineID\"] = lineJson[\"id\"]\n",
        "            lineObj[\"characterID\"] = lineJson[\"speaker\"]\n",
        "            lineObj[\"text\"] = lineJson[\"text\"]\n",
        "            lines[lineObj['lineID']] = lineObj\n",
        "\n",
        "            # Extract fields for conversation object\n",
        "            if lineJson[\"conversation_id\"] not in conversations:\n",
        "                convObj = {}\n",
        "                convObj[\"conversationID\"] = lineJson[\"conversation_id\"]\n",
        "                convObj[\"movieID\"] = lineJson[\"meta\"][\"movie_id\"]\n",
        "                convObj[\"lines\"] = [lineObj]\n",
        "            else:\n",
        "                convObj = conversations[lineJson[\"conversation_id\"]]\n",
        "                convObj[\"lines\"].insert(0, lineObj)\n",
        "            conversations[convObj[\"conversationID\"]] = convObj\n",
        "\n",
        "    return lines, conversations\n",
        "\n",
        "\n",
        "# Extracts pairs of sentences from conversations\n",
        "def extractSentencePairs(conversations):\n",
        "    qa_pairs = []\n",
        "    for conversation in conversations.values():\n",
        "        # Iterate over all the lines of the conversation\n",
        "        for i in range(len(conversation[\"lines\"]) - 1):  # We ignore the last line (no answer for it)\n",
        "            inputLine = conversation[\"lines\"][i][\"text\"].strip()\n",
        "            targetLine = conversation[\"lines\"][i+1][\"text\"].strip()\n",
        "            # Filter wrong samples (if one of the lists is empty)\n",
        "            if inputLine and targetLine:\n",
        "                qa_pairs.append([inputLine, targetLine])\n",
        "    return qa_pairs"
      ]
    },
    {
      "cell_type": "markdown",
      "metadata": {
        "id": "gB2nTmLRkna6"
      },
      "source": [
        "Now we’ll call these functions and create the file. We’ll call it\n",
        "``formatted_movie_lines.txt``.\n",
        "\n",
        "\n"
      ]
    },
    {
      "cell_type": "code",
      "execution_count": 6,
      "metadata": {
        "colab": {
          "base_uri": "https://localhost:8080/"
        },
        "id": "yrNJNN_jkna6",
        "outputId": "67af5d43-6158-4abb-d77f-6ecfbb54fbef"
      },
      "outputs": [
        {
          "name": "stdout",
          "output_type": "stream",
          "text": [
            "\n",
            "Processing corpus into lines and conversations...\n",
            "\n",
            "Writing newly formatted file...\n",
            "\n",
            "Sample lines from file:\n",
            "b'They do to!\\tThey do not!\\n'\n",
            "b'She okay?\\tI hope so.\\n'\n",
            "b\"Wow\\tLet's go.\\n\"\n",
            "b'\"I\\'m kidding.  You know how sometimes you just become this \"\"persona\"\"?  And you don\\'t know how to quit?\"\\tNo\\n'\n",
            "b\"No\\tOkay -- you're gonna need to learn how to lie.\\n\"\n",
            "b\"I figured you'd get to the good stuff eventually.\\tWhat good stuff?\\n\"\n",
            "b'What good stuff?\\t\"The \"\"real you\"\".\"\\n'\n",
            "b'\"The \"\"real you\"\".\"\\tLike my fear of wearing pastels?\\n'\n",
            "b'do you listen to this crap?\\tWhat crap?\\n'\n",
            "b\"What crap?\\tMe.  This endless ...blonde babble. I'm like, boring myself.\\n\"\n"
          ]
        }
      ],
      "source": [
        "# Define path to new file\n",
        "datafile = os.path.join(corpus, \"formatted_movie_lines.txt\")\n",
        "\n",
        "delimiter = '\\t'\n",
        "# Unescape the delimiter\n",
        "delimiter = str(codecs.decode(delimiter, \"unicode_escape\"))\n",
        "\n",
        "# Initialize lines dict and conversations dict\n",
        "lines = {}\n",
        "conversations = {}\n",
        "# Load lines and conversations\n",
        "print(\"\\nProcessing corpus into lines and conversations...\")\n",
        "lines, conversations = loadLinesAndConversations(os.path.join(corpus, \"utterances.jsonl\"))\n",
        "\n",
        "# Write new csv file\n",
        "print(\"\\nWriting newly formatted file...\")\n",
        "with open(datafile, 'w', encoding='utf-8') as outputfile:\n",
        "    writer = csv.writer(outputfile, delimiter=delimiter, lineterminator='\\n')\n",
        "    for pair in extractSentencePairs(conversations):\n",
        "        writer.writerow(pair)\n",
        "\n",
        "# Print a sample of lines\n",
        "print(\"\\nSample lines from file:\")\n",
        "printLines(datafile)"
      ]
    },
    {
      "cell_type": "markdown",
      "metadata": {
        "id": "OFpirHjSkna6"
      },
      "source": [
        "### Load and trim data\n",
        "\n",
        "Our next order of business is to create a vocabulary and load\n",
        "query/response sentence pairs into memory.\n",
        "\n",
        "Note that we are dealing with sequences of **words**, which do not have\n",
        "an implicit mapping to a discrete numerical space. Thus, we must create\n",
        "one by mapping each unique word that we encounter in our dataset to an\n",
        "index value.\n",
        "\n",
        "For this we define a ``Voc`` class, which keeps a mapping from words to\n",
        "indexes, a reverse mapping of indexes to words, a count of each word and\n",
        "a total word count. The class provides methods for adding a word to the\n",
        "vocabulary (``addWord``), adding all words in a sentence\n",
        "(``addSentence``) and trimming infrequently seen words (``trim``). More\n",
        "on trimming later.\n",
        "\n",
        "\n"
      ]
    },
    {
      "cell_type": "code",
      "execution_count": 7,
      "metadata": {
        "id": "xEHYCUiMkna6"
      },
      "outputs": [],
      "source": [
        "# Default word tokens\n",
        "PAD_token = 0  # Used for padding short sentences\n",
        "SOS_token = 1  # Start-of-sentence token\n",
        "EOS_token = 2  # End-of-sentence token\n",
        "\n",
        "class Voc:\n",
        "    def __init__(self, name):\n",
        "        self.name = name\n",
        "        self.trimmed = False\n",
        "        self.word2index = {}\n",
        "        self.word2count = {}\n",
        "        self.index2word = {PAD_token: \"PAD\", SOS_token: \"SOS\", EOS_token: \"EOS\"}\n",
        "        self.num_words = 3  # Count SOS, EOS, PAD\n",
        "\n",
        "    def addSentence(self, sentence):\n",
        "        for word in sentence.split(' '):\n",
        "            self.addWord(word)\n",
        "\n",
        "    def addWord(self, word):\n",
        "        if word not in self.word2index:\n",
        "            self.word2index[word] = self.num_words\n",
        "            self.word2count[word] = 1\n",
        "            self.index2word[self.num_words] = word\n",
        "            self.num_words += 1\n",
        "        else:\n",
        "            self.word2count[word] += 1\n",
        "\n",
        "    # Remove words below a certain count threshold\n",
        "    def trim(self, min_count):\n",
        "        if self.trimmed:\n",
        "            return\n",
        "        self.trimmed = True\n",
        "\n",
        "        keep_words = []\n",
        "\n",
        "        for k, v in self.word2count.items():\n",
        "            if v >= min_count:\n",
        "                keep_words.append(k)\n",
        "\n",
        "        print('keep_words {} / {} = {:.4f}'.format(\n",
        "            len(keep_words), len(self.word2index), len(keep_words) / len(self.word2index)\n",
        "        ))\n",
        "\n",
        "        # Reinitialize dictionaries\n",
        "        self.word2index = {}\n",
        "        self.word2count = {}\n",
        "        self.index2word = {PAD_token: \"PAD\", SOS_token: \"SOS\", EOS_token: \"EOS\"}\n",
        "        self.num_words = 3 # Count default tokens\n",
        "\n",
        "        for word in keep_words:\n",
        "            self.addWord(word)"
      ]
    },
    {
      "cell_type": "markdown",
      "metadata": {
        "id": "x2HNJ83pkna7"
      },
      "source": [
        "Now we can assemble our vocabulary and query/response sentence pairs.\n",
        "Before we are ready to use this data, we must perform some\n",
        "preprocessing.\n",
        "\n",
        "First, we must convert the Unicode strings to ASCII using\n",
        "``unicodeToAscii``. Next, we should convert all letters to lowercase and\n",
        "trim all non-letter characters except for basic punctuation\n",
        "(``normalizeString``). Finally, to aid in training convergence, we will\n",
        "filter out sentences with length greater than the ``MAX_LENGTH``\n",
        "threshold (``filterPairs``).\n",
        "\n",
        "\n"
      ]
    },
    {
      "cell_type": "code",
      "execution_count": 20,
      "metadata": {
        "colab": {
          "base_uri": "https://localhost:8080/"
        },
        "id": "5ZxnDcL3kna7",
        "outputId": "41d1f5e8-02a9-4af0-cad2-333cb82d7d7b"
      },
      "outputs": [
        {
          "name": "stdout",
          "output_type": "stream",
          "text": [
            "Start preparing training data ...\n",
            "Reading lines...\n",
            "Read 221282 sentence pairs\n",
            "Trimmed to 64313 sentence pairs\n",
            "Counting words...\n",
            "Counted words: 18082\n",
            "\n",
            "pairs:\n",
            "['they do to !', 'they do not !']\n",
            "['she okay ?', 'i hope so .']\n",
            "['wow', 'let s go .']\n",
            "['what good stuff ?', 'the real you .']\n",
            "['the real you .', 'like my fear of wearing pastels ?']\n",
            "['do you listen to this crap ?', 'what crap ?']\n",
            "['well no . . .', 'then that s all you had to say .']\n",
            "['then that s all you had to say .', 'but']\n",
            "['but', 'you always been this selfish ?']\n",
            "['have fun tonight ?', 'tons']\n"
          ]
        }
      ],
      "source": [
        "MAX_LENGTH = 10  # Maximum sentence length to consider\n",
        "\n",
        "# Turn a Unicode string to plain ASCII, thanks to\n",
        "# https://stackoverflow.com/a/518232/2809427\n",
        "def unicodeToAscii(s):\n",
        "    return ''.join(\n",
        "        c for c in unicodedata.normalize('NFD', s)\n",
        "        if unicodedata.category(c) != 'Mn'\n",
        "    )\n",
        "\n",
        "# Lowercase, trim, and remove non-letter characters\n",
        "def normalizeString(s):\n",
        "    s = unicodeToAscii(s.lower().strip())\n",
        "    s = re.sub(r\"([.!?])\", r\" \\1\", s)\n",
        "    s = re.sub(r\"[^a-zA-Z.!?]+\", r\" \", s)\n",
        "    s = re.sub(r\"\\s+\", r\" \", s).strip()\n",
        "    return s\n",
        "\n",
        "# Read query/response pairs and return a voc object\n",
        "def readVocs(datafile, corpus_name):\n",
        "    print(\"Reading lines...\")\n",
        "    # Read the file and split into lines\n",
        "    lines = open(datafile, encoding='utf-8').\\\n",
        "        read().strip().split('\\n')\n",
        "    # Split every line into pairs and normalize\n",
        "    pairs = [[normalizeString(s) for s in l.split('\\t')] for l in lines]\n",
        "    voc = Voc(corpus_name)\n",
        "    return voc, pairs\n",
        "\n",
        "# Returns True if both sentences in a pair 'p' are under the MAX_LENGTH threshold\n",
        "def filterPair(p):\n",
        "    # Input sequences need to preserve the last word for EOS token\n",
        "    return len(p[0].split(' ')) < MAX_LENGTH and len(p[1].split(' ')) < MAX_LENGTH\n",
        "\n",
        "# Filter pairs using the ``filterPair`` condition\n",
        "def filterPairs(pairs):\n",
        "    return [pair for pair in pairs if filterPair(pair)]\n",
        "\n",
        "# Using the functions defined above, return a populated voc object and pairs list\n",
        "def loadPrepareData(corpus, corpus_name, datafile, save_dir):\n",
        "    print(\"Start preparing training data ...\")\n",
        "    voc, pairs = readVocs(datafile, corpus_name)\n",
        "    print(\"Read {!s} sentence pairs\".format(len(pairs)))\n",
        "    pairs = filterPairs(pairs)\n",
        "    print(\"Trimmed to {!s} sentence pairs\".format(len(pairs)))\n",
        "    print(\"Counting words...\")\n",
        "    for pair in pairs:\n",
        "        voc.addSentence(pair[0])\n",
        "        voc.addSentence(pair[1])\n",
        "    print(\"Counted words:\", voc.num_words)\n",
        "    return voc, pairs\n",
        "\n",
        "\n",
        "# Load/Assemble voc and pairs\n",
        "save_dir = os.path.join(\"./\", \"save\")\n",
        "#save_dir = os.path.join(\"/content/drive/MyDrive/School/MS/Coursework/Fall 2023/High Performance ML/HW/HW3/data/\", 'save')\n",
        "\n",
        "voc, pairs = loadPrepareData(corpus, corpus_name, datafile, save_dir)\n",
        "# Print some pairs to validate\n",
        "print(\"\\npairs:\")\n",
        "for pair in pairs[:10]:\n",
        "    print(pair)"
      ]
    },
    {
      "cell_type": "markdown",
      "metadata": {
        "id": "fS_Ot25Pkna7"
      },
      "source": [
        "Another tactic that is beneficial to achieving faster convergence during\n",
        "training is trimming rarely used words out of our vocabulary. Decreasing\n",
        "the feature space will also soften the difficulty of the function that\n",
        "the model must learn to approximate. We will do this as a two-step\n",
        "process:\n",
        "\n",
        "1) Trim words used under ``MIN_COUNT`` threshold using the ``voc.trim``\n",
        "   function.\n",
        "\n",
        "2) Filter out pairs with trimmed words.\n",
        "\n",
        "\n"
      ]
    },
    {
      "cell_type": "code",
      "execution_count": 9,
      "metadata": {
        "colab": {
          "base_uri": "https://localhost:8080/"
        },
        "id": "uYm7wMfFkna7",
        "outputId": "4d615e33-5886-438d-e1ca-9c50368479eb"
      },
      "outputs": [
        {
          "name": "stdout",
          "output_type": "stream",
          "text": [
            "keep_words 7833 / 18079 = 0.4333\n",
            "Trimmed from 64313 pairs to 53131, 0.8261 of total\n"
          ]
        }
      ],
      "source": [
        "MIN_COUNT = 3    # Minimum word count threshold for trimming\n",
        "\n",
        "def trimRareWords(voc, pairs, MIN_COUNT):\n",
        "    # Trim words used under the MIN_COUNT from the voc\n",
        "    voc.trim(MIN_COUNT)\n",
        "    # Filter out pairs with trimmed words\n",
        "    keep_pairs = []\n",
        "    for pair in pairs:\n",
        "        input_sentence = pair[0]\n",
        "        output_sentence = pair[1]\n",
        "        keep_input = True\n",
        "        keep_output = True\n",
        "        # Check input sentence\n",
        "        for word in input_sentence.split(' '):\n",
        "            if word not in voc.word2index:\n",
        "                keep_input = False\n",
        "                break\n",
        "        # Check output sentence\n",
        "        for word in output_sentence.split(' '):\n",
        "            if word not in voc.word2index:\n",
        "                keep_output = False\n",
        "                break\n",
        "\n",
        "        # Only keep pairs that do not contain trimmed word(s) in their input or output sentence\n",
        "        if keep_input and keep_output:\n",
        "            keep_pairs.append(pair)\n",
        "\n",
        "    print(\"Trimmed from {} pairs to {}, {:.4f} of total\".format(len(pairs), len(keep_pairs), len(keep_pairs) / len(pairs)))\n",
        "    return keep_pairs\n",
        "\n",
        "\n",
        "# Trim voc and pairs\n",
        "pairs = trimRareWords(voc, pairs, MIN_COUNT)"
      ]
    },
    {
      "cell_type": "markdown",
      "metadata": {
        "id": "JumHW9GGkna7"
      },
      "source": [
        "## Prepare Data for Models\n",
        "\n",
        "Although we have put a great deal of effort into preparing and massaging our\n",
        "data into a nice vocabulary object and list of sentence pairs, our models\n",
        "will ultimately expect numerical torch tensors as inputs. One way to\n",
        "prepare the processed data for the models can be found in the [seq2seq\n",
        "translation\n",
        "tutorial](https://pytorch.org/tutorials/intermediate/seq2seq_translation_tutorial.html)_.\n",
        "In that tutorial, we use a batch size of 1, meaning that all we have to\n",
        "do is convert the words in our sentence pairs to their corresponding\n",
        "indexes from the vocabulary and feed this to the models.\n",
        "\n",
        "However, if you’re interested in speeding up training and/or would like\n",
        "to leverage GPU parallelization capabilities, you will need to train\n",
        "with mini-batches.\n",
        "\n",
        "Using mini-batches also means that we must be mindful of the variation\n",
        "of sentence length in our batches. To accommodate sentences of different\n",
        "sizes in the same batch, we will make our batched input tensor of shape\n",
        "*(max_length, batch_size)*, where sentences shorter than the\n",
        "*max_length* are zero padded after an *EOS_token*.\n",
        "\n",
        "If we simply convert our English sentences to tensors by converting\n",
        "words to their indexes(\\ ``indexesFromSentence``) and zero-pad, our\n",
        "tensor would have shape *(batch_size, max_length)* and indexing the\n",
        "first dimension would return a full sequence across all time-steps.\n",
        "However, we need to be able to index our batch along time, and across\n",
        "all sequences in the batch. Therefore, we transpose our input batch\n",
        "shape to *(max_length, batch_size)*, so that indexing across the first\n",
        "dimension returns a time step across all sentences in the batch. We\n",
        "handle this transpose implicitly in the ``zeroPadding`` function.\n",
        "\n",
        ".. figure:: /_static/img/chatbot/seq2seq_batches.png\n",
        "   :align: center\n",
        "   :alt: batches\n",
        "\n",
        "The ``inputVar`` function handles the process of converting sentences to\n",
        "tensor, ultimately creating a correctly shaped zero-padded tensor. It\n",
        "also returns a tensor of ``lengths`` for each of the sequences in the\n",
        "batch which will be passed to our decoder later.\n",
        "\n",
        "The ``outputVar`` function performs a similar function to ``inputVar``,\n",
        "but instead of returning a ``lengths`` tensor, it returns a binary mask\n",
        "tensor and a maximum target sentence length. The binary mask tensor has\n",
        "the same shape as the output target tensor, but every element that is a\n",
        "*PAD_token* is 0 and all others are 1.\n",
        "\n",
        "``batch2TrainData`` simply takes a bunch of pairs and returns the input\n",
        "and target tensors using the aforementioned functions.\n",
        "\n",
        "\n"
      ]
    },
    {
      "cell_type": "code",
      "execution_count": 10,
      "metadata": {
        "colab": {
          "base_uri": "https://localhost:8080/"
        },
        "id": "XjwFzm8Rkna8",
        "outputId": "6a88c91a-3cc1-4fa1-c555-47fd6a71c521"
      },
      "outputs": [
        {
          "name": "stdout",
          "output_type": "stream",
          "text": [
            "input_variable: tensor([[  50,    8,   19,   14, 3650],\n",
            "        [ 121,   17,  109,   14,  884],\n",
            "        [4333,  531,   24, 4319, 5043],\n",
            "        [ 731,   34,  199,   14,   14],\n",
            "        [   5,  917,   84,    2,    2],\n",
            "        [1361, 2612,   10,    0,    0],\n",
            "        [  14,   14,    2,    0,    0],\n",
            "        [   2,    2,    0,    0,    0]])\n",
            "lengths: tensor([8, 8, 7, 5, 5])\n",
            "target_variable: tensor([[  85,   24,   11,   19,   93],\n",
            "        [ 121,  208,  236,    4,  359],\n",
            "        [5224,  135,   24,   50,  160],\n",
            "        [ 886,   48,   14,    4,   61],\n",
            "        [2732,   19,    2,   10,   62],\n",
            "        [  14,   24,    0,    2,  245],\n",
            "        [   2,   64,    0,    0,    5],\n",
            "        [   0,  297,    0,    0,   72],\n",
            "        [   0,   14,    0,    0,   14],\n",
            "        [   0,    2,    0,    0,    2]])\n",
            "mask: tensor([[ True,  True,  True,  True,  True],\n",
            "        [ True,  True,  True,  True,  True],\n",
            "        [ True,  True,  True,  True,  True],\n",
            "        [ True,  True,  True,  True,  True],\n",
            "        [ True,  True,  True,  True,  True],\n",
            "        [ True,  True, False,  True,  True],\n",
            "        [ True,  True, False, False,  True],\n",
            "        [False,  True, False, False,  True],\n",
            "        [False,  True, False, False,  True],\n",
            "        [False,  True, False, False,  True]])\n",
            "max_target_len: 10\n"
          ]
        }
      ],
      "source": [
        "def indexesFromSentence(voc, sentence):\n",
        "    return [voc.word2index[word] for word in sentence.split(' ')] + [EOS_token]\n",
        "\n",
        "\n",
        "def zeroPadding(l, fillvalue=PAD_token):\n",
        "    return list(itertools.zip_longest(*l, fillvalue=fillvalue))\n",
        "\n",
        "def binaryMatrix(l, value=PAD_token):\n",
        "    m = []\n",
        "    for i, seq in enumerate(l):\n",
        "        m.append([])\n",
        "        for token in seq:\n",
        "            if token == PAD_token:\n",
        "                m[i].append(0)\n",
        "            else:\n",
        "                m[i].append(1)\n",
        "    return m\n",
        "\n",
        "# Returns padded input sequence tensor and lengths\n",
        "def inputVar(l, voc):\n",
        "    indexes_batch = [indexesFromSentence(voc, sentence) for sentence in l]\n",
        "    lengths = torch.tensor([len(indexes) for indexes in indexes_batch])\n",
        "    padList = zeroPadding(indexes_batch)\n",
        "    padVar = torch.LongTensor(padList)\n",
        "    return padVar, lengths\n",
        "\n",
        "# Returns padded target sequence tensor, padding mask, and max target length\n",
        "def outputVar(l, voc):\n",
        "    indexes_batch = [indexesFromSentence(voc, sentence) for sentence in l]\n",
        "    max_target_len = max([len(indexes) for indexes in indexes_batch])\n",
        "    padList = zeroPadding(indexes_batch)\n",
        "    mask = binaryMatrix(padList)\n",
        "    mask = torch.BoolTensor(mask)\n",
        "    padVar = torch.LongTensor(padList)\n",
        "    return padVar, mask, max_target_len\n",
        "\n",
        "# Returns all items for a given batch of pairs\n",
        "def batch2TrainData(voc, pair_batch):\n",
        "    pair_batch.sort(key=lambda x: len(x[0].split(\" \")), reverse=True)\n",
        "    input_batch, output_batch = [], []\n",
        "    for pair in pair_batch:\n",
        "        input_batch.append(pair[0])\n",
        "        output_batch.append(pair[1])\n",
        "    inp, lengths = inputVar(input_batch, voc)\n",
        "    output, mask, max_target_len = outputVar(output_batch, voc)\n",
        "    return inp, lengths, output, mask, max_target_len\n",
        "\n",
        "\n",
        "# Example for validation\n",
        "small_batch_size = 5\n",
        "batches = batch2TrainData(voc, [random.choice(pairs) for _ in range(small_batch_size)])\n",
        "input_variable, lengths, target_variable, mask, max_target_len = batches\n",
        "\n",
        "print(\"input_variable:\", input_variable)\n",
        "print(\"lengths:\", lengths)\n",
        "print(\"target_variable:\", target_variable)\n",
        "print(\"mask:\", mask)\n",
        "print(\"max_target_len:\", max_target_len)"
      ]
    },
    {
      "cell_type": "markdown",
      "metadata": {
        "id": "VAIgw4cwkna8"
      },
      "source": [
        "## Define Models\n",
        "\n",
        "### Seq2Seq Model\n",
        "\n",
        "The brains of our chatbot is a sequence-to-sequence (seq2seq) model. The\n",
        "goal of a seq2seq model is to take a variable-length sequence as an\n",
        "input, and return a variable-length sequence as an output using a\n",
        "fixed-sized model.\n",
        "\n",
        "[Sutskever et al.](https://arxiv.org/abs/1409.3215)_ discovered that\n",
        "by using two separate recurrent neural nets together, we can accomplish\n",
        "this task. One RNN acts as an **encoder**, which encodes a variable\n",
        "length input sequence to a fixed-length context vector. In theory, this\n",
        "context vector (the final hidden layer of the RNN) will contain semantic\n",
        "information about the query sentence that is input to the bot. The\n",
        "second RNN is a **decoder**, which takes an input word and the context\n",
        "vector, and returns a guess for the next word in the sequence and a\n",
        "hidden state to use in the next iteration.\n",
        "\n",
        ".. figure:: /_static/img/chatbot/seq2seq_ts.png\n",
        "   :align: center\n",
        "   :alt: model\n",
        "\n",
        "Image source:\n",
        "https://jeddy92.github.io/JEddy92.github.io/ts_seq2seq_intro/\n",
        "\n",
        "\n"
      ]
    },
    {
      "cell_type": "markdown",
      "metadata": {
        "id": "Ykc1Kksvkna8"
      },
      "source": [
        "### Encoder\n",
        "\n",
        "The encoder RNN iterates through the input sentence one token\n",
        "(e.g. word) at a time, at each time step outputting an “output” vector\n",
        "and a “hidden state” vector. The hidden state vector is then passed to\n",
        "the next time step, while the output vector is recorded. The encoder\n",
        "transforms the context it saw at each point in the sequence into a set\n",
        "of points in a high-dimensional space, which the decoder will use to\n",
        "generate a meaningful output for the given task.\n",
        "\n",
        "At the heart of our encoder is a multi-layered Gated Recurrent Unit,\n",
        "invented by [Cho et al.](https://arxiv.org/pdf/1406.1078v3.pdf)_ in\n",
        "2014. We will use a bidirectional variant of the GRU, meaning that there\n",
        "are essentially two independent RNNs: one that is fed the input sequence\n",
        "in normal sequential order, and one that is fed the input sequence in\n",
        "reverse order. The outputs of each network are summed at each time step.\n",
        "Using a bidirectional GRU will give us the advantage of encoding both\n",
        "past and future contexts.\n",
        "\n",
        "Bidirectional RNN:\n",
        "\n",
        ".. figure:: /_static/img/chatbot/RNN-bidirectional.png\n",
        "   :width: 70%\n",
        "   :align: center\n",
        "   :alt: rnn_bidir\n",
        "\n",
        "Image source: https://colah.github.io/posts/2015-09-NN-Types-FP/\n",
        "\n",
        "Note that an ``embedding`` layer is used to encode our word indices in\n",
        "an arbitrarily sized feature space. For our models, this layer will map\n",
        "each word to a feature space of size *hidden_size*. When trained, these\n",
        "values should encode semantic similarity between similar meaning words.\n",
        "\n",
        "Finally, if passing a padded batch of sequences to an RNN module, we\n",
        "must pack and unpack padding around the RNN pass using\n",
        "``nn.utils.rnn.pack_padded_sequence`` and\n",
        "``nn.utils.rnn.pad_packed_sequence`` respectively.\n",
        "\n",
        "**Computation Graph:**\n",
        "\n",
        "   1) Convert word indexes to embeddings.\n",
        "   2) Pack padded batch of sequences for RNN module.\n",
        "   3) Forward pass through GRU.\n",
        "   4) Unpack padding.\n",
        "   5) Sum bidirectional GRU outputs.\n",
        "   6) Return output and final hidden state.\n",
        "\n",
        "**Inputs:**\n",
        "\n",
        "-  ``input_seq``: batch of input sentences; shape=\\ *(max_length,\n",
        "   batch_size)*\n",
        "-  ``input_lengths``: list of sentence lengths corresponding to each\n",
        "   sentence in the batch; shape=\\ *(batch_size)*\n",
        "-  ``hidden``: hidden state; shape=\\ *(n_layers x num_directions,\n",
        "   batch_size, hidden_size)*\n",
        "\n",
        "**Outputs:**\n",
        "\n",
        "-  ``outputs``: output features from the last hidden layer of the GRU\n",
        "   (sum of bidirectional outputs); shape=\\ *(max_length, batch_size,\n",
        "   hidden_size)*\n",
        "-  ``hidden``: updated hidden state from GRU; shape=\\ *(n_layers x\n",
        "   num_directions, batch_size, hidden_size)*\n",
        "\n",
        "\n",
        "\n"
      ]
    },
    {
      "cell_type": "code",
      "execution_count": 11,
      "metadata": {
        "id": "vYA04s5Nkna8"
      },
      "outputs": [],
      "source": [
        "class EncoderRNN(nn.Module):\n",
        "    def __init__(self, hidden_size, embedding, n_layers=1, dropout=0):\n",
        "        super(EncoderRNN, self).__init__()\n",
        "        self.n_layers = n_layers\n",
        "        self.hidden_size = hidden_size\n",
        "        self.embedding = embedding\n",
        "\n",
        "        # Initialize GRU; the input_size and hidden_size parameters are both set to 'hidden_size'\n",
        "        #   because our input size is a word embedding with number of features == hidden_size\n",
        "        self.gru = nn.GRU(hidden_size, hidden_size, n_layers,\n",
        "                          dropout=(0 if n_layers == 1 else dropout), bidirectional=True)\n",
        "\n",
        "    def forward(self, input_seq, input_lengths, hidden=None):\n",
        "        # Convert word indexes to embeddings\n",
        "        embedded = self.embedding(input_seq)\n",
        "        # Pack padded batch of sequences for RNN module\n",
        "        packed = nn.utils.rnn.pack_padded_sequence(embedded, input_lengths)\n",
        "        # Forward pass through GRU\n",
        "        outputs, hidden = self.gru(packed, hidden)\n",
        "        # Unpack padding\n",
        "        outputs, _ = nn.utils.rnn.pad_packed_sequence(outputs)\n",
        "        # Sum bidirectional GRU outputs\n",
        "        outputs = outputs[:, :, :self.hidden_size] + outputs[:, : ,self.hidden_size:]\n",
        "        # Return output and final hidden state\n",
        "        return outputs, hidden"
      ]
    },
    {
      "cell_type": "markdown",
      "metadata": {
        "id": "FNDXpZItkna8"
      },
      "source": [
        "### Decoder\n",
        "\n",
        "The decoder RNN generates the response sentence in a token-by-token\n",
        "fashion. It uses the encoder’s context vectors, and internal hidden\n",
        "states to generate the next word in the sequence. It continues\n",
        "generating words until it outputs an *EOS_token*, representing the end\n",
        "of the sentence. A common problem with a vanilla seq2seq decoder is that\n",
        "if we rely solely on the context vector to encode the entire input\n",
        "sequence’s meaning, it is likely that we will have information loss.\n",
        "This is especially the case when dealing with long input sequences,\n",
        "greatly limiting the capability of our decoder.\n",
        "\n",
        "To combat this, [Bahdanau et al.](https://arxiv.org/abs/1409.0473)_\n",
        "created an “attention mechanism” that allows the decoder to pay\n",
        "attention to certain parts of the input sequence, rather than using the\n",
        "entire fixed context at every step.\n",
        "\n",
        "At a high level, attention is calculated using the decoder’s current\n",
        "hidden state and the encoder’s outputs. The output attention weights\n",
        "have the same shape as the input sequence, allowing us to multiply them\n",
        "by the encoder outputs, giving us a weighted sum which indicates the\n",
        "parts of encoder output to pay attention to. [Sean\n",
        "Robertson’s](https://github.com/spro)_ figure describes this very\n",
        "well:\n",
        "\n",
        ".. figure:: /_static/img/chatbot/attn2.png\n",
        "   :align: center\n",
        "   :alt: attn2\n",
        "\n",
        "[Luong et al.](https://arxiv.org/abs/1508.04025)_ improved upon\n",
        "Bahdanau et al.’s groundwork by creating “Global attention”. The key\n",
        "difference is that with “Global attention”, we consider all of the\n",
        "encoder’s hidden states, as opposed to Bahdanau et al.’s “Local\n",
        "attention”, which only considers the encoder’s hidden state from the\n",
        "current time step. Another difference is that with “Global attention”,\n",
        "we calculate attention weights, or energies, using the hidden state of\n",
        "the decoder from the current time step only. Bahdanau et al.’s attention\n",
        "calculation requires knowledge of the decoder’s state from the previous\n",
        "time step. Also, Luong et al. provides various methods to calculate the\n",
        "attention energies between the encoder output and decoder output which\n",
        "are called “score functions”:\n",
        "\n",
        ".. figure:: /_static/img/chatbot/scores.png\n",
        "   :width: 60%\n",
        "   :align: center\n",
        "   :alt: scores\n",
        "\n",
        "where $h_t$ = current target decoder state and $\\bar{h}_s$ =\n",
        "all encoder states.\n",
        "\n",
        "Overall, the Global attention mechanism can be summarized by the\n",
        "following figure. Note that we will implement the “Attention Layer” as a\n",
        "separate ``nn.Module`` called ``Attn``. The output of this module is a\n",
        "softmax normalized weights tensor of shape *(batch_size, 1,\n",
        "max_length)*.\n",
        "\n",
        ".. figure:: /_static/img/chatbot/global_attn.png\n",
        "   :align: center\n",
        "   :width: 60%\n",
        "   :alt: global_attn\n",
        "\n",
        "\n"
      ]
    },
    {
      "cell_type": "code",
      "execution_count": 12,
      "metadata": {
        "id": "rAKy8PJqkna9"
      },
      "outputs": [],
      "source": [
        "# Luong attention layer\n",
        "class Attn(nn.Module):\n",
        "    def __init__(self, method, hidden_size):\n",
        "        super(Attn, self).__init__()\n",
        "        self.method = method\n",
        "        if self.method not in ['dot', 'general', 'concat']:\n",
        "            raise ValueError(self.method, \"is not an appropriate attention method.\")\n",
        "        self.hidden_size = hidden_size\n",
        "        if self.method == 'general':\n",
        "            self.attn = nn.Linear(self.hidden_size, hidden_size)\n",
        "        elif self.method == 'concat':\n",
        "            self.attn = nn.Linear(self.hidden_size * 2, hidden_size)\n",
        "            self.v = nn.Parameter(torch.FloatTensor(hidden_size))\n",
        "\n",
        "    def dot_score(self, hidden, encoder_output):\n",
        "        return torch.sum(hidden * encoder_output, dim=2)\n",
        "\n",
        "    def general_score(self, hidden, encoder_output):\n",
        "        energy = self.attn(encoder_output)\n",
        "        return torch.sum(hidden * energy, dim=2)\n",
        "\n",
        "    def concat_score(self, hidden, encoder_output):\n",
        "        energy = self.attn(torch.cat((hidden.expand(encoder_output.size(0), -1, -1), encoder_output), 2)).tanh()\n",
        "        return torch.sum(self.v * energy, dim=2)\n",
        "\n",
        "    def forward(self, hidden, encoder_outputs):\n",
        "        # Calculate the attention weights (energies) based on the given method\n",
        "        if self.method == 'general':\n",
        "            attn_energies = self.general_score(hidden, encoder_outputs)\n",
        "        elif self.method == 'concat':\n",
        "            attn_energies = self.concat_score(hidden, encoder_outputs)\n",
        "        elif self.method == 'dot':\n",
        "            attn_energies = self.dot_score(hidden, encoder_outputs)\n",
        "\n",
        "        # Transpose max_length and batch_size dimensions\n",
        "        attn_energies = attn_energies.t()\n",
        "\n",
        "        # Return the softmax normalized probability scores (with added dimension)\n",
        "        return F.softmax(attn_energies, dim=1).unsqueeze(1)"
      ]
    },
    {
      "cell_type": "markdown",
      "metadata": {
        "id": "dqKXcrnakna9"
      },
      "source": [
        "Now that we have defined our attention submodule, we can implement the\n",
        "actual decoder model. For the decoder, we will manually feed our batch\n",
        "one time step at a time. This means that our embedded word tensor and\n",
        "GRU output will both have shape *(1, batch_size, hidden_size)*.\n",
        "\n",
        "**Computation Graph:**\n",
        "\n",
        "   1) Get embedding of current input word.\n",
        "   2) Forward through unidirectional GRU.\n",
        "   3) Calculate attention weights from the current GRU output from (2).\n",
        "   4) Multiply attention weights to encoder outputs to get new \"weighted sum\" context vector.\n",
        "   5) Concatenate weighted context vector and GRU output using Luong eq. 5.\n",
        "   6) Predict next word using Luong eq. 6 (without softmax).\n",
        "   7) Return output and final hidden state.\n",
        "\n",
        "**Inputs:**\n",
        "\n",
        "-  ``input_step``: one time step (one word) of input sequence batch;\n",
        "   shape=\\ *(1, batch_size)*\n",
        "-  ``last_hidden``: final hidden layer of GRU; shape=\\ *(n_layers x\n",
        "   num_directions, batch_size, hidden_size)*\n",
        "-  ``encoder_outputs``: encoder model’s output; shape=\\ *(max_length,\n",
        "   batch_size, hidden_size)*\n",
        "\n",
        "**Outputs:**\n",
        "\n",
        "-  ``output``: softmax normalized tensor giving probabilities of each\n",
        "   word being the correct next word in the decoded sequence;\n",
        "   shape=\\ *(batch_size, voc.num_words)*\n",
        "-  ``hidden``: final hidden state of GRU; shape=\\ *(n_layers x\n",
        "   num_directions, batch_size, hidden_size)*\n",
        "\n",
        "\n"
      ]
    },
    {
      "cell_type": "code",
      "execution_count": 13,
      "metadata": {
        "id": "lqJtCpOMkna9"
      },
      "outputs": [],
      "source": [
        "class LuongAttnDecoderRNN(nn.Module):\n",
        "    def __init__(self, attn_model, embedding, hidden_size, output_size, n_layers=1, dropout=0.1):\n",
        "        super(LuongAttnDecoderRNN, self).__init__()\n",
        "\n",
        "        # Keep for reference\n",
        "        self.attn_model = attn_model\n",
        "        self.hidden_size = hidden_size\n",
        "        self.output_size = output_size\n",
        "        self.n_layers = n_layers\n",
        "        self.dropout = dropout\n",
        "\n",
        "        # Define layers\n",
        "        self.embedding = embedding\n",
        "        self.embedding_dropout = nn.Dropout(dropout)\n",
        "        self.gru = nn.GRU(hidden_size, hidden_size, n_layers, dropout=(0 if n_layers == 1 else dropout))\n",
        "        self.concat = nn.Linear(hidden_size * 2, hidden_size)\n",
        "        self.out = nn.Linear(hidden_size, output_size)\n",
        "\n",
        "        self.attn = Attn(attn_model, hidden_size)\n",
        "\n",
        "    def forward(self, input_step, last_hidden, encoder_outputs):\n",
        "        # Note: we run this one step (word) at a time\n",
        "        # Get embedding of current input word\n",
        "        embedded = self.embedding(input_step)\n",
        "        embedded = self.embedding_dropout(embedded)\n",
        "        # Forward through unidirectional GRU\n",
        "        rnn_output, hidden = self.gru(embedded, last_hidden)\n",
        "        # Calculate attention weights from the current GRU output\n",
        "        attn_weights = self.attn(rnn_output, encoder_outputs)\n",
        "        # Multiply attention weights to encoder outputs to get new \"weighted sum\" context vector\n",
        "        context = attn_weights.bmm(encoder_outputs.transpose(0, 1))\n",
        "        # Concatenate weighted context vector and GRU output using Luong eq. 5\n",
        "        rnn_output = rnn_output.squeeze(0)\n",
        "        context = context.squeeze(1)\n",
        "        concat_input = torch.cat((rnn_output, context), 1)\n",
        "        concat_output = torch.tanh(self.concat(concat_input))\n",
        "        # Predict next word using Luong eq. 6\n",
        "        output = self.out(concat_output)\n",
        "        output = F.softmax(output, dim=1)\n",
        "        # Return output and final hidden state\n",
        "        return output, hidden"
      ]
    },
    {
      "cell_type": "markdown",
      "metadata": {
        "id": "chpjZZj9kna9"
      },
      "source": [
        "## Define Training Procedure\n",
        "\n",
        "### Masked loss\n",
        "\n",
        "Since we are dealing with batches of padded sequences, we cannot simply\n",
        "consider all elements of the tensor when calculating loss. We define\n",
        "``maskNLLLoss`` to calculate our loss based on our decoder’s output\n",
        "tensor, the target tensor, and a binary mask tensor describing the\n",
        "padding of the target tensor. This loss function calculates the average\n",
        "negative log likelihood of the elements that correspond to a *1* in the\n",
        "mask tensor.\n",
        "\n",
        "\n"
      ]
    },
    {
      "cell_type": "code",
      "execution_count": 14,
      "metadata": {
        "id": "W7G1_7uVkna9"
      },
      "outputs": [],
      "source": [
        "def maskNLLLoss(inp, target, mask):\n",
        "    nTotal = mask.sum()\n",
        "    crossEntropy = -torch.log(torch.gather(inp, 1, target.view(-1, 1)).squeeze(1))\n",
        "    loss = crossEntropy.masked_select(mask).mean()\n",
        "    loss = loss.to(device)\n",
        "    return loss, nTotal.item()"
      ]
    },
    {
      "cell_type": "markdown",
      "metadata": {
        "id": "rIU_zGNekna9"
      },
      "source": [
        "### Single training iteration\n",
        "\n",
        "The ``train`` function contains the algorithm for a single training\n",
        "iteration (a single batch of inputs).\n",
        "\n",
        "We will use a couple of clever tricks to aid in convergence:\n",
        "\n",
        "-  The first trick is using **teacher forcing**. This means that at some\n",
        "   probability, set by ``teacher_forcing_ratio``, we use the current\n",
        "   target word as the decoder’s next input rather than using the\n",
        "   decoder’s current guess. This technique acts as training wheels for\n",
        "   the decoder, aiding in more efficient training. However, teacher\n",
        "   forcing can lead to model instability during inference, as the\n",
        "   decoder may not have a sufficient chance to truly craft its own\n",
        "   output sequences during training. Thus, we must be mindful of how we\n",
        "   are setting the ``teacher_forcing_ratio``, and not be fooled by fast\n",
        "   convergence.\n",
        "\n",
        "-  The second trick that we implement is **gradient clipping**. This is\n",
        "   a commonly used technique for countering the “exploding gradient”\n",
        "   problem. In essence, by clipping or thresholding gradients to a\n",
        "   maximum value, we prevent the gradients from growing exponentially\n",
        "   and either overflow (NaN), or overshoot steep cliffs in the cost\n",
        "   function.\n",
        "\n",
        ".. figure:: /_static/img/chatbot/grad_clip.png\n",
        "   :align: center\n",
        "   :width: 60%\n",
        "   :alt: grad_clip\n",
        "\n",
        "Image source: Goodfellow et al. *Deep Learning*. 2016. https://www.deeplearningbook.org/\n",
        "\n",
        "**Sequence of Operations:**\n",
        "\n",
        "   1) Forward pass entire input batch through encoder.\n",
        "   2) Initialize decoder inputs as SOS_token, and hidden state as the encoder's final hidden state.\n",
        "   3) Forward input batch sequence through decoder one time step at a time.\n",
        "   4) If teacher forcing: set next decoder input as the current target; else: set next decoder input as current decoder output.\n",
        "   5) Calculate and accumulate loss.\n",
        "   6) Perform backpropagation.\n",
        "   7) Clip gradients.\n",
        "   8) Update encoder and decoder model parameters.\n",
        "\n",
        "\n",
        ".. Note ::\n",
        "\n",
        "  PyTorch’s RNN modules (``RNN``, ``LSTM``, ``GRU``) can be used like any\n",
        "  other non-recurrent layers by simply passing them the entire input\n",
        "  sequence (or batch of sequences). We use the ``GRU`` layer like this in\n",
        "  the ``encoder``. The reality is that under the hood, there is an\n",
        "  iterative process looping over each time step calculating hidden states.\n",
        "  Alternatively, you can run these modules one time-step at a time. In\n",
        "  this case, we manually loop over the sequences during the training\n",
        "  process like we must do for the ``decoder`` model. As long as you\n",
        "  maintain the correct conceptual model of these modules, implementing\n",
        "  sequential models can be very straightforward.\n",
        "\n",
        "\n",
        "\n"
      ]
    },
    {
      "cell_type": "code",
      "execution_count": 15,
      "metadata": {
        "id": "Hz6l2PsOkna-"
      },
      "outputs": [],
      "source": [
        "def train(input_variable, lengths, target_variable, mask, max_target_len, encoder, decoder, embedding,\n",
        "          encoder_optimizer, decoder_optimizer, batch_size, clip, max_length=MAX_LENGTH):\n",
        "\n",
        "    # Zero gradients\n",
        "    encoder_optimizer.zero_grad()\n",
        "    decoder_optimizer.zero_grad()\n",
        "\n",
        "    # Set device options\n",
        "    input_variable = input_variable.to(device)\n",
        "    target_variable = target_variable.to(device)\n",
        "    mask = mask.to(device)\n",
        "    # Lengths for RNN packing should always be on the CPU\n",
        "    lengths = lengths.to(\"cpu\")\n",
        "\n",
        "    # Initialize variables\n",
        "    loss = 0\n",
        "    print_losses = []\n",
        "    n_totals = 0\n",
        "\n",
        "    # Forward pass through encoder\n",
        "    encoder_outputs, encoder_hidden = encoder(input_variable, lengths)\n",
        "\n",
        "    # Create initial decoder input (start with SOS tokens for each sentence)\n",
        "    decoder_input = torch.LongTensor([[SOS_token for _ in range(batch_size)]])\n",
        "    decoder_input = decoder_input.to(device)\n",
        "\n",
        "    # Set initial decoder hidden state to the encoder's final hidden state\n",
        "    decoder_hidden = encoder_hidden[:decoder.n_layers]\n",
        "\n",
        "    # Determine if we are using teacher forcing this iteration\n",
        "    use_teacher_forcing = True if random.random() < teacher_forcing_ratio else False\n",
        "\n",
        "    # Forward batch of sequences through decoder one time step at a time\n",
        "    if use_teacher_forcing:\n",
        "        for t in range(max_target_len):\n",
        "            decoder_output, decoder_hidden = decoder(\n",
        "                decoder_input, decoder_hidden, encoder_outputs\n",
        "            )\n",
        "            # Teacher forcing: next input is current target\n",
        "            decoder_input = target_variable[t].view(1, -1)\n",
        "            # Calculate and accumulate loss\n",
        "            mask_loss, nTotal = maskNLLLoss(decoder_output, target_variable[t], mask[t])\n",
        "            loss += mask_loss\n",
        "            print_losses.append(mask_loss.item() * nTotal)\n",
        "            n_totals += nTotal\n",
        "    else:\n",
        "        for t in range(max_target_len):\n",
        "            decoder_output, decoder_hidden = decoder(\n",
        "                decoder_input, decoder_hidden, encoder_outputs\n",
        "            )\n",
        "            # No teacher forcing: next input is decoder's own current output\n",
        "            _, topi = decoder_output.topk(1)\n",
        "            decoder_input = torch.LongTensor([[topi[i][0] for i in range(batch_size)]])\n",
        "            decoder_input = decoder_input.to(device)\n",
        "            # Calculate and accumulate loss\n",
        "            mask_loss, nTotal = maskNLLLoss(decoder_output, target_variable[t], mask[t])\n",
        "            loss += mask_loss\n",
        "            print_losses.append(mask_loss.item() * nTotal)\n",
        "            n_totals += nTotal\n",
        "\n",
        "    # Perform backpropagation\n",
        "    loss.backward()\n",
        "\n",
        "    # Clip gradients: gradients are modified in place\n",
        "    _ = nn.utils.clip_grad_norm_(encoder.parameters(), clip)\n",
        "    _ = nn.utils.clip_grad_norm_(decoder.parameters(), clip)\n",
        "\n",
        "    # Adjust model weights\n",
        "    encoder_optimizer.step()\n",
        "    decoder_optimizer.step()\n",
        "\n",
        "    return sum(print_losses) / n_totals"
      ]
    },
    {
      "cell_type": "markdown",
      "metadata": {
        "id": "lDuLDF3nkna-"
      },
      "source": [
        "### Training iterations\n",
        "\n",
        "It is finally time to tie the full training procedure together with the\n",
        "data. The ``trainIters`` function is responsible for running\n",
        "``n_iterations`` of training given the passed models, optimizers, data,\n",
        "etc. This function is quite self explanatory, as we have done the heavy\n",
        "lifting with the ``train`` function.\n",
        "\n",
        "One thing to note is that when we save our model, we save a tarball\n",
        "containing the encoder and decoder ``state_dicts`` (parameters), the\n",
        "optimizers’ ``state_dicts``, the loss, the iteration, etc. Saving the model\n",
        "in this way will give us the ultimate flexibility with the checkpoint.\n",
        "After loading a checkpoint, we will be able to use the model parameters\n",
        "to run inference, or we can continue training right where we left off.\n",
        "\n",
        "\n"
      ]
    },
    {
      "cell_type": "code",
      "execution_count": 16,
      "metadata": {
        "colab": {
          "base_uri": "https://localhost:8080/"
        },
        "id": "3wejpf9PWlKY",
        "outputId": "dcc54170-064a-4960-d2c0-d0a184b44a15"
      },
      "outputs": [],
      "source": [
        "!pip install wandb -Uq\n",
        "import wandb"
      ]
    },
    {
      "cell_type": "code",
      "execution_count": 17,
      "metadata": {
        "id": "VJ2vn8vJkna-"
      },
      "outputs": [],
      "source": [
        "def trainIters(model_name, voc, pairs, encoder, decoder, encoder_optimizer, decoder_optimizer, embedding, encoder_n_layers, decoder_n_layers, save_dir, n_iteration, batch_size, print_every, save_every, clip, corpus_name, loadFilename, verbose=False, log_wandb=False):\n",
        "\n",
        "    # Load batches for each iteration\n",
        "    training_batches = [batch2TrainData(voc, [random.choice(pairs) for _ in range(batch_size)])\n",
        "                      for _ in range(n_iteration)]\n",
        "\n",
        "    # Initializations\n",
        "    print('Initializing ...')\n",
        "    start_iteration = 1\n",
        "    print_loss = 0\n",
        "    if loadFilename:\n",
        "        start_iteration = checkpoint['iteration'] + 1\n",
        "\n",
        "    # Training loop\n",
        "    print(\"Training...\")\n",
        "\n",
        "    if log_wandb:\n",
        "      for iteration in range(start_iteration, n_iteration + 1):\n",
        "          training_batch = training_batches[iteration - 1]\n",
        "          # Extract fields from batch\n",
        "          input_variable, lengths, target_variable, mask, max_target_len = training_batch\n",
        "\n",
        "          # Run a training iteration with batch\n",
        "          loss = train(input_variable, lengths, target_variable, mask, max_target_len, encoder,\n",
        "                      decoder, embedding, encoder_optimizer, decoder_optimizer, batch_size, clip)\n",
        "          if verbose: print(f'Iteration {iteration} loss: {loss}')\n",
        "          wandb.log({\"loss\": loss, \"iter\": iteration})\n",
        "          print_loss += loss\n",
        "\n",
        "          # Print progress\n",
        "          if iteration % print_every == 0:\n",
        "              print_loss_avg = print_loss / print_every\n",
        "              print(\"Iteration: {}; Percent complete: {:.1f}%; Average loss: {:.4f}\".format(iteration, iteration / n_iteration * 100, print_loss_avg))\n",
        "              print_loss = 0\n",
        "\n",
        "          # Save checkpoint\n",
        "          if (save_every and iteration % save_every == 0):\n",
        "              directory = os.path.join(save_dir, model_name, corpus_name, '{}-{}_{}'.format(encoder_n_layers, decoder_n_layers, hidden_size))\n",
        "              if not os.path.exists(directory):\n",
        "                  os.makedirs(directory)\n",
        "              torch.save({\n",
        "                  'iteration': iteration,\n",
        "                  'en': encoder.state_dict(),\n",
        "                  'de': decoder.state_dict(),\n",
        "                  'en_opt': encoder_optimizer.state_dict(),\n",
        "                  'de_opt': decoder_optimizer.state_dict(),\n",
        "                  'loss': loss,\n",
        "                  'voc_dict': voc.__dict__,\n",
        "                  'embedding': embedding.state_dict()\n",
        "              }, os.path.join(directory, '{}_{}.tar'.format(iteration, 'checkpoint')))\n",
        "    else:\n",
        "      for iteration in range(start_iteration, n_iteration + 1):\n",
        "            training_batch = training_batches[iteration - 1]\n",
        "            # Extract fields from batch\n",
        "            input_variable, lengths, target_variable, mask, max_target_len = training_batch\n",
        "\n",
        "            # Run a training iteration with batch\n",
        "            loss = train(input_variable, lengths, target_variable, mask, max_target_len, encoder,\n",
        "                        decoder, embedding, encoder_optimizer, decoder_optimizer, batch_size, clip)\n",
        "            if verbose: print(f'Iteration {iteration} loss: {loss}')\n",
        "            print_loss += loss\n",
        "\n",
        "            # Print progress\n",
        "            if iteration % print_every == 0:\n",
        "                print_loss_avg = print_loss / print_every\n",
        "                print(\"Iteration: {}; Percent complete: {:.1f}%; Average loss: {:.4f}\".format(iteration, iteration / n_iteration * 100, print_loss_avg))\n",
        "                print_loss = 0\n",
        "\n",
        "            # Save checkpoint\n",
        "            if (save_every and iteration % save_every == 0):\n",
        "                directory = os.path.join(save_dir, model_name, corpus_name, '{}-{}_{}'.format(encoder_n_layers, decoder_n_layers, hidden_size))\n",
        "                if not os.path.exists(directory):\n",
        "                    os.makedirs(directory)\n",
        "                torch.save({\n",
        "                    'iteration': iteration,\n",
        "                    'en': encoder.state_dict(),\n",
        "                    'de': decoder.state_dict(),\n",
        "                    'en_opt': encoder_optimizer.state_dict(),\n",
        "                    'de_opt': decoder_optimizer.state_dict(),\n",
        "                    'loss': loss,\n",
        "                    'voc_dict': voc.__dict__,\n",
        "                    'embedding': embedding.state_dict()\n",
        "                }, os.path.join(directory, '{}_{}.tar'.format(iteration, 'checkpoint')))\n",
        "\n"
      ]
    },
    {
      "cell_type": "markdown",
      "metadata": {
        "id": "gvob7c8Gkna-"
      },
      "source": [
        "## Define Evaluation\n",
        "\n",
        "After training a model, we want to be able to talk to the bot ourselves.\n",
        "First, we must define how we want the model to decode the encoded input.\n",
        "\n",
        "### Greedy decoding\n",
        "\n",
        "Greedy decoding is the decoding method that we use during training when\n",
        "we are **NOT** using teacher forcing. In other words, for each time\n",
        "step, we simply choose the word from ``decoder_output`` with the highest\n",
        "softmax value. This decoding method is optimal on a single time-step\n",
        "level.\n",
        "\n",
        "To facilitate the greedy decoding operation, we define a\n",
        "``GreedySearchDecoder`` class. When run, an object of this class takes\n",
        "an input sequence (``input_seq``) of shape *(input_seq length, 1)*, a\n",
        "scalar input length (``input_length``) tensor, and a ``max_length`` to\n",
        "bound the response sentence length. The input sentence is evaluated\n",
        "using the following computational graph:\n",
        "\n",
        "**Computation Graph:**\n",
        "\n",
        "   1) Forward input through encoder model.\n",
        "   2) Prepare encoder's final hidden layer to be first hidden input to the decoder.\n",
        "   3) Initialize decoder's first input as SOS_token.\n",
        "   4) Initialize tensors to append decoded words to.\n",
        "   5) Iteratively decode one word token at a time:\n",
        "       a) Forward pass through decoder.\n",
        "       b) Obtain most likely word token and its softmax score.\n",
        "       c) Record token and score.\n",
        "       d) Prepare current token to be next decoder input.\n",
        "   6) Return collections of word tokens and scores.\n",
        "\n",
        "\n"
      ]
    },
    {
      "cell_type": "code",
      "execution_count": 18,
      "metadata": {
        "id": "UwYImRCjkna-"
      },
      "outputs": [],
      "source": [
        "class GreedySearchDecoder(nn.Module):\n",
        "    def __init__(self, encoder, decoder):\n",
        "        super(GreedySearchDecoder, self).__init__()\n",
        "        self.encoder = encoder\n",
        "        self.decoder = decoder\n",
        "\n",
        "    def forward(self, input_seq, input_length, max_length):\n",
        "        # Forward input through encoder model\n",
        "        encoder_outputs, encoder_hidden = self.encoder(input_seq, input_length)\n",
        "        # Prepare encoder's final hidden layer to be first hidden input to the decoder\n",
        "        decoder_hidden = encoder_hidden[:decoder.n_layers]\n",
        "        # Initialize decoder input with SOS_token\n",
        "        decoder_input = torch.ones(1, 1, device=device, dtype=torch.long) * SOS_token\n",
        "        # Initialize tensors to append decoded words to\n",
        "        all_tokens = torch.zeros([0], device=device, dtype=torch.long)\n",
        "        all_scores = torch.zeros([0], device=device)\n",
        "        # Iteratively decode one word token at a time\n",
        "        for _ in range(max_length):\n",
        "            # Forward pass through decoder\n",
        "            decoder_output, decoder_hidden = self.decoder(decoder_input, decoder_hidden, encoder_outputs)\n",
        "            # Obtain most likely word token and its softmax score\n",
        "            decoder_scores, decoder_input = torch.max(decoder_output, dim=1)\n",
        "            # Record token and score\n",
        "            all_tokens = torch.cat((all_tokens, decoder_input), dim=0)\n",
        "            all_scores = torch.cat((all_scores, decoder_scores), dim=0)\n",
        "            # Prepare current token to be next decoder input (add a dimension)\n",
        "            decoder_input = torch.unsqueeze(decoder_input, 0)\n",
        "        # Return collections of word tokens and scores\n",
        "        return all_tokens, all_scores"
      ]
    },
    {
      "cell_type": "markdown",
      "metadata": {
        "id": "MUVwQxsLkna-"
      },
      "source": [
        "### Evaluate my text\n",
        "\n",
        "Now that we have our decoding method defined, we can write functions for\n",
        "evaluating a string input sentence. The ``evaluate`` function manages\n",
        "the low-level process of handling the input sentence. We first format\n",
        "the sentence as an input batch of word indexes with *batch_size==1*. We\n",
        "do this by converting the words of the sentence to their corresponding\n",
        "indexes, and transposing the dimensions to prepare the tensor for our\n",
        "models. We also create a ``lengths`` tensor which contains the length of\n",
        "our input sentence. In this case, ``lengths`` is scalar because we are\n",
        "only evaluating one sentence at a time (batch_size==1). Next, we obtain\n",
        "the decoded response sentence tensor using our ``GreedySearchDecoder``\n",
        "object (``searcher``). Finally, we convert the response’s indexes to\n",
        "words and return the list of decoded words.\n",
        "\n",
        "``evaluateInput`` acts as the user interface for our chatbot. When\n",
        "called, an input text field will spawn in which we can enter our query\n",
        "sentence. After typing our input sentence and pressing *Enter*, our text\n",
        "is normalized in the same way as our training data, and is ultimately\n",
        "fed to the ``evaluate`` function to obtain a decoded output sentence. We\n",
        "loop this process, so we can keep chatting with our bot until we enter\n",
        "either “q” or “quit”.\n",
        "\n",
        "Finally, if a sentence is entered that contains a word that is not in\n",
        "the vocabulary, we handle this gracefully by printing an error message\n",
        "and prompting the user to enter another sentence.\n",
        "\n",
        "\n"
      ]
    },
    {
      "cell_type": "code",
      "execution_count": 19,
      "metadata": {
        "id": "zDsN0-7Skna_"
      },
      "outputs": [],
      "source": [
        "def evaluate(encoder, decoder, searcher, voc, sentence, max_length=MAX_LENGTH):\n",
        "    ### Format input sentence as a batch\n",
        "    # words -> indexes\n",
        "    indexes_batch = [indexesFromSentence(voc, sentence)]\n",
        "    # Create lengths tensor\n",
        "    lengths = torch.tensor([len(indexes) for indexes in indexes_batch])\n",
        "    # Transpose dimensions of batch to match models' expectations\n",
        "    input_batch = torch.LongTensor(indexes_batch).transpose(0, 1)\n",
        "    # Use appropriate device\n",
        "    input_batch = input_batch.to(device)\n",
        "    lengths = lengths.to(\"cpu\")\n",
        "    # Decode sentence with searcher\n",
        "    tokens, scores = searcher(input_batch, lengths, max_length)\n",
        "    # indexes -> words\n",
        "    decoded_words = [voc.index2word[token.item()] for token in tokens]\n",
        "    # Format and print response sentence\n",
        "    output_words = [x for x in decoded_words if not (x == 'EOS' or x == 'PAD')]\n",
        "    return ' '.join(output_words)\n",
        "\n",
        "\n",
        "def evaluateInput(encoder, decoder, searcher, voc):\n",
        "    input_sentence = ''\n",
        "    while(1):\n",
        "        try:\n",
        "            # Get input sentence\n",
        "            input_sentence = input('> ')\n",
        "            # Check if it is quit case\n",
        "            if input_sentence == 'q' or input_sentence == 'quit': break\n",
        "            # Normalize sentence\n",
        "            input_sentence = normalizeString(input_sentence)\n",
        "            # Evaluate sentence\n",
        "            output_words = evaluate(encoder, decoder, searcher, voc, input_sentence)\n",
        "            print('Bot:', output_words)\n",
        "\n",
        "        except KeyError:\n",
        "            print(\"Error: Encountered unknown word.\")"
      ]
    },
    {
      "cell_type": "markdown",
      "metadata": {
        "id": "gYzUoXJekna_"
      },
      "source": [
        "## Run Model\n",
        "\n",
        "Finally, it is time to run our model!\n",
        "\n",
        "Regardless of whether we want to train or test the chatbot model, we\n",
        "must initialize the individual encoder and decoder models. In the\n",
        "following block, we set our desired configurations, choose to start from\n",
        "scratch or set a checkpoint to load from, and build and initialize the\n",
        "models. Feel free to play with different model configurations to\n",
        "optimize performance.\n",
        "\n",
        "\n"
      ]
    },
    {
      "cell_type": "code",
      "execution_count": 20,
      "metadata": {
        "id": "ZFX9P2Jqkna_"
      },
      "outputs": [],
      "source": [
        "# Configure models\n",
        "model_name = 'cb_model'\n",
        "attn_model = 'dot'\n",
        "#``attn_model = 'general'``\n",
        "#``attn_model = 'concat'``\n",
        "hidden_size = 500\n",
        "encoder_n_layers = 2\n",
        "decoder_n_layers = 2\n",
        "dropout = 0.1\n",
        "batch_size = 64\n",
        "\n",
        "# Set checkpoint to load from; set to None if starting from scratch\n",
        "loadFilename = None\n",
        "checkpoint_iter = 4000\n",
        "loadFilename = os.path.join(save_dir, model_name, corpus_name,\n",
        "                    '{}-{}_{}'.format(encoder_n_layers, decoder_n_layers, hidden_size),\n",
        "                    '{}_checkpoint.tar'.format(checkpoint_iter))"
      ]
    },
    {
      "cell_type": "markdown",
      "metadata": {
        "id": "lz1vlx7Dkna_"
      },
      "source": [
        "Sample code to load from a checkpoint:\n",
        "\n",
        "```python\n",
        "loadFilename = os.path.join(save_dir, model_name, corpus_name,\n",
        "                    '{}-{}_{}'.format(encoder_n_layers, decoder_n_layers, hidden_size),\n",
        "                    '{}_checkpoint.tar'.format(checkpoint_iter))\n",
        "```\n"
      ]
    },
    {
      "cell_type": "code",
      "execution_count": 21,
      "metadata": {
        "colab": {
          "base_uri": "https://localhost:8080/",
          "height": 426
        },
        "id": "nZLur3RzknbD",
        "outputId": "5b0be3c2-4f8c-41a1-d31e-8227d71e35f6"
      },
      "outputs": [
        {
          "ename": "RuntimeError",
          "evalue": "ignored",
          "output_type": "error",
          "traceback": [
            "\u001b[0;31m---------------------------------------------------------------------------\u001b[0m",
            "\u001b[0;31mRuntimeError\u001b[0m                              Traceback (most recent call last)",
            "\u001b[0;32m<ipython-input-21-5375deb1d9b3>\u001b[0m in \u001b[0;36m<cell line: 2>\u001b[0;34m()\u001b[0m\n\u001b[1;32m      2\u001b[0m \u001b[0;32mif\u001b[0m \u001b[0mloadFilename\u001b[0m\u001b[0;34m:\u001b[0m\u001b[0;34m\u001b[0m\u001b[0;34m\u001b[0m\u001b[0m\n\u001b[1;32m      3\u001b[0m     \u001b[0;31m# If loading on same machine the model was trained on\u001b[0m\u001b[0;34m\u001b[0m\u001b[0;34m\u001b[0m\u001b[0m\n\u001b[0;32m----> 4\u001b[0;31m     \u001b[0mcheckpoint\u001b[0m \u001b[0;34m=\u001b[0m \u001b[0mtorch\u001b[0m\u001b[0;34m.\u001b[0m\u001b[0mload\u001b[0m\u001b[0;34m(\u001b[0m\u001b[0mloadFilename\u001b[0m\u001b[0;34m)\u001b[0m\u001b[0;34m\u001b[0m\u001b[0;34m\u001b[0m\u001b[0m\n\u001b[0m\u001b[1;32m      5\u001b[0m     \u001b[0;31m# If loading a model trained on GPU to CPU\u001b[0m\u001b[0;34m\u001b[0m\u001b[0;34m\u001b[0m\u001b[0m\n\u001b[1;32m      6\u001b[0m     \u001b[0;31m#checkpoint = torch.load(loadFilename, map_location=torch.device('cpu'))\u001b[0m\u001b[0;34m\u001b[0m\u001b[0;34m\u001b[0m\u001b[0m\n",
            "\u001b[0;32m/usr/local/lib/python3.10/dist-packages/torch/serialization.py\u001b[0m in \u001b[0;36mload\u001b[0;34m(f, map_location, pickle_module, weights_only, mmap, **pickle_load_args)\u001b[0m\n\u001b[1;32m   1012\u001b[0m                     \u001b[0;32mexcept\u001b[0m \u001b[0mRuntimeError\u001b[0m \u001b[0;32mas\u001b[0m \u001b[0me\u001b[0m\u001b[0;34m:\u001b[0m\u001b[0;34m\u001b[0m\u001b[0;34m\u001b[0m\u001b[0m\n\u001b[1;32m   1013\u001b[0m                         \u001b[0;32mraise\u001b[0m \u001b[0mpickle\u001b[0m\u001b[0;34m.\u001b[0m\u001b[0mUnpicklingError\u001b[0m\u001b[0;34m(\u001b[0m\u001b[0mUNSAFE_MESSAGE\u001b[0m \u001b[0;34m+\u001b[0m \u001b[0mstr\u001b[0m\u001b[0;34m(\u001b[0m\u001b[0me\u001b[0m\u001b[0;34m)\u001b[0m\u001b[0;34m)\u001b[0m \u001b[0;32mfrom\u001b[0m \u001b[0;32mNone\u001b[0m\u001b[0;34m\u001b[0m\u001b[0;34m\u001b[0m\u001b[0m\n\u001b[0;32m-> 1014\u001b[0;31m                 return _load(opened_zipfile,\n\u001b[0m\u001b[1;32m   1015\u001b[0m                              \u001b[0mmap_location\u001b[0m\u001b[0;34m,\u001b[0m\u001b[0;34m\u001b[0m\u001b[0;34m\u001b[0m\u001b[0m\n\u001b[1;32m   1016\u001b[0m                              \u001b[0mpickle_module\u001b[0m\u001b[0;34m,\u001b[0m\u001b[0;34m\u001b[0m\u001b[0;34m\u001b[0m\u001b[0m\n",
            "\u001b[0;32m/usr/local/lib/python3.10/dist-packages/torch/serialization.py\u001b[0m in \u001b[0;36m_load\u001b[0;34m(zip_file, map_location, pickle_module, pickle_file, overall_storage, **pickle_load_args)\u001b[0m\n\u001b[1;32m   1420\u001b[0m     \u001b[0munpickler\u001b[0m \u001b[0;34m=\u001b[0m \u001b[0mUnpicklerWrapper\u001b[0m\u001b[0;34m(\u001b[0m\u001b[0mdata_file\u001b[0m\u001b[0;34m,\u001b[0m \u001b[0;34m**\u001b[0m\u001b[0mpickle_load_args\u001b[0m\u001b[0;34m)\u001b[0m\u001b[0;34m\u001b[0m\u001b[0;34m\u001b[0m\u001b[0m\n\u001b[1;32m   1421\u001b[0m     \u001b[0munpickler\u001b[0m\u001b[0;34m.\u001b[0m\u001b[0mpersistent_load\u001b[0m \u001b[0;34m=\u001b[0m \u001b[0mpersistent_load\u001b[0m\u001b[0;34m\u001b[0m\u001b[0;34m\u001b[0m\u001b[0m\n\u001b[0;32m-> 1422\u001b[0;31m     \u001b[0mresult\u001b[0m \u001b[0;34m=\u001b[0m \u001b[0munpickler\u001b[0m\u001b[0;34m.\u001b[0m\u001b[0mload\u001b[0m\u001b[0;34m(\u001b[0m\u001b[0;34m)\u001b[0m\u001b[0;34m\u001b[0m\u001b[0;34m\u001b[0m\u001b[0m\n\u001b[0m\u001b[1;32m   1423\u001b[0m \u001b[0;34m\u001b[0m\u001b[0m\n\u001b[1;32m   1424\u001b[0m     \u001b[0mtorch\u001b[0m\u001b[0;34m.\u001b[0m\u001b[0m_utils\u001b[0m\u001b[0;34m.\u001b[0m\u001b[0m_validate_loaded_sparse_tensors\u001b[0m\u001b[0;34m(\u001b[0m\u001b[0;34m)\u001b[0m\u001b[0;34m\u001b[0m\u001b[0;34m\u001b[0m\u001b[0m\n",
            "\u001b[0;32m/usr/local/lib/python3.10/dist-packages/torch/serialization.py\u001b[0m in \u001b[0;36mpersistent_load\u001b[0;34m(saved_id)\u001b[0m\n\u001b[1;32m   1390\u001b[0m         \u001b[0;32melse\u001b[0m\u001b[0;34m:\u001b[0m\u001b[0;34m\u001b[0m\u001b[0;34m\u001b[0m\u001b[0m\n\u001b[1;32m   1391\u001b[0m             \u001b[0mnbytes\u001b[0m \u001b[0;34m=\u001b[0m \u001b[0mnumel\u001b[0m \u001b[0;34m*\u001b[0m \u001b[0mtorch\u001b[0m\u001b[0;34m.\u001b[0m\u001b[0m_utils\u001b[0m\u001b[0;34m.\u001b[0m\u001b[0m_element_size\u001b[0m\u001b[0;34m(\u001b[0m\u001b[0mdtype\u001b[0m\u001b[0;34m)\u001b[0m\u001b[0;34m\u001b[0m\u001b[0;34m\u001b[0m\u001b[0m\n\u001b[0;32m-> 1392\u001b[0;31m             \u001b[0mtyped_storage\u001b[0m \u001b[0;34m=\u001b[0m \u001b[0mload_tensor\u001b[0m\u001b[0;34m(\u001b[0m\u001b[0mdtype\u001b[0m\u001b[0;34m,\u001b[0m \u001b[0mnbytes\u001b[0m\u001b[0;34m,\u001b[0m \u001b[0mkey\u001b[0m\u001b[0;34m,\u001b[0m \u001b[0m_maybe_decode_ascii\u001b[0m\u001b[0;34m(\u001b[0m\u001b[0mlocation\u001b[0m\u001b[0;34m)\u001b[0m\u001b[0;34m)\u001b[0m\u001b[0;34m\u001b[0m\u001b[0;34m\u001b[0m\u001b[0m\n\u001b[0m\u001b[1;32m   1393\u001b[0m \u001b[0;34m\u001b[0m\u001b[0m\n\u001b[1;32m   1394\u001b[0m         \u001b[0;32mreturn\u001b[0m \u001b[0mtyped_storage\u001b[0m\u001b[0;34m\u001b[0m\u001b[0;34m\u001b[0m\u001b[0m\n",
            "\u001b[0;32m/usr/local/lib/python3.10/dist-packages/torch/serialization.py\u001b[0m in \u001b[0;36mload_tensor\u001b[0;34m(dtype, numel, key, location)\u001b[0m\n\u001b[1;32m   1364\u001b[0m         \u001b[0;31m# stop wrapping with TypedStorage\u001b[0m\u001b[0;34m\u001b[0m\u001b[0;34m\u001b[0m\u001b[0m\n\u001b[1;32m   1365\u001b[0m         typed_storage = torch.storage.TypedStorage(\n\u001b[0;32m-> 1366\u001b[0;31m             \u001b[0mwrap_storage\u001b[0m\u001b[0;34m=\u001b[0m\u001b[0mrestore_location\u001b[0m\u001b[0;34m(\u001b[0m\u001b[0mstorage\u001b[0m\u001b[0;34m,\u001b[0m \u001b[0mlocation\u001b[0m\u001b[0;34m)\u001b[0m\u001b[0;34m,\u001b[0m\u001b[0;34m\u001b[0m\u001b[0;34m\u001b[0m\u001b[0m\n\u001b[0m\u001b[1;32m   1367\u001b[0m             \u001b[0mdtype\u001b[0m\u001b[0;34m=\u001b[0m\u001b[0mdtype\u001b[0m\u001b[0;34m,\u001b[0m\u001b[0;34m\u001b[0m\u001b[0;34m\u001b[0m\u001b[0m\n\u001b[1;32m   1368\u001b[0m             _internal=True)\n",
            "\u001b[0;32m/usr/local/lib/python3.10/dist-packages/torch/serialization.py\u001b[0m in \u001b[0;36mdefault_restore_location\u001b[0;34m(storage, location)\u001b[0m\n\u001b[1;32m    379\u001b[0m \u001b[0;32mdef\u001b[0m \u001b[0mdefault_restore_location\u001b[0m\u001b[0;34m(\u001b[0m\u001b[0mstorage\u001b[0m\u001b[0;34m,\u001b[0m \u001b[0mlocation\u001b[0m\u001b[0;34m)\u001b[0m\u001b[0;34m:\u001b[0m\u001b[0;34m\u001b[0m\u001b[0;34m\u001b[0m\u001b[0m\n\u001b[1;32m    380\u001b[0m     \u001b[0;32mfor\u001b[0m \u001b[0m_\u001b[0m\u001b[0;34m,\u001b[0m \u001b[0m_\u001b[0m\u001b[0;34m,\u001b[0m \u001b[0mfn\u001b[0m \u001b[0;32min\u001b[0m \u001b[0m_package_registry\u001b[0m\u001b[0;34m:\u001b[0m\u001b[0;34m\u001b[0m\u001b[0;34m\u001b[0m\u001b[0m\n\u001b[0;32m--> 381\u001b[0;31m         \u001b[0mresult\u001b[0m \u001b[0;34m=\u001b[0m \u001b[0mfn\u001b[0m\u001b[0;34m(\u001b[0m\u001b[0mstorage\u001b[0m\u001b[0;34m,\u001b[0m \u001b[0mlocation\u001b[0m\u001b[0;34m)\u001b[0m\u001b[0;34m\u001b[0m\u001b[0;34m\u001b[0m\u001b[0m\n\u001b[0m\u001b[1;32m    382\u001b[0m         \u001b[0;32mif\u001b[0m \u001b[0mresult\u001b[0m \u001b[0;32mis\u001b[0m \u001b[0;32mnot\u001b[0m \u001b[0;32mNone\u001b[0m\u001b[0;34m:\u001b[0m\u001b[0;34m\u001b[0m\u001b[0;34m\u001b[0m\u001b[0m\n\u001b[1;32m    383\u001b[0m             \u001b[0;32mreturn\u001b[0m \u001b[0mresult\u001b[0m\u001b[0;34m\u001b[0m\u001b[0;34m\u001b[0m\u001b[0m\n",
            "\u001b[0;32m/usr/local/lib/python3.10/dist-packages/torch/serialization.py\u001b[0m in \u001b[0;36m_cuda_deserialize\u001b[0;34m(obj, location)\u001b[0m\n\u001b[1;32m    272\u001b[0m \u001b[0;32mdef\u001b[0m \u001b[0m_cuda_deserialize\u001b[0m\u001b[0;34m(\u001b[0m\u001b[0mobj\u001b[0m\u001b[0;34m,\u001b[0m \u001b[0mlocation\u001b[0m\u001b[0;34m)\u001b[0m\u001b[0;34m:\u001b[0m\u001b[0;34m\u001b[0m\u001b[0;34m\u001b[0m\u001b[0m\n\u001b[1;32m    273\u001b[0m     \u001b[0;32mif\u001b[0m \u001b[0mlocation\u001b[0m\u001b[0;34m.\u001b[0m\u001b[0mstartswith\u001b[0m\u001b[0;34m(\u001b[0m\u001b[0;34m'cuda'\u001b[0m\u001b[0;34m)\u001b[0m\u001b[0;34m:\u001b[0m\u001b[0;34m\u001b[0m\u001b[0;34m\u001b[0m\u001b[0m\n\u001b[0;32m--> 274\u001b[0;31m         \u001b[0mdevice\u001b[0m \u001b[0;34m=\u001b[0m \u001b[0mvalidate_cuda_device\u001b[0m\u001b[0;34m(\u001b[0m\u001b[0mlocation\u001b[0m\u001b[0;34m)\u001b[0m\u001b[0;34m\u001b[0m\u001b[0;34m\u001b[0m\u001b[0m\n\u001b[0m\u001b[1;32m    275\u001b[0m         \u001b[0;32mif\u001b[0m \u001b[0mgetattr\u001b[0m\u001b[0;34m(\u001b[0m\u001b[0mobj\u001b[0m\u001b[0;34m,\u001b[0m \u001b[0;34m\"_torch_load_uninitialized\"\u001b[0m\u001b[0;34m,\u001b[0m \u001b[0;32mFalse\u001b[0m\u001b[0;34m)\u001b[0m\u001b[0;34m:\u001b[0m\u001b[0;34m\u001b[0m\u001b[0;34m\u001b[0m\u001b[0m\n\u001b[1;32m    276\u001b[0m             \u001b[0;32mwith\u001b[0m \u001b[0mtorch\u001b[0m\u001b[0;34m.\u001b[0m\u001b[0mcuda\u001b[0m\u001b[0;34m.\u001b[0m\u001b[0mdevice\u001b[0m\u001b[0;34m(\u001b[0m\u001b[0mdevice\u001b[0m\u001b[0;34m)\u001b[0m\u001b[0;34m:\u001b[0m\u001b[0;34m\u001b[0m\u001b[0;34m\u001b[0m\u001b[0m\n",
            "\u001b[0;32m/usr/local/lib/python3.10/dist-packages/torch/serialization.py\u001b[0m in \u001b[0;36mvalidate_cuda_device\u001b[0;34m(location)\u001b[0m\n\u001b[1;32m    256\u001b[0m \u001b[0;34m\u001b[0m\u001b[0m\n\u001b[1;32m    257\u001b[0m     \u001b[0;32mif\u001b[0m \u001b[0;32mnot\u001b[0m \u001b[0mtorch\u001b[0m\u001b[0;34m.\u001b[0m\u001b[0mcuda\u001b[0m\u001b[0;34m.\u001b[0m\u001b[0mis_available\u001b[0m\u001b[0;34m(\u001b[0m\u001b[0;34m)\u001b[0m\u001b[0;34m:\u001b[0m\u001b[0;34m\u001b[0m\u001b[0;34m\u001b[0m\u001b[0m\n\u001b[0;32m--> 258\u001b[0;31m         raise RuntimeError('Attempting to deserialize object on a CUDA '\n\u001b[0m\u001b[1;32m    259\u001b[0m                            \u001b[0;34m'device but torch.cuda.is_available() is False. '\u001b[0m\u001b[0;34m\u001b[0m\u001b[0;34m\u001b[0m\u001b[0m\n\u001b[1;32m    260\u001b[0m                            \u001b[0;34m'If you are running on a CPU-only machine, '\u001b[0m\u001b[0;34m\u001b[0m\u001b[0;34m\u001b[0m\u001b[0m\n",
            "\u001b[0;31mRuntimeError\u001b[0m: Attempting to deserialize object on a CUDA device but torch.cuda.is_available() is False. If you are running on a CPU-only machine, please use torch.load with map_location=torch.device('cpu') to map your storages to the CPU."
          ]
        }
      ],
      "source": [
        "# Load model if a ``loadFilename`` is provided\n",
        "if loadFilename:\n",
        "    # If loading on same machine the model was trained on\n",
        "    checkpoint = torch.load(loadFilename)\n",
        "    # If loading a model trained on GPU to CPU\n",
        "    #checkpoint = torch.load(loadFilename, map_location=torch.device('cpu'))\n",
        "    encoder_sd = checkpoint['en']\n",
        "    decoder_sd = checkpoint['de']\n",
        "    encoder_optimizer_sd = checkpoint['en_opt']\n",
        "    decoder_optimizer_sd = checkpoint['de_opt']\n",
        "    embedding_sd = checkpoint['embedding']\n",
        "    voc.__dict__ = checkpoint['voc_dict']\n",
        "\n",
        "\n",
        "print('Building encoder and decoder ...')\n",
        "# Initialize word embeddings\n",
        "embedding = nn.Embedding(voc.num_words, hidden_size)\n",
        "if loadFilename:\n",
        "    embedding.load_state_dict(embedding_sd)\n",
        "# Initialize encoder & decoder models\n",
        "encoder = EncoderRNN(hidden_size, embedding, encoder_n_layers, dropout)\n",
        "decoder = LuongAttnDecoderRNN(attn_model, embedding, hidden_size, voc.num_words, decoder_n_layers, dropout)\n",
        "if loadFilename:\n",
        "    encoder.load_state_dict(encoder_sd)\n",
        "    decoder.load_state_dict(decoder_sd)\n",
        "# Use appropriate device\n",
        "encoder = encoder.to(device)\n",
        "decoder = decoder.to(device)\n",
        "print('Models built and ready to go!')"
      ]
    },
    {
      "cell_type": "markdown",
      "metadata": {
        "id": "Orem2EYmknbD"
      },
      "source": [
        "### Run Training\n",
        "\n",
        "Run the following block if you want to train the model.\n",
        "\n",
        "First we set training parameters, then we initialize our optimizers, and\n",
        "finally we call the ``trainIters`` function to run our training\n",
        "iterations.\n",
        "\n",
        "\n"
      ]
    },
    {
      "cell_type": "code",
      "execution_count": null,
      "metadata": {
        "id": "dbi1yTdYknbE"
      },
      "outputs": [],
      "source": [
        "# Configure training/optimization\n",
        "clip = 50.0\n",
        "teacher_forcing_ratio = 1.0\n",
        "learning_rate = 0.0001\n",
        "decoder_learning_ratio = 5.0\n",
        "n_iteration = 4000\n",
        "print_every = 1\n",
        "save_every = 500\n",
        "\n",
        "# Ensure dropout layers are in train mode\n",
        "encoder.train()\n",
        "decoder.train()\n",
        "\n",
        "# Initialize optimizers\n",
        "print('Building optimizers ...')\n",
        "encoder_optimizer = optim.Adam(encoder.parameters(), lr=learning_rate)\n",
        "decoder_optimizer = optim.Adam(decoder.parameters(), lr=learning_rate * decoder_learning_ratio)\n",
        "if loadFilename:\n",
        "    encoder_optimizer.load_state_dict(encoder_optimizer_sd)\n",
        "    decoder_optimizer.load_state_dict(decoder_optimizer_sd)\n",
        "\n",
        "# If you have CUDA, configure CUDA to call\n",
        "for state in encoder_optimizer.state.values():\n",
        "    for k, v in state.items():\n",
        "        if isinstance(v, torch.Tensor):\n",
        "            state[k] = v.cuda()\n",
        "\n",
        "for state in decoder_optimizer.state.values():\n",
        "    for k, v in state.items():\n",
        "        if isinstance(v, torch.Tensor):\n",
        "            state[k] = v.cuda()\n",
        "\n",
        "# Run training iterations\n",
        "TRAIN = False\n",
        "if TRAIN:\n",
        "  print(\"Starting Training!\")\n",
        "  trainIters(model_name, voc, pairs, encoder, decoder, encoder_optimizer, decoder_optimizer,\n",
        "            embedding, encoder_n_layers, decoder_n_layers, save_dir, n_iteration, batch_size,\n",
        "            print_every, save_every, clip, corpus_name, loadFilename)"
      ]
    },
    {
      "cell_type": "markdown",
      "metadata": {
        "id": "bH4aXBeXknbE"
      },
      "source": [
        "### Run Evaluation\n",
        "\n",
        "To chat with your model, run the following block.\n",
        "\n",
        "\n"
      ]
    },
    {
      "cell_type": "code",
      "execution_count": 24,
      "metadata": {
        "id": "vcfjzj7KknbE"
      },
      "outputs": [],
      "source": [
        "# Set dropout layers to ``eval`` mode\n",
        "encoder.eval()\n",
        "decoder.eval()\n",
        "\n",
        "# Initialize search module\n",
        "searcher = GreedySearchDecoder(encoder, decoder)\n",
        "\n",
        "# Begin chatting (uncomment and run the following line to begin)\n",
        "#evaluateInput(encoder, decoder, searcher, voc)"
      ]
    },
    {
      "cell_type": "markdown",
      "metadata": {
        "id": "jdY6o6pkknbE"
      },
      "source": [
        "## Conclusion\n",
        "\n",
        "That’s all for this one, folks. Congratulations, you now know the\n",
        "fundamentals to building a generative chatbot model! If you’re\n",
        "interested, you can try tailoring the chatbot’s behavior by tweaking the\n",
        "model and training parameters and customizing the data that you train\n",
        "the model on.\n",
        "\n",
        "Check out the other tutorials for more cool deep learning applications\n",
        "in PyTorch!\n",
        "\n",
        "\n"
      ]
    },
    {
      "cell_type": "markdown",
      "metadata": {
        "id": "GhddwykTxSZs"
      },
      "source": [
        "# Wandb Hyperparameter Sweep"
      ]
    },
    {
      "cell_type": "code",
      "execution_count": 23,
      "metadata": {
        "id": "vlNZgcFtxYTr"
      },
      "outputs": [],
      "source": [
        "import wandb"
      ]
    },
    {
      "cell_type": "code",
      "execution_count": 24,
      "metadata": {
        "colab": {
          "base_uri": "https://localhost:8080/",
          "height": 69
        },
        "id": "JzBvzURRxZ0u",
        "outputId": "8c63342c-75d2-4875-9570-6a6219411b0e"
      },
      "outputs": [
        {
          "data": {
            "application/javascript": "\n        window._wandbApiKey = new Promise((resolve, reject) => {\n            function loadScript(url) {\n            return new Promise(function(resolve, reject) {\n                let newScript = document.createElement(\"script\");\n                newScript.onerror = reject;\n                newScript.onload = resolve;\n                document.body.appendChild(newScript);\n                newScript.src = url;\n            });\n            }\n            loadScript(\"https://cdn.jsdelivr.net/npm/postmate/build/postmate.min.js\").then(() => {\n            const iframe = document.createElement('iframe')\n            iframe.style.cssText = \"width:0;height:0;border:none\"\n            document.body.appendChild(iframe)\n            const handshake = new Postmate({\n                container: iframe,\n                url: 'https://wandb.ai/authorize'\n            });\n            const timeout = setTimeout(() => reject(\"Couldn't auto authenticate\"), 5000)\n            handshake.then(function(child) {\n                child.on('authorize', data => {\n                    clearTimeout(timeout)\n                    resolve(data)\n                });\n            });\n            })\n        });\n    ",
            "text/plain": [
              "<IPython.core.display.Javascript object>"
            ]
          },
          "metadata": {},
          "output_type": "display_data"
        },
        {
          "name": "stderr",
          "output_type": "stream",
          "text": [
            "\u001b[34m\u001b[1mwandb\u001b[0m: Appending key for api.wandb.ai to your netrc file: /root/.netrc\n"
          ]
        },
        {
          "data": {
            "text/plain": [
              "True"
            ]
          },
          "execution_count": 24,
          "metadata": {},
          "output_type": "execute_result"
        }
      ],
      "source": [
        "wandb.login()"
      ]
    },
    {
      "cell_type": "code",
      "execution_count": 37,
      "metadata": {
        "id": "JxJRi6WhxbeK"
      },
      "outputs": [],
      "source": [
        "sweep_config = {'method': 'random'}\n",
        "\n",
        "metric = {\n",
        "    'name': 'loss',\n",
        "    'goal': 'minimize'\n",
        "    }\n",
        "\n",
        "sweep_config['metric'] = metric"
      ]
    },
    {
      "cell_type": "code",
      "execution_count": 38,
      "metadata": {
        "id": "XlCKa8rnxnez"
      },
      "outputs": [],
      "source": [
        "parameters_dict = {\n",
        "    'optimizer': {\n",
        "        'values': ['adam', 'sgd']\n",
        "        },\n",
        "    'lr': {\n",
        "        'values': [0.0001, 0.00025, 0.0005, 0.001]\n",
        "        },\n",
        "    'clip': {\n",
        "          'values': [0, 25, 50, 100]\n",
        "        },\n",
        "    'teacher_forcing_ratio': {\n",
        "          'values': [0, 0.5, 1.0]\n",
        "      },\n",
        "    'decoder_learning_ratio': {\n",
        "          'values': [1.0, 3.0, 5.0, 10.0]\n",
        "      }\n",
        "    }\n",
        "\n",
        "sweep_config['parameters'] = parameters_dict"
      ]
    },
    {
      "cell_type": "code",
      "execution_count": 39,
      "metadata": {
        "colab": {
          "base_uri": "https://localhost:8080/"
        },
        "id": "WlkC3TlTzChW",
        "outputId": "e9458d56-55b4-411e-e56e-b571dd1111d6"
      },
      "outputs": [
        {
          "name": "stdout",
          "output_type": "stream",
          "text": [
            "{'method': 'random',\n",
            " 'metric': {'goal': 'minimize', 'name': 'loss'},\n",
            " 'parameters': {'clip': {'values': [0, 25, 50, 100]},\n",
            "                'decoder_learning_ratio': {'values': [1.0, 3.0, 5.0, 10.0]},\n",
            "                'lr': {'values': [0.0001, 0.00025, 0.0005, 0.001]},\n",
            "                'optimizer': {'values': ['adam', 'sgd']},\n",
            "                'teacher_forcing_ratio': {'values': [0, 0.5, 1.0]}}}\n"
          ]
        }
      ],
      "source": [
        "import pprint\n",
        "\n",
        "pprint.pprint(sweep_config)"
      ]
    },
    {
      "cell_type": "code",
      "execution_count": 43,
      "metadata": {
        "colab": {
          "base_uri": "https://localhost:8080/"
        },
        "id": "qDUXgDO1zC6n",
        "outputId": "5f66b532-dcf2-4427-a27f-ef5d776756dc"
      },
      "outputs": [
        {
          "name": "stdout",
          "output_type": "stream",
          "text": [
            "Create sweep with ID: d8cpqpj5\n",
            "Sweep URL: https://wandb.ai/amanichopra/chatbot-sweep/sweeps/d8cpqpj5\n"
          ]
        }
      ],
      "source": [
        "sweep_id = wandb.sweep(sweep_config, project=\"chatbot-sweep\")"
      ]
    },
    {
      "cell_type": "code",
      "execution_count": null,
      "metadata": {
        "colab": {
          "base_uri": "https://localhost:8080/",
          "height": 1000,
          "referenced_widgets": [
            "9aff715e491b429d8fecf1c7523689d5",
            "343016ca6c30447aaddb65ddd0050931",
            "09d1114ccee04220be0dc768952c17f1",
            "bb7b3c95b6ef41c591f6bff5789f1c56",
            "487aff2c9d1e4326a74705765daa49af",
            "5af409214d724c79955efb95f0983939",
            "790fd9861a844822a7ea60b0e74cabdd",
            "0f2e73016a464067a52e02a14f44e736",
            "5eb75c48dbbb45cca47b1cbdf39b4192",
            "76c99f7b7109424a817cf12febce6407",
            "0db6a300747d4093811147a596f7d0ff",
            "62e3360a3a1347b29eb2456939f4707b",
            "60c9f61da11a439ea48edd12ec38625d",
            "365801bdff31497db2d4394cc5676277",
            "36f23675b63840368cad6c8f1cfd731b",
            "ceccbe8a0873466bb0281b7a51085aba",
            "019d2b4367684af582c10d66e8ff6be8",
            "ec175ad65e5e4d3d8a59ac10d8f79f13",
            "9b68721affa048629f90bb241e45a2ed",
            "5c01885f684f408192f472899ef7ce39",
            "2303701c77e7402ba330e7bc18ce2e44",
            "e0afc6b15153443987cc040d492f6835",
            "b4fcafce8af44160a252da153c845169",
            "83ce53c3fd5e4ac397964aff1101259b",
            "6511b384e10b48bfa84c33f25a685410",
            "d49496aaa67045c78899e007a43bb904",
            "df49c56d18764910938c12596923a025",
            "19ebb9a69aec47fcb8ab1d682fbb2ef7",
            "03ee8d18b36a43b1bf96e6c3117c8765",
            "aa9b93b8864a496883b777a856cbeeaa",
            "f710856c889741349d7f9041c882edfc",
            "9df2a02c4ce347e989033e9c19540957",
            "c7c71c2b4f884b4c9970c90ef7a95de5",
            "e1ab4170f6d54cf1a794d06874bb5d29",
            "0170ec8478074a8dab063c671eb97ba4",
            "f876e23586c249ad9da7e83bc351394c",
            "2e27d6e28c00420ba1b0afa1275082d5",
            "3a732a371f34407fa3f8f04380c2d3d3",
            "df691323845c4851ab352e9c7fe334bc",
            "e81e4ff645484612957a2304928505be",
            "1b48325379a04bb1b654fbaf31e9ec3e",
            "95220a05ab73417fb1ab05d8120cc519",
            "7af7012f54174f7ab12eec6348689d4f",
            "0fcbbbb872c649c1b20f21dcb7ca5bc2",
            "5a6c4c3ad1da4a9d8e655d9e7d93b35d",
            "e159cf933e0143ba8e50eb6a421716fe",
            "a807344afbd440b89298329cd84f7067",
            "fa1de49126fa41efb935a2814a09ca96",
            "198397b1ce754b409ad078410d1c8035",
            "bed6808ce7614c4da0e658de962df189",
            "1bc1c6ad55854682b761a330356211d6",
            "bc9472941a90467c94515cdfd89fd0e2",
            "5fca700453bc423297308cccb30fc696",
            "0a61a2dd93ff44268cfef423343c28ff",
            "75b741c441da4a2caaad581fcf412e93",
            "fe39cf2cf31e4646a06613556c69b011",
            "38679f07ad674518a744d6456709e915",
            "f3e05bb389c04844ac4997e7cc3a3bb4",
            "cea1ddae90e943b18fe3d1916d31362c",
            "63cb0b422e164a979a9b3a51182bc353",
            "d93d1cbb943d42208c34904c0db5f814",
            "e864d1384dd0407e81d6e6452233aa81",
            "94959432d31f4e629fd592fcc7716c97",
            "44e925e0ce3346c7973bbec89bd27416",
            "5085e65d3b444a8bbb07283fb564bccf",
            "7208c747314c41da9c6315889c21b3ed",
            "6bf649c6df5a4773a7cf8b6fa6db293f",
            "03275024237a41ff945969a308f5096d",
            "115fb5e45eb840a6bcbc7bbd6e4b20fb",
            "037751600e594af1872652b3db89b842",
            "7510284d083745b2937304925d673ac6",
            "731e71b2336a4632a28bd82a25de4600",
            "b43450b82b674d0896e0b6dcde836c24",
            "b4f95795107746a28688ef351c6e9398",
            "7bc071c0e90d43b7b9b66e26770b4005",
            "95c09eb12f254fe7a3950ee04ab07225",
            "ba3b3a524f3b48ee835876a3fc095a37",
            "95cc1f3c5e2a451ea9c9683bca91e9a9",
            "8c498f1951e141bb9296b62f034c4c20",
            "0fe453dac5c44b5fa19d46c0f912eb90",
            "f45b2b62946b4b7aaa4655e467336a58",
            "1c4e1fceefc14db49be887e7bce7f505",
            "76f5f595a7024f7286cf712eb95363a0",
            "f66b5189f219475f813078d2c1914ce0",
            "cf6642b932fa41eaa0f71525de6f7446",
            "f6fbc473504c4af78d5070efe454befa",
            "a352c7c0953b4044ab607a2e649de098",
            "dea4c297e666419cacde1cac0540232b",
            "7e0ecb741f6047e9bfb3cc2a1c749869",
            "dc2ca48d71544df690025469c92c8dbd",
            "3bac936ce6e14c6c8f25c75a0d40409b",
            "0901f8e234d749748bf5712293286408",
            "1bad455e0e264fdf840abd1e3e009bf7",
            "b22b63d2aebd4563bcbdd091379fdb87",
            "1e2d7a9d13a94829b868c034a59ba039",
            "683e4d38c3f54338824b63009d5c7822",
            "e505cfcd7ff048318da0093636e86777",
            "017b0c11f581452c94f0175025d8cce9",
            "32931406951e40d29388f27927982d15",
            "aecf55838a9841e68e5789f2778a4b83",
            "2f5573f9f7bb454ca08ea677cb5fabe0",
            "c0acd343d6ba404bb45aa6ceced9f574",
            "fe362cc9ab3c46c78139a4d4341ef197",
            "ff8ede438539475d8011cfe811030633",
            "3d5ba303471e41fcafe475989fd60df5",
            "75851c9b4eb545658de6c143615a0716",
            "ca5b221d2c0848dbb7e6ee29db2d9186",
            "b0aaa621023146c88f123e8e409bb60b",
            "4b3807ad067a42be987ad7949ad2a0f9",
            "16917dc547f145568e7b78af7f802c3b",
            "839f9ac810484b24bdd76497ac0f2566",
            "7fa587a1dbce47eba20e1866335681a0"
          ]
        },
        "id": "MFq-fyUjzZ0F",
        "outputId": "cd19019b-0b17-4bf8-9d5c-ad4616a2baa4"
      },
      "outputs": [
        {
          "name": "stderr",
          "output_type": "stream",
          "text": [
            "\u001b[34m\u001b[1mwandb\u001b[0m: Agent Starting Run: b46rkhmc with config:\n",
            "\u001b[34m\u001b[1mwandb\u001b[0m: \tclip: 50\n",
            "\u001b[34m\u001b[1mwandb\u001b[0m: \tdecoder_learning_ratio: 3\n",
            "\u001b[34m\u001b[1mwandb\u001b[0m: \tlr: 0.00025\n",
            "\u001b[34m\u001b[1mwandb\u001b[0m: \toptimizer: adam\n",
            "\u001b[34m\u001b[1mwandb\u001b[0m: \tteacher_forcing_ratio: 1\n"
          ]
        },
        {
          "data": {
            "text/html": [
              "Tracking run with wandb version 0.15.12"
            ],
            "text/plain": [
              "<IPython.core.display.HTML object>"
            ]
          },
          "metadata": {},
          "output_type": "display_data"
        },
        {
          "data": {
            "text/html": [
              "Run data is saved locally in <code>/content/wandb/run-20231106_221409-b46rkhmc</code>"
            ],
            "text/plain": [
              "<IPython.core.display.HTML object>"
            ]
          },
          "metadata": {},
          "output_type": "display_data"
        },
        {
          "data": {
            "text/html": [
              "Syncing run <strong><a href='https://wandb.ai/amanichopra/chatbot-sweep/runs/b46rkhmc' target=\"_blank\">azure-sweep-1</a></strong> to <a href='https://wandb.ai/amanichopra/chatbot-sweep' target=\"_blank\">Weights & Biases</a> (<a href='https://wandb.me/run' target=\"_blank\">docs</a>)<br/>Sweep page: <a href='https://wandb.ai/amanichopra/chatbot-sweep/sweeps/d8cpqpj5' target=\"_blank\">https://wandb.ai/amanichopra/chatbot-sweep/sweeps/d8cpqpj5</a>"
            ],
            "text/plain": [
              "<IPython.core.display.HTML object>"
            ]
          },
          "metadata": {},
          "output_type": "display_data"
        },
        {
          "data": {
            "text/html": [
              " View project at <a href='https://wandb.ai/amanichopra/chatbot-sweep' target=\"_blank\">https://wandb.ai/amanichopra/chatbot-sweep</a>"
            ],
            "text/plain": [
              "<IPython.core.display.HTML object>"
            ]
          },
          "metadata": {},
          "output_type": "display_data"
        },
        {
          "data": {
            "text/html": [
              " View sweep at <a href='https://wandb.ai/amanichopra/chatbot-sweep/sweeps/d8cpqpj5' target=\"_blank\">https://wandb.ai/amanichopra/chatbot-sweep/sweeps/d8cpqpj5</a>"
            ],
            "text/plain": [
              "<IPython.core.display.HTML object>"
            ]
          },
          "metadata": {},
          "output_type": "display_data"
        },
        {
          "data": {
            "text/html": [
              " View run at <a href='https://wandb.ai/amanichopra/chatbot-sweep/runs/b46rkhmc' target=\"_blank\">https://wandb.ai/amanichopra/chatbot-sweep/runs/b46rkhmc</a>"
            ],
            "text/plain": [
              "<IPython.core.display.HTML object>"
            ]
          },
          "metadata": {},
          "output_type": "display_data"
        },
        {
          "name": "stdout",
          "output_type": "stream",
          "text": [
            "Initializing ...\n",
            "Training...\n"
          ]
        },
        {
          "data": {
            "text/html": [
              "Waiting for W&B process to finish... <strong style=\"color:green\">(success).</strong>"
            ],
            "text/plain": [
              "<IPython.core.display.HTML object>"
            ]
          },
          "metadata": {},
          "output_type": "display_data"
        },
        {
          "data": {
            "application/vnd.jupyter.widget-view+json": {
              "model_id": "9aff715e491b429d8fecf1c7523689d5",
              "version_major": 2,
              "version_minor": 0
            },
            "text/plain": [
              "VBox(children=(Label(value='0.001 MB of 0.001 MB uploaded (0.000 MB deduped)\\r'), FloatProgress(value=1.0, max…"
            ]
          },
          "metadata": {},
          "output_type": "display_data"
        },
        {
          "data": {
            "text/html": [
              "<style>\n",
              "    table.wandb td:nth-child(1) { padding: 0 10px; text-align: left ; width: auto;} td:nth-child(2) {text-align: left ; width: 100%}\n",
              "    .wandb-row { display: flex; flex-direction: row; flex-wrap: wrap; justify-content: flex-start; width: 100% }\n",
              "    .wandb-col { display: flex; flex-direction: column; flex-basis: 100%; flex: 1; padding: 10px; }\n",
              "    </style>\n",
              "<div class=\"wandb-row\"><div class=\"wandb-col\"><h3>Run history:</h3><br/><table class=\"wandb\"><tr><td>iter</td><td>▁▁▁▂▂▂▂▂▂▃▃▃▃▃▄▄▄▄▄▄▅▅▅▅▅▅▆▆▆▆▆▇▇▇▇▇▇███</td></tr><tr><td>loss</td><td>█▇▇▇▇▇▆▆▅▆▅▄▆▄▆▆▅▄▅▄▅▃▄▃▄▄▃▂▂▃▁▂▂▁▁▂▂▁▁▁</td></tr></table><br/></div><div class=\"wandb-col\"><h3>Run summary:</h3><br/><table class=\"wandb\"><tr><td>iter</td><td>4000</td></tr><tr><td>loss</td><td>1.52555</td></tr></table><br/></div></div>"
            ],
            "text/plain": [
              "<IPython.core.display.HTML object>"
            ]
          },
          "metadata": {},
          "output_type": "display_data"
        },
        {
          "data": {
            "text/html": [
              " View run <strong style=\"color:#cdcd00\">azure-sweep-1</strong> at: <a href='https://wandb.ai/amanichopra/chatbot-sweep/runs/b46rkhmc' target=\"_blank\">https://wandb.ai/amanichopra/chatbot-sweep/runs/b46rkhmc</a><br/>Synced 5 W&B file(s), 0 media file(s), 0 artifact file(s) and 0 other file(s)"
            ],
            "text/plain": [
              "<IPython.core.display.HTML object>"
            ]
          },
          "metadata": {},
          "output_type": "display_data"
        },
        {
          "data": {
            "text/html": [
              "Find logs at: <code>./wandb/run-20231106_221409-b46rkhmc/logs</code>"
            ],
            "text/plain": [
              "<IPython.core.display.HTML object>"
            ]
          },
          "metadata": {},
          "output_type": "display_data"
        },
        {
          "name": "stderr",
          "output_type": "stream",
          "text": [
            "\u001b[34m\u001b[1mwandb\u001b[0m: Agent Starting Run: kpqiuivi with config:\n",
            "\u001b[34m\u001b[1mwandb\u001b[0m: \tclip: 0\n",
            "\u001b[34m\u001b[1mwandb\u001b[0m: \tdecoder_learning_ratio: 3\n",
            "\u001b[34m\u001b[1mwandb\u001b[0m: \tlr: 0.0001\n",
            "\u001b[34m\u001b[1mwandb\u001b[0m: \toptimizer: sgd\n",
            "\u001b[34m\u001b[1mwandb\u001b[0m: \tteacher_forcing_ratio: 0.5\n"
          ]
        },
        {
          "data": {
            "text/html": [
              "Tracking run with wandb version 0.15.12"
            ],
            "text/plain": [
              "<IPython.core.display.HTML object>"
            ]
          },
          "metadata": {},
          "output_type": "display_data"
        },
        {
          "data": {
            "text/html": [
              "Run data is saved locally in <code>/content/wandb/run-20231106_221728-kpqiuivi</code>"
            ],
            "text/plain": [
              "<IPython.core.display.HTML object>"
            ]
          },
          "metadata": {},
          "output_type": "display_data"
        },
        {
          "data": {
            "text/html": [
              "Syncing run <strong><a href='https://wandb.ai/amanichopra/chatbot-sweep/runs/kpqiuivi' target=\"_blank\">dandy-sweep-2</a></strong> to <a href='https://wandb.ai/amanichopra/chatbot-sweep' target=\"_blank\">Weights & Biases</a> (<a href='https://wandb.me/run' target=\"_blank\">docs</a>)<br/>Sweep page: <a href='https://wandb.ai/amanichopra/chatbot-sweep/sweeps/d8cpqpj5' target=\"_blank\">https://wandb.ai/amanichopra/chatbot-sweep/sweeps/d8cpqpj5</a>"
            ],
            "text/plain": [
              "<IPython.core.display.HTML object>"
            ]
          },
          "metadata": {},
          "output_type": "display_data"
        },
        {
          "data": {
            "text/html": [
              " View project at <a href='https://wandb.ai/amanichopra/chatbot-sweep' target=\"_blank\">https://wandb.ai/amanichopra/chatbot-sweep</a>"
            ],
            "text/plain": [
              "<IPython.core.display.HTML object>"
            ]
          },
          "metadata": {},
          "output_type": "display_data"
        },
        {
          "data": {
            "text/html": [
              " View sweep at <a href='https://wandb.ai/amanichopra/chatbot-sweep/sweeps/d8cpqpj5' target=\"_blank\">https://wandb.ai/amanichopra/chatbot-sweep/sweeps/d8cpqpj5</a>"
            ],
            "text/plain": [
              "<IPython.core.display.HTML object>"
            ]
          },
          "metadata": {},
          "output_type": "display_data"
        },
        {
          "data": {
            "text/html": [
              " View run at <a href='https://wandb.ai/amanichopra/chatbot-sweep/runs/kpqiuivi' target=\"_blank\">https://wandb.ai/amanichopra/chatbot-sweep/runs/kpqiuivi</a>"
            ],
            "text/plain": [
              "<IPython.core.display.HTML object>"
            ]
          },
          "metadata": {},
          "output_type": "display_data"
        },
        {
          "name": "stdout",
          "output_type": "stream",
          "text": [
            "Initializing ...\n",
            "Training...\n"
          ]
        },
        {
          "data": {
            "text/html": [
              "Waiting for W&B process to finish... <strong style=\"color:green\">(success).</strong>"
            ],
            "text/plain": [
              "<IPython.core.display.HTML object>"
            ]
          },
          "metadata": {},
          "output_type": "display_data"
        },
        {
          "data": {
            "application/vnd.jupyter.widget-view+json": {
              "model_id": "5eb75c48dbbb45cca47b1cbdf39b4192",
              "version_major": 2,
              "version_minor": 0
            },
            "text/plain": [
              "VBox(children=(Label(value='0.001 MB of 0.001 MB uploaded (0.000 MB deduped)\\r'), FloatProgress(value=1.0, max…"
            ]
          },
          "metadata": {},
          "output_type": "display_data"
        },
        {
          "data": {
            "text/html": [
              "<style>\n",
              "    table.wandb td:nth-child(1) { padding: 0 10px; text-align: left ; width: auto;} td:nth-child(2) {text-align: left ; width: 100%}\n",
              "    .wandb-row { display: flex; flex-direction: row; flex-wrap: wrap; justify-content: flex-start; width: 100% }\n",
              "    .wandb-col { display: flex; flex-direction: column; flex-basis: 100%; flex: 1; padding: 10px; }\n",
              "    </style>\n",
              "<div class=\"wandb-row\"><div class=\"wandb-col\"><h3>Run history:</h3><br/><table class=\"wandb\"><tr><td>iter</td><td>▁▁▁▂▂▂▂▂▂▃▃▃▃▃▄▄▄▄▄▄▅▅▅▅▅▅▆▆▆▆▆▇▇▇▇▇▇███</td></tr><tr><td>loss</td><td>▁▇█▇▁▇█▁▁█▁▇▁▁▁▂▁██▁█▆█▇▇▁▁▁██▆▇▁▁▇█▂▇▁▁</td></tr></table><br/></div><div class=\"wandb-col\"><h3>Run summary:</h3><br/><table class=\"wandb\"><tr><td>iter</td><td>4000</td></tr><tr><td>loss</td><td>1.55913</td></tr></table><br/></div></div>"
            ],
            "text/plain": [
              "<IPython.core.display.HTML object>"
            ]
          },
          "metadata": {},
          "output_type": "display_data"
        },
        {
          "data": {
            "text/html": [
              " View run <strong style=\"color:#cdcd00\">dandy-sweep-2</strong> at: <a href='https://wandb.ai/amanichopra/chatbot-sweep/runs/kpqiuivi' target=\"_blank\">https://wandb.ai/amanichopra/chatbot-sweep/runs/kpqiuivi</a><br/>Synced 5 W&B file(s), 0 media file(s), 0 artifact file(s) and 0 other file(s)"
            ],
            "text/plain": [
              "<IPython.core.display.HTML object>"
            ]
          },
          "metadata": {},
          "output_type": "display_data"
        },
        {
          "data": {
            "text/html": [
              "Find logs at: <code>./wandb/run-20231106_221728-kpqiuivi/logs</code>"
            ],
            "text/plain": [
              "<IPython.core.display.HTML object>"
            ]
          },
          "metadata": {},
          "output_type": "display_data"
        },
        {
          "name": "stderr",
          "output_type": "stream",
          "text": [
            "\u001b[34m\u001b[1mwandb\u001b[0m: Agent Starting Run: 7z4k5mum with config:\n",
            "\u001b[34m\u001b[1mwandb\u001b[0m: \tclip: 100\n",
            "\u001b[34m\u001b[1mwandb\u001b[0m: \tdecoder_learning_ratio: 5\n",
            "\u001b[34m\u001b[1mwandb\u001b[0m: \tlr: 0.0001\n",
            "\u001b[34m\u001b[1mwandb\u001b[0m: \toptimizer: sgd\n",
            "\u001b[34m\u001b[1mwandb\u001b[0m: \tteacher_forcing_ratio: 0\n"
          ]
        },
        {
          "data": {
            "text/html": [
              "Tracking run with wandb version 0.15.12"
            ],
            "text/plain": [
              "<IPython.core.display.HTML object>"
            ]
          },
          "metadata": {},
          "output_type": "display_data"
        },
        {
          "data": {
            "text/html": [
              "Run data is saved locally in <code>/content/wandb/run-20231106_222047-7z4k5mum</code>"
            ],
            "text/plain": [
              "<IPython.core.display.HTML object>"
            ]
          },
          "metadata": {},
          "output_type": "display_data"
        },
        {
          "data": {
            "text/html": [
              "Syncing run <strong><a href='https://wandb.ai/amanichopra/chatbot-sweep/runs/7z4k5mum' target=\"_blank\">dulcet-sweep-3</a></strong> to <a href='https://wandb.ai/amanichopra/chatbot-sweep' target=\"_blank\">Weights & Biases</a> (<a href='https://wandb.me/run' target=\"_blank\">docs</a>)<br/>Sweep page: <a href='https://wandb.ai/amanichopra/chatbot-sweep/sweeps/d8cpqpj5' target=\"_blank\">https://wandb.ai/amanichopra/chatbot-sweep/sweeps/d8cpqpj5</a>"
            ],
            "text/plain": [
              "<IPython.core.display.HTML object>"
            ]
          },
          "metadata": {},
          "output_type": "display_data"
        },
        {
          "data": {
            "text/html": [
              " View project at <a href='https://wandb.ai/amanichopra/chatbot-sweep' target=\"_blank\">https://wandb.ai/amanichopra/chatbot-sweep</a>"
            ],
            "text/plain": [
              "<IPython.core.display.HTML object>"
            ]
          },
          "metadata": {},
          "output_type": "display_data"
        },
        {
          "data": {
            "text/html": [
              " View sweep at <a href='https://wandb.ai/amanichopra/chatbot-sweep/sweeps/d8cpqpj5' target=\"_blank\">https://wandb.ai/amanichopra/chatbot-sweep/sweeps/d8cpqpj5</a>"
            ],
            "text/plain": [
              "<IPython.core.display.HTML object>"
            ]
          },
          "metadata": {},
          "output_type": "display_data"
        },
        {
          "data": {
            "text/html": [
              " View run at <a href='https://wandb.ai/amanichopra/chatbot-sweep/runs/7z4k5mum' target=\"_blank\">https://wandb.ai/amanichopra/chatbot-sweep/runs/7z4k5mum</a>"
            ],
            "text/plain": [
              "<IPython.core.display.HTML object>"
            ]
          },
          "metadata": {},
          "output_type": "display_data"
        },
        {
          "name": "stdout",
          "output_type": "stream",
          "text": [
            "Initializing ...\n",
            "Training...\n"
          ]
        },
        {
          "data": {
            "text/html": [
              "Waiting for W&B process to finish... <strong style=\"color:green\">(success).</strong>"
            ],
            "text/plain": [
              "<IPython.core.display.HTML object>"
            ]
          },
          "metadata": {},
          "output_type": "display_data"
        },
        {
          "data": {
            "text/html": [
              "<style>\n",
              "    table.wandb td:nth-child(1) { padding: 0 10px; text-align: left ; width: auto;} td:nth-child(2) {text-align: left ; width: 100%}\n",
              "    .wandb-row { display: flex; flex-direction: row; flex-wrap: wrap; justify-content: flex-start; width: 100% }\n",
              "    .wandb-col { display: flex; flex-direction: column; flex-basis: 100%; flex: 1; padding: 10px; }\n",
              "    </style>\n",
              "<div class=\"wandb-row\"><div class=\"wandb-col\"><h3>Run history:</h3><br/><table class=\"wandb\"><tr><td>iter</td><td>▁▁▁▂▂▂▂▂▂▃▃▃▃▃▄▄▄▄▄▄▅▅▅▅▅▅▆▆▆▆▆▇▇▇▇▇▇███</td></tr><tr><td>loss</td><td>▆▆▆▆█▆█▄▅▅▄▅▃▄▄▅▃▃▃▃▂▅▃▁▅▃▅▅▄▁▃▂▃▂▃▁▁▂▄▄</td></tr></table><br/></div><div class=\"wandb-col\"><h3>Run summary:</h3><br/><table class=\"wandb\"><tr><td>iter</td><td>4000</td></tr><tr><td>loss</td><td>4.21109</td></tr></table><br/></div></div>"
            ],
            "text/plain": [
              "<IPython.core.display.HTML object>"
            ]
          },
          "metadata": {},
          "output_type": "display_data"
        },
        {
          "data": {
            "text/html": [
              " View run <strong style=\"color:#cdcd00\">dulcet-sweep-3</strong> at: <a href='https://wandb.ai/amanichopra/chatbot-sweep/runs/7z4k5mum' target=\"_blank\">https://wandb.ai/amanichopra/chatbot-sweep/runs/7z4k5mum</a><br/>Synced 5 W&B file(s), 0 media file(s), 0 artifact file(s) and 0 other file(s)"
            ],
            "text/plain": [
              "<IPython.core.display.HTML object>"
            ]
          },
          "metadata": {},
          "output_type": "display_data"
        },
        {
          "data": {
            "text/html": [
              "Find logs at: <code>./wandb/run-20231106_222047-7z4k5mum/logs</code>"
            ],
            "text/plain": [
              "<IPython.core.display.HTML object>"
            ]
          },
          "metadata": {},
          "output_type": "display_data"
        },
        {
          "name": "stderr",
          "output_type": "stream",
          "text": [
            "\u001b[34m\u001b[1mwandb\u001b[0m: Agent Starting Run: hn2qihua with config:\n",
            "\u001b[34m\u001b[1mwandb\u001b[0m: \tclip: 0\n",
            "\u001b[34m\u001b[1mwandb\u001b[0m: \tdecoder_learning_ratio: 3\n",
            "\u001b[34m\u001b[1mwandb\u001b[0m: \tlr: 0.00025\n",
            "\u001b[34m\u001b[1mwandb\u001b[0m: \toptimizer: adam\n",
            "\u001b[34m\u001b[1mwandb\u001b[0m: \tteacher_forcing_ratio: 1\n"
          ]
        },
        {
          "data": {
            "text/html": [
              "Tracking run with wandb version 0.15.12"
            ],
            "text/plain": [
              "<IPython.core.display.HTML object>"
            ]
          },
          "metadata": {},
          "output_type": "display_data"
        },
        {
          "data": {
            "text/html": [
              "Run data is saved locally in <code>/content/wandb/run-20231106_222426-hn2qihua</code>"
            ],
            "text/plain": [
              "<IPython.core.display.HTML object>"
            ]
          },
          "metadata": {},
          "output_type": "display_data"
        },
        {
          "data": {
            "text/html": [
              "Syncing run <strong><a href='https://wandb.ai/amanichopra/chatbot-sweep/runs/hn2qihua' target=\"_blank\">absurd-sweep-4</a></strong> to <a href='https://wandb.ai/amanichopra/chatbot-sweep' target=\"_blank\">Weights & Biases</a> (<a href='https://wandb.me/run' target=\"_blank\">docs</a>)<br/>Sweep page: <a href='https://wandb.ai/amanichopra/chatbot-sweep/sweeps/d8cpqpj5' target=\"_blank\">https://wandb.ai/amanichopra/chatbot-sweep/sweeps/d8cpqpj5</a>"
            ],
            "text/plain": [
              "<IPython.core.display.HTML object>"
            ]
          },
          "metadata": {},
          "output_type": "display_data"
        },
        {
          "data": {
            "text/html": [
              " View project at <a href='https://wandb.ai/amanichopra/chatbot-sweep' target=\"_blank\">https://wandb.ai/amanichopra/chatbot-sweep</a>"
            ],
            "text/plain": [
              "<IPython.core.display.HTML object>"
            ]
          },
          "metadata": {},
          "output_type": "display_data"
        },
        {
          "data": {
            "text/html": [
              " View sweep at <a href='https://wandb.ai/amanichopra/chatbot-sweep/sweeps/d8cpqpj5' target=\"_blank\">https://wandb.ai/amanichopra/chatbot-sweep/sweeps/d8cpqpj5</a>"
            ],
            "text/plain": [
              "<IPython.core.display.HTML object>"
            ]
          },
          "metadata": {},
          "output_type": "display_data"
        },
        {
          "data": {
            "text/html": [
              " View run at <a href='https://wandb.ai/amanichopra/chatbot-sweep/runs/hn2qihua' target=\"_blank\">https://wandb.ai/amanichopra/chatbot-sweep/runs/hn2qihua</a>"
            ],
            "text/plain": [
              "<IPython.core.display.HTML object>"
            ]
          },
          "metadata": {},
          "output_type": "display_data"
        },
        {
          "name": "stdout",
          "output_type": "stream",
          "text": [
            "Initializing ...\n",
            "Training...\n"
          ]
        },
        {
          "data": {
            "text/html": [
              "Waiting for W&B process to finish... <strong style=\"color:green\">(success).</strong>"
            ],
            "text/plain": [
              "<IPython.core.display.HTML object>"
            ]
          },
          "metadata": {},
          "output_type": "display_data"
        },
        {
          "data": {
            "application/vnd.jupyter.widget-view+json": {
              "model_id": "019d2b4367684af582c10d66e8ff6be8",
              "version_major": 2,
              "version_minor": 0
            },
            "text/plain": [
              "VBox(children=(Label(value='0.001 MB of 0.010 MB uploaded (0.000 MB deduped)\\r'), FloatProgress(value=0.114624…"
            ]
          },
          "metadata": {},
          "output_type": "display_data"
        },
        {
          "data": {
            "text/html": [
              "<style>\n",
              "    table.wandb td:nth-child(1) { padding: 0 10px; text-align: left ; width: auto;} td:nth-child(2) {text-align: left ; width: 100%}\n",
              "    .wandb-row { display: flex; flex-direction: row; flex-wrap: wrap; justify-content: flex-start; width: 100% }\n",
              "    .wandb-col { display: flex; flex-direction: column; flex-basis: 100%; flex: 1; padding: 10px; }\n",
              "    </style>\n",
              "<div class=\"wandb-row\"><div class=\"wandb-col\"><h3>Run history:</h3><br/><table class=\"wandb\"><tr><td>iter</td><td>▁▁▁▂▂▂▂▂▂▃▃▃▃▃▄▄▄▄▄▄▅▅▅▅▅▅▆▆▆▆▆▇▇▇▇▇▇███</td></tr><tr><td>loss</td><td>▃▅▃▇▇▅▃▂▂▃▅▄▅▆▇▇▇▄▄▄▃▇█▇▄▄▆▄▆▅▄▅▅▅▃▅▁▆▄▆</td></tr></table><br/></div><div class=\"wandb-col\"><h3>Run summary:</h3><br/><table class=\"wandb\"><tr><td>iter</td><td>4000</td></tr><tr><td>loss</td><td>1.97308</td></tr></table><br/></div></div>"
            ],
            "text/plain": [
              "<IPython.core.display.HTML object>"
            ]
          },
          "metadata": {},
          "output_type": "display_data"
        },
        {
          "data": {
            "text/html": [
              " View run <strong style=\"color:#cdcd00\">absurd-sweep-4</strong> at: <a href='https://wandb.ai/amanichopra/chatbot-sweep/runs/hn2qihua' target=\"_blank\">https://wandb.ai/amanichopra/chatbot-sweep/runs/hn2qihua</a><br/>Synced 5 W&B file(s), 0 media file(s), 0 artifact file(s) and 0 other file(s)"
            ],
            "text/plain": [
              "<IPython.core.display.HTML object>"
            ]
          },
          "metadata": {},
          "output_type": "display_data"
        },
        {
          "data": {
            "text/html": [
              "Find logs at: <code>./wandb/run-20231106_222426-hn2qihua/logs</code>"
            ],
            "text/plain": [
              "<IPython.core.display.HTML object>"
            ]
          },
          "metadata": {},
          "output_type": "display_data"
        },
        {
          "name": "stderr",
          "output_type": "stream",
          "text": [
            "\u001b[34m\u001b[1mwandb\u001b[0m: Agent Starting Run: daypfx9d with config:\n",
            "\u001b[34m\u001b[1mwandb\u001b[0m: \tclip: 100\n",
            "\u001b[34m\u001b[1mwandb\u001b[0m: \tdecoder_learning_ratio: 1\n",
            "\u001b[34m\u001b[1mwandb\u001b[0m: \tlr: 0.00025\n",
            "\u001b[34m\u001b[1mwandb\u001b[0m: \toptimizer: sgd\n",
            "\u001b[34m\u001b[1mwandb\u001b[0m: \tteacher_forcing_ratio: 1\n"
          ]
        },
        {
          "data": {
            "text/html": [
              "Tracking run with wandb version 0.15.12"
            ],
            "text/plain": [
              "<IPython.core.display.HTML object>"
            ]
          },
          "metadata": {},
          "output_type": "display_data"
        },
        {
          "data": {
            "text/html": [
              "Run data is saved locally in <code>/content/wandb/run-20231106_222747-daypfx9d</code>"
            ],
            "text/plain": [
              "<IPython.core.display.HTML object>"
            ]
          },
          "metadata": {},
          "output_type": "display_data"
        },
        {
          "data": {
            "text/html": [
              "Syncing run <strong><a href='https://wandb.ai/amanichopra/chatbot-sweep/runs/daypfx9d' target=\"_blank\">vital-sweep-5</a></strong> to <a href='https://wandb.ai/amanichopra/chatbot-sweep' target=\"_blank\">Weights & Biases</a> (<a href='https://wandb.me/run' target=\"_blank\">docs</a>)<br/>Sweep page: <a href='https://wandb.ai/amanichopra/chatbot-sweep/sweeps/d8cpqpj5' target=\"_blank\">https://wandb.ai/amanichopra/chatbot-sweep/sweeps/d8cpqpj5</a>"
            ],
            "text/plain": [
              "<IPython.core.display.HTML object>"
            ]
          },
          "metadata": {},
          "output_type": "display_data"
        },
        {
          "data": {
            "text/html": [
              " View project at <a href='https://wandb.ai/amanichopra/chatbot-sweep' target=\"_blank\">https://wandb.ai/amanichopra/chatbot-sweep</a>"
            ],
            "text/plain": [
              "<IPython.core.display.HTML object>"
            ]
          },
          "metadata": {},
          "output_type": "display_data"
        },
        {
          "data": {
            "text/html": [
              " View sweep at <a href='https://wandb.ai/amanichopra/chatbot-sweep/sweeps/d8cpqpj5' target=\"_blank\">https://wandb.ai/amanichopra/chatbot-sweep/sweeps/d8cpqpj5</a>"
            ],
            "text/plain": [
              "<IPython.core.display.HTML object>"
            ]
          },
          "metadata": {},
          "output_type": "display_data"
        },
        {
          "data": {
            "text/html": [
              " View run at <a href='https://wandb.ai/amanichopra/chatbot-sweep/runs/daypfx9d' target=\"_blank\">https://wandb.ai/amanichopra/chatbot-sweep/runs/daypfx9d</a>"
            ],
            "text/plain": [
              "<IPython.core.display.HTML object>"
            ]
          },
          "metadata": {},
          "output_type": "display_data"
        },
        {
          "name": "stdout",
          "output_type": "stream",
          "text": [
            "Initializing ...\n",
            "Training...\n"
          ]
        },
        {
          "data": {
            "text/html": [
              "Waiting for W&B process to finish... <strong style=\"color:green\">(success).</strong>"
            ],
            "text/plain": [
              "<IPython.core.display.HTML object>"
            ]
          },
          "metadata": {},
          "output_type": "display_data"
        },
        {
          "data": {
            "text/html": [
              "<style>\n",
              "    table.wandb td:nth-child(1) { padding: 0 10px; text-align: left ; width: auto;} td:nth-child(2) {text-align: left ; width: 100%}\n",
              "    .wandb-row { display: flex; flex-direction: row; flex-wrap: wrap; justify-content: flex-start; width: 100% }\n",
              "    .wandb-col { display: flex; flex-direction: column; flex-basis: 100%; flex: 1; padding: 10px; }\n",
              "    </style>\n",
              "<div class=\"wandb-row\"><div class=\"wandb-col\"><h3>Run history:</h3><br/><table class=\"wandb\"><tr><td>iter</td><td>▁▁▁▂▂▂▂▂▂▃▃▃▃▃▄▄▄▄▄▄▅▅▅▅▅▅▆▆▆▆▆▇▇▇▇▇▇███</td></tr><tr><td>loss</td><td>▇▇▃█▄▄▄▄▄▅▅▆▂▁▃▂▂▄▃▄▂▄▅▅▃▂▃▄▃▅▃▅▃▃▆▂▃▄▄▃</td></tr></table><br/></div><div class=\"wandb-col\"><h3>Run summary:</h3><br/><table class=\"wandb\"><tr><td>iter</td><td>4000</td></tr><tr><td>loss</td><td>1.46128</td></tr></table><br/></div></div>"
            ],
            "text/plain": [
              "<IPython.core.display.HTML object>"
            ]
          },
          "metadata": {},
          "output_type": "display_data"
        },
        {
          "data": {
            "text/html": [
              " View run <strong style=\"color:#cdcd00\">vital-sweep-5</strong> at: <a href='https://wandb.ai/amanichopra/chatbot-sweep/runs/daypfx9d' target=\"_blank\">https://wandb.ai/amanichopra/chatbot-sweep/runs/daypfx9d</a><br/>Synced 5 W&B file(s), 0 media file(s), 0 artifact file(s) and 0 other file(s)"
            ],
            "text/plain": [
              "<IPython.core.display.HTML object>"
            ]
          },
          "metadata": {},
          "output_type": "display_data"
        },
        {
          "data": {
            "text/html": [
              "Find logs at: <code>./wandb/run-20231106_222747-daypfx9d/logs</code>"
            ],
            "text/plain": [
              "<IPython.core.display.HTML object>"
            ]
          },
          "metadata": {},
          "output_type": "display_data"
        },
        {
          "name": "stderr",
          "output_type": "stream",
          "text": [
            "\u001b[34m\u001b[1mwandb\u001b[0m: Agent Starting Run: 7ujdktfa with config:\n",
            "\u001b[34m\u001b[1mwandb\u001b[0m: \tclip: 0\n",
            "\u001b[34m\u001b[1mwandb\u001b[0m: \tdecoder_learning_ratio: 10\n",
            "\u001b[34m\u001b[1mwandb\u001b[0m: \tlr: 0.0001\n",
            "\u001b[34m\u001b[1mwandb\u001b[0m: \toptimizer: sgd\n",
            "\u001b[34m\u001b[1mwandb\u001b[0m: \tteacher_forcing_ratio: 0\n"
          ]
        },
        {
          "data": {
            "text/html": [
              "Tracking run with wandb version 0.15.12"
            ],
            "text/plain": [
              "<IPython.core.display.HTML object>"
            ]
          },
          "metadata": {},
          "output_type": "display_data"
        },
        {
          "data": {
            "text/html": [
              "Run data is saved locally in <code>/content/wandb/run-20231106_223045-7ujdktfa</code>"
            ],
            "text/plain": [
              "<IPython.core.display.HTML object>"
            ]
          },
          "metadata": {},
          "output_type": "display_data"
        },
        {
          "data": {
            "text/html": [
              "Syncing run <strong><a href='https://wandb.ai/amanichopra/chatbot-sweep/runs/7ujdktfa' target=\"_blank\">fanciful-sweep-6</a></strong> to <a href='https://wandb.ai/amanichopra/chatbot-sweep' target=\"_blank\">Weights & Biases</a> (<a href='https://wandb.me/run' target=\"_blank\">docs</a>)<br/>Sweep page: <a href='https://wandb.ai/amanichopra/chatbot-sweep/sweeps/d8cpqpj5' target=\"_blank\">https://wandb.ai/amanichopra/chatbot-sweep/sweeps/d8cpqpj5</a>"
            ],
            "text/plain": [
              "<IPython.core.display.HTML object>"
            ]
          },
          "metadata": {},
          "output_type": "display_data"
        },
        {
          "data": {
            "text/html": [
              " View project at <a href='https://wandb.ai/amanichopra/chatbot-sweep' target=\"_blank\">https://wandb.ai/amanichopra/chatbot-sweep</a>"
            ],
            "text/plain": [
              "<IPython.core.display.HTML object>"
            ]
          },
          "metadata": {},
          "output_type": "display_data"
        },
        {
          "data": {
            "text/html": [
              " View sweep at <a href='https://wandb.ai/amanichopra/chatbot-sweep/sweeps/d8cpqpj5' target=\"_blank\">https://wandb.ai/amanichopra/chatbot-sweep/sweeps/d8cpqpj5</a>"
            ],
            "text/plain": [
              "<IPython.core.display.HTML object>"
            ]
          },
          "metadata": {},
          "output_type": "display_data"
        },
        {
          "data": {
            "text/html": [
              " View run at <a href='https://wandb.ai/amanichopra/chatbot-sweep/runs/7ujdktfa' target=\"_blank\">https://wandb.ai/amanichopra/chatbot-sweep/runs/7ujdktfa</a>"
            ],
            "text/plain": [
              "<IPython.core.display.HTML object>"
            ]
          },
          "metadata": {},
          "output_type": "display_data"
        },
        {
          "name": "stdout",
          "output_type": "stream",
          "text": [
            "Initializing ...\n",
            "Training...\n"
          ]
        },
        {
          "data": {
            "text/html": [
              "Waiting for W&B process to finish... <strong style=\"color:green\">(success).</strong>"
            ],
            "text/plain": [
              "<IPython.core.display.HTML object>"
            ]
          },
          "metadata": {},
          "output_type": "display_data"
        },
        {
          "data": {
            "application/vnd.jupyter.widget-view+json": {
              "model_id": "6511b384e10b48bfa84c33f25a685410",
              "version_major": 2,
              "version_minor": 0
            },
            "text/plain": [
              "VBox(children=(Label(value='0.001 MB of 0.001 MB uploaded (0.000 MB deduped)\\r'), FloatProgress(value=1.0, max…"
            ]
          },
          "metadata": {},
          "output_type": "display_data"
        },
        {
          "data": {
            "text/html": [
              "<style>\n",
              "    table.wandb td:nth-child(1) { padding: 0 10px; text-align: left ; width: auto;} td:nth-child(2) {text-align: left ; width: 100%}\n",
              "    .wandb-row { display: flex; flex-direction: row; flex-wrap: wrap; justify-content: flex-start; width: 100% }\n",
              "    .wandb-col { display: flex; flex-direction: column; flex-basis: 100%; flex: 1; padding: 10px; }\n",
              "    </style>\n",
              "<div class=\"wandb-row\"><div class=\"wandb-col\"><h3>Run history:</h3><br/><table class=\"wandb\"><tr><td>iter</td><td>▁▁▁▂▂▂▂▂▂▃▃▃▃▃▄▄▄▄▄▄▅▅▅▅▅▅▆▆▆▆▆▇▇▇▇▇▇███</td></tr><tr><td>loss</td><td>▃▄▄▄▁▆▂▃▇▇▇▅▆▃▆▆▇▂▂▆▂▆▆▆▂▄▄▅▅▆▆█▅▁▅▂▅▆▅▅</td></tr></table><br/></div><div class=\"wandb-col\"><h3>Run summary:</h3><br/><table class=\"wandb\"><tr><td>iter</td><td>4000</td></tr><tr><td>loss</td><td>4.7246</td></tr></table><br/></div></div>"
            ],
            "text/plain": [
              "<IPython.core.display.HTML object>"
            ]
          },
          "metadata": {},
          "output_type": "display_data"
        },
        {
          "data": {
            "text/html": [
              " View run <strong style=\"color:#cdcd00\">fanciful-sweep-6</strong> at: <a href='https://wandb.ai/amanichopra/chatbot-sweep/runs/7ujdktfa' target=\"_blank\">https://wandb.ai/amanichopra/chatbot-sweep/runs/7ujdktfa</a><br/>Synced 5 W&B file(s), 0 media file(s), 0 artifact file(s) and 0 other file(s)"
            ],
            "text/plain": [
              "<IPython.core.display.HTML object>"
            ]
          },
          "metadata": {},
          "output_type": "display_data"
        },
        {
          "data": {
            "text/html": [
              "Find logs at: <code>./wandb/run-20231106_223045-7ujdktfa/logs</code>"
            ],
            "text/plain": [
              "<IPython.core.display.HTML object>"
            ]
          },
          "metadata": {},
          "output_type": "display_data"
        },
        {
          "name": "stderr",
          "output_type": "stream",
          "text": [
            "\u001b[34m\u001b[1mwandb\u001b[0m: Agent Starting Run: rpj2ia62 with config:\n",
            "\u001b[34m\u001b[1mwandb\u001b[0m: \tclip: 0\n",
            "\u001b[34m\u001b[1mwandb\u001b[0m: \tdecoder_learning_ratio: 1\n",
            "\u001b[34m\u001b[1mwandb\u001b[0m: \tlr: 0.001\n",
            "\u001b[34m\u001b[1mwandb\u001b[0m: \toptimizer: adam\n",
            "\u001b[34m\u001b[1mwandb\u001b[0m: \tteacher_forcing_ratio: 0.5\n"
          ]
        },
        {
          "data": {
            "text/html": [
              "Tracking run with wandb version 0.15.12"
            ],
            "text/plain": [
              "<IPython.core.display.HTML object>"
            ]
          },
          "metadata": {},
          "output_type": "display_data"
        },
        {
          "data": {
            "text/html": [
              "Run data is saved locally in <code>/content/wandb/run-20231106_223425-rpj2ia62</code>"
            ],
            "text/plain": [
              "<IPython.core.display.HTML object>"
            ]
          },
          "metadata": {},
          "output_type": "display_data"
        },
        {
          "data": {
            "text/html": [
              "Syncing run <strong><a href='https://wandb.ai/amanichopra/chatbot-sweep/runs/rpj2ia62' target=\"_blank\">bright-sweep-7</a></strong> to <a href='https://wandb.ai/amanichopra/chatbot-sweep' target=\"_blank\">Weights & Biases</a> (<a href='https://wandb.me/run' target=\"_blank\">docs</a>)<br/>Sweep page: <a href='https://wandb.ai/amanichopra/chatbot-sweep/sweeps/d8cpqpj5' target=\"_blank\">https://wandb.ai/amanichopra/chatbot-sweep/sweeps/d8cpqpj5</a>"
            ],
            "text/plain": [
              "<IPython.core.display.HTML object>"
            ]
          },
          "metadata": {},
          "output_type": "display_data"
        },
        {
          "data": {
            "text/html": [
              " View project at <a href='https://wandb.ai/amanichopra/chatbot-sweep' target=\"_blank\">https://wandb.ai/amanichopra/chatbot-sweep</a>"
            ],
            "text/plain": [
              "<IPython.core.display.HTML object>"
            ]
          },
          "metadata": {},
          "output_type": "display_data"
        },
        {
          "data": {
            "text/html": [
              " View sweep at <a href='https://wandb.ai/amanichopra/chatbot-sweep/sweeps/d8cpqpj5' target=\"_blank\">https://wandb.ai/amanichopra/chatbot-sweep/sweeps/d8cpqpj5</a>"
            ],
            "text/plain": [
              "<IPython.core.display.HTML object>"
            ]
          },
          "metadata": {},
          "output_type": "display_data"
        },
        {
          "data": {
            "text/html": [
              " View run at <a href='https://wandb.ai/amanichopra/chatbot-sweep/runs/rpj2ia62' target=\"_blank\">https://wandb.ai/amanichopra/chatbot-sweep/runs/rpj2ia62</a>"
            ],
            "text/plain": [
              "<IPython.core.display.HTML object>"
            ]
          },
          "metadata": {},
          "output_type": "display_data"
        },
        {
          "name": "stdout",
          "output_type": "stream",
          "text": [
            "Initializing ...\n",
            "Training...\n"
          ]
        },
        {
          "data": {
            "text/html": [
              "Waiting for W&B process to finish... <strong style=\"color:green\">(success).</strong>"
            ],
            "text/plain": [
              "<IPython.core.display.HTML object>"
            ]
          },
          "metadata": {},
          "output_type": "display_data"
        },
        {
          "data": {
            "application/vnd.jupyter.widget-view+json": {
              "model_id": "c7c71c2b4f884b4c9970c90ef7a95de5",
              "version_major": 2,
              "version_minor": 0
            },
            "text/plain": [
              "VBox(children=(Label(value='0.001 MB of 0.001 MB uploaded (0.000 MB deduped)\\r'), FloatProgress(value=1.0, max…"
            ]
          },
          "metadata": {},
          "output_type": "display_data"
        },
        {
          "data": {
            "text/html": [
              "<style>\n",
              "    table.wandb td:nth-child(1) { padding: 0 10px; text-align: left ; width: auto;} td:nth-child(2) {text-align: left ; width: 100%}\n",
              "    .wandb-row { display: flex; flex-direction: row; flex-wrap: wrap; justify-content: flex-start; width: 100% }\n",
              "    .wandb-col { display: flex; flex-direction: column; flex-basis: 100%; flex: 1; padding: 10px; }\n",
              "    </style>\n",
              "<div class=\"wandb-row\"><div class=\"wandb-col\"><h3>Run history:</h3><br/><table class=\"wandb\"><tr><td>iter</td><td>▁▁▁▂▂▂▂▂▂▃▃▃▃▃▄▄▄▄▄▄▅▅▅▅▅▅▆▆▆▆▆▇▇▇▇▇▇███</td></tr><tr><td>loss</td><td>▇█▆▇▇▇▁▁▇▁▂▇▁▂▇▇▁▁▇▁▇▇█▁▁▁▇▁▁▂▆▂▁▁▁▇▇▁▆▁</td></tr></table><br/></div><div class=\"wandb-col\"><h3>Run summary:</h3><br/><table class=\"wandb\"><tr><td>iter</td><td>4000</td></tr><tr><td>loss</td><td>4.74206</td></tr></table><br/></div></div>"
            ],
            "text/plain": [
              "<IPython.core.display.HTML object>"
            ]
          },
          "metadata": {},
          "output_type": "display_data"
        },
        {
          "data": {
            "text/html": [
              " View run <strong style=\"color:#cdcd00\">bright-sweep-7</strong> at: <a href='https://wandb.ai/amanichopra/chatbot-sweep/runs/rpj2ia62' target=\"_blank\">https://wandb.ai/amanichopra/chatbot-sweep/runs/rpj2ia62</a><br/>Synced 5 W&B file(s), 0 media file(s), 0 artifact file(s) and 0 other file(s)"
            ],
            "text/plain": [
              "<IPython.core.display.HTML object>"
            ]
          },
          "metadata": {},
          "output_type": "display_data"
        },
        {
          "data": {
            "text/html": [
              "Find logs at: <code>./wandb/run-20231106_223425-rpj2ia62/logs</code>"
            ],
            "text/plain": [
              "<IPython.core.display.HTML object>"
            ]
          },
          "metadata": {},
          "output_type": "display_data"
        },
        {
          "name": "stderr",
          "output_type": "stream",
          "text": [
            "\u001b[34m\u001b[1mwandb\u001b[0m: Sweep Agent: Waiting for job.\n",
            "\u001b[34m\u001b[1mwandb\u001b[0m: Job received.\n",
            "\u001b[34m\u001b[1mwandb\u001b[0m: Agent Starting Run: 9oitu412 with config:\n",
            "\u001b[34m\u001b[1mwandb\u001b[0m: \tclip: 50\n",
            "\u001b[34m\u001b[1mwandb\u001b[0m: \tdecoder_learning_ratio: 1\n",
            "\u001b[34m\u001b[1mwandb\u001b[0m: \tlr: 0.0005\n",
            "\u001b[34m\u001b[1mwandb\u001b[0m: \toptimizer: sgd\n",
            "\u001b[34m\u001b[1mwandb\u001b[0m: \tteacher_forcing_ratio: 0.5\n"
          ]
        },
        {
          "data": {
            "text/html": [
              "Tracking run with wandb version 0.15.12"
            ],
            "text/plain": [
              "<IPython.core.display.HTML object>"
            ]
          },
          "metadata": {},
          "output_type": "display_data"
        },
        {
          "data": {
            "text/html": [
              "Run data is saved locally in <code>/content/wandb/run-20231106_223816-9oitu412</code>"
            ],
            "text/plain": [
              "<IPython.core.display.HTML object>"
            ]
          },
          "metadata": {},
          "output_type": "display_data"
        },
        {
          "data": {
            "text/html": [
              "Syncing run <strong><a href='https://wandb.ai/amanichopra/chatbot-sweep/runs/9oitu412' target=\"_blank\">ethereal-sweep-8</a></strong> to <a href='https://wandb.ai/amanichopra/chatbot-sweep' target=\"_blank\">Weights & Biases</a> (<a href='https://wandb.me/run' target=\"_blank\">docs</a>)<br/>Sweep page: <a href='https://wandb.ai/amanichopra/chatbot-sweep/sweeps/d8cpqpj5' target=\"_blank\">https://wandb.ai/amanichopra/chatbot-sweep/sweeps/d8cpqpj5</a>"
            ],
            "text/plain": [
              "<IPython.core.display.HTML object>"
            ]
          },
          "metadata": {},
          "output_type": "display_data"
        },
        {
          "data": {
            "text/html": [
              " View project at <a href='https://wandb.ai/amanichopra/chatbot-sweep' target=\"_blank\">https://wandb.ai/amanichopra/chatbot-sweep</a>"
            ],
            "text/plain": [
              "<IPython.core.display.HTML object>"
            ]
          },
          "metadata": {},
          "output_type": "display_data"
        },
        {
          "data": {
            "text/html": [
              " View sweep at <a href='https://wandb.ai/amanichopra/chatbot-sweep/sweeps/d8cpqpj5' target=\"_blank\">https://wandb.ai/amanichopra/chatbot-sweep/sweeps/d8cpqpj5</a>"
            ],
            "text/plain": [
              "<IPython.core.display.HTML object>"
            ]
          },
          "metadata": {},
          "output_type": "display_data"
        },
        {
          "data": {
            "text/html": [
              " View run at <a href='https://wandb.ai/amanichopra/chatbot-sweep/runs/9oitu412' target=\"_blank\">https://wandb.ai/amanichopra/chatbot-sweep/runs/9oitu412</a>"
            ],
            "text/plain": [
              "<IPython.core.display.HTML object>"
            ]
          },
          "metadata": {},
          "output_type": "display_data"
        },
        {
          "name": "stdout",
          "output_type": "stream",
          "text": [
            "Initializing ...\n",
            "Training...\n"
          ]
        },
        {
          "data": {
            "text/html": [
              "Waiting for W&B process to finish... <strong style=\"color:green\">(success).</strong>"
            ],
            "text/plain": [
              "<IPython.core.display.HTML object>"
            ]
          },
          "metadata": {},
          "output_type": "display_data"
        },
        {
          "data": {
            "application/vnd.jupyter.widget-view+json": {
              "model_id": "1b48325379a04bb1b654fbaf31e9ec3e",
              "version_major": 2,
              "version_minor": 0
            },
            "text/plain": [
              "VBox(children=(Label(value='0.001 MB of 0.010 MB uploaded (0.000 MB deduped)\\r'), FloatProgress(value=0.114717…"
            ]
          },
          "metadata": {},
          "output_type": "display_data"
        },
        {
          "data": {
            "text/html": [
              "<style>\n",
              "    table.wandb td:nth-child(1) { padding: 0 10px; text-align: left ; width: auto;} td:nth-child(2) {text-align: left ; width: 100%}\n",
              "    .wandb-row { display: flex; flex-direction: row; flex-wrap: wrap; justify-content: flex-start; width: 100% }\n",
              "    .wandb-col { display: flex; flex-direction: column; flex-basis: 100%; flex: 1; padding: 10px; }\n",
              "    </style>\n",
              "<div class=\"wandb-row\"><div class=\"wandb-col\"><h3>Run history:</h3><br/><table class=\"wandb\"><tr><td>iter</td><td>▁▁▁▂▂▂▂▂▂▃▃▃▃▃▄▄▄▄▄▄▅▅▅▅▅▅▆▆▆▆▆▇▇▇▇▇▇███</td></tr><tr><td>loss</td><td>█▁▇▁▁▇▁▁▁▂█▂▁▇▁▆▁▇▁▆▁▅▇▁▁▁▂▂▁▁▅▅▆▅▇▆▅▁▁▁</td></tr></table><br/></div><div class=\"wandb-col\"><h3>Run summary:</h3><br/><table class=\"wandb\"><tr><td>iter</td><td>4000</td></tr><tr><td>loss</td><td>1.57549</td></tr></table><br/></div></div>"
            ],
            "text/plain": [
              "<IPython.core.display.HTML object>"
            ]
          },
          "metadata": {},
          "output_type": "display_data"
        },
        {
          "data": {
            "text/html": [
              " View run <strong style=\"color:#cdcd00\">ethereal-sweep-8</strong> at: <a href='https://wandb.ai/amanichopra/chatbot-sweep/runs/9oitu412' target=\"_blank\">https://wandb.ai/amanichopra/chatbot-sweep/runs/9oitu412</a><br/>Synced 5 W&B file(s), 0 media file(s), 0 artifact file(s) and 0 other file(s)"
            ],
            "text/plain": [
              "<IPython.core.display.HTML object>"
            ]
          },
          "metadata": {},
          "output_type": "display_data"
        },
        {
          "data": {
            "text/html": [
              "Find logs at: <code>./wandb/run-20231106_223816-9oitu412/logs</code>"
            ],
            "text/plain": [
              "<IPython.core.display.HTML object>"
            ]
          },
          "metadata": {},
          "output_type": "display_data"
        },
        {
          "name": "stderr",
          "output_type": "stream",
          "text": [
            "\u001b[34m\u001b[1mwandb\u001b[0m: Agent Starting Run: lvvnulsz with config:\n",
            "\u001b[34m\u001b[1mwandb\u001b[0m: \tclip: 25\n",
            "\u001b[34m\u001b[1mwandb\u001b[0m: \tdecoder_learning_ratio: 3\n",
            "\u001b[34m\u001b[1mwandb\u001b[0m: \tlr: 0.001\n",
            "\u001b[34m\u001b[1mwandb\u001b[0m: \toptimizer: adam\n",
            "\u001b[34m\u001b[1mwandb\u001b[0m: \tteacher_forcing_ratio: 0\n"
          ]
        },
        {
          "data": {
            "text/html": [
              "Tracking run with wandb version 0.15.12"
            ],
            "text/plain": [
              "<IPython.core.display.HTML object>"
            ]
          },
          "metadata": {},
          "output_type": "display_data"
        },
        {
          "data": {
            "text/html": [
              "Run data is saved locally in <code>/content/wandb/run-20231106_224135-lvvnulsz</code>"
            ],
            "text/plain": [
              "<IPython.core.display.HTML object>"
            ]
          },
          "metadata": {},
          "output_type": "display_data"
        },
        {
          "data": {
            "text/html": [
              "Syncing run <strong><a href='https://wandb.ai/amanichopra/chatbot-sweep/runs/lvvnulsz' target=\"_blank\">scarlet-sweep-9</a></strong> to <a href='https://wandb.ai/amanichopra/chatbot-sweep' target=\"_blank\">Weights & Biases</a> (<a href='https://wandb.me/run' target=\"_blank\">docs</a>)<br/>Sweep page: <a href='https://wandb.ai/amanichopra/chatbot-sweep/sweeps/d8cpqpj5' target=\"_blank\">https://wandb.ai/amanichopra/chatbot-sweep/sweeps/d8cpqpj5</a>"
            ],
            "text/plain": [
              "<IPython.core.display.HTML object>"
            ]
          },
          "metadata": {},
          "output_type": "display_data"
        },
        {
          "data": {
            "text/html": [
              " View project at <a href='https://wandb.ai/amanichopra/chatbot-sweep' target=\"_blank\">https://wandb.ai/amanichopra/chatbot-sweep</a>"
            ],
            "text/plain": [
              "<IPython.core.display.HTML object>"
            ]
          },
          "metadata": {},
          "output_type": "display_data"
        },
        {
          "data": {
            "text/html": [
              " View sweep at <a href='https://wandb.ai/amanichopra/chatbot-sweep/sweeps/d8cpqpj5' target=\"_blank\">https://wandb.ai/amanichopra/chatbot-sweep/sweeps/d8cpqpj5</a>"
            ],
            "text/plain": [
              "<IPython.core.display.HTML object>"
            ]
          },
          "metadata": {},
          "output_type": "display_data"
        },
        {
          "data": {
            "text/html": [
              " View run at <a href='https://wandb.ai/amanichopra/chatbot-sweep/runs/lvvnulsz' target=\"_blank\">https://wandb.ai/amanichopra/chatbot-sweep/runs/lvvnulsz</a>"
            ],
            "text/plain": [
              "<IPython.core.display.HTML object>"
            ]
          },
          "metadata": {},
          "output_type": "display_data"
        },
        {
          "name": "stdout",
          "output_type": "stream",
          "text": [
            "Initializing ...\n",
            "Training...\n"
          ]
        },
        {
          "data": {
            "text/html": [
              "Waiting for W&B process to finish... <strong style=\"color:green\">(success).</strong>"
            ],
            "text/plain": [
              "<IPython.core.display.HTML object>"
            ]
          },
          "metadata": {},
          "output_type": "display_data"
        },
        {
          "data": {
            "application/vnd.jupyter.widget-view+json": {
              "model_id": "198397b1ce754b409ad078410d1c8035",
              "version_major": 2,
              "version_minor": 0
            },
            "text/plain": [
              "VBox(children=(Label(value='0.001 MB of 0.001 MB uploaded (0.000 MB deduped)\\r'), FloatProgress(value=0.872959…"
            ]
          },
          "metadata": {},
          "output_type": "display_data"
        },
        {
          "data": {
            "text/html": [
              "<style>\n",
              "    table.wandb td:nth-child(1) { padding: 0 10px; text-align: left ; width: auto;} td:nth-child(2) {text-align: left ; width: 100%}\n",
              "    .wandb-row { display: flex; flex-direction: row; flex-wrap: wrap; justify-content: flex-start; width: 100% }\n",
              "    .wandb-col { display: flex; flex-direction: column; flex-basis: 100%; flex: 1; padding: 10px; }\n",
              "    </style>\n",
              "<div class=\"wandb-row\"><div class=\"wandb-col\"><h3>Run history:</h3><br/><table class=\"wandb\"><tr><td>iter</td><td>▁▁▁▂▂▂▂▂▂▃▃▃▃▃▄▄▄▄▄▄▅▅▅▅▅▅▆▆▆▆▆▇▇▇▇▇▇███</td></tr><tr><td>loss</td><td>█▇▇▅▆▇▇▄▆▅▇▅▄▆▆▆▄▅▅▆▇▅▅▃▄▅▄▅▄▅▃▅▂▅▁▃▃▁▂▂</td></tr></table><br/></div><div class=\"wandb-col\"><h3>Run summary:</h3><br/><table class=\"wandb\"><tr><td>iter</td><td>4000</td></tr><tr><td>loss</td><td>3.96155</td></tr></table><br/></div></div>"
            ],
            "text/plain": [
              "<IPython.core.display.HTML object>"
            ]
          },
          "metadata": {},
          "output_type": "display_data"
        },
        {
          "data": {
            "text/html": [
              " View run <strong style=\"color:#cdcd00\">scarlet-sweep-9</strong> at: <a href='https://wandb.ai/amanichopra/chatbot-sweep/runs/lvvnulsz' target=\"_blank\">https://wandb.ai/amanichopra/chatbot-sweep/runs/lvvnulsz</a><br/>Synced 5 W&B file(s), 0 media file(s), 0 artifact file(s) and 0 other file(s)"
            ],
            "text/plain": [
              "<IPython.core.display.HTML object>"
            ]
          },
          "metadata": {},
          "output_type": "display_data"
        },
        {
          "data": {
            "text/html": [
              "Find logs at: <code>./wandb/run-20231106_224135-lvvnulsz/logs</code>"
            ],
            "text/plain": [
              "<IPython.core.display.HTML object>"
            ]
          },
          "metadata": {},
          "output_type": "display_data"
        },
        {
          "name": "stderr",
          "output_type": "stream",
          "text": [
            "\u001b[34m\u001b[1mwandb\u001b[0m: Agent Starting Run: aipj3a8t with config:\n",
            "\u001b[34m\u001b[1mwandb\u001b[0m: \tclip: 25\n",
            "\u001b[34m\u001b[1mwandb\u001b[0m: \tdecoder_learning_ratio: 1\n",
            "\u001b[34m\u001b[1mwandb\u001b[0m: \tlr: 0.0001\n",
            "\u001b[34m\u001b[1mwandb\u001b[0m: \toptimizer: adam\n",
            "\u001b[34m\u001b[1mwandb\u001b[0m: \tteacher_forcing_ratio: 0\n"
          ]
        },
        {
          "data": {
            "text/html": [
              "Tracking run with wandb version 0.15.12"
            ],
            "text/plain": [
              "<IPython.core.display.HTML object>"
            ]
          },
          "metadata": {},
          "output_type": "display_data"
        },
        {
          "data": {
            "text/html": [
              "Run data is saved locally in <code>/content/wandb/run-20231106_224542-aipj3a8t</code>"
            ],
            "text/plain": [
              "<IPython.core.display.HTML object>"
            ]
          },
          "metadata": {},
          "output_type": "display_data"
        },
        {
          "data": {
            "text/html": [
              "Syncing run <strong><a href='https://wandb.ai/amanichopra/chatbot-sweep/runs/aipj3a8t' target=\"_blank\">cool-sweep-10</a></strong> to <a href='https://wandb.ai/amanichopra/chatbot-sweep' target=\"_blank\">Weights & Biases</a> (<a href='https://wandb.me/run' target=\"_blank\">docs</a>)<br/>Sweep page: <a href='https://wandb.ai/amanichopra/chatbot-sweep/sweeps/d8cpqpj5' target=\"_blank\">https://wandb.ai/amanichopra/chatbot-sweep/sweeps/d8cpqpj5</a>"
            ],
            "text/plain": [
              "<IPython.core.display.HTML object>"
            ]
          },
          "metadata": {},
          "output_type": "display_data"
        },
        {
          "data": {
            "text/html": [
              " View project at <a href='https://wandb.ai/amanichopra/chatbot-sweep' target=\"_blank\">https://wandb.ai/amanichopra/chatbot-sweep</a>"
            ],
            "text/plain": [
              "<IPython.core.display.HTML object>"
            ]
          },
          "metadata": {},
          "output_type": "display_data"
        },
        {
          "data": {
            "text/html": [
              " View sweep at <a href='https://wandb.ai/amanichopra/chatbot-sweep/sweeps/d8cpqpj5' target=\"_blank\">https://wandb.ai/amanichopra/chatbot-sweep/sweeps/d8cpqpj5</a>"
            ],
            "text/plain": [
              "<IPython.core.display.HTML object>"
            ]
          },
          "metadata": {},
          "output_type": "display_data"
        },
        {
          "data": {
            "text/html": [
              " View run at <a href='https://wandb.ai/amanichopra/chatbot-sweep/runs/aipj3a8t' target=\"_blank\">https://wandb.ai/amanichopra/chatbot-sweep/runs/aipj3a8t</a>"
            ],
            "text/plain": [
              "<IPython.core.display.HTML object>"
            ]
          },
          "metadata": {},
          "output_type": "display_data"
        },
        {
          "name": "stdout",
          "output_type": "stream",
          "text": [
            "Initializing ...\n",
            "Training...\n"
          ]
        },
        {
          "data": {
            "text/html": [
              "Waiting for W&B process to finish... <strong style=\"color:green\">(success).</strong>"
            ],
            "text/plain": [
              "<IPython.core.display.HTML object>"
            ]
          },
          "metadata": {},
          "output_type": "display_data"
        },
        {
          "data": {
            "application/vnd.jupyter.widget-view+json": {
              "model_id": "38679f07ad674518a744d6456709e915",
              "version_major": 2,
              "version_minor": 0
            },
            "text/plain": [
              "VBox(children=(Label(value='0.001 MB of 0.001 MB uploaded (0.000 MB deduped)\\r'), FloatProgress(value=0.874200…"
            ]
          },
          "metadata": {},
          "output_type": "display_data"
        },
        {
          "data": {
            "text/html": [
              "<style>\n",
              "    table.wandb td:nth-child(1) { padding: 0 10px; text-align: left ; width: auto;} td:nth-child(2) {text-align: left ; width: 100%}\n",
              "    .wandb-row { display: flex; flex-direction: row; flex-wrap: wrap; justify-content: flex-start; width: 100% }\n",
              "    .wandb-col { display: flex; flex-direction: column; flex-basis: 100%; flex: 1; padding: 10px; }\n",
              "    </style>\n",
              "<div class=\"wandb-row\"><div class=\"wandb-col\"><h3>Run history:</h3><br/><table class=\"wandb\"><tr><td>iter</td><td>▁▁▁▂▂▂▂▂▂▃▃▃▃▃▄▄▄▄▄▄▅▅▅▅▅▅▆▆▆▆▆▇▇▇▇▇▇███</td></tr><tr><td>loss</td><td>▇▇▇▇▅▆▅▆▅█▄▆▄▄▅▃▄▄▅▄▄▃▄▃▂▅▄▂▃▃▁▄▁▂▂▂▂▂▂▃</td></tr></table><br/></div><div class=\"wandb-col\"><h3>Run summary:</h3><br/><table class=\"wandb\"><tr><td>iter</td><td>4000</td></tr><tr><td>loss</td><td>2.97641</td></tr></table><br/></div></div>"
            ],
            "text/plain": [
              "<IPython.core.display.HTML object>"
            ]
          },
          "metadata": {},
          "output_type": "display_data"
        },
        {
          "data": {
            "text/html": [
              " View run <strong style=\"color:#cdcd00\">cool-sweep-10</strong> at: <a href='https://wandb.ai/amanichopra/chatbot-sweep/runs/aipj3a8t' target=\"_blank\">https://wandb.ai/amanichopra/chatbot-sweep/runs/aipj3a8t</a><br/>Synced 5 W&B file(s), 0 media file(s), 0 artifact file(s) and 0 other file(s)"
            ],
            "text/plain": [
              "<IPython.core.display.HTML object>"
            ]
          },
          "metadata": {},
          "output_type": "display_data"
        },
        {
          "data": {
            "text/html": [
              "Find logs at: <code>./wandb/run-20231106_224542-aipj3a8t/logs</code>"
            ],
            "text/plain": [
              "<IPython.core.display.HTML object>"
            ]
          },
          "metadata": {},
          "output_type": "display_data"
        },
        {
          "name": "stderr",
          "output_type": "stream",
          "text": [
            "\u001b[34m\u001b[1mwandb\u001b[0m: Agent Starting Run: s4dhesb5 with config:\n",
            "\u001b[34m\u001b[1mwandb\u001b[0m: \tclip: 50\n",
            "\u001b[34m\u001b[1mwandb\u001b[0m: \tdecoder_learning_ratio: 5\n",
            "\u001b[34m\u001b[1mwandb\u001b[0m: \tlr: 0.0005\n",
            "\u001b[34m\u001b[1mwandb\u001b[0m: \toptimizer: sgd\n",
            "\u001b[34m\u001b[1mwandb\u001b[0m: \tteacher_forcing_ratio: 0\n"
          ]
        },
        {
          "data": {
            "text/html": [
              "Tracking run with wandb version 0.15.12"
            ],
            "text/plain": [
              "<IPython.core.display.HTML object>"
            ]
          },
          "metadata": {},
          "output_type": "display_data"
        },
        {
          "data": {
            "text/html": [
              "Run data is saved locally in <code>/content/wandb/run-20231106_224948-s4dhesb5</code>"
            ],
            "text/plain": [
              "<IPython.core.display.HTML object>"
            ]
          },
          "metadata": {},
          "output_type": "display_data"
        },
        {
          "data": {
            "text/html": [
              "Syncing run <strong><a href='https://wandb.ai/amanichopra/chatbot-sweep/runs/s4dhesb5' target=\"_blank\">jumping-sweep-11</a></strong> to <a href='https://wandb.ai/amanichopra/chatbot-sweep' target=\"_blank\">Weights & Biases</a> (<a href='https://wandb.me/run' target=\"_blank\">docs</a>)<br/>Sweep page: <a href='https://wandb.ai/amanichopra/chatbot-sweep/sweeps/d8cpqpj5' target=\"_blank\">https://wandb.ai/amanichopra/chatbot-sweep/sweeps/d8cpqpj5</a>"
            ],
            "text/plain": [
              "<IPython.core.display.HTML object>"
            ]
          },
          "metadata": {},
          "output_type": "display_data"
        },
        {
          "data": {
            "text/html": [
              " View project at <a href='https://wandb.ai/amanichopra/chatbot-sweep' target=\"_blank\">https://wandb.ai/amanichopra/chatbot-sweep</a>"
            ],
            "text/plain": [
              "<IPython.core.display.HTML object>"
            ]
          },
          "metadata": {},
          "output_type": "display_data"
        },
        {
          "data": {
            "text/html": [
              " View sweep at <a href='https://wandb.ai/amanichopra/chatbot-sweep/sweeps/d8cpqpj5' target=\"_blank\">https://wandb.ai/amanichopra/chatbot-sweep/sweeps/d8cpqpj5</a>"
            ],
            "text/plain": [
              "<IPython.core.display.HTML object>"
            ]
          },
          "metadata": {},
          "output_type": "display_data"
        },
        {
          "data": {
            "text/html": [
              " View run at <a href='https://wandb.ai/amanichopra/chatbot-sweep/runs/s4dhesb5' target=\"_blank\">https://wandb.ai/amanichopra/chatbot-sweep/runs/s4dhesb5</a>"
            ],
            "text/plain": [
              "<IPython.core.display.HTML object>"
            ]
          },
          "metadata": {},
          "output_type": "display_data"
        },
        {
          "name": "stdout",
          "output_type": "stream",
          "text": [
            "Initializing ...\n",
            "Training...\n"
          ]
        },
        {
          "data": {
            "text/html": [
              "Waiting for W&B process to finish... <strong style=\"color:green\">(success).</strong>"
            ],
            "text/plain": [
              "<IPython.core.display.HTML object>"
            ]
          },
          "metadata": {},
          "output_type": "display_data"
        },
        {
          "data": {
            "text/html": [
              "<style>\n",
              "    table.wandb td:nth-child(1) { padding: 0 10px; text-align: left ; width: auto;} td:nth-child(2) {text-align: left ; width: 100%}\n",
              "    .wandb-row { display: flex; flex-direction: row; flex-wrap: wrap; justify-content: flex-start; width: 100% }\n",
              "    .wandb-col { display: flex; flex-direction: column; flex-basis: 100%; flex: 1; padding: 10px; }\n",
              "    </style>\n",
              "<div class=\"wandb-row\"><div class=\"wandb-col\"><h3>Run history:</h3><br/><table class=\"wandb\"><tr><td>iter</td><td>▁▁▁▂▂▂▂▂▂▃▃▃▃▃▄▄▄▄▄▄▅▅▅▅▅▅▆▆▆▆▆▇▇▇▇▇▇███</td></tr><tr><td>loss</td><td>▃▆▄▃█▂▃▆▄█▃▄▃▇▄▅▆▅▄▇▃▃▄▆▅▆▅▅▅▆▅▆▃▅▃▃▃▁▆▄</td></tr></table><br/></div><div class=\"wandb-col\"><h3>Run summary:</h3><br/><table class=\"wandb\"><tr><td>iter</td><td>4000</td></tr><tr><td>loss</td><td>2.87105</td></tr></table><br/></div></div>"
            ],
            "text/plain": [
              "<IPython.core.display.HTML object>"
            ]
          },
          "metadata": {},
          "output_type": "display_data"
        },
        {
          "data": {
            "text/html": [
              " View run <strong style=\"color:#cdcd00\">jumping-sweep-11</strong> at: <a href='https://wandb.ai/amanichopra/chatbot-sweep/runs/s4dhesb5' target=\"_blank\">https://wandb.ai/amanichopra/chatbot-sweep/runs/s4dhesb5</a><br/>Synced 5 W&B file(s), 0 media file(s), 0 artifact file(s) and 0 other file(s)"
            ],
            "text/plain": [
              "<IPython.core.display.HTML object>"
            ]
          },
          "metadata": {},
          "output_type": "display_data"
        },
        {
          "data": {
            "text/html": [
              "Find logs at: <code>./wandb/run-20231106_224948-s4dhesb5/logs</code>"
            ],
            "text/plain": [
              "<IPython.core.display.HTML object>"
            ]
          },
          "metadata": {},
          "output_type": "display_data"
        },
        {
          "name": "stderr",
          "output_type": "stream",
          "text": [
            "\u001b[34m\u001b[1mwandb\u001b[0m: Agent Starting Run: tkyac8ei with config:\n",
            "\u001b[34m\u001b[1mwandb\u001b[0m: \tclip: 25\n",
            "\u001b[34m\u001b[1mwandb\u001b[0m: \tdecoder_learning_ratio: 1\n",
            "\u001b[34m\u001b[1mwandb\u001b[0m: \tlr: 0.00025\n",
            "\u001b[34m\u001b[1mwandb\u001b[0m: \toptimizer: sgd\n",
            "\u001b[34m\u001b[1mwandb\u001b[0m: \tteacher_forcing_ratio: 0.5\n"
          ]
        },
        {
          "data": {
            "text/html": [
              "Tracking run with wandb version 0.15.12"
            ],
            "text/plain": [
              "<IPython.core.display.HTML object>"
            ]
          },
          "metadata": {},
          "output_type": "display_data"
        },
        {
          "data": {
            "text/html": [
              "Run data is saved locally in <code>/content/wandb/run-20231106_225330-tkyac8ei</code>"
            ],
            "text/plain": [
              "<IPython.core.display.HTML object>"
            ]
          },
          "metadata": {},
          "output_type": "display_data"
        },
        {
          "data": {
            "text/html": [
              "Syncing run <strong><a href='https://wandb.ai/amanichopra/chatbot-sweep/runs/tkyac8ei' target=\"_blank\">swept-sweep-12</a></strong> to <a href='https://wandb.ai/amanichopra/chatbot-sweep' target=\"_blank\">Weights & Biases</a> (<a href='https://wandb.me/run' target=\"_blank\">docs</a>)<br/>Sweep page: <a href='https://wandb.ai/amanichopra/chatbot-sweep/sweeps/d8cpqpj5' target=\"_blank\">https://wandb.ai/amanichopra/chatbot-sweep/sweeps/d8cpqpj5</a>"
            ],
            "text/plain": [
              "<IPython.core.display.HTML object>"
            ]
          },
          "metadata": {},
          "output_type": "display_data"
        },
        {
          "data": {
            "text/html": [
              " View project at <a href='https://wandb.ai/amanichopra/chatbot-sweep' target=\"_blank\">https://wandb.ai/amanichopra/chatbot-sweep</a>"
            ],
            "text/plain": [
              "<IPython.core.display.HTML object>"
            ]
          },
          "metadata": {},
          "output_type": "display_data"
        },
        {
          "data": {
            "text/html": [
              " View sweep at <a href='https://wandb.ai/amanichopra/chatbot-sweep/sweeps/d8cpqpj5' target=\"_blank\">https://wandb.ai/amanichopra/chatbot-sweep/sweeps/d8cpqpj5</a>"
            ],
            "text/plain": [
              "<IPython.core.display.HTML object>"
            ]
          },
          "metadata": {},
          "output_type": "display_data"
        },
        {
          "data": {
            "text/html": [
              " View run at <a href='https://wandb.ai/amanichopra/chatbot-sweep/runs/tkyac8ei' target=\"_blank\">https://wandb.ai/amanichopra/chatbot-sweep/runs/tkyac8ei</a>"
            ],
            "text/plain": [
              "<IPython.core.display.HTML object>"
            ]
          },
          "metadata": {},
          "output_type": "display_data"
        },
        {
          "name": "stdout",
          "output_type": "stream",
          "text": [
            "Initializing ...\n",
            "Training...\n"
          ]
        },
        {
          "data": {
            "text/html": [
              "Waiting for W&B process to finish... <strong style=\"color:green\">(success).</strong>"
            ],
            "text/plain": [
              "<IPython.core.display.HTML object>"
            ]
          },
          "metadata": {},
          "output_type": "display_data"
        },
        {
          "data": {
            "application/vnd.jupyter.widget-view+json": {
              "model_id": "5085e65d3b444a8bbb07283fb564bccf",
              "version_major": 2,
              "version_minor": 0
            },
            "text/plain": [
              "VBox(children=(Label(value='0.001 MB of 0.001 MB uploaded (0.000 MB deduped)\\r'), FloatProgress(value=1.0, max…"
            ]
          },
          "metadata": {},
          "output_type": "display_data"
        },
        {
          "data": {
            "text/html": [
              "<style>\n",
              "    table.wandb td:nth-child(1) { padding: 0 10px; text-align: left ; width: auto;} td:nth-child(2) {text-align: left ; width: 100%}\n",
              "    .wandb-row { display: flex; flex-direction: row; flex-wrap: wrap; justify-content: flex-start; width: 100% }\n",
              "    .wandb-col { display: flex; flex-direction: column; flex-basis: 100%; flex: 1; padding: 10px; }\n",
              "    </style>\n",
              "<div class=\"wandb-row\"><div class=\"wandb-col\"><h3>Run history:</h3><br/><table class=\"wandb\"><tr><td>iter</td><td>▁▁▁▂▂▂▂▂▂▃▃▃▃▃▄▄▄▄▄▄▅▅▅▅▅▅▆▆▆▆▆▇▇▇▇▇▇███</td></tr><tr><td>loss</td><td>▂▃▆▆▇▄▁▇▄▄▄▆▂▃▅▆▁▃▅▄▆▅▃▅▄▃▄▆▅▃▁▃▄▂▂█▂▃▁▄</td></tr></table><br/></div><div class=\"wandb-col\"><h3>Run summary:</h3><br/><table class=\"wandb\"><tr><td>iter</td><td>4000</td></tr><tr><td>loss</td><td>2.71501</td></tr></table><br/></div></div>"
            ],
            "text/plain": [
              "<IPython.core.display.HTML object>"
            ]
          },
          "metadata": {},
          "output_type": "display_data"
        },
        {
          "data": {
            "text/html": [
              " View run <strong style=\"color:#cdcd00\">swept-sweep-12</strong> at: <a href='https://wandb.ai/amanichopra/chatbot-sweep/runs/tkyac8ei' target=\"_blank\">https://wandb.ai/amanichopra/chatbot-sweep/runs/tkyac8ei</a><br/>Synced 5 W&B file(s), 0 media file(s), 0 artifact file(s) and 0 other file(s)"
            ],
            "text/plain": [
              "<IPython.core.display.HTML object>"
            ]
          },
          "metadata": {},
          "output_type": "display_data"
        },
        {
          "data": {
            "text/html": [
              "Find logs at: <code>./wandb/run-20231106_225330-tkyac8ei/logs</code>"
            ],
            "text/plain": [
              "<IPython.core.display.HTML object>"
            ]
          },
          "metadata": {},
          "output_type": "display_data"
        },
        {
          "name": "stderr",
          "output_type": "stream",
          "text": [
            "\u001b[34m\u001b[1mwandb\u001b[0m: Sweep Agent: Waiting for job.\n",
            "\u001b[34m\u001b[1mwandb\u001b[0m: Job received.\n",
            "\u001b[34m\u001b[1mwandb\u001b[0m: Agent Starting Run: amvwrdz8 with config:\n",
            "\u001b[34m\u001b[1mwandb\u001b[0m: \tclip: 0\n",
            "\u001b[34m\u001b[1mwandb\u001b[0m: \tdecoder_learning_ratio: 5\n",
            "\u001b[34m\u001b[1mwandb\u001b[0m: \tlr: 0.0001\n",
            "\u001b[34m\u001b[1mwandb\u001b[0m: \toptimizer: sgd\n",
            "\u001b[34m\u001b[1mwandb\u001b[0m: \tteacher_forcing_ratio: 0\n"
          ]
        },
        {
          "data": {
            "text/html": [
              "Tracking run with wandb version 0.15.12"
            ],
            "text/plain": [
              "<IPython.core.display.HTML object>"
            ]
          },
          "metadata": {},
          "output_type": "display_data"
        },
        {
          "data": {
            "text/html": [
              "Run data is saved locally in <code>/content/wandb/run-20231106_225659-amvwrdz8</code>"
            ],
            "text/plain": [
              "<IPython.core.display.HTML object>"
            ]
          },
          "metadata": {},
          "output_type": "display_data"
        },
        {
          "data": {
            "text/html": [
              "Syncing run <strong><a href='https://wandb.ai/amanichopra/chatbot-sweep/runs/amvwrdz8' target=\"_blank\">toasty-sweep-13</a></strong> to <a href='https://wandb.ai/amanichopra/chatbot-sweep' target=\"_blank\">Weights & Biases</a> (<a href='https://wandb.me/run' target=\"_blank\">docs</a>)<br/>Sweep page: <a href='https://wandb.ai/amanichopra/chatbot-sweep/sweeps/d8cpqpj5' target=\"_blank\">https://wandb.ai/amanichopra/chatbot-sweep/sweeps/d8cpqpj5</a>"
            ],
            "text/plain": [
              "<IPython.core.display.HTML object>"
            ]
          },
          "metadata": {},
          "output_type": "display_data"
        },
        {
          "data": {
            "text/html": [
              " View project at <a href='https://wandb.ai/amanichopra/chatbot-sweep' target=\"_blank\">https://wandb.ai/amanichopra/chatbot-sweep</a>"
            ],
            "text/plain": [
              "<IPython.core.display.HTML object>"
            ]
          },
          "metadata": {},
          "output_type": "display_data"
        },
        {
          "data": {
            "text/html": [
              " View sweep at <a href='https://wandb.ai/amanichopra/chatbot-sweep/sweeps/d8cpqpj5' target=\"_blank\">https://wandb.ai/amanichopra/chatbot-sweep/sweeps/d8cpqpj5</a>"
            ],
            "text/plain": [
              "<IPython.core.display.HTML object>"
            ]
          },
          "metadata": {},
          "output_type": "display_data"
        },
        {
          "data": {
            "text/html": [
              " View run at <a href='https://wandb.ai/amanichopra/chatbot-sweep/runs/amvwrdz8' target=\"_blank\">https://wandb.ai/amanichopra/chatbot-sweep/runs/amvwrdz8</a>"
            ],
            "text/plain": [
              "<IPython.core.display.HTML object>"
            ]
          },
          "metadata": {},
          "output_type": "display_data"
        },
        {
          "name": "stdout",
          "output_type": "stream",
          "text": [
            "Initializing ...\n",
            "Training...\n"
          ]
        },
        {
          "data": {
            "text/html": [
              "Waiting for W&B process to finish... <strong style=\"color:green\">(success).</strong>"
            ],
            "text/plain": [
              "<IPython.core.display.HTML object>"
            ]
          },
          "metadata": {},
          "output_type": "display_data"
        },
        {
          "data": {
            "text/html": [
              "<style>\n",
              "    table.wandb td:nth-child(1) { padding: 0 10px; text-align: left ; width: auto;} td:nth-child(2) {text-align: left ; width: 100%}\n",
              "    .wandb-row { display: flex; flex-direction: row; flex-wrap: wrap; justify-content: flex-start; width: 100% }\n",
              "    .wandb-col { display: flex; flex-direction: column; flex-basis: 100%; flex: 1; padding: 10px; }\n",
              "    </style>\n",
              "<div class=\"wandb-row\"><div class=\"wandb-col\"><h3>Run history:</h3><br/><table class=\"wandb\"><tr><td>iter</td><td>▁▁▁▂▂▂▂▂▂▃▃▃▃▃▄▄▄▄▄▄▅▅▅▅▅▅▆▆▆▆▆▇▇▇▇▇▇███</td></tr><tr><td>loss</td><td>▃▆▅▄▅▃▄▆▄▇▆▃▄▄▅▅▁█▇▅▄▃▅▃▆▅▃▇▅▆▃▆▅▃▃▅▆▃▆▅</td></tr></table><br/></div><div class=\"wandb-col\"><h3>Run summary:</h3><br/><table class=\"wandb\"><tr><td>iter</td><td>4000</td></tr><tr><td>loss</td><td>2.66442</td></tr></table><br/></div></div>"
            ],
            "text/plain": [
              "<IPython.core.display.HTML object>"
            ]
          },
          "metadata": {},
          "output_type": "display_data"
        },
        {
          "data": {
            "text/html": [
              " View run <strong style=\"color:#cdcd00\">toasty-sweep-13</strong> at: <a href='https://wandb.ai/amanichopra/chatbot-sweep/runs/amvwrdz8' target=\"_blank\">https://wandb.ai/amanichopra/chatbot-sweep/runs/amvwrdz8</a><br/>Synced 5 W&B file(s), 0 media file(s), 0 artifact file(s) and 0 other file(s)"
            ],
            "text/plain": [
              "<IPython.core.display.HTML object>"
            ]
          },
          "metadata": {},
          "output_type": "display_data"
        },
        {
          "data": {
            "text/html": [
              "Find logs at: <code>./wandb/run-20231106_225659-amvwrdz8/logs</code>"
            ],
            "text/plain": [
              "<IPython.core.display.HTML object>"
            ]
          },
          "metadata": {},
          "output_type": "display_data"
        },
        {
          "name": "stderr",
          "output_type": "stream",
          "text": [
            "\u001b[34m\u001b[1mwandb\u001b[0m: Agent Starting Run: x3vqqbo8 with config:\n",
            "\u001b[34m\u001b[1mwandb\u001b[0m: \tclip: 50\n",
            "\u001b[34m\u001b[1mwandb\u001b[0m: \tdecoder_learning_ratio: 3\n",
            "\u001b[34m\u001b[1mwandb\u001b[0m: \tlr: 0.001\n",
            "\u001b[34m\u001b[1mwandb\u001b[0m: \toptimizer: adam\n",
            "\u001b[34m\u001b[1mwandb\u001b[0m: \tteacher_forcing_ratio: 1\n"
          ]
        },
        {
          "data": {
            "text/html": [
              "Tracking run with wandb version 0.15.12"
            ],
            "text/plain": [
              "<IPython.core.display.HTML object>"
            ]
          },
          "metadata": {},
          "output_type": "display_data"
        },
        {
          "data": {
            "text/html": [
              "Run data is saved locally in <code>/content/wandb/run-20231106_230044-x3vqqbo8</code>"
            ],
            "text/plain": [
              "<IPython.core.display.HTML object>"
            ]
          },
          "metadata": {},
          "output_type": "display_data"
        },
        {
          "data": {
            "text/html": [
              "Syncing run <strong><a href='https://wandb.ai/amanichopra/chatbot-sweep/runs/x3vqqbo8' target=\"_blank\">northern-sweep-14</a></strong> to <a href='https://wandb.ai/amanichopra/chatbot-sweep' target=\"_blank\">Weights & Biases</a> (<a href='https://wandb.me/run' target=\"_blank\">docs</a>)<br/>Sweep page: <a href='https://wandb.ai/amanichopra/chatbot-sweep/sweeps/d8cpqpj5' target=\"_blank\">https://wandb.ai/amanichopra/chatbot-sweep/sweeps/d8cpqpj5</a>"
            ],
            "text/plain": [
              "<IPython.core.display.HTML object>"
            ]
          },
          "metadata": {},
          "output_type": "display_data"
        },
        {
          "data": {
            "text/html": [
              " View project at <a href='https://wandb.ai/amanichopra/chatbot-sweep' target=\"_blank\">https://wandb.ai/amanichopra/chatbot-sweep</a>"
            ],
            "text/plain": [
              "<IPython.core.display.HTML object>"
            ]
          },
          "metadata": {},
          "output_type": "display_data"
        },
        {
          "data": {
            "text/html": [
              " View sweep at <a href='https://wandb.ai/amanichopra/chatbot-sweep/sweeps/d8cpqpj5' target=\"_blank\">https://wandb.ai/amanichopra/chatbot-sweep/sweeps/d8cpqpj5</a>"
            ],
            "text/plain": [
              "<IPython.core.display.HTML object>"
            ]
          },
          "metadata": {},
          "output_type": "display_data"
        },
        {
          "data": {
            "text/html": [
              " View run at <a href='https://wandb.ai/amanichopra/chatbot-sweep/runs/x3vqqbo8' target=\"_blank\">https://wandb.ai/amanichopra/chatbot-sweep/runs/x3vqqbo8</a>"
            ],
            "text/plain": [
              "<IPython.core.display.HTML object>"
            ]
          },
          "metadata": {},
          "output_type": "display_data"
        },
        {
          "name": "stdout",
          "output_type": "stream",
          "text": [
            "Initializing ...\n",
            "Training...\n"
          ]
        },
        {
          "data": {
            "text/html": [
              "Waiting for W&B process to finish... <strong style=\"color:green\">(success).</strong>"
            ],
            "text/plain": [
              "<IPython.core.display.HTML object>"
            ]
          },
          "metadata": {},
          "output_type": "display_data"
        },
        {
          "data": {
            "application/vnd.jupyter.widget-view+json": {
              "model_id": "b43450b82b674d0896e0b6dcde836c24",
              "version_major": 2,
              "version_minor": 0
            },
            "text/plain": [
              "VBox(children=(Label(value='0.001 MB of 0.001 MB uploaded (0.000 MB deduped)\\r'), FloatProgress(value=1.0, max…"
            ]
          },
          "metadata": {},
          "output_type": "display_data"
        },
        {
          "data": {
            "text/html": [
              "<style>\n",
              "    table.wandb td:nth-child(1) { padding: 0 10px; text-align: left ; width: auto;} td:nth-child(2) {text-align: left ; width: 100%}\n",
              "    .wandb-row { display: flex; flex-direction: row; flex-wrap: wrap; justify-content: flex-start; width: 100% }\n",
              "    .wandb-col { display: flex; flex-direction: column; flex-basis: 100%; flex: 1; padding: 10px; }\n",
              "    </style>\n",
              "<div class=\"wandb-row\"><div class=\"wandb-col\"><h3>Run history:</h3><br/><table class=\"wandb\"><tr><td>iter</td><td>▁▁▁▂▂▂▂▂▂▃▃▃▃▃▄▄▄▄▄▄▅▅▅▅▅▅▆▆▆▆▆▇▇▇▇▇▇███</td></tr><tr><td>loss</td><td>▆▇▇▆▇█▅▆▅▅▅▅▄▅▄▃▂▅▆▄▅▄▃▃▂▃▃▄▃▂▁▄▇▄▃▃▄▃▅▃</td></tr></table><br/></div><div class=\"wandb-col\"><h3>Run summary:</h3><br/><table class=\"wandb\"><tr><td>iter</td><td>4000</td></tr><tr><td>loss</td><td>3.04288</td></tr></table><br/></div></div>"
            ],
            "text/plain": [
              "<IPython.core.display.HTML object>"
            ]
          },
          "metadata": {},
          "output_type": "display_data"
        },
        {
          "data": {
            "text/html": [
              " View run <strong style=\"color:#cdcd00\">northern-sweep-14</strong> at: <a href='https://wandb.ai/amanichopra/chatbot-sweep/runs/x3vqqbo8' target=\"_blank\">https://wandb.ai/amanichopra/chatbot-sweep/runs/x3vqqbo8</a><br/>Synced 5 W&B file(s), 0 media file(s), 0 artifact file(s) and 0 other file(s)"
            ],
            "text/plain": [
              "<IPython.core.display.HTML object>"
            ]
          },
          "metadata": {},
          "output_type": "display_data"
        },
        {
          "data": {
            "text/html": [
              "Find logs at: <code>./wandb/run-20231106_230044-x3vqqbo8/logs</code>"
            ],
            "text/plain": [
              "<IPython.core.display.HTML object>"
            ]
          },
          "metadata": {},
          "output_type": "display_data"
        },
        {
          "name": "stderr",
          "output_type": "stream",
          "text": [
            "\u001b[34m\u001b[1mwandb\u001b[0m: Agent Starting Run: 4wejsjmc with config:\n",
            "\u001b[34m\u001b[1mwandb\u001b[0m: \tclip: 25\n",
            "\u001b[34m\u001b[1mwandb\u001b[0m: \tdecoder_learning_ratio: 10\n",
            "\u001b[34m\u001b[1mwandb\u001b[0m: \tlr: 0.001\n",
            "\u001b[34m\u001b[1mwandb\u001b[0m: \toptimizer: adam\n",
            "\u001b[34m\u001b[1mwandb\u001b[0m: \tteacher_forcing_ratio: 1\n"
          ]
        },
        {
          "data": {
            "text/html": [
              "Tracking run with wandb version 0.15.12"
            ],
            "text/plain": [
              "<IPython.core.display.HTML object>"
            ]
          },
          "metadata": {},
          "output_type": "display_data"
        },
        {
          "data": {
            "text/html": [
              "Run data is saved locally in <code>/content/wandb/run-20231106_230410-4wejsjmc</code>"
            ],
            "text/plain": [
              "<IPython.core.display.HTML object>"
            ]
          },
          "metadata": {},
          "output_type": "display_data"
        },
        {
          "data": {
            "text/html": [
              "Syncing run <strong><a href='https://wandb.ai/amanichopra/chatbot-sweep/runs/4wejsjmc' target=\"_blank\">crisp-sweep-15</a></strong> to <a href='https://wandb.ai/amanichopra/chatbot-sweep' target=\"_blank\">Weights & Biases</a> (<a href='https://wandb.me/run' target=\"_blank\">docs</a>)<br/>Sweep page: <a href='https://wandb.ai/amanichopra/chatbot-sweep/sweeps/d8cpqpj5' target=\"_blank\">https://wandb.ai/amanichopra/chatbot-sweep/sweeps/d8cpqpj5</a>"
            ],
            "text/plain": [
              "<IPython.core.display.HTML object>"
            ]
          },
          "metadata": {},
          "output_type": "display_data"
        },
        {
          "data": {
            "text/html": [
              " View project at <a href='https://wandb.ai/amanichopra/chatbot-sweep' target=\"_blank\">https://wandb.ai/amanichopra/chatbot-sweep</a>"
            ],
            "text/plain": [
              "<IPython.core.display.HTML object>"
            ]
          },
          "metadata": {},
          "output_type": "display_data"
        },
        {
          "data": {
            "text/html": [
              " View sweep at <a href='https://wandb.ai/amanichopra/chatbot-sweep/sweeps/d8cpqpj5' target=\"_blank\">https://wandb.ai/amanichopra/chatbot-sweep/sweeps/d8cpqpj5</a>"
            ],
            "text/plain": [
              "<IPython.core.display.HTML object>"
            ]
          },
          "metadata": {},
          "output_type": "display_data"
        },
        {
          "data": {
            "text/html": [
              " View run at <a href='https://wandb.ai/amanichopra/chatbot-sweep/runs/4wejsjmc' target=\"_blank\">https://wandb.ai/amanichopra/chatbot-sweep/runs/4wejsjmc</a>"
            ],
            "text/plain": [
              "<IPython.core.display.HTML object>"
            ]
          },
          "metadata": {},
          "output_type": "display_data"
        },
        {
          "name": "stdout",
          "output_type": "stream",
          "text": [
            "Initializing ...\n",
            "Training...\n"
          ]
        },
        {
          "data": {
            "text/html": [
              "Waiting for W&B process to finish... <strong style=\"color:green\">(success).</strong>"
            ],
            "text/plain": [
              "<IPython.core.display.HTML object>"
            ]
          },
          "metadata": {},
          "output_type": "display_data"
        },
        {
          "data": {
            "application/vnd.jupyter.widget-view+json": {
              "model_id": "f45b2b62946b4b7aaa4655e467336a58",
              "version_major": 2,
              "version_minor": 0
            },
            "text/plain": [
              "VBox(children=(Label(value='0.001 MB of 0.001 MB uploaded (0.000 MB deduped)\\r'), FloatProgress(value=1.0, max…"
            ]
          },
          "metadata": {},
          "output_type": "display_data"
        },
        {
          "data": {
            "text/html": [
              "<style>\n",
              "    table.wandb td:nth-child(1) { padding: 0 10px; text-align: left ; width: auto;} td:nth-child(2) {text-align: left ; width: 100%}\n",
              "    .wandb-row { display: flex; flex-direction: row; flex-wrap: wrap; justify-content: flex-start; width: 100% }\n",
              "    .wandb-col { display: flex; flex-direction: column; flex-basis: 100%; flex: 1; padding: 10px; }\n",
              "    </style>\n",
              "<div class=\"wandb-row\"><div class=\"wandb-col\"><h3>Run history:</h3><br/><table class=\"wandb\"><tr><td>iter</td><td>▁▁▁▂▂▂▂▂▂▃▃▃▃▃▄▄▄▄▄▄▅▅▅▅▅▅▆▆▆▆▆▇▇▇▇▇▇███</td></tr><tr><td>loss</td><td>▁▄▅▆▅▅▆▅▇█▇██▅                          </td></tr></table><br/></div><div class=\"wandb-col\"><h3>Run summary:</h3><br/><table class=\"wandb\"><tr><td>iter</td><td>4000</td></tr><tr><td>loss</td><td>nan</td></tr></table><br/></div></div>"
            ],
            "text/plain": [
              "<IPython.core.display.HTML object>"
            ]
          },
          "metadata": {},
          "output_type": "display_data"
        },
        {
          "data": {
            "text/html": [
              " View run <strong style=\"color:#cdcd00\">crisp-sweep-15</strong> at: <a href='https://wandb.ai/amanichopra/chatbot-sweep/runs/4wejsjmc' target=\"_blank\">https://wandb.ai/amanichopra/chatbot-sweep/runs/4wejsjmc</a><br/>Synced 5 W&B file(s), 0 media file(s), 0 artifact file(s) and 0 other file(s)"
            ],
            "text/plain": [
              "<IPython.core.display.HTML object>"
            ]
          },
          "metadata": {},
          "output_type": "display_data"
        },
        {
          "data": {
            "text/html": [
              "Find logs at: <code>./wandb/run-20231106_230410-4wejsjmc/logs</code>"
            ],
            "text/plain": [
              "<IPython.core.display.HTML object>"
            ]
          },
          "metadata": {},
          "output_type": "display_data"
        },
        {
          "name": "stderr",
          "output_type": "stream",
          "text": [
            "\u001b[34m\u001b[1mwandb\u001b[0m: Agent Starting Run: 461tzdvm with config:\n",
            "\u001b[34m\u001b[1mwandb\u001b[0m: \tclip: 0\n",
            "\u001b[34m\u001b[1mwandb\u001b[0m: \tdecoder_learning_ratio: 3\n",
            "\u001b[34m\u001b[1mwandb\u001b[0m: \tlr: 0.001\n",
            "\u001b[34m\u001b[1mwandb\u001b[0m: \toptimizer: sgd\n",
            "\u001b[34m\u001b[1mwandb\u001b[0m: \tteacher_forcing_ratio: 0\n"
          ]
        },
        {
          "data": {
            "text/html": [
              "Tracking run with wandb version 0.15.12"
            ],
            "text/plain": [
              "<IPython.core.display.HTML object>"
            ]
          },
          "metadata": {},
          "output_type": "display_data"
        },
        {
          "data": {
            "text/html": [
              "Run data is saved locally in <code>/content/wandb/run-20231106_230731-461tzdvm</code>"
            ],
            "text/plain": [
              "<IPython.core.display.HTML object>"
            ]
          },
          "metadata": {},
          "output_type": "display_data"
        },
        {
          "data": {
            "text/html": [
              "Syncing run <strong><a href='https://wandb.ai/amanichopra/chatbot-sweep/runs/461tzdvm' target=\"_blank\">mild-sweep-16</a></strong> to <a href='https://wandb.ai/amanichopra/chatbot-sweep' target=\"_blank\">Weights & Biases</a> (<a href='https://wandb.me/run' target=\"_blank\">docs</a>)<br/>Sweep page: <a href='https://wandb.ai/amanichopra/chatbot-sweep/sweeps/d8cpqpj5' target=\"_blank\">https://wandb.ai/amanichopra/chatbot-sweep/sweeps/d8cpqpj5</a>"
            ],
            "text/plain": [
              "<IPython.core.display.HTML object>"
            ]
          },
          "metadata": {},
          "output_type": "display_data"
        },
        {
          "data": {
            "text/html": [
              " View project at <a href='https://wandb.ai/amanichopra/chatbot-sweep' target=\"_blank\">https://wandb.ai/amanichopra/chatbot-sweep</a>"
            ],
            "text/plain": [
              "<IPython.core.display.HTML object>"
            ]
          },
          "metadata": {},
          "output_type": "display_data"
        },
        {
          "data": {
            "text/html": [
              " View sweep at <a href='https://wandb.ai/amanichopra/chatbot-sweep/sweeps/d8cpqpj5' target=\"_blank\">https://wandb.ai/amanichopra/chatbot-sweep/sweeps/d8cpqpj5</a>"
            ],
            "text/plain": [
              "<IPython.core.display.HTML object>"
            ]
          },
          "metadata": {},
          "output_type": "display_data"
        },
        {
          "data": {
            "text/html": [
              " View run at <a href='https://wandb.ai/amanichopra/chatbot-sweep/runs/461tzdvm' target=\"_blank\">https://wandb.ai/amanichopra/chatbot-sweep/runs/461tzdvm</a>"
            ],
            "text/plain": [
              "<IPython.core.display.HTML object>"
            ]
          },
          "metadata": {},
          "output_type": "display_data"
        },
        {
          "name": "stdout",
          "output_type": "stream",
          "text": [
            "Initializing ...\n",
            "Training...\n"
          ]
        },
        {
          "data": {
            "text/html": [
              "Waiting for W&B process to finish... <strong style=\"color:green\">(success).</strong>"
            ],
            "text/plain": [
              "<IPython.core.display.HTML object>"
            ]
          },
          "metadata": {},
          "output_type": "display_data"
        },
        {
          "data": {
            "application/vnd.jupyter.widget-view+json": {
              "model_id": "7e0ecb741f6047e9bfb3cc2a1c749869",
              "version_major": 2,
              "version_minor": 0
            },
            "text/plain": [
              "VBox(children=(Label(value='0.001 MB of 0.001 MB uploaded (0.000 MB deduped)\\r'), FloatProgress(value=1.0, max…"
            ]
          },
          "metadata": {},
          "output_type": "display_data"
        },
        {
          "data": {
            "text/html": [
              "<style>\n",
              "    table.wandb td:nth-child(1) { padding: 0 10px; text-align: left ; width: auto;} td:nth-child(2) {text-align: left ; width: 100%}\n",
              "    .wandb-row { display: flex; flex-direction: row; flex-wrap: wrap; justify-content: flex-start; width: 100% }\n",
              "    .wandb-col { display: flex; flex-direction: column; flex-basis: 100%; flex: 1; padding: 10px; }\n",
              "    </style>\n",
              "<div class=\"wandb-row\"><div class=\"wandb-col\"><h3>Run history:</h3><br/><table class=\"wandb\"><tr><td>iter</td><td>▁▁▁▂▂▂▂▂▂▃▃▃▃▃▄▄▄▄▄▄▅▅▅▅▅▅▆▆▆▆▆▇▇▇▇▇▇███</td></tr></table><br/></div><div class=\"wandb-col\"><h3>Run summary:</h3><br/><table class=\"wandb\"><tr><td>iter</td><td>4000</td></tr><tr><td>loss</td><td>nan</td></tr></table><br/></div></div>"
            ],
            "text/plain": [
              "<IPython.core.display.HTML object>"
            ]
          },
          "metadata": {},
          "output_type": "display_data"
        },
        {
          "data": {
            "text/html": [
              " View run <strong style=\"color:#cdcd00\">mild-sweep-16</strong> at: <a href='https://wandb.ai/amanichopra/chatbot-sweep/runs/461tzdvm' target=\"_blank\">https://wandb.ai/amanichopra/chatbot-sweep/runs/461tzdvm</a><br/>Synced 5 W&B file(s), 0 media file(s), 0 artifact file(s) and 0 other file(s)"
            ],
            "text/plain": [
              "<IPython.core.display.HTML object>"
            ]
          },
          "metadata": {},
          "output_type": "display_data"
        },
        {
          "data": {
            "text/html": [
              "Find logs at: <code>./wandb/run-20231106_230731-461tzdvm/logs</code>"
            ],
            "text/plain": [
              "<IPython.core.display.HTML object>"
            ]
          },
          "metadata": {},
          "output_type": "display_data"
        },
        {
          "name": "stderr",
          "output_type": "stream",
          "text": [
            "\u001b[34m\u001b[1mwandb\u001b[0m: Agent Starting Run: an4khcdf with config:\n",
            "\u001b[34m\u001b[1mwandb\u001b[0m: \tclip: 100\n",
            "\u001b[34m\u001b[1mwandb\u001b[0m: \tdecoder_learning_ratio: 5\n",
            "\u001b[34m\u001b[1mwandb\u001b[0m: \tlr: 0.00025\n",
            "\u001b[34m\u001b[1mwandb\u001b[0m: \toptimizer: sgd\n",
            "\u001b[34m\u001b[1mwandb\u001b[0m: \tteacher_forcing_ratio: 0.5\n"
          ]
        },
        {
          "data": {
            "text/html": [
              "Tracking run with wandb version 0.15.12"
            ],
            "text/plain": [
              "<IPython.core.display.HTML object>"
            ]
          },
          "metadata": {},
          "output_type": "display_data"
        },
        {
          "data": {
            "text/html": [
              "Run data is saved locally in <code>/content/wandb/run-20231106_231110-an4khcdf</code>"
            ],
            "text/plain": [
              "<IPython.core.display.HTML object>"
            ]
          },
          "metadata": {},
          "output_type": "display_data"
        },
        {
          "data": {
            "text/html": [
              "Syncing run <strong><a href='https://wandb.ai/amanichopra/chatbot-sweep/runs/an4khcdf' target=\"_blank\">ethereal-sweep-17</a></strong> to <a href='https://wandb.ai/amanichopra/chatbot-sweep' target=\"_blank\">Weights & Biases</a> (<a href='https://wandb.me/run' target=\"_blank\">docs</a>)<br/>Sweep page: <a href='https://wandb.ai/amanichopra/chatbot-sweep/sweeps/d8cpqpj5' target=\"_blank\">https://wandb.ai/amanichopra/chatbot-sweep/sweeps/d8cpqpj5</a>"
            ],
            "text/plain": [
              "<IPython.core.display.HTML object>"
            ]
          },
          "metadata": {},
          "output_type": "display_data"
        },
        {
          "data": {
            "text/html": [
              " View project at <a href='https://wandb.ai/amanichopra/chatbot-sweep' target=\"_blank\">https://wandb.ai/amanichopra/chatbot-sweep</a>"
            ],
            "text/plain": [
              "<IPython.core.display.HTML object>"
            ]
          },
          "metadata": {},
          "output_type": "display_data"
        },
        {
          "data": {
            "text/html": [
              " View sweep at <a href='https://wandb.ai/amanichopra/chatbot-sweep/sweeps/d8cpqpj5' target=\"_blank\">https://wandb.ai/amanichopra/chatbot-sweep/sweeps/d8cpqpj5</a>"
            ],
            "text/plain": [
              "<IPython.core.display.HTML object>"
            ]
          },
          "metadata": {},
          "output_type": "display_data"
        },
        {
          "data": {
            "text/html": [
              " View run at <a href='https://wandb.ai/amanichopra/chatbot-sweep/runs/an4khcdf' target=\"_blank\">https://wandb.ai/amanichopra/chatbot-sweep/runs/an4khcdf</a>"
            ],
            "text/plain": [
              "<IPython.core.display.HTML object>"
            ]
          },
          "metadata": {},
          "output_type": "display_data"
        },
        {
          "name": "stdout",
          "output_type": "stream",
          "text": [
            "Initializing ...\n",
            "Training...\n"
          ]
        },
        {
          "data": {
            "text/html": [
              "Waiting for W&B process to finish... <strong style=\"color:green\">(success).</strong>"
            ],
            "text/plain": [
              "<IPython.core.display.HTML object>"
            ]
          },
          "metadata": {},
          "output_type": "display_data"
        },
        {
          "data": {
            "text/html": [
              "<style>\n",
              "    table.wandb td:nth-child(1) { padding: 0 10px; text-align: left ; width: auto;} td:nth-child(2) {text-align: left ; width: 100%}\n",
              "    .wandb-row { display: flex; flex-direction: row; flex-wrap: wrap; justify-content: flex-start; width: 100% }\n",
              "    .wandb-col { display: flex; flex-direction: column; flex-basis: 100%; flex: 1; padding: 10px; }\n",
              "    </style>\n",
              "<div class=\"wandb-row\"><div class=\"wandb-col\"><h3>Run history:</h3><br/><table class=\"wandb\"><tr><td>iter</td><td>▁▁▁▂▂▂▂▂▂▃▃▃▃▃▄▄▄▄▄▄▅▅▅▅▅▅▆▆▆▆▆▇▇▇▇▇▇███</td></tr></table><br/></div><div class=\"wandb-col\"><h3>Run summary:</h3><br/><table class=\"wandb\"><tr><td>iter</td><td>4000</td></tr><tr><td>loss</td><td>nan</td></tr></table><br/></div></div>"
            ],
            "text/plain": [
              "<IPython.core.display.HTML object>"
            ]
          },
          "metadata": {},
          "output_type": "display_data"
        },
        {
          "data": {
            "text/html": [
              " View run <strong style=\"color:#cdcd00\">ethereal-sweep-17</strong> at: <a href='https://wandb.ai/amanichopra/chatbot-sweep/runs/an4khcdf' target=\"_blank\">https://wandb.ai/amanichopra/chatbot-sweep/runs/an4khcdf</a><br/>Synced 5 W&B file(s), 0 media file(s), 0 artifact file(s) and 0 other file(s)"
            ],
            "text/plain": [
              "<IPython.core.display.HTML object>"
            ]
          },
          "metadata": {},
          "output_type": "display_data"
        },
        {
          "data": {
            "text/html": [
              "Find logs at: <code>./wandb/run-20231106_231110-an4khcdf/logs</code>"
            ],
            "text/plain": [
              "<IPython.core.display.HTML object>"
            ]
          },
          "metadata": {},
          "output_type": "display_data"
        },
        {
          "name": "stderr",
          "output_type": "stream",
          "text": [
            "\u001b[34m\u001b[1mwandb\u001b[0m: Agent Starting Run: 6bubq4fm with config:\n",
            "\u001b[34m\u001b[1mwandb\u001b[0m: \tclip: 100\n",
            "\u001b[34m\u001b[1mwandb\u001b[0m: \tdecoder_learning_ratio: 5\n",
            "\u001b[34m\u001b[1mwandb\u001b[0m: \tlr: 0.0001\n",
            "\u001b[34m\u001b[1mwandb\u001b[0m: \toptimizer: adam\n",
            "\u001b[34m\u001b[1mwandb\u001b[0m: \tteacher_forcing_ratio: 0\n"
          ]
        },
        {
          "data": {
            "text/html": [
              "Tracking run with wandb version 0.15.12"
            ],
            "text/plain": [
              "<IPython.core.display.HTML object>"
            ]
          },
          "metadata": {},
          "output_type": "display_data"
        },
        {
          "data": {
            "text/html": [
              "Run data is saved locally in <code>/content/wandb/run-20231106_231430-6bubq4fm</code>"
            ],
            "text/plain": [
              "<IPython.core.display.HTML object>"
            ]
          },
          "metadata": {},
          "output_type": "display_data"
        },
        {
          "data": {
            "text/html": [
              "Syncing run <strong><a href='https://wandb.ai/amanichopra/chatbot-sweep/runs/6bubq4fm' target=\"_blank\">good-sweep-18</a></strong> to <a href='https://wandb.ai/amanichopra/chatbot-sweep' target=\"_blank\">Weights & Biases</a> (<a href='https://wandb.me/run' target=\"_blank\">docs</a>)<br/>Sweep page: <a href='https://wandb.ai/amanichopra/chatbot-sweep/sweeps/d8cpqpj5' target=\"_blank\">https://wandb.ai/amanichopra/chatbot-sweep/sweeps/d8cpqpj5</a>"
            ],
            "text/plain": [
              "<IPython.core.display.HTML object>"
            ]
          },
          "metadata": {},
          "output_type": "display_data"
        },
        {
          "data": {
            "text/html": [
              " View project at <a href='https://wandb.ai/amanichopra/chatbot-sweep' target=\"_blank\">https://wandb.ai/amanichopra/chatbot-sweep</a>"
            ],
            "text/plain": [
              "<IPython.core.display.HTML object>"
            ]
          },
          "metadata": {},
          "output_type": "display_data"
        },
        {
          "data": {
            "text/html": [
              " View sweep at <a href='https://wandb.ai/amanichopra/chatbot-sweep/sweeps/d8cpqpj5' target=\"_blank\">https://wandb.ai/amanichopra/chatbot-sweep/sweeps/d8cpqpj5</a>"
            ],
            "text/plain": [
              "<IPython.core.display.HTML object>"
            ]
          },
          "metadata": {},
          "output_type": "display_data"
        },
        {
          "data": {
            "text/html": [
              " View run at <a href='https://wandb.ai/amanichopra/chatbot-sweep/runs/6bubq4fm' target=\"_blank\">https://wandb.ai/amanichopra/chatbot-sweep/runs/6bubq4fm</a>"
            ],
            "text/plain": [
              "<IPython.core.display.HTML object>"
            ]
          },
          "metadata": {},
          "output_type": "display_data"
        },
        {
          "name": "stdout",
          "output_type": "stream",
          "text": [
            "Initializing ...\n",
            "Training...\n"
          ]
        },
        {
          "data": {
            "text/html": [
              "Waiting for W&B process to finish... <strong style=\"color:green\">(success).</strong>"
            ],
            "text/plain": [
              "<IPython.core.display.HTML object>"
            ]
          },
          "metadata": {},
          "output_type": "display_data"
        },
        {
          "data": {
            "application/vnd.jupyter.widget-view+json": {
              "model_id": "e505cfcd7ff048318da0093636e86777",
              "version_major": 2,
              "version_minor": 0
            },
            "text/plain": [
              "VBox(children=(Label(value='0.001 MB of 0.001 MB uploaded (0.000 MB deduped)\\r'), FloatProgress(value=0.882268…"
            ]
          },
          "metadata": {},
          "output_type": "display_data"
        },
        {
          "data": {
            "text/html": [
              "<style>\n",
              "    table.wandb td:nth-child(1) { padding: 0 10px; text-align: left ; width: auto;} td:nth-child(2) {text-align: left ; width: 100%}\n",
              "    .wandb-row { display: flex; flex-direction: row; flex-wrap: wrap; justify-content: flex-start; width: 100% }\n",
              "    .wandb-col { display: flex; flex-direction: column; flex-basis: 100%; flex: 1; padding: 10px; }\n",
              "    </style>\n",
              "<div class=\"wandb-row\"><div class=\"wandb-col\"><h3>Run history:</h3><br/><table class=\"wandb\"><tr><td>iter</td><td>▁▁▁▂▂▂▂▂▂▃▃▃▃▃▄▄▄▄▄▄▅▅▅▅▅▅▆▆▆▆▆▇▇▇▇▇▇███</td></tr></table><br/></div><div class=\"wandb-col\"><h3>Run summary:</h3><br/><table class=\"wandb\"><tr><td>iter</td><td>4000</td></tr><tr><td>loss</td><td>nan</td></tr></table><br/></div></div>"
            ],
            "text/plain": [
              "<IPython.core.display.HTML object>"
            ]
          },
          "metadata": {},
          "output_type": "display_data"
        },
        {
          "data": {
            "text/html": [
              " View run <strong style=\"color:#cdcd00\">good-sweep-18</strong> at: <a href='https://wandb.ai/amanichopra/chatbot-sweep/runs/6bubq4fm' target=\"_blank\">https://wandb.ai/amanichopra/chatbot-sweep/runs/6bubq4fm</a><br/>Synced 5 W&B file(s), 0 media file(s), 0 artifact file(s) and 0 other file(s)"
            ],
            "text/plain": [
              "<IPython.core.display.HTML object>"
            ]
          },
          "metadata": {},
          "output_type": "display_data"
        },
        {
          "data": {
            "text/html": [
              "Find logs at: <code>./wandb/run-20231106_231430-6bubq4fm/logs</code>"
            ],
            "text/plain": [
              "<IPython.core.display.HTML object>"
            ]
          },
          "metadata": {},
          "output_type": "display_data"
        },
        {
          "name": "stderr",
          "output_type": "stream",
          "text": [
            "\u001b[34m\u001b[1mwandb\u001b[0m: Agent Starting Run: 4xpcmsal with config:\n",
            "\u001b[34m\u001b[1mwandb\u001b[0m: \tclip: 50\n",
            "\u001b[34m\u001b[1mwandb\u001b[0m: \tdecoder_learning_ratio: 3\n",
            "\u001b[34m\u001b[1mwandb\u001b[0m: \tlr: 0.0005\n",
            "\u001b[34m\u001b[1mwandb\u001b[0m: \toptimizer: adam\n",
            "\u001b[34m\u001b[1mwandb\u001b[0m: \tteacher_forcing_ratio: 1\n"
          ]
        },
        {
          "data": {
            "text/html": [
              "Tracking run with wandb version 0.15.12"
            ],
            "text/plain": [
              "<IPython.core.display.HTML object>"
            ]
          },
          "metadata": {},
          "output_type": "display_data"
        },
        {
          "data": {
            "text/html": [
              "Run data is saved locally in <code>/content/wandb/run-20231106_231832-4xpcmsal</code>"
            ],
            "text/plain": [
              "<IPython.core.display.HTML object>"
            ]
          },
          "metadata": {},
          "output_type": "display_data"
        },
        {
          "data": {
            "text/html": [
              "Syncing run <strong><a href='https://wandb.ai/amanichopra/chatbot-sweep/runs/4xpcmsal' target=\"_blank\">warm-sweep-19</a></strong> to <a href='https://wandb.ai/amanichopra/chatbot-sweep' target=\"_blank\">Weights & Biases</a> (<a href='https://wandb.me/run' target=\"_blank\">docs</a>)<br/>Sweep page: <a href='https://wandb.ai/amanichopra/chatbot-sweep/sweeps/d8cpqpj5' target=\"_blank\">https://wandb.ai/amanichopra/chatbot-sweep/sweeps/d8cpqpj5</a>"
            ],
            "text/plain": [
              "<IPython.core.display.HTML object>"
            ]
          },
          "metadata": {},
          "output_type": "display_data"
        },
        {
          "data": {
            "text/html": [
              " View project at <a href='https://wandb.ai/amanichopra/chatbot-sweep' target=\"_blank\">https://wandb.ai/amanichopra/chatbot-sweep</a>"
            ],
            "text/plain": [
              "<IPython.core.display.HTML object>"
            ]
          },
          "metadata": {},
          "output_type": "display_data"
        },
        {
          "data": {
            "text/html": [
              " View sweep at <a href='https://wandb.ai/amanichopra/chatbot-sweep/sweeps/d8cpqpj5' target=\"_blank\">https://wandb.ai/amanichopra/chatbot-sweep/sweeps/d8cpqpj5</a>"
            ],
            "text/plain": [
              "<IPython.core.display.HTML object>"
            ]
          },
          "metadata": {},
          "output_type": "display_data"
        },
        {
          "data": {
            "text/html": [
              " View run at <a href='https://wandb.ai/amanichopra/chatbot-sweep/runs/4xpcmsal' target=\"_blank\">https://wandb.ai/amanichopra/chatbot-sweep/runs/4xpcmsal</a>"
            ],
            "text/plain": [
              "<IPython.core.display.HTML object>"
            ]
          },
          "metadata": {},
          "output_type": "display_data"
        },
        {
          "name": "stdout",
          "output_type": "stream",
          "text": [
            "Initializing ...\n",
            "Training...\n"
          ]
        },
        {
          "data": {
            "text/html": [
              "Waiting for W&B process to finish... <strong style=\"color:green\">(success).</strong>"
            ],
            "text/plain": [
              "<IPython.core.display.HTML object>"
            ]
          },
          "metadata": {},
          "output_type": "display_data"
        },
        {
          "data": {
            "application/vnd.jupyter.widget-view+json": {
              "model_id": "3d5ba303471e41fcafe475989fd60df5",
              "version_major": 2,
              "version_minor": 0
            },
            "text/plain": [
              "VBox(children=(Label(value='0.001 MB of 0.001 MB uploaded (0.000 MB deduped)\\r'), FloatProgress(value=1.0, max…"
            ]
          },
          "metadata": {},
          "output_type": "display_data"
        },
        {
          "data": {
            "text/html": [
              "<style>\n",
              "    table.wandb td:nth-child(1) { padding: 0 10px; text-align: left ; width: auto;} td:nth-child(2) {text-align: left ; width: 100%}\n",
              "    .wandb-row { display: flex; flex-direction: row; flex-wrap: wrap; justify-content: flex-start; width: 100% }\n",
              "    .wandb-col { display: flex; flex-direction: column; flex-basis: 100%; flex: 1; padding: 10px; }\n",
              "    </style>\n",
              "<div class=\"wandb-row\"><div class=\"wandb-col\"><h3>Run history:</h3><br/><table class=\"wandb\"><tr><td>iter</td><td>▁▁▁▂▂▂▂▂▂▃▃▃▃▃▄▄▄▄▄▄▅▅▅▅▅▅▆▆▆▆▆▇▇▇▇▇▇███</td></tr></table><br/></div><div class=\"wandb-col\"><h3>Run summary:</h3><br/><table class=\"wandb\"><tr><td>iter</td><td>4000</td></tr><tr><td>loss</td><td>nan</td></tr></table><br/></div></div>"
            ],
            "text/plain": [
              "<IPython.core.display.HTML object>"
            ]
          },
          "metadata": {},
          "output_type": "display_data"
        },
        {
          "data": {
            "text/html": [
              " View run <strong style=\"color:#cdcd00\">warm-sweep-19</strong> at: <a href='https://wandb.ai/amanichopra/chatbot-sweep/runs/4xpcmsal' target=\"_blank\">https://wandb.ai/amanichopra/chatbot-sweep/runs/4xpcmsal</a><br/>Synced 5 W&B file(s), 0 media file(s), 0 artifact file(s) and 0 other file(s)"
            ],
            "text/plain": [
              "<IPython.core.display.HTML object>"
            ]
          },
          "metadata": {},
          "output_type": "display_data"
        },
        {
          "data": {
            "text/html": [
              "Find logs at: <code>./wandb/run-20231106_231832-4xpcmsal/logs</code>"
            ],
            "text/plain": [
              "<IPython.core.display.HTML object>"
            ]
          },
          "metadata": {},
          "output_type": "display_data"
        },
        {
          "name": "stderr",
          "output_type": "stream",
          "text": [
            "\u001b[34m\u001b[1mwandb\u001b[0m: Agent Starting Run: 8i2iqbqt with config:\n",
            "\u001b[34m\u001b[1mwandb\u001b[0m: \tclip: 25\n",
            "\u001b[34m\u001b[1mwandb\u001b[0m: \tdecoder_learning_ratio: 5\n",
            "\u001b[34m\u001b[1mwandb\u001b[0m: \tlr: 0.00025\n",
            "\u001b[34m\u001b[1mwandb\u001b[0m: \toptimizer: adam\n",
            "\u001b[34m\u001b[1mwandb\u001b[0m: \tteacher_forcing_ratio: 1\n"
          ]
        },
        {
          "data": {
            "text/html": [
              "Tracking run with wandb version 0.15.12"
            ],
            "text/plain": [
              "<IPython.core.display.HTML object>"
            ]
          },
          "metadata": {},
          "output_type": "display_data"
        },
        {
          "data": {
            "text/html": [
              "Run data is saved locally in <code>/content/wandb/run-20231106_232150-8i2iqbqt</code>"
            ],
            "text/plain": [
              "<IPython.core.display.HTML object>"
            ]
          },
          "metadata": {},
          "output_type": "display_data"
        },
        {
          "data": {
            "text/html": [
              "Syncing run <strong><a href='https://wandb.ai/amanichopra/chatbot-sweep/runs/8i2iqbqt' target=\"_blank\">colorful-sweep-20</a></strong> to <a href='https://wandb.ai/amanichopra/chatbot-sweep' target=\"_blank\">Weights & Biases</a> (<a href='https://wandb.me/run' target=\"_blank\">docs</a>)<br/>Sweep page: <a href='https://wandb.ai/amanichopra/chatbot-sweep/sweeps/d8cpqpj5' target=\"_blank\">https://wandb.ai/amanichopra/chatbot-sweep/sweeps/d8cpqpj5</a>"
            ],
            "text/plain": [
              "<IPython.core.display.HTML object>"
            ]
          },
          "metadata": {},
          "output_type": "display_data"
        },
        {
          "data": {
            "text/html": [
              " View project at <a href='https://wandb.ai/amanichopra/chatbot-sweep' target=\"_blank\">https://wandb.ai/amanichopra/chatbot-sweep</a>"
            ],
            "text/plain": [
              "<IPython.core.display.HTML object>"
            ]
          },
          "metadata": {},
          "output_type": "display_data"
        },
        {
          "data": {
            "text/html": [
              " View sweep at <a href='https://wandb.ai/amanichopra/chatbot-sweep/sweeps/d8cpqpj5' target=\"_blank\">https://wandb.ai/amanichopra/chatbot-sweep/sweeps/d8cpqpj5</a>"
            ],
            "text/plain": [
              "<IPython.core.display.HTML object>"
            ]
          },
          "metadata": {},
          "output_type": "display_data"
        },
        {
          "data": {
            "text/html": [
              " View run at <a href='https://wandb.ai/amanichopra/chatbot-sweep/runs/8i2iqbqt' target=\"_blank\">https://wandb.ai/amanichopra/chatbot-sweep/runs/8i2iqbqt</a>"
            ],
            "text/plain": [
              "<IPython.core.display.HTML object>"
            ]
          },
          "metadata": {},
          "output_type": "display_data"
        },
        {
          "name": "stdout",
          "output_type": "stream",
          "text": [
            "Initializing ...\n",
            "Training...\n"
          ]
        }
      ],
      "source": [
        "def trainItersWrapper(config=None):\n",
        "  with wandb.init(config=config):\n",
        "    config = wandb.config\n",
        "    if config.optimizer == 'adam':\n",
        "      encoder_optimizer = optim.Adam(encoder.parameters(), lr=config.lr)\n",
        "      decoder_optimizer = optim.Adam(decoder.parameters(), lr=config.lr * config.decoder_learning_ratio)\n",
        "    else:\n",
        "      encoder_optimizer = optim.SGD(encoder.parameters(), lr=config.lr)\n",
        "      decoder_optimizer = optim.SGD(decoder.parameters(), lr=config.lr)\n",
        "\n",
        "    n_iterations = 4000\n",
        "    loadFilename = None\n",
        "    print_every = float('inf')\n",
        "    global teacher_forcing_ratio\n",
        "    teacher_forcing_ratio = config.teacher_forcing_ratio\n",
        "\n",
        "    encoder.train()\n",
        "    decoder.train()\n",
        "    trainIters(model_name, voc, pairs, encoder, decoder, encoder_optimizer, decoder_optimizer,\n",
        "            embedding, encoder_n_layers, decoder_n_layers, save_dir, n_iterations, batch_size,\n",
        "            print_every, None, config.clip, corpus_name, loadFilename, verbose=False, log_wandb=True)\n",
        "\n",
        "wandb.agent(sweep_id, trainItersWrapper, count=20)"
      ]
    },
    {
      "cell_type": "code",
      "execution_count": 33,
      "metadata": {
        "colab": {
          "base_uri": "https://localhost:8080/",
          "height": 395,
          "referenced_widgets": [
            "f55e46054d1a4bc0ae2ab34f5b3b730b",
            "ca4cb1b9df19474b842f9e787dd97d57",
            "5aeaa3f9750b40c0b799f3fc9153c715",
            "179337824b004ee9932da4d79d809753",
            "0a2871761c204189ac964f0063ccfe24",
            "8333c1f8bce8450289ac83b5ce3b068a",
            "dbc564e3cbd84715ae49130d79fcf78d",
            "affb89d63f884547a5282855dadc5e01"
          ]
        },
        "id": "89IIX_ieh9XV",
        "outputId": "85d06afa-4868-41c6-81b3-6006b797c9a8"
      },
      "outputs": [
        {
          "data": {
            "text/html": [
              "Waiting for W&B process to finish... <strong style=\"color:green\">(success).</strong>"
            ],
            "text/plain": [
              "<IPython.core.display.HTML object>"
            ]
          },
          "metadata": {},
          "output_type": "display_data"
        },
        {
          "data": {
            "application/vnd.jupyter.widget-view+json": {
              "model_id": "f55e46054d1a4bc0ae2ab34f5b3b730b",
              "version_major": 2,
              "version_minor": 0
            },
            "text/plain": [
              "VBox(children=(Label(value='0.001 MB of 0.001 MB uploaded (0.000 MB deduped)\\r'), FloatProgress(value=1.0, max…"
            ]
          },
          "metadata": {},
          "output_type": "display_data"
        },
        {
          "data": {
            "text/html": [
              "<style>\n",
              "    table.wandb td:nth-child(1) { padding: 0 10px; text-align: left ; width: auto;} td:nth-child(2) {text-align: left ; width: 100%}\n",
              "    .wandb-row { display: flex; flex-direction: row; flex-wrap: wrap; justify-content: flex-start; width: 100% }\n",
              "    .wandb-col { display: flex; flex-direction: column; flex-basis: 100%; flex: 1; padding: 10px; }\n",
              "    </style>\n",
              "<div class=\"wandb-row\"><div class=\"wandb-col\"><h3>Run history:</h3><br/><table class=\"wandb\"><tr><td>iter</td><td>▁▁▁▂▂▂▂▂▂▃▃▃▃▃▄▄▄▄▄▄▅▅▅▅▅▅▆▆▆▆▆▇▇▇▇▇▇███</td></tr><tr><td>loss</td><td>▂▂▂▇▅▃▇▅▄▂▃▃▂▄█▂▄▂▆▅▃▁▅▇▄▅▄▂▆▆▄▃▅▄▂▃▄▆▃▃</td></tr></table><br/></div><div class=\"wandb-col\"><h3>Run summary:</h3><br/><table class=\"wandb\"><tr><td>iter</td><td>1545</td></tr><tr><td>loss</td><td>0.23038</td></tr></table><br/></div></div>"
            ],
            "text/plain": [
              "<IPython.core.display.HTML object>"
            ]
          },
          "metadata": {},
          "output_type": "display_data"
        },
        {
          "data": {
            "text/html": [
              " View run <strong style=\"color:#cdcd00\">proud-sweep-31</strong> at: <a href='https://wandb.ai/amanichopra/chatbot-sweep/runs/ni0asst6' target=\"_blank\">https://wandb.ai/amanichopra/chatbot-sweep/runs/ni0asst6</a><br/>Synced 5 W&B file(s), 0 media file(s), 0 artifact file(s) and 0 other file(s)"
            ],
            "text/plain": [
              "<IPython.core.display.HTML object>"
            ]
          },
          "metadata": {},
          "output_type": "display_data"
        },
        {
          "data": {
            "text/html": [
              "Find logs at: <code>./wandb/run-20231106_215941-ni0asst6/logs</code>"
            ],
            "text/plain": [
              "<IPython.core.display.HTML object>"
            ]
          },
          "metadata": {},
          "output_type": "display_data"
        },
        {
          "name": "stderr",
          "output_type": "stream",
          "text": [
            "Traceback (most recent call last):\n",
            "  File \"<ipython-input-17-c74afeba3943>\", line 30, in trainIters\n",
            "    wandb.log({\"loss\": loss, \"iter\": iteration})\n",
            "  File \"/usr/local/lib/python3.10/dist-packages/wandb/sdk/lib/preinit.py\", line 36, in preinit_wrapper\n",
            "    raise wandb.Error(f\"You must call wandb.init() before {name}()\")\n",
            "wandb.errors.Error: You must call wandb.init() before wandb.log()\n"
          ]
        }
      ],
      "source": [
        "wandb.finish()"
      ]
    },
    {
      "cell_type": "markdown",
      "metadata": {
        "id": "Q5XPXQ-heG9R"
      },
      "source": [
        "Let's retrain the model with the optimal hyperparameters and save."
      ]
    },
    {
      "cell_type": "markdown",
      "metadata": {
        "id": "EFa42UNY97-V"
      },
      "source": [
        "Optimal hyperparamters are shown [here](https://wandb.ai/amanichopra/chatbot-sweep/runs/daypfx9d/overview?workspace=user-amanichopra)."
      ]
    },
    {
      "cell_type": "code",
      "execution_count": 21,
      "metadata": {
        "colab": {
          "base_uri": "https://localhost:8080/"
        },
        "id": "Sv8_DO7PeFug",
        "outputId": "c080ba11-3024-4fb2-8fd1-e84911662d90"
      },
      "outputs": [
        {
          "name": "stdout",
          "output_type": "stream",
          "text": [
            "Building encoder and decoder ...\n",
            "Models built and ready to go!\n",
            "Building optimizers ...\n",
            "Starting Training!\n",
            "Initializing ...\n",
            "Training...\n",
            "Iteration: 1; Percent complete: 0.0%; Average loss: 9.8116\n",
            "Iteration: 2; Percent complete: 0.1%; Average loss: 9.8092\n",
            "Iteration: 3; Percent complete: 0.1%; Average loss: 9.8060\n",
            "Iteration: 4; Percent complete: 0.1%; Average loss: 9.8093\n",
            "Iteration: 5; Percent complete: 0.1%; Average loss: 9.8060\n",
            "Iteration: 6; Percent complete: 0.1%; Average loss: 9.8120\n",
            "Iteration: 7; Percent complete: 0.2%; Average loss: 9.8067\n",
            "Iteration: 8; Percent complete: 0.2%; Average loss: 9.8072\n",
            "Iteration: 9; Percent complete: 0.2%; Average loss: 9.8047\n",
            "Iteration: 10; Percent complete: 0.2%; Average loss: 9.8023\n",
            "Iteration: 11; Percent complete: 0.3%; Average loss: 9.8068\n",
            "Iteration: 12; Percent complete: 0.3%; Average loss: 9.8038\n",
            "Iteration: 13; Percent complete: 0.3%; Average loss: 9.8014\n",
            "Iteration: 14; Percent complete: 0.4%; Average loss: 9.8008\n",
            "Iteration: 15; Percent complete: 0.4%; Average loss: 9.8009\n",
            "Iteration: 16; Percent complete: 0.4%; Average loss: 9.7958\n",
            "Iteration: 17; Percent complete: 0.4%; Average loss: 9.7976\n",
            "Iteration: 18; Percent complete: 0.4%; Average loss: 9.7997\n",
            "Iteration: 19; Percent complete: 0.5%; Average loss: 9.7988\n",
            "Iteration: 20; Percent complete: 0.5%; Average loss: 9.7953\n",
            "Iteration: 21; Percent complete: 0.5%; Average loss: 9.8023\n",
            "Iteration: 22; Percent complete: 0.5%; Average loss: 9.7997\n",
            "Iteration: 23; Percent complete: 0.6%; Average loss: 9.7944\n",
            "Iteration: 24; Percent complete: 0.6%; Average loss: 9.7920\n",
            "Iteration: 25; Percent complete: 0.6%; Average loss: 9.7936\n",
            "Iteration: 26; Percent complete: 0.7%; Average loss: 9.7905\n",
            "Iteration: 27; Percent complete: 0.7%; Average loss: 9.7917\n",
            "Iteration: 28; Percent complete: 0.7%; Average loss: 9.7937\n",
            "Iteration: 29; Percent complete: 0.7%; Average loss: 9.7871\n",
            "Iteration: 30; Percent complete: 0.8%; Average loss: 9.7890\n",
            "Iteration: 31; Percent complete: 0.8%; Average loss: 9.7944\n",
            "Iteration: 32; Percent complete: 0.8%; Average loss: 9.7888\n",
            "Iteration: 33; Percent complete: 0.8%; Average loss: 9.7878\n",
            "Iteration: 34; Percent complete: 0.9%; Average loss: 9.7896\n",
            "Iteration: 35; Percent complete: 0.9%; Average loss: 9.7871\n",
            "Iteration: 36; Percent complete: 0.9%; Average loss: 9.7855\n",
            "Iteration: 37; Percent complete: 0.9%; Average loss: 9.7772\n",
            "Iteration: 38; Percent complete: 0.9%; Average loss: 9.7773\n",
            "Iteration: 39; Percent complete: 1.0%; Average loss: 9.7840\n",
            "Iteration: 40; Percent complete: 1.0%; Average loss: 9.7790\n",
            "Iteration: 41; Percent complete: 1.0%; Average loss: 9.7785\n",
            "Iteration: 42; Percent complete: 1.1%; Average loss: 9.7765\n",
            "Iteration: 43; Percent complete: 1.1%; Average loss: 9.7767\n",
            "Iteration: 44; Percent complete: 1.1%; Average loss: 9.7821\n",
            "Iteration: 45; Percent complete: 1.1%; Average loss: 9.7824\n",
            "Iteration: 46; Percent complete: 1.1%; Average loss: 9.7778\n",
            "Iteration: 47; Percent complete: 1.2%; Average loss: 9.7781\n",
            "Iteration: 48; Percent complete: 1.2%; Average loss: 9.7768\n",
            "Iteration: 49; Percent complete: 1.2%; Average loss: 9.7759\n",
            "Iteration: 50; Percent complete: 1.2%; Average loss: 9.7738\n",
            "Iteration: 51; Percent complete: 1.3%; Average loss: 9.7687\n",
            "Iteration: 52; Percent complete: 1.3%; Average loss: 9.7771\n",
            "Iteration: 53; Percent complete: 1.3%; Average loss: 9.7682\n",
            "Iteration: 54; Percent complete: 1.4%; Average loss: 9.7690\n",
            "Iteration: 55; Percent complete: 1.4%; Average loss: 9.7707\n",
            "Iteration: 56; Percent complete: 1.4%; Average loss: 9.7707\n",
            "Iteration: 57; Percent complete: 1.4%; Average loss: 9.7618\n",
            "Iteration: 58; Percent complete: 1.5%; Average loss: 9.7678\n",
            "Iteration: 59; Percent complete: 1.5%; Average loss: 9.7624\n",
            "Iteration: 60; Percent complete: 1.5%; Average loss: 9.7642\n",
            "Iteration: 61; Percent complete: 1.5%; Average loss: 9.7602\n",
            "Iteration: 62; Percent complete: 1.6%; Average loss: 9.7550\n",
            "Iteration: 63; Percent complete: 1.6%; Average loss: 9.7631\n",
            "Iteration: 64; Percent complete: 1.6%; Average loss: 9.7636\n",
            "Iteration: 65; Percent complete: 1.6%; Average loss: 9.7634\n",
            "Iteration: 66; Percent complete: 1.7%; Average loss: 9.7642\n",
            "Iteration: 67; Percent complete: 1.7%; Average loss: 9.7603\n",
            "Iteration: 68; Percent complete: 1.7%; Average loss: 9.7576\n",
            "Iteration: 69; Percent complete: 1.7%; Average loss: 9.7568\n",
            "Iteration: 70; Percent complete: 1.8%; Average loss: 9.7559\n",
            "Iteration: 71; Percent complete: 1.8%; Average loss: 9.7544\n",
            "Iteration: 72; Percent complete: 1.8%; Average loss: 9.7562\n",
            "Iteration: 73; Percent complete: 1.8%; Average loss: 9.7528\n",
            "Iteration: 74; Percent complete: 1.8%; Average loss: 9.7571\n",
            "Iteration: 75; Percent complete: 1.9%; Average loss: 9.7518\n",
            "Iteration: 76; Percent complete: 1.9%; Average loss: 9.7481\n",
            "Iteration: 77; Percent complete: 1.9%; Average loss: 9.7432\n",
            "Iteration: 78; Percent complete: 1.9%; Average loss: 9.7467\n",
            "Iteration: 79; Percent complete: 2.0%; Average loss: 9.7437\n",
            "Iteration: 80; Percent complete: 2.0%; Average loss: 9.7483\n",
            "Iteration: 81; Percent complete: 2.0%; Average loss: 9.7435\n",
            "Iteration: 82; Percent complete: 2.1%; Average loss: 9.7446\n",
            "Iteration: 83; Percent complete: 2.1%; Average loss: 9.7314\n",
            "Iteration: 84; Percent complete: 2.1%; Average loss: 9.7379\n",
            "Iteration: 85; Percent complete: 2.1%; Average loss: 9.7486\n",
            "Iteration: 86; Percent complete: 2.1%; Average loss: 9.7467\n",
            "Iteration: 87; Percent complete: 2.2%; Average loss: 9.7461\n",
            "Iteration: 88; Percent complete: 2.2%; Average loss: 9.7408\n",
            "Iteration: 89; Percent complete: 2.2%; Average loss: 9.7363\n",
            "Iteration: 90; Percent complete: 2.2%; Average loss: 9.7426\n",
            "Iteration: 91; Percent complete: 2.3%; Average loss: 9.7385\n",
            "Iteration: 92; Percent complete: 2.3%; Average loss: 9.7389\n",
            "Iteration: 93; Percent complete: 2.3%; Average loss: 9.7376\n",
            "Iteration: 94; Percent complete: 2.4%; Average loss: 9.7360\n",
            "Iteration: 95; Percent complete: 2.4%; Average loss: 9.7414\n",
            "Iteration: 96; Percent complete: 2.4%; Average loss: 9.7389\n",
            "Iteration: 97; Percent complete: 2.4%; Average loss: 9.7288\n",
            "Iteration: 98; Percent complete: 2.5%; Average loss: 9.7223\n",
            "Iteration: 99; Percent complete: 2.5%; Average loss: 9.7427\n",
            "Iteration: 100; Percent complete: 2.5%; Average loss: 9.7251\n",
            "Iteration: 101; Percent complete: 2.5%; Average loss: 9.7182\n",
            "Iteration: 102; Percent complete: 2.5%; Average loss: 9.7233\n",
            "Iteration: 103; Percent complete: 2.6%; Average loss: 9.7210\n",
            "Iteration: 104; Percent complete: 2.6%; Average loss: 9.7272\n",
            "Iteration: 105; Percent complete: 2.6%; Average loss: 9.7113\n",
            "Iteration: 106; Percent complete: 2.6%; Average loss: 9.7311\n",
            "Iteration: 107; Percent complete: 2.7%; Average loss: 9.7228\n",
            "Iteration: 108; Percent complete: 2.7%; Average loss: 9.7155\n",
            "Iteration: 109; Percent complete: 2.7%; Average loss: 9.7195\n",
            "Iteration: 110; Percent complete: 2.8%; Average loss: 9.7181\n",
            "Iteration: 111; Percent complete: 2.8%; Average loss: 9.7134\n",
            "Iteration: 112; Percent complete: 2.8%; Average loss: 9.7119\n",
            "Iteration: 113; Percent complete: 2.8%; Average loss: 9.7085\n",
            "Iteration: 114; Percent complete: 2.9%; Average loss: 9.7208\n",
            "Iteration: 115; Percent complete: 2.9%; Average loss: 9.7114\n",
            "Iteration: 116; Percent complete: 2.9%; Average loss: 9.7014\n",
            "Iteration: 117; Percent complete: 2.9%; Average loss: 9.7047\n",
            "Iteration: 118; Percent complete: 2.9%; Average loss: 9.7050\n",
            "Iteration: 119; Percent complete: 3.0%; Average loss: 9.7083\n",
            "Iteration: 120; Percent complete: 3.0%; Average loss: 9.6999\n",
            "Iteration: 121; Percent complete: 3.0%; Average loss: 9.7143\n",
            "Iteration: 122; Percent complete: 3.0%; Average loss: 9.7018\n",
            "Iteration: 123; Percent complete: 3.1%; Average loss: 9.6977\n",
            "Iteration: 124; Percent complete: 3.1%; Average loss: 9.6846\n",
            "Iteration: 125; Percent complete: 3.1%; Average loss: 9.6975\n",
            "Iteration: 126; Percent complete: 3.1%; Average loss: 9.7038\n",
            "Iteration: 127; Percent complete: 3.2%; Average loss: 9.7094\n",
            "Iteration: 128; Percent complete: 3.2%; Average loss: 9.6878\n",
            "Iteration: 129; Percent complete: 3.2%; Average loss: 9.6903\n",
            "Iteration: 130; Percent complete: 3.2%; Average loss: 9.6982\n",
            "Iteration: 131; Percent complete: 3.3%; Average loss: 9.6993\n",
            "Iteration: 132; Percent complete: 3.3%; Average loss: 9.7008\n",
            "Iteration: 133; Percent complete: 3.3%; Average loss: 9.6966\n",
            "Iteration: 134; Percent complete: 3.4%; Average loss: 9.6912\n",
            "Iteration: 135; Percent complete: 3.4%; Average loss: 9.6937\n",
            "Iteration: 136; Percent complete: 3.4%; Average loss: 9.6981\n",
            "Iteration: 137; Percent complete: 3.4%; Average loss: 9.6813\n",
            "Iteration: 138; Percent complete: 3.5%; Average loss: 9.6883\n",
            "Iteration: 139; Percent complete: 3.5%; Average loss: 9.6939\n",
            "Iteration: 140; Percent complete: 3.5%; Average loss: 9.6665\n",
            "Iteration: 141; Percent complete: 3.5%; Average loss: 9.6777\n",
            "Iteration: 142; Percent complete: 3.5%; Average loss: 9.6810\n",
            "Iteration: 143; Percent complete: 3.6%; Average loss: 9.6725\n",
            "Iteration: 144; Percent complete: 3.6%; Average loss: 9.6626\n",
            "Iteration: 145; Percent complete: 3.6%; Average loss: 9.6574\n",
            "Iteration: 146; Percent complete: 3.6%; Average loss: 9.6807\n",
            "Iteration: 147; Percent complete: 3.7%; Average loss: 9.6685\n",
            "Iteration: 148; Percent complete: 3.7%; Average loss: 9.6733\n",
            "Iteration: 149; Percent complete: 3.7%; Average loss: 9.6627\n",
            "Iteration: 150; Percent complete: 3.8%; Average loss: 9.6655\n",
            "Iteration: 151; Percent complete: 3.8%; Average loss: 9.6684\n",
            "Iteration: 152; Percent complete: 3.8%; Average loss: 9.6676\n",
            "Iteration: 153; Percent complete: 3.8%; Average loss: 9.6473\n",
            "Iteration: 154; Percent complete: 3.9%; Average loss: 9.6532\n",
            "Iteration: 155; Percent complete: 3.9%; Average loss: 9.6529\n",
            "Iteration: 156; Percent complete: 3.9%; Average loss: 9.6519\n",
            "Iteration: 157; Percent complete: 3.9%; Average loss: 9.6518\n",
            "Iteration: 158; Percent complete: 4.0%; Average loss: 9.6502\n",
            "Iteration: 159; Percent complete: 4.0%; Average loss: 9.6427\n",
            "Iteration: 160; Percent complete: 4.0%; Average loss: 9.6577\n",
            "Iteration: 161; Percent complete: 4.0%; Average loss: 9.6502\n",
            "Iteration: 162; Percent complete: 4.0%; Average loss: 9.6599\n",
            "Iteration: 163; Percent complete: 4.1%; Average loss: 9.6400\n",
            "Iteration: 164; Percent complete: 4.1%; Average loss: 9.6505\n",
            "Iteration: 165; Percent complete: 4.1%; Average loss: 9.6325\n",
            "Iteration: 166; Percent complete: 4.2%; Average loss: 9.6502\n",
            "Iteration: 167; Percent complete: 4.2%; Average loss: 9.6360\n",
            "Iteration: 168; Percent complete: 4.2%; Average loss: 9.6331\n",
            "Iteration: 169; Percent complete: 4.2%; Average loss: 9.6244\n",
            "Iteration: 170; Percent complete: 4.2%; Average loss: 9.6337\n",
            "Iteration: 171; Percent complete: 4.3%; Average loss: 9.6439\n",
            "Iteration: 172; Percent complete: 4.3%; Average loss: 9.6130\n",
            "Iteration: 173; Percent complete: 4.3%; Average loss: 9.6371\n",
            "Iteration: 174; Percent complete: 4.3%; Average loss: 9.6305\n",
            "Iteration: 175; Percent complete: 4.4%; Average loss: 9.6164\n",
            "Iteration: 176; Percent complete: 4.4%; Average loss: 9.6135\n",
            "Iteration: 177; Percent complete: 4.4%; Average loss: 9.6037\n",
            "Iteration: 178; Percent complete: 4.5%; Average loss: 9.6023\n",
            "Iteration: 179; Percent complete: 4.5%; Average loss: 9.6132\n",
            "Iteration: 180; Percent complete: 4.5%; Average loss: 9.5977\n",
            "Iteration: 181; Percent complete: 4.5%; Average loss: 9.5992\n",
            "Iteration: 182; Percent complete: 4.5%; Average loss: 9.6146\n",
            "Iteration: 183; Percent complete: 4.6%; Average loss: 9.6072\n",
            "Iteration: 184; Percent complete: 4.6%; Average loss: 9.6245\n",
            "Iteration: 185; Percent complete: 4.6%; Average loss: 9.5796\n",
            "Iteration: 186; Percent complete: 4.7%; Average loss: 9.6073\n",
            "Iteration: 187; Percent complete: 4.7%; Average loss: 9.6053\n",
            "Iteration: 188; Percent complete: 4.7%; Average loss: 9.5822\n",
            "Iteration: 189; Percent complete: 4.7%; Average loss: 9.5983\n",
            "Iteration: 190; Percent complete: 4.8%; Average loss: 9.5874\n",
            "Iteration: 191; Percent complete: 4.8%; Average loss: 9.5414\n",
            "Iteration: 192; Percent complete: 4.8%; Average loss: 9.5481\n",
            "Iteration: 193; Percent complete: 4.8%; Average loss: 9.5739\n",
            "Iteration: 194; Percent complete: 4.9%; Average loss: 9.5575\n",
            "Iteration: 195; Percent complete: 4.9%; Average loss: 9.5656\n",
            "Iteration: 196; Percent complete: 4.9%; Average loss: 9.5763\n",
            "Iteration: 197; Percent complete: 4.9%; Average loss: 9.5360\n",
            "Iteration: 198; Percent complete: 5.0%; Average loss: 9.5413\n",
            "Iteration: 199; Percent complete: 5.0%; Average loss: 9.5632\n",
            "Iteration: 200; Percent complete: 5.0%; Average loss: 9.5721\n",
            "Iteration: 201; Percent complete: 5.0%; Average loss: 9.5600\n",
            "Iteration: 202; Percent complete: 5.1%; Average loss: 9.5446\n",
            "Iteration: 203; Percent complete: 5.1%; Average loss: 9.5261\n",
            "Iteration: 204; Percent complete: 5.1%; Average loss: 9.5317\n",
            "Iteration: 205; Percent complete: 5.1%; Average loss: 9.5083\n",
            "Iteration: 206; Percent complete: 5.1%; Average loss: 9.5200\n",
            "Iteration: 207; Percent complete: 5.2%; Average loss: 9.5221\n",
            "Iteration: 208; Percent complete: 5.2%; Average loss: 9.4987\n",
            "Iteration: 209; Percent complete: 5.2%; Average loss: 9.5186\n",
            "Iteration: 210; Percent complete: 5.2%; Average loss: 9.5089\n",
            "Iteration: 211; Percent complete: 5.3%; Average loss: 9.5382\n",
            "Iteration: 212; Percent complete: 5.3%; Average loss: 9.5299\n",
            "Iteration: 213; Percent complete: 5.3%; Average loss: 9.5398\n",
            "Iteration: 214; Percent complete: 5.3%; Average loss: 9.4684\n",
            "Iteration: 215; Percent complete: 5.4%; Average loss: 9.4861\n",
            "Iteration: 216; Percent complete: 5.4%; Average loss: 9.4974\n",
            "Iteration: 217; Percent complete: 5.4%; Average loss: 9.4828\n",
            "Iteration: 218; Percent complete: 5.5%; Average loss: 9.4792\n",
            "Iteration: 219; Percent complete: 5.5%; Average loss: 9.5011\n",
            "Iteration: 220; Percent complete: 5.5%; Average loss: 9.4710\n",
            "Iteration: 221; Percent complete: 5.5%; Average loss: 9.4984\n",
            "Iteration: 222; Percent complete: 5.5%; Average loss: 9.4427\n",
            "Iteration: 223; Percent complete: 5.6%; Average loss: 9.4618\n",
            "Iteration: 224; Percent complete: 5.6%; Average loss: 9.4169\n",
            "Iteration: 225; Percent complete: 5.6%; Average loss: 9.4184\n",
            "Iteration: 226; Percent complete: 5.7%; Average loss: 9.4599\n",
            "Iteration: 227; Percent complete: 5.7%; Average loss: 9.4329\n",
            "Iteration: 228; Percent complete: 5.7%; Average loss: 9.4144\n",
            "Iteration: 229; Percent complete: 5.7%; Average loss: 9.4399\n",
            "Iteration: 230; Percent complete: 5.8%; Average loss: 9.3957\n",
            "Iteration: 231; Percent complete: 5.8%; Average loss: 9.4513\n",
            "Iteration: 232; Percent complete: 5.8%; Average loss: 9.4309\n",
            "Iteration: 233; Percent complete: 5.8%; Average loss: 9.4208\n",
            "Iteration: 234; Percent complete: 5.9%; Average loss: 9.3962\n",
            "Iteration: 235; Percent complete: 5.9%; Average loss: 9.4190\n",
            "Iteration: 236; Percent complete: 5.9%; Average loss: 9.4020\n",
            "Iteration: 237; Percent complete: 5.9%; Average loss: 9.4353\n",
            "Iteration: 238; Percent complete: 5.9%; Average loss: 9.4101\n",
            "Iteration: 239; Percent complete: 6.0%; Average loss: 9.3557\n",
            "Iteration: 240; Percent complete: 6.0%; Average loss: 9.4028\n",
            "Iteration: 241; Percent complete: 6.0%; Average loss: 9.3729\n",
            "Iteration: 242; Percent complete: 6.0%; Average loss: 9.3178\n",
            "Iteration: 243; Percent complete: 6.1%; Average loss: 9.3469\n",
            "Iteration: 244; Percent complete: 6.1%; Average loss: 9.3660\n",
            "Iteration: 245; Percent complete: 6.1%; Average loss: 9.3309\n",
            "Iteration: 246; Percent complete: 6.2%; Average loss: 9.3373\n",
            "Iteration: 247; Percent complete: 6.2%; Average loss: 9.3339\n",
            "Iteration: 248; Percent complete: 6.2%; Average loss: 9.2906\n",
            "Iteration: 249; Percent complete: 6.2%; Average loss: 9.3210\n",
            "Iteration: 250; Percent complete: 6.2%; Average loss: 9.3342\n",
            "Iteration: 251; Percent complete: 6.3%; Average loss: 9.3238\n",
            "Iteration: 252; Percent complete: 6.3%; Average loss: 9.2669\n",
            "Iteration: 253; Percent complete: 6.3%; Average loss: 9.2831\n",
            "Iteration: 254; Percent complete: 6.3%; Average loss: 9.2880\n",
            "Iteration: 255; Percent complete: 6.4%; Average loss: 9.2573\n",
            "Iteration: 256; Percent complete: 6.4%; Average loss: 9.2650\n",
            "Iteration: 257; Percent complete: 6.4%; Average loss: 9.2937\n",
            "Iteration: 258; Percent complete: 6.5%; Average loss: 9.3069\n",
            "Iteration: 259; Percent complete: 6.5%; Average loss: 9.2604\n",
            "Iteration: 260; Percent complete: 6.5%; Average loss: 9.1994\n",
            "Iteration: 261; Percent complete: 6.5%; Average loss: 9.2678\n",
            "Iteration: 262; Percent complete: 6.6%; Average loss: 9.2200\n",
            "Iteration: 263; Percent complete: 6.6%; Average loss: 9.2100\n",
            "Iteration: 264; Percent complete: 6.6%; Average loss: 9.1839\n",
            "Iteration: 265; Percent complete: 6.6%; Average loss: 9.2028\n",
            "Iteration: 266; Percent complete: 6.7%; Average loss: 9.2000\n",
            "Iteration: 267; Percent complete: 6.7%; Average loss: 9.0687\n",
            "Iteration: 268; Percent complete: 6.7%; Average loss: 9.1881\n",
            "Iteration: 269; Percent complete: 6.7%; Average loss: 9.1450\n",
            "Iteration: 270; Percent complete: 6.8%; Average loss: 9.1085\n",
            "Iteration: 271; Percent complete: 6.8%; Average loss: 9.1555\n",
            "Iteration: 272; Percent complete: 6.8%; Average loss: 8.9703\n",
            "Iteration: 273; Percent complete: 6.8%; Average loss: 9.1214\n",
            "Iteration: 274; Percent complete: 6.9%; Average loss: 9.0996\n",
            "Iteration: 275; Percent complete: 6.9%; Average loss: 9.0983\n",
            "Iteration: 276; Percent complete: 6.9%; Average loss: 8.9965\n",
            "Iteration: 277; Percent complete: 6.9%; Average loss: 9.0615\n",
            "Iteration: 278; Percent complete: 7.0%; Average loss: 9.1046\n",
            "Iteration: 279; Percent complete: 7.0%; Average loss: 9.0531\n",
            "Iteration: 280; Percent complete: 7.0%; Average loss: 8.9871\n",
            "Iteration: 281; Percent complete: 7.0%; Average loss: 8.9849\n",
            "Iteration: 282; Percent complete: 7.0%; Average loss: 8.9567\n",
            "Iteration: 283; Percent complete: 7.1%; Average loss: 8.8542\n",
            "Iteration: 284; Percent complete: 7.1%; Average loss: 8.9886\n",
            "Iteration: 285; Percent complete: 7.1%; Average loss: 8.9652\n",
            "Iteration: 286; Percent complete: 7.1%; Average loss: 8.9729\n",
            "Iteration: 287; Percent complete: 7.2%; Average loss: 8.9865\n",
            "Iteration: 288; Percent complete: 7.2%; Average loss: 8.9830\n",
            "Iteration: 289; Percent complete: 7.2%; Average loss: 8.7871\n",
            "Iteration: 290; Percent complete: 7.2%; Average loss: 8.7912\n",
            "Iteration: 291; Percent complete: 7.3%; Average loss: 8.9121\n",
            "Iteration: 292; Percent complete: 7.3%; Average loss: 8.8643\n",
            "Iteration: 293; Percent complete: 7.3%; Average loss: 8.9417\n",
            "Iteration: 294; Percent complete: 7.3%; Average loss: 8.7749\n",
            "Iteration: 295; Percent complete: 7.4%; Average loss: 8.8023\n",
            "Iteration: 296; Percent complete: 7.4%; Average loss: 8.8771\n",
            "Iteration: 297; Percent complete: 7.4%; Average loss: 8.7562\n",
            "Iteration: 298; Percent complete: 7.4%; Average loss: 8.8417\n",
            "Iteration: 299; Percent complete: 7.5%; Average loss: 8.7612\n",
            "Iteration: 300; Percent complete: 7.5%; Average loss: 8.6590\n",
            "Iteration: 301; Percent complete: 7.5%; Average loss: 8.7115\n",
            "Iteration: 302; Percent complete: 7.5%; Average loss: 8.6888\n",
            "Iteration: 303; Percent complete: 7.6%; Average loss: 8.7164\n",
            "Iteration: 304; Percent complete: 7.6%; Average loss: 8.7835\n",
            "Iteration: 305; Percent complete: 7.6%; Average loss: 8.6880\n",
            "Iteration: 306; Percent complete: 7.6%; Average loss: 8.7118\n",
            "Iteration: 307; Percent complete: 7.7%; Average loss: 8.6415\n",
            "Iteration: 308; Percent complete: 7.7%; Average loss: 8.5337\n",
            "Iteration: 309; Percent complete: 7.7%; Average loss: 8.6350\n",
            "Iteration: 310; Percent complete: 7.8%; Average loss: 8.4781\n",
            "Iteration: 311; Percent complete: 7.8%; Average loss: 8.6131\n",
            "Iteration: 312; Percent complete: 7.8%; Average loss: 8.6323\n",
            "Iteration: 313; Percent complete: 7.8%; Average loss: 8.7097\n",
            "Iteration: 314; Percent complete: 7.8%; Average loss: 8.6056\n",
            "Iteration: 315; Percent complete: 7.9%; Average loss: 8.5324\n",
            "Iteration: 316; Percent complete: 7.9%; Average loss: 8.4420\n",
            "Iteration: 317; Percent complete: 7.9%; Average loss: 8.4543\n",
            "Iteration: 318; Percent complete: 8.0%; Average loss: 8.4211\n",
            "Iteration: 319; Percent complete: 8.0%; Average loss: 8.3323\n",
            "Iteration: 320; Percent complete: 8.0%; Average loss: 8.4686\n",
            "Iteration: 321; Percent complete: 8.0%; Average loss: 8.4167\n",
            "Iteration: 322; Percent complete: 8.1%; Average loss: 8.4420\n",
            "Iteration: 323; Percent complete: 8.1%; Average loss: 8.3185\n",
            "Iteration: 324; Percent complete: 8.1%; Average loss: 8.2374\n",
            "Iteration: 325; Percent complete: 8.1%; Average loss: 8.1874\n",
            "Iteration: 326; Percent complete: 8.2%; Average loss: 8.2716\n",
            "Iteration: 327; Percent complete: 8.2%; Average loss: 8.3726\n",
            "Iteration: 328; Percent complete: 8.2%; Average loss: 8.3308\n",
            "Iteration: 329; Percent complete: 8.2%; Average loss: 8.0253\n",
            "Iteration: 330; Percent complete: 8.2%; Average loss: 8.2501\n",
            "Iteration: 331; Percent complete: 8.3%; Average loss: 7.9545\n",
            "Iteration: 332; Percent complete: 8.3%; Average loss: 8.2800\n",
            "Iteration: 333; Percent complete: 8.3%; Average loss: 8.1318\n",
            "Iteration: 334; Percent complete: 8.3%; Average loss: 8.0271\n",
            "Iteration: 335; Percent complete: 8.4%; Average loss: 8.1333\n",
            "Iteration: 336; Percent complete: 8.4%; Average loss: 7.9364\n",
            "Iteration: 337; Percent complete: 8.4%; Average loss: 7.9840\n",
            "Iteration: 338; Percent complete: 8.5%; Average loss: 8.2081\n",
            "Iteration: 339; Percent complete: 8.5%; Average loss: 8.1739\n",
            "Iteration: 340; Percent complete: 8.5%; Average loss: 8.0841\n",
            "Iteration: 341; Percent complete: 8.5%; Average loss: 7.9885\n",
            "Iteration: 342; Percent complete: 8.6%; Average loss: 7.7131\n",
            "Iteration: 343; Percent complete: 8.6%; Average loss: 7.9922\n",
            "Iteration: 344; Percent complete: 8.6%; Average loss: 7.9007\n",
            "Iteration: 345; Percent complete: 8.6%; Average loss: 7.9654\n",
            "Iteration: 346; Percent complete: 8.6%; Average loss: 7.9386\n",
            "Iteration: 347; Percent complete: 8.7%; Average loss: 7.9027\n",
            "Iteration: 348; Percent complete: 8.7%; Average loss: 7.9526\n",
            "Iteration: 349; Percent complete: 8.7%; Average loss: 7.8515\n",
            "Iteration: 350; Percent complete: 8.8%; Average loss: 7.9464\n",
            "Iteration: 351; Percent complete: 8.8%; Average loss: 7.8375\n",
            "Iteration: 352; Percent complete: 8.8%; Average loss: 8.0202\n",
            "Iteration: 353; Percent complete: 8.8%; Average loss: 7.9595\n",
            "Iteration: 354; Percent complete: 8.8%; Average loss: 7.9423\n",
            "Iteration: 355; Percent complete: 8.9%; Average loss: 7.8403\n",
            "Iteration: 356; Percent complete: 8.9%; Average loss: 7.8694\n",
            "Iteration: 357; Percent complete: 8.9%; Average loss: 7.8933\n",
            "Iteration: 358; Percent complete: 8.9%; Average loss: 7.8158\n",
            "Iteration: 359; Percent complete: 9.0%; Average loss: 7.7169\n",
            "Iteration: 360; Percent complete: 9.0%; Average loss: 7.7958\n",
            "Iteration: 361; Percent complete: 9.0%; Average loss: 8.0163\n",
            "Iteration: 362; Percent complete: 9.0%; Average loss: 7.8533\n",
            "Iteration: 363; Percent complete: 9.1%; Average loss: 7.7873\n",
            "Iteration: 364; Percent complete: 9.1%; Average loss: 8.0329\n",
            "Iteration: 365; Percent complete: 9.1%; Average loss: 7.6649\n",
            "Iteration: 366; Percent complete: 9.2%; Average loss: 7.9304\n",
            "Iteration: 367; Percent complete: 9.2%; Average loss: 7.8271\n",
            "Iteration: 368; Percent complete: 9.2%; Average loss: 7.8974\n",
            "Iteration: 369; Percent complete: 9.2%; Average loss: 8.1070\n",
            "Iteration: 370; Percent complete: 9.2%; Average loss: 7.6138\n",
            "Iteration: 371; Percent complete: 9.3%; Average loss: 7.9070\n",
            "Iteration: 372; Percent complete: 9.3%; Average loss: 7.9301\n",
            "Iteration: 373; Percent complete: 9.3%; Average loss: 7.4999\n",
            "Iteration: 374; Percent complete: 9.3%; Average loss: 7.6663\n",
            "Iteration: 375; Percent complete: 9.4%; Average loss: 7.6826\n",
            "Iteration: 376; Percent complete: 9.4%; Average loss: 7.7826\n",
            "Iteration: 377; Percent complete: 9.4%; Average loss: 7.8468\n",
            "Iteration: 378; Percent complete: 9.4%; Average loss: 7.8043\n",
            "Iteration: 379; Percent complete: 9.5%; Average loss: 7.8258\n",
            "Iteration: 380; Percent complete: 9.5%; Average loss: 7.4647\n",
            "Iteration: 381; Percent complete: 9.5%; Average loss: 7.7895\n",
            "Iteration: 382; Percent complete: 9.6%; Average loss: 7.5932\n",
            "Iteration: 383; Percent complete: 9.6%; Average loss: 7.8023\n",
            "Iteration: 384; Percent complete: 9.6%; Average loss: 7.8675\n",
            "Iteration: 385; Percent complete: 9.6%; Average loss: 7.6952\n",
            "Iteration: 386; Percent complete: 9.7%; Average loss: 7.9025\n",
            "Iteration: 387; Percent complete: 9.7%; Average loss: 7.7756\n",
            "Iteration: 388; Percent complete: 9.7%; Average loss: 7.4574\n",
            "Iteration: 389; Percent complete: 9.7%; Average loss: 7.6499\n",
            "Iteration: 390; Percent complete: 9.8%; Average loss: 7.5699\n",
            "Iteration: 391; Percent complete: 9.8%; Average loss: 7.4298\n",
            "Iteration: 392; Percent complete: 9.8%; Average loss: 7.5784\n",
            "Iteration: 393; Percent complete: 9.8%; Average loss: 7.6953\n",
            "Iteration: 394; Percent complete: 9.8%; Average loss: 7.5301\n",
            "Iteration: 395; Percent complete: 9.9%; Average loss: 7.6152\n",
            "Iteration: 396; Percent complete: 9.9%; Average loss: 7.6329\n",
            "Iteration: 397; Percent complete: 9.9%; Average loss: 7.7254\n",
            "Iteration: 398; Percent complete: 10.0%; Average loss: 7.3944\n",
            "Iteration: 399; Percent complete: 10.0%; Average loss: 7.5378\n",
            "Iteration: 400; Percent complete: 10.0%; Average loss: 7.6669\n",
            "Iteration: 401; Percent complete: 10.0%; Average loss: 7.6570\n",
            "Iteration: 402; Percent complete: 10.1%; Average loss: 7.6445\n",
            "Iteration: 403; Percent complete: 10.1%; Average loss: 7.7646\n",
            "Iteration: 404; Percent complete: 10.1%; Average loss: 7.5681\n",
            "Iteration: 405; Percent complete: 10.1%; Average loss: 7.5666\n",
            "Iteration: 406; Percent complete: 10.2%; Average loss: 7.7483\n",
            "Iteration: 407; Percent complete: 10.2%; Average loss: 7.6270\n",
            "Iteration: 408; Percent complete: 10.2%; Average loss: 7.7503\n",
            "Iteration: 409; Percent complete: 10.2%; Average loss: 7.5238\n",
            "Iteration: 410; Percent complete: 10.2%; Average loss: 7.6775\n",
            "Iteration: 411; Percent complete: 10.3%; Average loss: 7.5640\n",
            "Iteration: 412; Percent complete: 10.3%; Average loss: 7.5390\n",
            "Iteration: 413; Percent complete: 10.3%; Average loss: 7.4782\n",
            "Iteration: 414; Percent complete: 10.3%; Average loss: 7.5953\n",
            "Iteration: 415; Percent complete: 10.4%; Average loss: 7.4405\n",
            "Iteration: 416; Percent complete: 10.4%; Average loss: 7.5353\n",
            "Iteration: 417; Percent complete: 10.4%; Average loss: 7.7287\n",
            "Iteration: 418; Percent complete: 10.4%; Average loss: 7.6499\n",
            "Iteration: 419; Percent complete: 10.5%; Average loss: 7.4664\n",
            "Iteration: 420; Percent complete: 10.5%; Average loss: 7.5141\n",
            "Iteration: 421; Percent complete: 10.5%; Average loss: 7.3176\n",
            "Iteration: 422; Percent complete: 10.5%; Average loss: 7.6122\n",
            "Iteration: 423; Percent complete: 10.6%; Average loss: 7.4647\n",
            "Iteration: 424; Percent complete: 10.6%; Average loss: 7.4554\n",
            "Iteration: 425; Percent complete: 10.6%; Average loss: 7.3878\n",
            "Iteration: 426; Percent complete: 10.7%; Average loss: 7.3705\n",
            "Iteration: 427; Percent complete: 10.7%; Average loss: 7.4954\n",
            "Iteration: 428; Percent complete: 10.7%; Average loss: 7.3081\n",
            "Iteration: 429; Percent complete: 10.7%; Average loss: 7.5461\n",
            "Iteration: 430; Percent complete: 10.8%; Average loss: 7.3795\n",
            "Iteration: 431; Percent complete: 10.8%; Average loss: 7.5834\n",
            "Iteration: 432; Percent complete: 10.8%; Average loss: 7.6245\n",
            "Iteration: 433; Percent complete: 10.8%; Average loss: 7.6866\n",
            "Iteration: 434; Percent complete: 10.8%; Average loss: 7.2047\n",
            "Iteration: 435; Percent complete: 10.9%; Average loss: 7.4429\n",
            "Iteration: 436; Percent complete: 10.9%; Average loss: 7.4947\n",
            "Iteration: 437; Percent complete: 10.9%; Average loss: 7.7226\n",
            "Iteration: 438; Percent complete: 10.9%; Average loss: 7.4271\n",
            "Iteration: 439; Percent complete: 11.0%; Average loss: 7.5079\n",
            "Iteration: 440; Percent complete: 11.0%; Average loss: 7.4904\n",
            "Iteration: 441; Percent complete: 11.0%; Average loss: 7.3873\n",
            "Iteration: 442; Percent complete: 11.1%; Average loss: 7.2570\n",
            "Iteration: 443; Percent complete: 11.1%; Average loss: 7.1388\n",
            "Iteration: 444; Percent complete: 11.1%; Average loss: 7.3753\n",
            "Iteration: 445; Percent complete: 11.1%; Average loss: 7.2153\n",
            "Iteration: 446; Percent complete: 11.2%; Average loss: 7.3304\n",
            "Iteration: 447; Percent complete: 11.2%; Average loss: 7.0180\n",
            "Iteration: 448; Percent complete: 11.2%; Average loss: 7.3433\n",
            "Iteration: 449; Percent complete: 11.2%; Average loss: 7.4309\n",
            "Iteration: 450; Percent complete: 11.2%; Average loss: 7.4126\n",
            "Iteration: 451; Percent complete: 11.3%; Average loss: 7.4223\n",
            "Iteration: 452; Percent complete: 11.3%; Average loss: 7.1173\n",
            "Iteration: 453; Percent complete: 11.3%; Average loss: 7.2150\n",
            "Iteration: 454; Percent complete: 11.3%; Average loss: 7.5755\n",
            "Iteration: 455; Percent complete: 11.4%; Average loss: 7.4334\n",
            "Iteration: 456; Percent complete: 11.4%; Average loss: 7.1907\n",
            "Iteration: 457; Percent complete: 11.4%; Average loss: 6.9749\n",
            "Iteration: 458; Percent complete: 11.5%; Average loss: 7.3798\n",
            "Iteration: 459; Percent complete: 11.5%; Average loss: 7.4097\n",
            "Iteration: 460; Percent complete: 11.5%; Average loss: 7.2419\n",
            "Iteration: 461; Percent complete: 11.5%; Average loss: 7.1540\n",
            "Iteration: 462; Percent complete: 11.6%; Average loss: 7.4230\n",
            "Iteration: 463; Percent complete: 11.6%; Average loss: 7.1534\n",
            "Iteration: 464; Percent complete: 11.6%; Average loss: 7.3786\n",
            "Iteration: 465; Percent complete: 11.6%; Average loss: 7.4626\n",
            "Iteration: 466; Percent complete: 11.7%; Average loss: 7.2936\n",
            "Iteration: 467; Percent complete: 11.7%; Average loss: 7.0335\n",
            "Iteration: 468; Percent complete: 11.7%; Average loss: 7.2879\n",
            "Iteration: 469; Percent complete: 11.7%; Average loss: 7.0515\n",
            "Iteration: 470; Percent complete: 11.8%; Average loss: 7.1998\n",
            "Iteration: 471; Percent complete: 11.8%; Average loss: 7.2918\n",
            "Iteration: 472; Percent complete: 11.8%; Average loss: 7.4275\n",
            "Iteration: 473; Percent complete: 11.8%; Average loss: 7.5000\n",
            "Iteration: 474; Percent complete: 11.8%; Average loss: 7.1810\n",
            "Iteration: 475; Percent complete: 11.9%; Average loss: 7.3901\n",
            "Iteration: 476; Percent complete: 11.9%; Average loss: 7.3331\n",
            "Iteration: 477; Percent complete: 11.9%; Average loss: 7.3849\n",
            "Iteration: 478; Percent complete: 11.9%; Average loss: 7.2863\n",
            "Iteration: 479; Percent complete: 12.0%; Average loss: 7.3170\n",
            "Iteration: 480; Percent complete: 12.0%; Average loss: 7.4294\n",
            "Iteration: 481; Percent complete: 12.0%; Average loss: 7.3284\n",
            "Iteration: 482; Percent complete: 12.0%; Average loss: 7.3170\n",
            "Iteration: 483; Percent complete: 12.1%; Average loss: 7.1112\n",
            "Iteration: 484; Percent complete: 12.1%; Average loss: 6.8855\n",
            "Iteration: 485; Percent complete: 12.1%; Average loss: 7.1653\n",
            "Iteration: 486; Percent complete: 12.2%; Average loss: 7.1138\n",
            "Iteration: 487; Percent complete: 12.2%; Average loss: 7.3209\n",
            "Iteration: 488; Percent complete: 12.2%; Average loss: 7.1461\n",
            "Iteration: 489; Percent complete: 12.2%; Average loss: 7.2294\n",
            "Iteration: 490; Percent complete: 12.2%; Average loss: 7.2445\n",
            "Iteration: 491; Percent complete: 12.3%; Average loss: 7.3276\n",
            "Iteration: 492; Percent complete: 12.3%; Average loss: 7.3093\n",
            "Iteration: 493; Percent complete: 12.3%; Average loss: 7.0822\n",
            "Iteration: 494; Percent complete: 12.3%; Average loss: 7.3445\n",
            "Iteration: 495; Percent complete: 12.4%; Average loss: 7.0057\n",
            "Iteration: 496; Percent complete: 12.4%; Average loss: 7.2850\n",
            "Iteration: 497; Percent complete: 12.4%; Average loss: 7.2846\n",
            "Iteration: 498; Percent complete: 12.4%; Average loss: 7.2215\n",
            "Iteration: 499; Percent complete: 12.5%; Average loss: 7.1467\n",
            "Iteration: 500; Percent complete: 12.5%; Average loss: 6.9551\n",
            "Iteration: 501; Percent complete: 12.5%; Average loss: 7.1987\n",
            "Iteration: 502; Percent complete: 12.6%; Average loss: 7.3472\n",
            "Iteration: 503; Percent complete: 12.6%; Average loss: 7.1833\n",
            "Iteration: 504; Percent complete: 12.6%; Average loss: 7.3007\n",
            "Iteration: 505; Percent complete: 12.6%; Average loss: 7.2339\n",
            "Iteration: 506; Percent complete: 12.7%; Average loss: 7.4569\n",
            "Iteration: 507; Percent complete: 12.7%; Average loss: 7.2990\n",
            "Iteration: 508; Percent complete: 12.7%; Average loss: 7.1354\n",
            "Iteration: 509; Percent complete: 12.7%; Average loss: 7.2543\n",
            "Iteration: 510; Percent complete: 12.8%; Average loss: 7.4347\n",
            "Iteration: 511; Percent complete: 12.8%; Average loss: 7.3821\n",
            "Iteration: 512; Percent complete: 12.8%; Average loss: 7.2691\n",
            "Iteration: 513; Percent complete: 12.8%; Average loss: 7.2470\n",
            "Iteration: 514; Percent complete: 12.8%; Average loss: 7.1133\n",
            "Iteration: 515; Percent complete: 12.9%; Average loss: 7.2995\n",
            "Iteration: 516; Percent complete: 12.9%; Average loss: 7.1605\n",
            "Iteration: 517; Percent complete: 12.9%; Average loss: 7.0843\n",
            "Iteration: 518; Percent complete: 13.0%; Average loss: 7.2781\n",
            "Iteration: 519; Percent complete: 13.0%; Average loss: 7.3796\n",
            "Iteration: 520; Percent complete: 13.0%; Average loss: 7.3581\n",
            "Iteration: 521; Percent complete: 13.0%; Average loss: 7.3636\n",
            "Iteration: 522; Percent complete: 13.1%; Average loss: 7.5216\n",
            "Iteration: 523; Percent complete: 13.1%; Average loss: 7.3200\n",
            "Iteration: 524; Percent complete: 13.1%; Average loss: 7.3301\n",
            "Iteration: 525; Percent complete: 13.1%; Average loss: 7.2957\n",
            "Iteration: 526; Percent complete: 13.2%; Average loss: 7.3146\n",
            "Iteration: 527; Percent complete: 13.2%; Average loss: 7.4191\n",
            "Iteration: 528; Percent complete: 13.2%; Average loss: 7.4016\n",
            "Iteration: 529; Percent complete: 13.2%; Average loss: 6.9400\n",
            "Iteration: 530; Percent complete: 13.2%; Average loss: 6.9911\n",
            "Iteration: 531; Percent complete: 13.3%; Average loss: 7.0441\n",
            "Iteration: 532; Percent complete: 13.3%; Average loss: 7.0607\n",
            "Iteration: 533; Percent complete: 13.3%; Average loss: 7.0607\n",
            "Iteration: 534; Percent complete: 13.4%; Average loss: 7.3120\n",
            "Iteration: 535; Percent complete: 13.4%; Average loss: 7.1218\n",
            "Iteration: 536; Percent complete: 13.4%; Average loss: 7.2040\n",
            "Iteration: 537; Percent complete: 13.4%; Average loss: 7.1967\n",
            "Iteration: 538; Percent complete: 13.5%; Average loss: 7.1832\n",
            "Iteration: 539; Percent complete: 13.5%; Average loss: 7.2496\n",
            "Iteration: 540; Percent complete: 13.5%; Average loss: 7.3252\n",
            "Iteration: 541; Percent complete: 13.5%; Average loss: 7.2737\n",
            "Iteration: 542; Percent complete: 13.6%; Average loss: 7.0553\n",
            "Iteration: 543; Percent complete: 13.6%; Average loss: 7.2912\n",
            "Iteration: 544; Percent complete: 13.6%; Average loss: 6.8364\n",
            "Iteration: 545; Percent complete: 13.6%; Average loss: 6.8995\n",
            "Iteration: 546; Percent complete: 13.7%; Average loss: 7.0362\n",
            "Iteration: 547; Percent complete: 13.7%; Average loss: 7.1046\n",
            "Iteration: 548; Percent complete: 13.7%; Average loss: 6.9303\n",
            "Iteration: 549; Percent complete: 13.7%; Average loss: 7.3373\n",
            "Iteration: 550; Percent complete: 13.8%; Average loss: 7.0704\n",
            "Iteration: 551; Percent complete: 13.8%; Average loss: 7.2091\n",
            "Iteration: 552; Percent complete: 13.8%; Average loss: 7.0877\n",
            "Iteration: 553; Percent complete: 13.8%; Average loss: 7.0493\n",
            "Iteration: 554; Percent complete: 13.9%; Average loss: 7.4334\n",
            "Iteration: 555; Percent complete: 13.9%; Average loss: 7.2878\n",
            "Iteration: 556; Percent complete: 13.9%; Average loss: 7.1169\n",
            "Iteration: 557; Percent complete: 13.9%; Average loss: 7.0285\n",
            "Iteration: 558; Percent complete: 14.0%; Average loss: 7.0729\n",
            "Iteration: 559; Percent complete: 14.0%; Average loss: 6.9932\n",
            "Iteration: 560; Percent complete: 14.0%; Average loss: 7.1890\n",
            "Iteration: 561; Percent complete: 14.0%; Average loss: 6.9049\n",
            "Iteration: 562; Percent complete: 14.1%; Average loss: 6.9355\n",
            "Iteration: 563; Percent complete: 14.1%; Average loss: 7.3710\n",
            "Iteration: 564; Percent complete: 14.1%; Average loss: 7.3068\n",
            "Iteration: 565; Percent complete: 14.1%; Average loss: 7.1659\n",
            "Iteration: 566; Percent complete: 14.1%; Average loss: 7.0960\n",
            "Iteration: 567; Percent complete: 14.2%; Average loss: 6.9915\n",
            "Iteration: 568; Percent complete: 14.2%; Average loss: 7.1094\n",
            "Iteration: 569; Percent complete: 14.2%; Average loss: 6.9447\n",
            "Iteration: 570; Percent complete: 14.2%; Average loss: 7.2276\n",
            "Iteration: 571; Percent complete: 14.3%; Average loss: 7.2116\n",
            "Iteration: 572; Percent complete: 14.3%; Average loss: 6.9236\n",
            "Iteration: 573; Percent complete: 14.3%; Average loss: 7.2941\n",
            "Iteration: 574; Percent complete: 14.3%; Average loss: 7.1177\n",
            "Iteration: 575; Percent complete: 14.4%; Average loss: 7.1299\n",
            "Iteration: 576; Percent complete: 14.4%; Average loss: 7.3234\n",
            "Iteration: 577; Percent complete: 14.4%; Average loss: 6.9384\n",
            "Iteration: 578; Percent complete: 14.4%; Average loss: 7.1189\n",
            "Iteration: 579; Percent complete: 14.5%; Average loss: 7.1638\n",
            "Iteration: 580; Percent complete: 14.5%; Average loss: 6.9477\n",
            "Iteration: 581; Percent complete: 14.5%; Average loss: 7.3585\n",
            "Iteration: 582; Percent complete: 14.5%; Average loss: 7.1578\n",
            "Iteration: 583; Percent complete: 14.6%; Average loss: 7.2828\n",
            "Iteration: 584; Percent complete: 14.6%; Average loss: 7.0235\n",
            "Iteration: 585; Percent complete: 14.6%; Average loss: 7.2836\n",
            "Iteration: 586; Percent complete: 14.6%; Average loss: 7.0959\n",
            "Iteration: 587; Percent complete: 14.7%; Average loss: 7.0784\n",
            "Iteration: 588; Percent complete: 14.7%; Average loss: 6.9540\n",
            "Iteration: 589; Percent complete: 14.7%; Average loss: 6.9722\n",
            "Iteration: 590; Percent complete: 14.8%; Average loss: 7.1207\n",
            "Iteration: 591; Percent complete: 14.8%; Average loss: 7.0570\n",
            "Iteration: 592; Percent complete: 14.8%; Average loss: 7.0807\n",
            "Iteration: 593; Percent complete: 14.8%; Average loss: 6.9095\n",
            "Iteration: 594; Percent complete: 14.8%; Average loss: 7.1477\n",
            "Iteration: 595; Percent complete: 14.9%; Average loss: 7.0023\n",
            "Iteration: 596; Percent complete: 14.9%; Average loss: 7.1619\n",
            "Iteration: 597; Percent complete: 14.9%; Average loss: 7.1686\n",
            "Iteration: 598; Percent complete: 14.9%; Average loss: 6.9834\n",
            "Iteration: 599; Percent complete: 15.0%; Average loss: 7.0618\n",
            "Iteration: 600; Percent complete: 15.0%; Average loss: 7.1748\n",
            "Iteration: 601; Percent complete: 15.0%; Average loss: 6.9178\n",
            "Iteration: 602; Percent complete: 15.0%; Average loss: 7.0623\n",
            "Iteration: 603; Percent complete: 15.1%; Average loss: 7.0726\n",
            "Iteration: 604; Percent complete: 15.1%; Average loss: 7.2398\n",
            "Iteration: 605; Percent complete: 15.1%; Average loss: 7.0462\n",
            "Iteration: 606; Percent complete: 15.2%; Average loss: 6.9245\n",
            "Iteration: 607; Percent complete: 15.2%; Average loss: 7.1609\n",
            "Iteration: 608; Percent complete: 15.2%; Average loss: 7.1182\n",
            "Iteration: 609; Percent complete: 15.2%; Average loss: 7.0070\n",
            "Iteration: 610; Percent complete: 15.2%; Average loss: 7.1270\n",
            "Iteration: 611; Percent complete: 15.3%; Average loss: 6.9349\n",
            "Iteration: 612; Percent complete: 15.3%; Average loss: 6.8598\n",
            "Iteration: 613; Percent complete: 15.3%; Average loss: 6.8655\n",
            "Iteration: 614; Percent complete: 15.3%; Average loss: 6.8934\n",
            "Iteration: 615; Percent complete: 15.4%; Average loss: 6.8361\n",
            "Iteration: 616; Percent complete: 15.4%; Average loss: 7.0363\n",
            "Iteration: 617; Percent complete: 15.4%; Average loss: 6.9125\n",
            "Iteration: 618; Percent complete: 15.4%; Average loss: 7.0876\n",
            "Iteration: 619; Percent complete: 15.5%; Average loss: 6.8599\n",
            "Iteration: 620; Percent complete: 15.5%; Average loss: 7.0763\n",
            "Iteration: 621; Percent complete: 15.5%; Average loss: 7.1397\n",
            "Iteration: 622; Percent complete: 15.6%; Average loss: 7.1855\n",
            "Iteration: 623; Percent complete: 15.6%; Average loss: 6.8940\n",
            "Iteration: 624; Percent complete: 15.6%; Average loss: 6.8829\n",
            "Iteration: 625; Percent complete: 15.6%; Average loss: 6.9266\n",
            "Iteration: 626; Percent complete: 15.7%; Average loss: 6.9557\n",
            "Iteration: 627; Percent complete: 15.7%; Average loss: 6.9719\n",
            "Iteration: 628; Percent complete: 15.7%; Average loss: 7.2092\n",
            "Iteration: 629; Percent complete: 15.7%; Average loss: 6.7482\n",
            "Iteration: 630; Percent complete: 15.8%; Average loss: 7.2458\n",
            "Iteration: 631; Percent complete: 15.8%; Average loss: 6.9740\n",
            "Iteration: 632; Percent complete: 15.8%; Average loss: 6.9938\n",
            "Iteration: 633; Percent complete: 15.8%; Average loss: 6.7629\n",
            "Iteration: 634; Percent complete: 15.8%; Average loss: 6.8656\n",
            "Iteration: 635; Percent complete: 15.9%; Average loss: 6.9966\n",
            "Iteration: 636; Percent complete: 15.9%; Average loss: 7.2999\n",
            "Iteration: 637; Percent complete: 15.9%; Average loss: 6.8403\n",
            "Iteration: 638; Percent complete: 16.0%; Average loss: 7.1665\n",
            "Iteration: 639; Percent complete: 16.0%; Average loss: 6.8230\n",
            "Iteration: 640; Percent complete: 16.0%; Average loss: 7.0409\n",
            "Iteration: 641; Percent complete: 16.0%; Average loss: 7.0511\n",
            "Iteration: 642; Percent complete: 16.1%; Average loss: 7.0015\n",
            "Iteration: 643; Percent complete: 16.1%; Average loss: 6.9094\n",
            "Iteration: 644; Percent complete: 16.1%; Average loss: 7.0379\n",
            "Iteration: 645; Percent complete: 16.1%; Average loss: 7.0179\n",
            "Iteration: 646; Percent complete: 16.2%; Average loss: 7.1548\n",
            "Iteration: 647; Percent complete: 16.2%; Average loss: 6.7693\n",
            "Iteration: 648; Percent complete: 16.2%; Average loss: 6.9944\n",
            "Iteration: 649; Percent complete: 16.2%; Average loss: 7.0472\n",
            "Iteration: 650; Percent complete: 16.2%; Average loss: 7.0496\n",
            "Iteration: 651; Percent complete: 16.3%; Average loss: 7.0522\n",
            "Iteration: 652; Percent complete: 16.3%; Average loss: 6.7847\n",
            "Iteration: 653; Percent complete: 16.3%; Average loss: 7.2519\n",
            "Iteration: 654; Percent complete: 16.4%; Average loss: 6.9895\n",
            "Iteration: 655; Percent complete: 16.4%; Average loss: 6.7846\n",
            "Iteration: 656; Percent complete: 16.4%; Average loss: 7.2931\n",
            "Iteration: 657; Percent complete: 16.4%; Average loss: 6.8548\n",
            "Iteration: 658; Percent complete: 16.4%; Average loss: 7.0182\n",
            "Iteration: 659; Percent complete: 16.5%; Average loss: 7.1505\n",
            "Iteration: 660; Percent complete: 16.5%; Average loss: 6.7331\n",
            "Iteration: 661; Percent complete: 16.5%; Average loss: 7.1114\n",
            "Iteration: 662; Percent complete: 16.6%; Average loss: 6.8386\n",
            "Iteration: 663; Percent complete: 16.6%; Average loss: 6.9824\n",
            "Iteration: 664; Percent complete: 16.6%; Average loss: 6.7342\n",
            "Iteration: 665; Percent complete: 16.6%; Average loss: 6.9869\n",
            "Iteration: 666; Percent complete: 16.7%; Average loss: 6.9711\n",
            "Iteration: 667; Percent complete: 16.7%; Average loss: 7.0448\n",
            "Iteration: 668; Percent complete: 16.7%; Average loss: 6.9847\n",
            "Iteration: 669; Percent complete: 16.7%; Average loss: 6.9670\n",
            "Iteration: 670; Percent complete: 16.8%; Average loss: 6.9547\n",
            "Iteration: 671; Percent complete: 16.8%; Average loss: 7.1212\n",
            "Iteration: 672; Percent complete: 16.8%; Average loss: 7.1302\n",
            "Iteration: 673; Percent complete: 16.8%; Average loss: 6.9508\n",
            "Iteration: 674; Percent complete: 16.9%; Average loss: 6.6881\n",
            "Iteration: 675; Percent complete: 16.9%; Average loss: 6.8658\n",
            "Iteration: 676; Percent complete: 16.9%; Average loss: 7.1140\n",
            "Iteration: 677; Percent complete: 16.9%; Average loss: 6.8956\n",
            "Iteration: 678; Percent complete: 17.0%; Average loss: 6.8142\n",
            "Iteration: 679; Percent complete: 17.0%; Average loss: 6.9060\n",
            "Iteration: 680; Percent complete: 17.0%; Average loss: 6.7929\n",
            "Iteration: 681; Percent complete: 17.0%; Average loss: 7.0442\n",
            "Iteration: 682; Percent complete: 17.1%; Average loss: 6.5545\n",
            "Iteration: 683; Percent complete: 17.1%; Average loss: 6.8899\n",
            "Iteration: 684; Percent complete: 17.1%; Average loss: 7.0509\n",
            "Iteration: 685; Percent complete: 17.1%; Average loss: 6.8598\n",
            "Iteration: 686; Percent complete: 17.2%; Average loss: 7.0961\n",
            "Iteration: 687; Percent complete: 17.2%; Average loss: 7.1214\n",
            "Iteration: 688; Percent complete: 17.2%; Average loss: 6.7875\n",
            "Iteration: 689; Percent complete: 17.2%; Average loss: 7.0782\n",
            "Iteration: 690; Percent complete: 17.2%; Average loss: 6.7722\n",
            "Iteration: 691; Percent complete: 17.3%; Average loss: 6.6339\n",
            "Iteration: 692; Percent complete: 17.3%; Average loss: 6.9909\n",
            "Iteration: 693; Percent complete: 17.3%; Average loss: 6.9017\n",
            "Iteration: 694; Percent complete: 17.3%; Average loss: 6.9211\n",
            "Iteration: 695; Percent complete: 17.4%; Average loss: 6.9774\n",
            "Iteration: 696; Percent complete: 17.4%; Average loss: 6.9348\n",
            "Iteration: 697; Percent complete: 17.4%; Average loss: 6.8935\n",
            "Iteration: 698; Percent complete: 17.4%; Average loss: 7.1422\n",
            "Iteration: 699; Percent complete: 17.5%; Average loss: 6.8771\n",
            "Iteration: 700; Percent complete: 17.5%; Average loss: 6.9415\n",
            "Iteration: 701; Percent complete: 17.5%; Average loss: 6.7747\n",
            "Iteration: 702; Percent complete: 17.5%; Average loss: 6.8958\n",
            "Iteration: 703; Percent complete: 17.6%; Average loss: 6.8814\n",
            "Iteration: 704; Percent complete: 17.6%; Average loss: 6.9037\n",
            "Iteration: 705; Percent complete: 17.6%; Average loss: 6.8419\n",
            "Iteration: 706; Percent complete: 17.6%; Average loss: 6.9933\n",
            "Iteration: 707; Percent complete: 17.7%; Average loss: 7.0328\n",
            "Iteration: 708; Percent complete: 17.7%; Average loss: 6.8913\n",
            "Iteration: 709; Percent complete: 17.7%; Average loss: 6.9136\n",
            "Iteration: 710; Percent complete: 17.8%; Average loss: 6.7150\n",
            "Iteration: 711; Percent complete: 17.8%; Average loss: 6.6234\n",
            "Iteration: 712; Percent complete: 17.8%; Average loss: 6.9866\n",
            "Iteration: 713; Percent complete: 17.8%; Average loss: 6.5289\n",
            "Iteration: 714; Percent complete: 17.8%; Average loss: 6.7099\n",
            "Iteration: 715; Percent complete: 17.9%; Average loss: 6.7511\n",
            "Iteration: 716; Percent complete: 17.9%; Average loss: 7.1677\n",
            "Iteration: 717; Percent complete: 17.9%; Average loss: 6.7962\n",
            "Iteration: 718; Percent complete: 17.9%; Average loss: 6.9069\n",
            "Iteration: 719; Percent complete: 18.0%; Average loss: 6.7545\n",
            "Iteration: 720; Percent complete: 18.0%; Average loss: 6.5722\n",
            "Iteration: 721; Percent complete: 18.0%; Average loss: 6.8596\n",
            "Iteration: 722; Percent complete: 18.1%; Average loss: 7.0636\n",
            "Iteration: 723; Percent complete: 18.1%; Average loss: 6.9674\n",
            "Iteration: 724; Percent complete: 18.1%; Average loss: 7.1153\n",
            "Iteration: 725; Percent complete: 18.1%; Average loss: 6.7720\n",
            "Iteration: 726; Percent complete: 18.1%; Average loss: 6.8644\n",
            "Iteration: 727; Percent complete: 18.2%; Average loss: 6.8812\n",
            "Iteration: 728; Percent complete: 18.2%; Average loss: 7.1684\n",
            "Iteration: 729; Percent complete: 18.2%; Average loss: 6.9395\n",
            "Iteration: 730; Percent complete: 18.2%; Average loss: 6.5783\n",
            "Iteration: 731; Percent complete: 18.3%; Average loss: 6.6743\n",
            "Iteration: 732; Percent complete: 18.3%; Average loss: 6.7233\n",
            "Iteration: 733; Percent complete: 18.3%; Average loss: 6.8699\n",
            "Iteration: 734; Percent complete: 18.4%; Average loss: 6.8978\n",
            "Iteration: 735; Percent complete: 18.4%; Average loss: 6.6939\n",
            "Iteration: 736; Percent complete: 18.4%; Average loss: 6.8107\n",
            "Iteration: 737; Percent complete: 18.4%; Average loss: 7.0644\n",
            "Iteration: 738; Percent complete: 18.4%; Average loss: 6.8052\n",
            "Iteration: 739; Percent complete: 18.5%; Average loss: 6.7390\n",
            "Iteration: 740; Percent complete: 18.5%; Average loss: 6.8123\n",
            "Iteration: 741; Percent complete: 18.5%; Average loss: 6.6814\n",
            "Iteration: 742; Percent complete: 18.6%; Average loss: 7.0429\n",
            "Iteration: 743; Percent complete: 18.6%; Average loss: 6.8935\n",
            "Iteration: 744; Percent complete: 18.6%; Average loss: 6.7683\n",
            "Iteration: 745; Percent complete: 18.6%; Average loss: 6.9298\n",
            "Iteration: 746; Percent complete: 18.6%; Average loss: 6.8744\n",
            "Iteration: 747; Percent complete: 18.7%; Average loss: 6.8241\n",
            "Iteration: 748; Percent complete: 18.7%; Average loss: 6.9288\n",
            "Iteration: 749; Percent complete: 18.7%; Average loss: 6.7443\n",
            "Iteration: 750; Percent complete: 18.8%; Average loss: 6.5539\n",
            "Iteration: 751; Percent complete: 18.8%; Average loss: 6.8863\n",
            "Iteration: 752; Percent complete: 18.8%; Average loss: 6.8508\n",
            "Iteration: 753; Percent complete: 18.8%; Average loss: 6.8324\n",
            "Iteration: 754; Percent complete: 18.9%; Average loss: 6.8519\n",
            "Iteration: 755; Percent complete: 18.9%; Average loss: 7.0260\n",
            "Iteration: 756; Percent complete: 18.9%; Average loss: 6.9856\n",
            "Iteration: 757; Percent complete: 18.9%; Average loss: 6.7848\n",
            "Iteration: 758; Percent complete: 18.9%; Average loss: 6.9158\n",
            "Iteration: 759; Percent complete: 19.0%; Average loss: 6.9373\n",
            "Iteration: 760; Percent complete: 19.0%; Average loss: 6.9393\n",
            "Iteration: 761; Percent complete: 19.0%; Average loss: 6.6078\n",
            "Iteration: 762; Percent complete: 19.1%; Average loss: 6.8995\n",
            "Iteration: 763; Percent complete: 19.1%; Average loss: 6.9140\n",
            "Iteration: 764; Percent complete: 19.1%; Average loss: 6.7609\n",
            "Iteration: 765; Percent complete: 19.1%; Average loss: 7.0890\n",
            "Iteration: 766; Percent complete: 19.1%; Average loss: 6.7980\n",
            "Iteration: 767; Percent complete: 19.2%; Average loss: 6.9737\n",
            "Iteration: 768; Percent complete: 19.2%; Average loss: 6.8343\n",
            "Iteration: 769; Percent complete: 19.2%; Average loss: 6.7776\n",
            "Iteration: 770; Percent complete: 19.2%; Average loss: 6.7265\n",
            "Iteration: 771; Percent complete: 19.3%; Average loss: 6.8934\n",
            "Iteration: 772; Percent complete: 19.3%; Average loss: 6.6187\n",
            "Iteration: 773; Percent complete: 19.3%; Average loss: 6.6885\n",
            "Iteration: 774; Percent complete: 19.4%; Average loss: 6.7640\n",
            "Iteration: 775; Percent complete: 19.4%; Average loss: 6.9010\n",
            "Iteration: 776; Percent complete: 19.4%; Average loss: 6.7584\n",
            "Iteration: 777; Percent complete: 19.4%; Average loss: 6.6693\n",
            "Iteration: 778; Percent complete: 19.4%; Average loss: 6.7923\n",
            "Iteration: 779; Percent complete: 19.5%; Average loss: 6.8323\n",
            "Iteration: 780; Percent complete: 19.5%; Average loss: 6.8237\n",
            "Iteration: 781; Percent complete: 19.5%; Average loss: 6.5909\n",
            "Iteration: 782; Percent complete: 19.6%; Average loss: 6.8504\n",
            "Iteration: 783; Percent complete: 19.6%; Average loss: 6.8991\n",
            "Iteration: 784; Percent complete: 19.6%; Average loss: 6.8230\n",
            "Iteration: 785; Percent complete: 19.6%; Average loss: 6.7057\n",
            "Iteration: 786; Percent complete: 19.7%; Average loss: 6.8884\n",
            "Iteration: 787; Percent complete: 19.7%; Average loss: 7.0050\n",
            "Iteration: 788; Percent complete: 19.7%; Average loss: 6.5676\n",
            "Iteration: 789; Percent complete: 19.7%; Average loss: 7.0655\n",
            "Iteration: 790; Percent complete: 19.8%; Average loss: 6.8494\n",
            "Iteration: 791; Percent complete: 19.8%; Average loss: 6.7286\n",
            "Iteration: 792; Percent complete: 19.8%; Average loss: 6.8879\n",
            "Iteration: 793; Percent complete: 19.8%; Average loss: 6.7196\n",
            "Iteration: 794; Percent complete: 19.9%; Average loss: 6.5907\n",
            "Iteration: 795; Percent complete: 19.9%; Average loss: 6.8697\n",
            "Iteration: 796; Percent complete: 19.9%; Average loss: 6.8287\n",
            "Iteration: 797; Percent complete: 19.9%; Average loss: 6.7974\n",
            "Iteration: 798; Percent complete: 20.0%; Average loss: 6.6948\n",
            "Iteration: 799; Percent complete: 20.0%; Average loss: 6.6866\n",
            "Iteration: 800; Percent complete: 20.0%; Average loss: 6.9226\n",
            "Iteration: 801; Percent complete: 20.0%; Average loss: 6.9372\n",
            "Iteration: 802; Percent complete: 20.1%; Average loss: 6.7903\n",
            "Iteration: 803; Percent complete: 20.1%; Average loss: 6.6478\n",
            "Iteration: 804; Percent complete: 20.1%; Average loss: 6.8848\n",
            "Iteration: 805; Percent complete: 20.1%; Average loss: 7.0436\n",
            "Iteration: 806; Percent complete: 20.2%; Average loss: 6.3490\n",
            "Iteration: 807; Percent complete: 20.2%; Average loss: 6.9347\n",
            "Iteration: 808; Percent complete: 20.2%; Average loss: 6.6678\n",
            "Iteration: 809; Percent complete: 20.2%; Average loss: 6.7163\n",
            "Iteration: 810; Percent complete: 20.2%; Average loss: 6.7347\n",
            "Iteration: 811; Percent complete: 20.3%; Average loss: 6.9600\n",
            "Iteration: 812; Percent complete: 20.3%; Average loss: 6.4828\n",
            "Iteration: 813; Percent complete: 20.3%; Average loss: 6.5369\n",
            "Iteration: 814; Percent complete: 20.3%; Average loss: 7.0531\n",
            "Iteration: 815; Percent complete: 20.4%; Average loss: 6.6873\n",
            "Iteration: 816; Percent complete: 20.4%; Average loss: 6.6333\n",
            "Iteration: 817; Percent complete: 20.4%; Average loss: 6.7598\n",
            "Iteration: 818; Percent complete: 20.4%; Average loss: 6.8309\n",
            "Iteration: 819; Percent complete: 20.5%; Average loss: 6.7389\n",
            "Iteration: 820; Percent complete: 20.5%; Average loss: 6.6799\n",
            "Iteration: 821; Percent complete: 20.5%; Average loss: 6.9108\n",
            "Iteration: 822; Percent complete: 20.5%; Average loss: 6.7912\n",
            "Iteration: 823; Percent complete: 20.6%; Average loss: 6.8813\n",
            "Iteration: 824; Percent complete: 20.6%; Average loss: 6.6465\n",
            "Iteration: 825; Percent complete: 20.6%; Average loss: 6.6960\n",
            "Iteration: 826; Percent complete: 20.6%; Average loss: 6.8106\n",
            "Iteration: 827; Percent complete: 20.7%; Average loss: 6.6924\n",
            "Iteration: 828; Percent complete: 20.7%; Average loss: 6.7507\n",
            "Iteration: 829; Percent complete: 20.7%; Average loss: 6.8513\n",
            "Iteration: 830; Percent complete: 20.8%; Average loss: 6.6140\n",
            "Iteration: 831; Percent complete: 20.8%; Average loss: 6.7916\n",
            "Iteration: 832; Percent complete: 20.8%; Average loss: 6.8852\n",
            "Iteration: 833; Percent complete: 20.8%; Average loss: 6.8549\n",
            "Iteration: 834; Percent complete: 20.8%; Average loss: 6.7807\n",
            "Iteration: 835; Percent complete: 20.9%; Average loss: 7.0661\n",
            "Iteration: 836; Percent complete: 20.9%; Average loss: 6.8242\n",
            "Iteration: 837; Percent complete: 20.9%; Average loss: 6.6413\n",
            "Iteration: 838; Percent complete: 20.9%; Average loss: 6.8763\n",
            "Iteration: 839; Percent complete: 21.0%; Average loss: 6.6951\n",
            "Iteration: 840; Percent complete: 21.0%; Average loss: 6.8838\n",
            "Iteration: 841; Percent complete: 21.0%; Average loss: 6.7479\n",
            "Iteration: 842; Percent complete: 21.1%; Average loss: 6.5148\n",
            "Iteration: 843; Percent complete: 21.1%; Average loss: 6.6708\n",
            "Iteration: 844; Percent complete: 21.1%; Average loss: 6.7384\n",
            "Iteration: 845; Percent complete: 21.1%; Average loss: 6.9033\n",
            "Iteration: 846; Percent complete: 21.1%; Average loss: 6.5269\n",
            "Iteration: 847; Percent complete: 21.2%; Average loss: 6.5151\n",
            "Iteration: 848; Percent complete: 21.2%; Average loss: 6.6423\n",
            "Iteration: 849; Percent complete: 21.2%; Average loss: 6.6497\n",
            "Iteration: 850; Percent complete: 21.2%; Average loss: 6.8016\n",
            "Iteration: 851; Percent complete: 21.3%; Average loss: 6.7704\n",
            "Iteration: 852; Percent complete: 21.3%; Average loss: 7.0024\n",
            "Iteration: 853; Percent complete: 21.3%; Average loss: 6.7598\n",
            "Iteration: 854; Percent complete: 21.3%; Average loss: 6.6390\n",
            "Iteration: 855; Percent complete: 21.4%; Average loss: 6.5223\n",
            "Iteration: 856; Percent complete: 21.4%; Average loss: 6.7816\n",
            "Iteration: 857; Percent complete: 21.4%; Average loss: 6.8841\n",
            "Iteration: 858; Percent complete: 21.4%; Average loss: 6.6954\n",
            "Iteration: 859; Percent complete: 21.5%; Average loss: 6.7977\n",
            "Iteration: 860; Percent complete: 21.5%; Average loss: 6.5978\n",
            "Iteration: 861; Percent complete: 21.5%; Average loss: 6.7121\n",
            "Iteration: 862; Percent complete: 21.6%; Average loss: 6.7118\n",
            "Iteration: 863; Percent complete: 21.6%; Average loss: 7.0189\n",
            "Iteration: 864; Percent complete: 21.6%; Average loss: 6.4802\n",
            "Iteration: 865; Percent complete: 21.6%; Average loss: 6.7584\n",
            "Iteration: 866; Percent complete: 21.6%; Average loss: 6.9527\n",
            "Iteration: 867; Percent complete: 21.7%; Average loss: 6.4792\n",
            "Iteration: 868; Percent complete: 21.7%; Average loss: 6.5957\n",
            "Iteration: 869; Percent complete: 21.7%; Average loss: 6.5139\n",
            "Iteration: 870; Percent complete: 21.8%; Average loss: 6.6173\n",
            "Iteration: 871; Percent complete: 21.8%; Average loss: 6.5290\n",
            "Iteration: 872; Percent complete: 21.8%; Average loss: 6.6042\n",
            "Iteration: 873; Percent complete: 21.8%; Average loss: 6.8299\n",
            "Iteration: 874; Percent complete: 21.9%; Average loss: 6.6508\n",
            "Iteration: 875; Percent complete: 21.9%; Average loss: 6.7726\n",
            "Iteration: 876; Percent complete: 21.9%; Average loss: 6.4643\n",
            "Iteration: 877; Percent complete: 21.9%; Average loss: 6.6858\n",
            "Iteration: 878; Percent complete: 21.9%; Average loss: 6.8446\n",
            "Iteration: 879; Percent complete: 22.0%; Average loss: 6.5968\n",
            "Iteration: 880; Percent complete: 22.0%; Average loss: 6.8380\n",
            "Iteration: 881; Percent complete: 22.0%; Average loss: 6.8788\n",
            "Iteration: 882; Percent complete: 22.1%; Average loss: 6.8974\n",
            "Iteration: 883; Percent complete: 22.1%; Average loss: 6.5111\n",
            "Iteration: 884; Percent complete: 22.1%; Average loss: 6.5736\n",
            "Iteration: 885; Percent complete: 22.1%; Average loss: 6.6909\n",
            "Iteration: 886; Percent complete: 22.1%; Average loss: 6.6010\n",
            "Iteration: 887; Percent complete: 22.2%; Average loss: 6.5054\n",
            "Iteration: 888; Percent complete: 22.2%; Average loss: 6.8090\n",
            "Iteration: 889; Percent complete: 22.2%; Average loss: 6.7459\n",
            "Iteration: 890; Percent complete: 22.2%; Average loss: 6.9373\n",
            "Iteration: 891; Percent complete: 22.3%; Average loss: 6.7467\n",
            "Iteration: 892; Percent complete: 22.3%; Average loss: 6.9266\n",
            "Iteration: 893; Percent complete: 22.3%; Average loss: 6.8761\n",
            "Iteration: 894; Percent complete: 22.4%; Average loss: 6.8598\n",
            "Iteration: 895; Percent complete: 22.4%; Average loss: 6.7086\n",
            "Iteration: 896; Percent complete: 22.4%; Average loss: 6.5776\n",
            "Iteration: 897; Percent complete: 22.4%; Average loss: 6.8205\n",
            "Iteration: 898; Percent complete: 22.4%; Average loss: 6.5677\n",
            "Iteration: 899; Percent complete: 22.5%; Average loss: 6.7444\n",
            "Iteration: 900; Percent complete: 22.5%; Average loss: 6.7103\n",
            "Iteration: 901; Percent complete: 22.5%; Average loss: 6.7008\n",
            "Iteration: 902; Percent complete: 22.6%; Average loss: 6.8120\n",
            "Iteration: 903; Percent complete: 22.6%; Average loss: 6.6337\n",
            "Iteration: 904; Percent complete: 22.6%; Average loss: 6.8719\n",
            "Iteration: 905; Percent complete: 22.6%; Average loss: 6.6348\n",
            "Iteration: 906; Percent complete: 22.7%; Average loss: 6.6388\n",
            "Iteration: 907; Percent complete: 22.7%; Average loss: 6.6998\n",
            "Iteration: 908; Percent complete: 22.7%; Average loss: 6.4693\n",
            "Iteration: 909; Percent complete: 22.7%; Average loss: 6.6122\n",
            "Iteration: 910; Percent complete: 22.8%; Average loss: 6.7714\n",
            "Iteration: 911; Percent complete: 22.8%; Average loss: 6.7083\n",
            "Iteration: 912; Percent complete: 22.8%; Average loss: 6.5490\n",
            "Iteration: 913; Percent complete: 22.8%; Average loss: 6.8072\n",
            "Iteration: 914; Percent complete: 22.9%; Average loss: 6.6146\n",
            "Iteration: 915; Percent complete: 22.9%; Average loss: 6.2959\n",
            "Iteration: 916; Percent complete: 22.9%; Average loss: 6.4968\n",
            "Iteration: 917; Percent complete: 22.9%; Average loss: 6.6936\n",
            "Iteration: 918; Percent complete: 22.9%; Average loss: 6.7746\n",
            "Iteration: 919; Percent complete: 23.0%; Average loss: 6.5924\n",
            "Iteration: 920; Percent complete: 23.0%; Average loss: 6.5915\n",
            "Iteration: 921; Percent complete: 23.0%; Average loss: 6.5225\n",
            "Iteration: 922; Percent complete: 23.1%; Average loss: 6.4228\n",
            "Iteration: 923; Percent complete: 23.1%; Average loss: 6.5873\n",
            "Iteration: 924; Percent complete: 23.1%; Average loss: 6.4380\n",
            "Iteration: 925; Percent complete: 23.1%; Average loss: 6.6784\n",
            "Iteration: 926; Percent complete: 23.2%; Average loss: 6.4845\n",
            "Iteration: 927; Percent complete: 23.2%; Average loss: 6.6313\n",
            "Iteration: 928; Percent complete: 23.2%; Average loss: 6.6511\n",
            "Iteration: 929; Percent complete: 23.2%; Average loss: 6.5212\n",
            "Iteration: 930; Percent complete: 23.2%; Average loss: 6.7596\n",
            "Iteration: 931; Percent complete: 23.3%; Average loss: 6.6624\n",
            "Iteration: 932; Percent complete: 23.3%; Average loss: 6.6779\n",
            "Iteration: 933; Percent complete: 23.3%; Average loss: 6.4631\n",
            "Iteration: 934; Percent complete: 23.4%; Average loss: 6.2656\n",
            "Iteration: 935; Percent complete: 23.4%; Average loss: 6.6291\n",
            "Iteration: 936; Percent complete: 23.4%; Average loss: 6.5584\n",
            "Iteration: 937; Percent complete: 23.4%; Average loss: 6.4209\n",
            "Iteration: 938; Percent complete: 23.4%; Average loss: 6.4022\n",
            "Iteration: 939; Percent complete: 23.5%; Average loss: 6.5166\n",
            "Iteration: 940; Percent complete: 23.5%; Average loss: 6.5166\n",
            "Iteration: 941; Percent complete: 23.5%; Average loss: 6.6012\n",
            "Iteration: 942; Percent complete: 23.5%; Average loss: 6.5459\n",
            "Iteration: 943; Percent complete: 23.6%; Average loss: 6.7347\n",
            "Iteration: 944; Percent complete: 23.6%; Average loss: 6.5260\n",
            "Iteration: 945; Percent complete: 23.6%; Average loss: 6.6274\n",
            "Iteration: 946; Percent complete: 23.6%; Average loss: 6.4176\n",
            "Iteration: 947; Percent complete: 23.7%; Average loss: 6.6016\n",
            "Iteration: 948; Percent complete: 23.7%; Average loss: 6.7736\n",
            "Iteration: 949; Percent complete: 23.7%; Average loss: 6.5899\n",
            "Iteration: 950; Percent complete: 23.8%; Average loss: 6.6545\n",
            "Iteration: 951; Percent complete: 23.8%; Average loss: 6.4250\n",
            "Iteration: 952; Percent complete: 23.8%; Average loss: 6.4797\n",
            "Iteration: 953; Percent complete: 23.8%; Average loss: 6.5201\n",
            "Iteration: 954; Percent complete: 23.8%; Average loss: 6.4926\n",
            "Iteration: 955; Percent complete: 23.9%; Average loss: 6.6128\n",
            "Iteration: 956; Percent complete: 23.9%; Average loss: 6.7551\n",
            "Iteration: 957; Percent complete: 23.9%; Average loss: 6.6645\n",
            "Iteration: 958; Percent complete: 23.9%; Average loss: 6.4428\n",
            "Iteration: 959; Percent complete: 24.0%; Average loss: 6.4847\n",
            "Iteration: 960; Percent complete: 24.0%; Average loss: 6.6991\n",
            "Iteration: 961; Percent complete: 24.0%; Average loss: 6.5499\n",
            "Iteration: 962; Percent complete: 24.1%; Average loss: 6.7693\n",
            "Iteration: 963; Percent complete: 24.1%; Average loss: 6.2295\n",
            "Iteration: 964; Percent complete: 24.1%; Average loss: 6.5086\n",
            "Iteration: 965; Percent complete: 24.1%; Average loss: 6.3437\n",
            "Iteration: 966; Percent complete: 24.1%; Average loss: 6.7740\n",
            "Iteration: 967; Percent complete: 24.2%; Average loss: 6.5805\n",
            "Iteration: 968; Percent complete: 24.2%; Average loss: 6.6579\n",
            "Iteration: 969; Percent complete: 24.2%; Average loss: 6.5149\n",
            "Iteration: 970; Percent complete: 24.2%; Average loss: 6.4478\n",
            "Iteration: 971; Percent complete: 24.3%; Average loss: 6.2807\n",
            "Iteration: 972; Percent complete: 24.3%; Average loss: 6.8008\n",
            "Iteration: 973; Percent complete: 24.3%; Average loss: 6.6558\n",
            "Iteration: 974; Percent complete: 24.3%; Average loss: 6.4464\n",
            "Iteration: 975; Percent complete: 24.4%; Average loss: 6.6073\n",
            "Iteration: 976; Percent complete: 24.4%; Average loss: 6.6365\n",
            "Iteration: 977; Percent complete: 24.4%; Average loss: 6.8316\n",
            "Iteration: 978; Percent complete: 24.4%; Average loss: 6.5557\n",
            "Iteration: 979; Percent complete: 24.5%; Average loss: 6.3574\n",
            "Iteration: 980; Percent complete: 24.5%; Average loss: 6.6887\n",
            "Iteration: 981; Percent complete: 24.5%; Average loss: 6.6164\n",
            "Iteration: 982; Percent complete: 24.6%; Average loss: 6.4805\n",
            "Iteration: 983; Percent complete: 24.6%; Average loss: 6.6596\n",
            "Iteration: 984; Percent complete: 24.6%; Average loss: 6.6498\n",
            "Iteration: 985; Percent complete: 24.6%; Average loss: 6.4332\n",
            "Iteration: 986; Percent complete: 24.6%; Average loss: 6.4777\n",
            "Iteration: 987; Percent complete: 24.7%; Average loss: 6.6143\n",
            "Iteration: 988; Percent complete: 24.7%; Average loss: 6.5943\n",
            "Iteration: 989; Percent complete: 24.7%; Average loss: 6.5012\n",
            "Iteration: 990; Percent complete: 24.8%; Average loss: 6.6800\n",
            "Iteration: 991; Percent complete: 24.8%; Average loss: 6.6757\n",
            "Iteration: 992; Percent complete: 24.8%; Average loss: 6.5625\n",
            "Iteration: 993; Percent complete: 24.8%; Average loss: 6.4841\n",
            "Iteration: 994; Percent complete: 24.9%; Average loss: 6.6865\n",
            "Iteration: 995; Percent complete: 24.9%; Average loss: 6.6663\n",
            "Iteration: 996; Percent complete: 24.9%; Average loss: 6.5624\n",
            "Iteration: 997; Percent complete: 24.9%; Average loss: 6.6354\n",
            "Iteration: 998; Percent complete: 24.9%; Average loss: 6.5426\n",
            "Iteration: 999; Percent complete: 25.0%; Average loss: 6.6834\n",
            "Iteration: 1000; Percent complete: 25.0%; Average loss: 6.6218\n",
            "Iteration: 1001; Percent complete: 25.0%; Average loss: 6.6320\n",
            "Iteration: 1002; Percent complete: 25.1%; Average loss: 6.4966\n",
            "Iteration: 1003; Percent complete: 25.1%; Average loss: 6.5286\n",
            "Iteration: 1004; Percent complete: 25.1%; Average loss: 6.5444\n",
            "Iteration: 1005; Percent complete: 25.1%; Average loss: 6.5686\n",
            "Iteration: 1006; Percent complete: 25.1%; Average loss: 6.5820\n",
            "Iteration: 1007; Percent complete: 25.2%; Average loss: 6.4063\n",
            "Iteration: 1008; Percent complete: 25.2%; Average loss: 6.4680\n",
            "Iteration: 1009; Percent complete: 25.2%; Average loss: 6.7075\n",
            "Iteration: 1010; Percent complete: 25.2%; Average loss: 6.4154\n",
            "Iteration: 1011; Percent complete: 25.3%; Average loss: 6.6174\n",
            "Iteration: 1012; Percent complete: 25.3%; Average loss: 6.4987\n",
            "Iteration: 1013; Percent complete: 25.3%; Average loss: 6.1355\n",
            "Iteration: 1014; Percent complete: 25.4%; Average loss: 6.4724\n",
            "Iteration: 1015; Percent complete: 25.4%; Average loss: 6.3873\n",
            "Iteration: 1016; Percent complete: 25.4%; Average loss: 6.5493\n",
            "Iteration: 1017; Percent complete: 25.4%; Average loss: 6.5267\n",
            "Iteration: 1018; Percent complete: 25.4%; Average loss: 6.4369\n",
            "Iteration: 1019; Percent complete: 25.5%; Average loss: 6.6483\n",
            "Iteration: 1020; Percent complete: 25.5%; Average loss: 6.7352\n",
            "Iteration: 1021; Percent complete: 25.5%; Average loss: 6.4732\n",
            "Iteration: 1022; Percent complete: 25.6%; Average loss: 6.6403\n",
            "Iteration: 1023; Percent complete: 25.6%; Average loss: 6.6629\n",
            "Iteration: 1024; Percent complete: 25.6%; Average loss: 6.7811\n",
            "Iteration: 1025; Percent complete: 25.6%; Average loss: 6.4784\n",
            "Iteration: 1026; Percent complete: 25.7%; Average loss: 6.6165\n",
            "Iteration: 1027; Percent complete: 25.7%; Average loss: 6.5022\n",
            "Iteration: 1028; Percent complete: 25.7%; Average loss: 6.4745\n",
            "Iteration: 1029; Percent complete: 25.7%; Average loss: 6.4479\n",
            "Iteration: 1030; Percent complete: 25.8%; Average loss: 6.4530\n",
            "Iteration: 1031; Percent complete: 25.8%; Average loss: 6.4269\n",
            "Iteration: 1032; Percent complete: 25.8%; Average loss: 6.6749\n",
            "Iteration: 1033; Percent complete: 25.8%; Average loss: 6.3865\n",
            "Iteration: 1034; Percent complete: 25.9%; Average loss: 6.4604\n",
            "Iteration: 1035; Percent complete: 25.9%; Average loss: 6.5984\n",
            "Iteration: 1036; Percent complete: 25.9%; Average loss: 6.4606\n",
            "Iteration: 1037; Percent complete: 25.9%; Average loss: 6.4378\n",
            "Iteration: 1038; Percent complete: 25.9%; Average loss: 6.5015\n",
            "Iteration: 1039; Percent complete: 26.0%; Average loss: 6.5059\n",
            "Iteration: 1040; Percent complete: 26.0%; Average loss: 6.6006\n",
            "Iteration: 1041; Percent complete: 26.0%; Average loss: 6.2761\n",
            "Iteration: 1042; Percent complete: 26.1%; Average loss: 6.5437\n",
            "Iteration: 1043; Percent complete: 26.1%; Average loss: 6.4208\n",
            "Iteration: 1044; Percent complete: 26.1%; Average loss: 6.3742\n",
            "Iteration: 1045; Percent complete: 26.1%; Average loss: 6.3270\n",
            "Iteration: 1046; Percent complete: 26.2%; Average loss: 6.0081\n",
            "Iteration: 1047; Percent complete: 26.2%; Average loss: 6.6739\n",
            "Iteration: 1048; Percent complete: 26.2%; Average loss: 6.5386\n",
            "Iteration: 1049; Percent complete: 26.2%; Average loss: 6.3964\n",
            "Iteration: 1050; Percent complete: 26.2%; Average loss: 6.4810\n",
            "Iteration: 1051; Percent complete: 26.3%; Average loss: 6.4661\n",
            "Iteration: 1052; Percent complete: 26.3%; Average loss: 6.4860\n",
            "Iteration: 1053; Percent complete: 26.3%; Average loss: 6.4587\n",
            "Iteration: 1054; Percent complete: 26.4%; Average loss: 6.4684\n",
            "Iteration: 1055; Percent complete: 26.4%; Average loss: 6.4497\n",
            "Iteration: 1056; Percent complete: 26.4%; Average loss: 6.6898\n",
            "Iteration: 1057; Percent complete: 26.4%; Average loss: 6.5676\n",
            "Iteration: 1058; Percent complete: 26.5%; Average loss: 6.5132\n",
            "Iteration: 1059; Percent complete: 26.5%; Average loss: 6.5844\n",
            "Iteration: 1060; Percent complete: 26.5%; Average loss: 6.4082\n",
            "Iteration: 1061; Percent complete: 26.5%; Average loss: 6.4966\n",
            "Iteration: 1062; Percent complete: 26.6%; Average loss: 6.7315\n",
            "Iteration: 1063; Percent complete: 26.6%; Average loss: 6.4978\n",
            "Iteration: 1064; Percent complete: 26.6%; Average loss: 6.5961\n",
            "Iteration: 1065; Percent complete: 26.6%; Average loss: 6.2858\n",
            "Iteration: 1066; Percent complete: 26.7%; Average loss: 6.4618\n",
            "Iteration: 1067; Percent complete: 26.7%; Average loss: 6.5152\n",
            "Iteration: 1068; Percent complete: 26.7%; Average loss: 6.1423\n",
            "Iteration: 1069; Percent complete: 26.7%; Average loss: 6.3136\n",
            "Iteration: 1070; Percent complete: 26.8%; Average loss: 6.2483\n",
            "Iteration: 1071; Percent complete: 26.8%; Average loss: 6.4057\n",
            "Iteration: 1072; Percent complete: 26.8%; Average loss: 6.5367\n",
            "Iteration: 1073; Percent complete: 26.8%; Average loss: 6.4693\n",
            "Iteration: 1074; Percent complete: 26.9%; Average loss: 6.5891\n",
            "Iteration: 1075; Percent complete: 26.9%; Average loss: 6.5125\n",
            "Iteration: 1076; Percent complete: 26.9%; Average loss: 6.4331\n",
            "Iteration: 1077; Percent complete: 26.9%; Average loss: 6.3013\n",
            "Iteration: 1078; Percent complete: 27.0%; Average loss: 6.4749\n",
            "Iteration: 1079; Percent complete: 27.0%; Average loss: 6.3945\n",
            "Iteration: 1080; Percent complete: 27.0%; Average loss: 6.4161\n",
            "Iteration: 1081; Percent complete: 27.0%; Average loss: 6.6017\n",
            "Iteration: 1082; Percent complete: 27.1%; Average loss: 6.6885\n",
            "Iteration: 1083; Percent complete: 27.1%; Average loss: 6.2614\n",
            "Iteration: 1084; Percent complete: 27.1%; Average loss: 6.4610\n",
            "Iteration: 1085; Percent complete: 27.1%; Average loss: 6.3851\n",
            "Iteration: 1086; Percent complete: 27.2%; Average loss: 6.3768\n",
            "Iteration: 1087; Percent complete: 27.2%; Average loss: 6.3743\n",
            "Iteration: 1088; Percent complete: 27.2%; Average loss: 6.5169\n",
            "Iteration: 1089; Percent complete: 27.2%; Average loss: 6.3013\n",
            "Iteration: 1090; Percent complete: 27.3%; Average loss: 6.3234\n",
            "Iteration: 1091; Percent complete: 27.3%; Average loss: 6.4494\n",
            "Iteration: 1092; Percent complete: 27.3%; Average loss: 6.5166\n",
            "Iteration: 1093; Percent complete: 27.3%; Average loss: 6.4307\n",
            "Iteration: 1094; Percent complete: 27.4%; Average loss: 6.5324\n",
            "Iteration: 1095; Percent complete: 27.4%; Average loss: 6.4435\n",
            "Iteration: 1096; Percent complete: 27.4%; Average loss: 6.3259\n",
            "Iteration: 1097; Percent complete: 27.4%; Average loss: 6.6618\n",
            "Iteration: 1098; Percent complete: 27.5%; Average loss: 6.4674\n",
            "Iteration: 1099; Percent complete: 27.5%; Average loss: 6.3529\n",
            "Iteration: 1100; Percent complete: 27.5%; Average loss: 6.3763\n",
            "Iteration: 1101; Percent complete: 27.5%; Average loss: 6.4814\n",
            "Iteration: 1102; Percent complete: 27.6%; Average loss: 6.3594\n",
            "Iteration: 1103; Percent complete: 27.6%; Average loss: 6.3317\n",
            "Iteration: 1104; Percent complete: 27.6%; Average loss: 6.3339\n",
            "Iteration: 1105; Percent complete: 27.6%; Average loss: 6.3821\n",
            "Iteration: 1106; Percent complete: 27.7%; Average loss: 6.2708\n",
            "Iteration: 1107; Percent complete: 27.7%; Average loss: 6.0790\n",
            "Iteration: 1108; Percent complete: 27.7%; Average loss: 6.6271\n",
            "Iteration: 1109; Percent complete: 27.7%; Average loss: 6.6115\n",
            "Iteration: 1110; Percent complete: 27.8%; Average loss: 6.5356\n",
            "Iteration: 1111; Percent complete: 27.8%; Average loss: 6.3866\n",
            "Iteration: 1112; Percent complete: 27.8%; Average loss: 6.6232\n",
            "Iteration: 1113; Percent complete: 27.8%; Average loss: 6.4108\n",
            "Iteration: 1114; Percent complete: 27.9%; Average loss: 6.4745\n",
            "Iteration: 1115; Percent complete: 27.9%; Average loss: 6.4759\n",
            "Iteration: 1116; Percent complete: 27.9%; Average loss: 6.5178\n",
            "Iteration: 1117; Percent complete: 27.9%; Average loss: 6.3131\n",
            "Iteration: 1118; Percent complete: 28.0%; Average loss: 6.3468\n",
            "Iteration: 1119; Percent complete: 28.0%; Average loss: 6.5171\n",
            "Iteration: 1120; Percent complete: 28.0%; Average loss: 6.5179\n",
            "Iteration: 1121; Percent complete: 28.0%; Average loss: 6.1623\n",
            "Iteration: 1122; Percent complete: 28.1%; Average loss: 6.5517\n",
            "Iteration: 1123; Percent complete: 28.1%; Average loss: 6.5059\n",
            "Iteration: 1124; Percent complete: 28.1%; Average loss: 6.6455\n",
            "Iteration: 1125; Percent complete: 28.1%; Average loss: 6.5806\n",
            "Iteration: 1126; Percent complete: 28.1%; Average loss: 6.4283\n",
            "Iteration: 1127; Percent complete: 28.2%; Average loss: 6.2451\n",
            "Iteration: 1128; Percent complete: 28.2%; Average loss: 6.4323\n",
            "Iteration: 1129; Percent complete: 28.2%; Average loss: 6.2768\n",
            "Iteration: 1130; Percent complete: 28.2%; Average loss: 6.3572\n",
            "Iteration: 1131; Percent complete: 28.3%; Average loss: 6.5452\n",
            "Iteration: 1132; Percent complete: 28.3%; Average loss: 6.4122\n",
            "Iteration: 1133; Percent complete: 28.3%; Average loss: 6.2903\n",
            "Iteration: 1134; Percent complete: 28.3%; Average loss: 6.4543\n",
            "Iteration: 1135; Percent complete: 28.4%; Average loss: 6.4283\n",
            "Iteration: 1136; Percent complete: 28.4%; Average loss: 6.6644\n",
            "Iteration: 1137; Percent complete: 28.4%; Average loss: 6.0585\n",
            "Iteration: 1138; Percent complete: 28.4%; Average loss: 6.4762\n",
            "Iteration: 1139; Percent complete: 28.5%; Average loss: 6.5984\n",
            "Iteration: 1140; Percent complete: 28.5%; Average loss: 6.5161\n",
            "Iteration: 1141; Percent complete: 28.5%; Average loss: 6.2462\n",
            "Iteration: 1142; Percent complete: 28.5%; Average loss: 6.5096\n",
            "Iteration: 1143; Percent complete: 28.6%; Average loss: 6.5670\n",
            "Iteration: 1144; Percent complete: 28.6%; Average loss: 6.3097\n",
            "Iteration: 1145; Percent complete: 28.6%; Average loss: 6.3688\n",
            "Iteration: 1146; Percent complete: 28.6%; Average loss: 6.4216\n",
            "Iteration: 1147; Percent complete: 28.7%; Average loss: 6.5758\n",
            "Iteration: 1148; Percent complete: 28.7%; Average loss: 6.2755\n",
            "Iteration: 1149; Percent complete: 28.7%; Average loss: 6.3479\n",
            "Iteration: 1150; Percent complete: 28.7%; Average loss: 6.3109\n",
            "Iteration: 1151; Percent complete: 28.8%; Average loss: 6.3993\n",
            "Iteration: 1152; Percent complete: 28.8%; Average loss: 6.2126\n",
            "Iteration: 1153; Percent complete: 28.8%; Average loss: 6.5751\n",
            "Iteration: 1154; Percent complete: 28.8%; Average loss: 6.7080\n",
            "Iteration: 1155; Percent complete: 28.9%; Average loss: 6.2447\n",
            "Iteration: 1156; Percent complete: 28.9%; Average loss: 6.2941\n",
            "Iteration: 1157; Percent complete: 28.9%; Average loss: 6.3733\n",
            "Iteration: 1158; Percent complete: 28.9%; Average loss: 6.1926\n",
            "Iteration: 1159; Percent complete: 29.0%; Average loss: 6.1940\n",
            "Iteration: 1160; Percent complete: 29.0%; Average loss: 6.1847\n",
            "Iteration: 1161; Percent complete: 29.0%; Average loss: 6.5139\n",
            "Iteration: 1162; Percent complete: 29.0%; Average loss: 6.4020\n",
            "Iteration: 1163; Percent complete: 29.1%; Average loss: 6.0784\n",
            "Iteration: 1164; Percent complete: 29.1%; Average loss: 6.4685\n",
            "Iteration: 1165; Percent complete: 29.1%; Average loss: 6.4933\n",
            "Iteration: 1166; Percent complete: 29.1%; Average loss: 6.2585\n",
            "Iteration: 1167; Percent complete: 29.2%; Average loss: 6.3046\n",
            "Iteration: 1168; Percent complete: 29.2%; Average loss: 6.2039\n",
            "Iteration: 1169; Percent complete: 29.2%; Average loss: 6.3886\n",
            "Iteration: 1170; Percent complete: 29.2%; Average loss: 6.4149\n",
            "Iteration: 1171; Percent complete: 29.3%; Average loss: 6.4360\n",
            "Iteration: 1172; Percent complete: 29.3%; Average loss: 6.3042\n",
            "Iteration: 1173; Percent complete: 29.3%; Average loss: 6.4048\n",
            "Iteration: 1174; Percent complete: 29.3%; Average loss: 6.3349\n",
            "Iteration: 1175; Percent complete: 29.4%; Average loss: 6.4941\n",
            "Iteration: 1176; Percent complete: 29.4%; Average loss: 6.4917\n",
            "Iteration: 1177; Percent complete: 29.4%; Average loss: 6.2236\n",
            "Iteration: 1178; Percent complete: 29.4%; Average loss: 6.6153\n",
            "Iteration: 1179; Percent complete: 29.5%; Average loss: 6.4517\n",
            "Iteration: 1180; Percent complete: 29.5%; Average loss: 6.2897\n",
            "Iteration: 1181; Percent complete: 29.5%; Average loss: 6.5433\n",
            "Iteration: 1182; Percent complete: 29.5%; Average loss: 6.4605\n",
            "Iteration: 1183; Percent complete: 29.6%; Average loss: 6.3838\n",
            "Iteration: 1184; Percent complete: 29.6%; Average loss: 6.1764\n",
            "Iteration: 1185; Percent complete: 29.6%; Average loss: 6.2397\n",
            "Iteration: 1186; Percent complete: 29.6%; Average loss: 6.1513\n",
            "Iteration: 1187; Percent complete: 29.7%; Average loss: 6.4497\n",
            "Iteration: 1188; Percent complete: 29.7%; Average loss: 6.3691\n",
            "Iteration: 1189; Percent complete: 29.7%; Average loss: 6.4169\n",
            "Iteration: 1190; Percent complete: 29.8%; Average loss: 6.5068\n",
            "Iteration: 1191; Percent complete: 29.8%; Average loss: 6.2766\n",
            "Iteration: 1192; Percent complete: 29.8%; Average loss: 6.3783\n",
            "Iteration: 1193; Percent complete: 29.8%; Average loss: 6.3998\n",
            "Iteration: 1194; Percent complete: 29.8%; Average loss: 6.3298\n",
            "Iteration: 1195; Percent complete: 29.9%; Average loss: 6.4790\n",
            "Iteration: 1196; Percent complete: 29.9%; Average loss: 6.2444\n",
            "Iteration: 1197; Percent complete: 29.9%; Average loss: 6.3179\n",
            "Iteration: 1198; Percent complete: 29.9%; Average loss: 6.3471\n",
            "Iteration: 1199; Percent complete: 30.0%; Average loss: 6.0766\n",
            "Iteration: 1200; Percent complete: 30.0%; Average loss: 6.1057\n",
            "Iteration: 1201; Percent complete: 30.0%; Average loss: 6.5014\n",
            "Iteration: 1202; Percent complete: 30.0%; Average loss: 6.3553\n",
            "Iteration: 1203; Percent complete: 30.1%; Average loss: 6.2647\n",
            "Iteration: 1204; Percent complete: 30.1%; Average loss: 6.3715\n",
            "Iteration: 1205; Percent complete: 30.1%; Average loss: 6.4640\n",
            "Iteration: 1206; Percent complete: 30.1%; Average loss: 6.2712\n",
            "Iteration: 1207; Percent complete: 30.2%; Average loss: 6.2726\n",
            "Iteration: 1208; Percent complete: 30.2%; Average loss: 6.3513\n",
            "Iteration: 1209; Percent complete: 30.2%; Average loss: 6.4778\n",
            "Iteration: 1210; Percent complete: 30.2%; Average loss: 6.2962\n",
            "Iteration: 1211; Percent complete: 30.3%; Average loss: 6.3942\n",
            "Iteration: 1212; Percent complete: 30.3%; Average loss: 6.1059\n",
            "Iteration: 1213; Percent complete: 30.3%; Average loss: 6.3149\n",
            "Iteration: 1214; Percent complete: 30.3%; Average loss: 6.0699\n",
            "Iteration: 1215; Percent complete: 30.4%; Average loss: 6.5720\n",
            "Iteration: 1216; Percent complete: 30.4%; Average loss: 6.4054\n",
            "Iteration: 1217; Percent complete: 30.4%; Average loss: 6.3975\n",
            "Iteration: 1218; Percent complete: 30.4%; Average loss: 6.4130\n",
            "Iteration: 1219; Percent complete: 30.5%; Average loss: 6.3376\n",
            "Iteration: 1220; Percent complete: 30.5%; Average loss: 6.3755\n",
            "Iteration: 1221; Percent complete: 30.5%; Average loss: 6.3248\n",
            "Iteration: 1222; Percent complete: 30.6%; Average loss: 6.1430\n",
            "Iteration: 1223; Percent complete: 30.6%; Average loss: 6.5524\n",
            "Iteration: 1224; Percent complete: 30.6%; Average loss: 6.2871\n",
            "Iteration: 1225; Percent complete: 30.6%; Average loss: 6.3071\n",
            "Iteration: 1226; Percent complete: 30.6%; Average loss: 6.5154\n",
            "Iteration: 1227; Percent complete: 30.7%; Average loss: 6.5379\n",
            "Iteration: 1228; Percent complete: 30.7%; Average loss: 6.3938\n",
            "Iteration: 1229; Percent complete: 30.7%; Average loss: 6.2905\n",
            "Iteration: 1230; Percent complete: 30.8%; Average loss: 6.3382\n",
            "Iteration: 1231; Percent complete: 30.8%; Average loss: 6.6578\n",
            "Iteration: 1232; Percent complete: 30.8%; Average loss: 6.3848\n",
            "Iteration: 1233; Percent complete: 30.8%; Average loss: 6.5541\n",
            "Iteration: 1234; Percent complete: 30.9%; Average loss: 6.4731\n",
            "Iteration: 1235; Percent complete: 30.9%; Average loss: 6.3418\n",
            "Iteration: 1236; Percent complete: 30.9%; Average loss: 6.2516\n",
            "Iteration: 1237; Percent complete: 30.9%; Average loss: 6.0344\n",
            "Iteration: 1238; Percent complete: 30.9%; Average loss: 6.1890\n",
            "Iteration: 1239; Percent complete: 31.0%; Average loss: 6.4459\n",
            "Iteration: 1240; Percent complete: 31.0%; Average loss: 6.2114\n",
            "Iteration: 1241; Percent complete: 31.0%; Average loss: 6.0874\n",
            "Iteration: 1242; Percent complete: 31.1%; Average loss: 6.4226\n",
            "Iteration: 1243; Percent complete: 31.1%; Average loss: 6.1557\n",
            "Iteration: 1244; Percent complete: 31.1%; Average loss: 6.3859\n",
            "Iteration: 1245; Percent complete: 31.1%; Average loss: 6.4214\n",
            "Iteration: 1246; Percent complete: 31.1%; Average loss: 6.4334\n",
            "Iteration: 1247; Percent complete: 31.2%; Average loss: 6.1107\n",
            "Iteration: 1248; Percent complete: 31.2%; Average loss: 6.5054\n",
            "Iteration: 1249; Percent complete: 31.2%; Average loss: 6.2776\n",
            "Iteration: 1250; Percent complete: 31.2%; Average loss: 6.2091\n",
            "Iteration: 1251; Percent complete: 31.3%; Average loss: 6.5450\n",
            "Iteration: 1252; Percent complete: 31.3%; Average loss: 6.2461\n",
            "Iteration: 1253; Percent complete: 31.3%; Average loss: 6.2483\n",
            "Iteration: 1254; Percent complete: 31.4%; Average loss: 6.3687\n",
            "Iteration: 1255; Percent complete: 31.4%; Average loss: 6.5362\n",
            "Iteration: 1256; Percent complete: 31.4%; Average loss: 6.0723\n",
            "Iteration: 1257; Percent complete: 31.4%; Average loss: 6.2830\n",
            "Iteration: 1258; Percent complete: 31.4%; Average loss: 6.3583\n",
            "Iteration: 1259; Percent complete: 31.5%; Average loss: 6.2078\n",
            "Iteration: 1260; Percent complete: 31.5%; Average loss: 6.2600\n",
            "Iteration: 1261; Percent complete: 31.5%; Average loss: 6.2762\n",
            "Iteration: 1262; Percent complete: 31.6%; Average loss: 6.3319\n",
            "Iteration: 1263; Percent complete: 31.6%; Average loss: 6.3173\n",
            "Iteration: 1264; Percent complete: 31.6%; Average loss: 6.3815\n",
            "Iteration: 1265; Percent complete: 31.6%; Average loss: 6.4858\n",
            "Iteration: 1266; Percent complete: 31.6%; Average loss: 6.3154\n",
            "Iteration: 1267; Percent complete: 31.7%; Average loss: 6.3343\n",
            "Iteration: 1268; Percent complete: 31.7%; Average loss: 5.9893\n",
            "Iteration: 1269; Percent complete: 31.7%; Average loss: 5.9726\n",
            "Iteration: 1270; Percent complete: 31.8%; Average loss: 6.1943\n",
            "Iteration: 1271; Percent complete: 31.8%; Average loss: 6.0770\n",
            "Iteration: 1272; Percent complete: 31.8%; Average loss: 6.3749\n",
            "Iteration: 1273; Percent complete: 31.8%; Average loss: 6.1265\n",
            "Iteration: 1274; Percent complete: 31.9%; Average loss: 6.3546\n",
            "Iteration: 1275; Percent complete: 31.9%; Average loss: 6.2392\n",
            "Iteration: 1276; Percent complete: 31.9%; Average loss: 6.4673\n",
            "Iteration: 1277; Percent complete: 31.9%; Average loss: 6.1595\n",
            "Iteration: 1278; Percent complete: 31.9%; Average loss: 6.3653\n",
            "Iteration: 1279; Percent complete: 32.0%; Average loss: 6.1704\n",
            "Iteration: 1280; Percent complete: 32.0%; Average loss: 6.3590\n",
            "Iteration: 1281; Percent complete: 32.0%; Average loss: 6.1707\n",
            "Iteration: 1282; Percent complete: 32.0%; Average loss: 6.2020\n",
            "Iteration: 1283; Percent complete: 32.1%; Average loss: 6.2084\n",
            "Iteration: 1284; Percent complete: 32.1%; Average loss: 6.3358\n",
            "Iteration: 1285; Percent complete: 32.1%; Average loss: 6.2741\n",
            "Iteration: 1286; Percent complete: 32.1%; Average loss: 6.0501\n",
            "Iteration: 1287; Percent complete: 32.2%; Average loss: 6.4604\n",
            "Iteration: 1288; Percent complete: 32.2%; Average loss: 6.0429\n",
            "Iteration: 1289; Percent complete: 32.2%; Average loss: 6.4982\n",
            "Iteration: 1290; Percent complete: 32.2%; Average loss: 6.3233\n",
            "Iteration: 1291; Percent complete: 32.3%; Average loss: 6.3771\n",
            "Iteration: 1292; Percent complete: 32.3%; Average loss: 6.1825\n",
            "Iteration: 1293; Percent complete: 32.3%; Average loss: 6.2485\n",
            "Iteration: 1294; Percent complete: 32.4%; Average loss: 6.0435\n",
            "Iteration: 1295; Percent complete: 32.4%; Average loss: 6.2218\n",
            "Iteration: 1296; Percent complete: 32.4%; Average loss: 6.1744\n",
            "Iteration: 1297; Percent complete: 32.4%; Average loss: 6.2359\n",
            "Iteration: 1298; Percent complete: 32.5%; Average loss: 6.2581\n",
            "Iteration: 1299; Percent complete: 32.5%; Average loss: 6.1910\n",
            "Iteration: 1300; Percent complete: 32.5%; Average loss: 6.1917\n",
            "Iteration: 1301; Percent complete: 32.5%; Average loss: 6.2703\n",
            "Iteration: 1302; Percent complete: 32.6%; Average loss: 6.1987\n",
            "Iteration: 1303; Percent complete: 32.6%; Average loss: 6.2732\n",
            "Iteration: 1304; Percent complete: 32.6%; Average loss: 6.2524\n",
            "Iteration: 1305; Percent complete: 32.6%; Average loss: 6.2465\n",
            "Iteration: 1306; Percent complete: 32.6%; Average loss: 6.1127\n",
            "Iteration: 1307; Percent complete: 32.7%; Average loss: 6.1685\n",
            "Iteration: 1308; Percent complete: 32.7%; Average loss: 6.2669\n",
            "Iteration: 1309; Percent complete: 32.7%; Average loss: 6.1280\n",
            "Iteration: 1310; Percent complete: 32.8%; Average loss: 6.2640\n",
            "Iteration: 1311; Percent complete: 32.8%; Average loss: 6.3220\n",
            "Iteration: 1312; Percent complete: 32.8%; Average loss: 6.3404\n",
            "Iteration: 1313; Percent complete: 32.8%; Average loss: 5.9370\n",
            "Iteration: 1314; Percent complete: 32.9%; Average loss: 6.1577\n",
            "Iteration: 1315; Percent complete: 32.9%; Average loss: 6.1272\n",
            "Iteration: 1316; Percent complete: 32.9%; Average loss: 6.3697\n",
            "Iteration: 1317; Percent complete: 32.9%; Average loss: 6.3392\n",
            "Iteration: 1318; Percent complete: 33.0%; Average loss: 6.2882\n",
            "Iteration: 1319; Percent complete: 33.0%; Average loss: 6.2061\n",
            "Iteration: 1320; Percent complete: 33.0%; Average loss: 6.1990\n",
            "Iteration: 1321; Percent complete: 33.0%; Average loss: 6.1971\n",
            "Iteration: 1322; Percent complete: 33.1%; Average loss: 6.0849\n",
            "Iteration: 1323; Percent complete: 33.1%; Average loss: 6.4336\n",
            "Iteration: 1324; Percent complete: 33.1%; Average loss: 6.1756\n",
            "Iteration: 1325; Percent complete: 33.1%; Average loss: 6.1338\n",
            "Iteration: 1326; Percent complete: 33.1%; Average loss: 6.1085\n",
            "Iteration: 1327; Percent complete: 33.2%; Average loss: 6.2967\n",
            "Iteration: 1328; Percent complete: 33.2%; Average loss: 6.2272\n",
            "Iteration: 1329; Percent complete: 33.2%; Average loss: 6.2798\n",
            "Iteration: 1330; Percent complete: 33.2%; Average loss: 6.2241\n",
            "Iteration: 1331; Percent complete: 33.3%; Average loss: 6.4125\n",
            "Iteration: 1332; Percent complete: 33.3%; Average loss: 6.1701\n",
            "Iteration: 1333; Percent complete: 33.3%; Average loss: 6.2265\n",
            "Iteration: 1334; Percent complete: 33.4%; Average loss: 6.3359\n",
            "Iteration: 1335; Percent complete: 33.4%; Average loss: 6.3161\n",
            "Iteration: 1336; Percent complete: 33.4%; Average loss: 6.2118\n",
            "Iteration: 1337; Percent complete: 33.4%; Average loss: 6.0524\n",
            "Iteration: 1338; Percent complete: 33.5%; Average loss: 6.2911\n",
            "Iteration: 1339; Percent complete: 33.5%; Average loss: 6.1401\n",
            "Iteration: 1340; Percent complete: 33.5%; Average loss: 6.2860\n",
            "Iteration: 1341; Percent complete: 33.5%; Average loss: 5.9779\n",
            "Iteration: 1342; Percent complete: 33.6%; Average loss: 6.0889\n",
            "Iteration: 1343; Percent complete: 33.6%; Average loss: 6.0475\n",
            "Iteration: 1344; Percent complete: 33.6%; Average loss: 6.3762\n",
            "Iteration: 1345; Percent complete: 33.6%; Average loss: 6.0278\n",
            "Iteration: 1346; Percent complete: 33.7%; Average loss: 6.0117\n",
            "Iteration: 1347; Percent complete: 33.7%; Average loss: 6.1819\n",
            "Iteration: 1348; Percent complete: 33.7%; Average loss: 6.1123\n",
            "Iteration: 1349; Percent complete: 33.7%; Average loss: 6.2436\n",
            "Iteration: 1350; Percent complete: 33.8%; Average loss: 6.2572\n",
            "Iteration: 1351; Percent complete: 33.8%; Average loss: 6.3432\n",
            "Iteration: 1352; Percent complete: 33.8%; Average loss: 6.2594\n",
            "Iteration: 1353; Percent complete: 33.8%; Average loss: 6.2613\n",
            "Iteration: 1354; Percent complete: 33.9%; Average loss: 6.0875\n",
            "Iteration: 1355; Percent complete: 33.9%; Average loss: 6.4331\n",
            "Iteration: 1356; Percent complete: 33.9%; Average loss: 6.0566\n",
            "Iteration: 1357; Percent complete: 33.9%; Average loss: 6.4079\n",
            "Iteration: 1358; Percent complete: 34.0%; Average loss: 6.2091\n",
            "Iteration: 1359; Percent complete: 34.0%; Average loss: 6.1730\n",
            "Iteration: 1360; Percent complete: 34.0%; Average loss: 6.2276\n",
            "Iteration: 1361; Percent complete: 34.0%; Average loss: 6.0557\n",
            "Iteration: 1362; Percent complete: 34.1%; Average loss: 6.1808\n",
            "Iteration: 1363; Percent complete: 34.1%; Average loss: 6.4463\n",
            "Iteration: 1364; Percent complete: 34.1%; Average loss: 6.3449\n",
            "Iteration: 1365; Percent complete: 34.1%; Average loss: 6.3240\n",
            "Iteration: 1366; Percent complete: 34.2%; Average loss: 5.9029\n",
            "Iteration: 1367; Percent complete: 34.2%; Average loss: 6.0890\n",
            "Iteration: 1368; Percent complete: 34.2%; Average loss: 6.3745\n",
            "Iteration: 1369; Percent complete: 34.2%; Average loss: 6.3923\n",
            "Iteration: 1370; Percent complete: 34.2%; Average loss: 6.2170\n",
            "Iteration: 1371; Percent complete: 34.3%; Average loss: 6.0657\n",
            "Iteration: 1372; Percent complete: 34.3%; Average loss: 6.1856\n",
            "Iteration: 1373; Percent complete: 34.3%; Average loss: 6.3930\n",
            "Iteration: 1374; Percent complete: 34.4%; Average loss: 6.2445\n",
            "Iteration: 1375; Percent complete: 34.4%; Average loss: 5.8990\n",
            "Iteration: 1376; Percent complete: 34.4%; Average loss: 5.9365\n",
            "Iteration: 1377; Percent complete: 34.4%; Average loss: 6.1687\n",
            "Iteration: 1378; Percent complete: 34.4%; Average loss: 6.0949\n",
            "Iteration: 1379; Percent complete: 34.5%; Average loss: 6.3456\n",
            "Iteration: 1380; Percent complete: 34.5%; Average loss: 6.3548\n",
            "Iteration: 1381; Percent complete: 34.5%; Average loss: 6.3039\n",
            "Iteration: 1382; Percent complete: 34.5%; Average loss: 6.3841\n",
            "Iteration: 1383; Percent complete: 34.6%; Average loss: 6.0815\n",
            "Iteration: 1384; Percent complete: 34.6%; Average loss: 6.3018\n",
            "Iteration: 1385; Percent complete: 34.6%; Average loss: 6.0817\n",
            "Iteration: 1386; Percent complete: 34.6%; Average loss: 6.1178\n",
            "Iteration: 1387; Percent complete: 34.7%; Average loss: 6.0990\n",
            "Iteration: 1388; Percent complete: 34.7%; Average loss: 6.1534\n",
            "Iteration: 1389; Percent complete: 34.7%; Average loss: 6.3060\n",
            "Iteration: 1390; Percent complete: 34.8%; Average loss: 6.2914\n",
            "Iteration: 1391; Percent complete: 34.8%; Average loss: 6.2285\n",
            "Iteration: 1392; Percent complete: 34.8%; Average loss: 6.1130\n",
            "Iteration: 1393; Percent complete: 34.8%; Average loss: 6.1825\n",
            "Iteration: 1394; Percent complete: 34.8%; Average loss: 6.2739\n",
            "Iteration: 1395; Percent complete: 34.9%; Average loss: 5.8293\n",
            "Iteration: 1396; Percent complete: 34.9%; Average loss: 6.0259\n",
            "Iteration: 1397; Percent complete: 34.9%; Average loss: 6.2347\n",
            "Iteration: 1398; Percent complete: 34.9%; Average loss: 6.0279\n",
            "Iteration: 1399; Percent complete: 35.0%; Average loss: 6.4101\n",
            "Iteration: 1400; Percent complete: 35.0%; Average loss: 6.2732\n",
            "Iteration: 1401; Percent complete: 35.0%; Average loss: 5.9347\n",
            "Iteration: 1402; Percent complete: 35.0%; Average loss: 6.1215\n",
            "Iteration: 1403; Percent complete: 35.1%; Average loss: 6.1306\n",
            "Iteration: 1404; Percent complete: 35.1%; Average loss: 6.0585\n",
            "Iteration: 1405; Percent complete: 35.1%; Average loss: 6.1918\n",
            "Iteration: 1406; Percent complete: 35.1%; Average loss: 6.2472\n",
            "Iteration: 1407; Percent complete: 35.2%; Average loss: 6.3174\n",
            "Iteration: 1408; Percent complete: 35.2%; Average loss: 6.2633\n",
            "Iteration: 1409; Percent complete: 35.2%; Average loss: 6.0067\n",
            "Iteration: 1410; Percent complete: 35.2%; Average loss: 6.1462\n",
            "Iteration: 1411; Percent complete: 35.3%; Average loss: 6.2180\n",
            "Iteration: 1412; Percent complete: 35.3%; Average loss: 6.1616\n",
            "Iteration: 1413; Percent complete: 35.3%; Average loss: 6.3832\n",
            "Iteration: 1414; Percent complete: 35.4%; Average loss: 6.0120\n",
            "Iteration: 1415; Percent complete: 35.4%; Average loss: 6.3161\n",
            "Iteration: 1416; Percent complete: 35.4%; Average loss: 5.9446\n",
            "Iteration: 1417; Percent complete: 35.4%; Average loss: 6.2996\n",
            "Iteration: 1418; Percent complete: 35.4%; Average loss: 6.3844\n",
            "Iteration: 1419; Percent complete: 35.5%; Average loss: 6.1502\n",
            "Iteration: 1420; Percent complete: 35.5%; Average loss: 6.1370\n",
            "Iteration: 1421; Percent complete: 35.5%; Average loss: 6.3388\n",
            "Iteration: 1422; Percent complete: 35.5%; Average loss: 6.3041\n",
            "Iteration: 1423; Percent complete: 35.6%; Average loss: 5.9716\n",
            "Iteration: 1424; Percent complete: 35.6%; Average loss: 6.0763\n",
            "Iteration: 1425; Percent complete: 35.6%; Average loss: 5.9469\n",
            "Iteration: 1426; Percent complete: 35.6%; Average loss: 6.1374\n",
            "Iteration: 1427; Percent complete: 35.7%; Average loss: 6.2627\n",
            "Iteration: 1428; Percent complete: 35.7%; Average loss: 5.7590\n",
            "Iteration: 1429; Percent complete: 35.7%; Average loss: 6.1103\n",
            "Iteration: 1430; Percent complete: 35.8%; Average loss: 6.0593\n",
            "Iteration: 1431; Percent complete: 35.8%; Average loss: 6.0848\n",
            "Iteration: 1432; Percent complete: 35.8%; Average loss: 5.9993\n",
            "Iteration: 1433; Percent complete: 35.8%; Average loss: 6.0757\n",
            "Iteration: 1434; Percent complete: 35.9%; Average loss: 6.1931\n",
            "Iteration: 1435; Percent complete: 35.9%; Average loss: 5.9063\n",
            "Iteration: 1436; Percent complete: 35.9%; Average loss: 6.2449\n",
            "Iteration: 1437; Percent complete: 35.9%; Average loss: 6.1437\n",
            "Iteration: 1438; Percent complete: 35.9%; Average loss: 5.9316\n",
            "Iteration: 1439; Percent complete: 36.0%; Average loss: 6.0361\n",
            "Iteration: 1440; Percent complete: 36.0%; Average loss: 6.1160\n",
            "Iteration: 1441; Percent complete: 36.0%; Average loss: 6.0299\n",
            "Iteration: 1442; Percent complete: 36.0%; Average loss: 6.2598\n",
            "Iteration: 1443; Percent complete: 36.1%; Average loss: 6.3126\n",
            "Iteration: 1444; Percent complete: 36.1%; Average loss: 6.0085\n",
            "Iteration: 1445; Percent complete: 36.1%; Average loss: 6.2280\n",
            "Iteration: 1446; Percent complete: 36.1%; Average loss: 6.0281\n",
            "Iteration: 1447; Percent complete: 36.2%; Average loss: 6.2205\n",
            "Iteration: 1448; Percent complete: 36.2%; Average loss: 6.0039\n",
            "Iteration: 1449; Percent complete: 36.2%; Average loss: 6.3436\n",
            "Iteration: 1450; Percent complete: 36.2%; Average loss: 6.1175\n",
            "Iteration: 1451; Percent complete: 36.3%; Average loss: 5.9783\n",
            "Iteration: 1452; Percent complete: 36.3%; Average loss: 6.1940\n",
            "Iteration: 1453; Percent complete: 36.3%; Average loss: 6.1036\n",
            "Iteration: 1454; Percent complete: 36.4%; Average loss: 6.0515\n",
            "Iteration: 1455; Percent complete: 36.4%; Average loss: 6.2399\n",
            "Iteration: 1456; Percent complete: 36.4%; Average loss: 6.1042\n",
            "Iteration: 1457; Percent complete: 36.4%; Average loss: 6.0023\n",
            "Iteration: 1458; Percent complete: 36.4%; Average loss: 6.2225\n",
            "Iteration: 1459; Percent complete: 36.5%; Average loss: 5.7719\n",
            "Iteration: 1460; Percent complete: 36.5%; Average loss: 6.1365\n",
            "Iteration: 1461; Percent complete: 36.5%; Average loss: 6.1478\n",
            "Iteration: 1462; Percent complete: 36.5%; Average loss: 5.9763\n",
            "Iteration: 1463; Percent complete: 36.6%; Average loss: 6.0142\n",
            "Iteration: 1464; Percent complete: 36.6%; Average loss: 6.3291\n",
            "Iteration: 1465; Percent complete: 36.6%; Average loss: 6.1255\n",
            "Iteration: 1466; Percent complete: 36.6%; Average loss: 6.0072\n",
            "Iteration: 1467; Percent complete: 36.7%; Average loss: 5.8857\n",
            "Iteration: 1468; Percent complete: 36.7%; Average loss: 6.2677\n",
            "Iteration: 1469; Percent complete: 36.7%; Average loss: 6.0848\n",
            "Iteration: 1470; Percent complete: 36.8%; Average loss: 6.1662\n",
            "Iteration: 1471; Percent complete: 36.8%; Average loss: 5.9295\n",
            "Iteration: 1472; Percent complete: 36.8%; Average loss: 6.2174\n",
            "Iteration: 1473; Percent complete: 36.8%; Average loss: 5.9909\n",
            "Iteration: 1474; Percent complete: 36.9%; Average loss: 5.9337\n",
            "Iteration: 1475; Percent complete: 36.9%; Average loss: 6.3124\n",
            "Iteration: 1476; Percent complete: 36.9%; Average loss: 6.2922\n",
            "Iteration: 1477; Percent complete: 36.9%; Average loss: 6.1011\n",
            "Iteration: 1478; Percent complete: 37.0%; Average loss: 6.0289\n",
            "Iteration: 1479; Percent complete: 37.0%; Average loss: 6.2482\n",
            "Iteration: 1480; Percent complete: 37.0%; Average loss: 6.0004\n",
            "Iteration: 1481; Percent complete: 37.0%; Average loss: 5.9631\n",
            "Iteration: 1482; Percent complete: 37.0%; Average loss: 6.3192\n",
            "Iteration: 1483; Percent complete: 37.1%; Average loss: 6.0500\n",
            "Iteration: 1484; Percent complete: 37.1%; Average loss: 5.9426\n",
            "Iteration: 1485; Percent complete: 37.1%; Average loss: 6.1676\n",
            "Iteration: 1486; Percent complete: 37.1%; Average loss: 6.1585\n",
            "Iteration: 1487; Percent complete: 37.2%; Average loss: 6.0860\n",
            "Iteration: 1488; Percent complete: 37.2%; Average loss: 6.0652\n",
            "Iteration: 1489; Percent complete: 37.2%; Average loss: 5.9722\n",
            "Iteration: 1490; Percent complete: 37.2%; Average loss: 6.0310\n",
            "Iteration: 1491; Percent complete: 37.3%; Average loss: 5.9217\n",
            "Iteration: 1492; Percent complete: 37.3%; Average loss: 6.0718\n",
            "Iteration: 1493; Percent complete: 37.3%; Average loss: 6.2567\n",
            "Iteration: 1494; Percent complete: 37.4%; Average loss: 6.1190\n",
            "Iteration: 1495; Percent complete: 37.4%; Average loss: 6.1934\n",
            "Iteration: 1496; Percent complete: 37.4%; Average loss: 6.1226\n",
            "Iteration: 1497; Percent complete: 37.4%; Average loss: 6.0762\n",
            "Iteration: 1498; Percent complete: 37.5%; Average loss: 5.8810\n",
            "Iteration: 1499; Percent complete: 37.5%; Average loss: 5.7662\n",
            "Iteration: 1500; Percent complete: 37.5%; Average loss: 5.7657\n",
            "Iteration: 1501; Percent complete: 37.5%; Average loss: 5.8933\n",
            "Iteration: 1502; Percent complete: 37.5%; Average loss: 5.9087\n",
            "Iteration: 1503; Percent complete: 37.6%; Average loss: 5.9054\n",
            "Iteration: 1504; Percent complete: 37.6%; Average loss: 6.1439\n",
            "Iteration: 1505; Percent complete: 37.6%; Average loss: 6.3551\n",
            "Iteration: 1506; Percent complete: 37.6%; Average loss: 6.1075\n",
            "Iteration: 1507; Percent complete: 37.7%; Average loss: 6.1442\n",
            "Iteration: 1508; Percent complete: 37.7%; Average loss: 5.8445\n",
            "Iteration: 1509; Percent complete: 37.7%; Average loss: 5.9379\n",
            "Iteration: 1510; Percent complete: 37.8%; Average loss: 5.9046\n",
            "Iteration: 1511; Percent complete: 37.8%; Average loss: 6.0036\n",
            "Iteration: 1512; Percent complete: 37.8%; Average loss: 5.8728\n",
            "Iteration: 1513; Percent complete: 37.8%; Average loss: 5.9843\n",
            "Iteration: 1514; Percent complete: 37.9%; Average loss: 5.9647\n",
            "Iteration: 1515; Percent complete: 37.9%; Average loss: 6.0508\n",
            "Iteration: 1516; Percent complete: 37.9%; Average loss: 6.2549\n",
            "Iteration: 1517; Percent complete: 37.9%; Average loss: 6.1115\n",
            "Iteration: 1518; Percent complete: 38.0%; Average loss: 6.0889\n",
            "Iteration: 1519; Percent complete: 38.0%; Average loss: 6.1236\n",
            "Iteration: 1520; Percent complete: 38.0%; Average loss: 6.2491\n",
            "Iteration: 1521; Percent complete: 38.0%; Average loss: 6.0072\n",
            "Iteration: 1522; Percent complete: 38.0%; Average loss: 6.0947\n",
            "Iteration: 1523; Percent complete: 38.1%; Average loss: 5.9966\n",
            "Iteration: 1524; Percent complete: 38.1%; Average loss: 5.9849\n",
            "Iteration: 1525; Percent complete: 38.1%; Average loss: 5.9981\n",
            "Iteration: 1526; Percent complete: 38.1%; Average loss: 5.7006\n",
            "Iteration: 1527; Percent complete: 38.2%; Average loss: 6.0446\n",
            "Iteration: 1528; Percent complete: 38.2%; Average loss: 5.8730\n",
            "Iteration: 1529; Percent complete: 38.2%; Average loss: 6.1206\n",
            "Iteration: 1530; Percent complete: 38.2%; Average loss: 6.2571\n",
            "Iteration: 1531; Percent complete: 38.3%; Average loss: 6.0046\n",
            "Iteration: 1532; Percent complete: 38.3%; Average loss: 6.0916\n",
            "Iteration: 1533; Percent complete: 38.3%; Average loss: 6.0775\n",
            "Iteration: 1534; Percent complete: 38.4%; Average loss: 6.0838\n",
            "Iteration: 1535; Percent complete: 38.4%; Average loss: 6.1460\n",
            "Iteration: 1536; Percent complete: 38.4%; Average loss: 5.8999\n",
            "Iteration: 1537; Percent complete: 38.4%; Average loss: 6.2616\n",
            "Iteration: 1538; Percent complete: 38.5%; Average loss: 6.1179\n",
            "Iteration: 1539; Percent complete: 38.5%; Average loss: 6.1854\n",
            "Iteration: 1540; Percent complete: 38.5%; Average loss: 6.0558\n",
            "Iteration: 1541; Percent complete: 38.5%; Average loss: 6.3259\n",
            "Iteration: 1542; Percent complete: 38.6%; Average loss: 5.9712\n",
            "Iteration: 1543; Percent complete: 38.6%; Average loss: 6.0650\n",
            "Iteration: 1544; Percent complete: 38.6%; Average loss: 6.0816\n",
            "Iteration: 1545; Percent complete: 38.6%; Average loss: 6.2746\n",
            "Iteration: 1546; Percent complete: 38.6%; Average loss: 5.9580\n",
            "Iteration: 1547; Percent complete: 38.7%; Average loss: 6.1584\n",
            "Iteration: 1548; Percent complete: 38.7%; Average loss: 6.3287\n",
            "Iteration: 1549; Percent complete: 38.7%; Average loss: 5.9125\n",
            "Iteration: 1550; Percent complete: 38.8%; Average loss: 5.8957\n",
            "Iteration: 1551; Percent complete: 38.8%; Average loss: 5.8795\n",
            "Iteration: 1552; Percent complete: 38.8%; Average loss: 6.0165\n",
            "Iteration: 1553; Percent complete: 38.8%; Average loss: 6.0385\n",
            "Iteration: 1554; Percent complete: 38.9%; Average loss: 6.1209\n",
            "Iteration: 1555; Percent complete: 38.9%; Average loss: 6.0138\n",
            "Iteration: 1556; Percent complete: 38.9%; Average loss: 5.8778\n",
            "Iteration: 1557; Percent complete: 38.9%; Average loss: 5.9029\n",
            "Iteration: 1558; Percent complete: 39.0%; Average loss: 6.2569\n",
            "Iteration: 1559; Percent complete: 39.0%; Average loss: 5.9461\n",
            "Iteration: 1560; Percent complete: 39.0%; Average loss: 5.9291\n",
            "Iteration: 1561; Percent complete: 39.0%; Average loss: 5.9956\n",
            "Iteration: 1562; Percent complete: 39.1%; Average loss: 5.9857\n",
            "Iteration: 1563; Percent complete: 39.1%; Average loss: 5.8594\n",
            "Iteration: 1564; Percent complete: 39.1%; Average loss: 6.3522\n",
            "Iteration: 1565; Percent complete: 39.1%; Average loss: 6.0952\n",
            "Iteration: 1566; Percent complete: 39.1%; Average loss: 6.1327\n",
            "Iteration: 1567; Percent complete: 39.2%; Average loss: 5.7142\n",
            "Iteration: 1568; Percent complete: 39.2%; Average loss: 5.9708\n",
            "Iteration: 1569; Percent complete: 39.2%; Average loss: 6.2440\n",
            "Iteration: 1570; Percent complete: 39.2%; Average loss: 6.0137\n",
            "Iteration: 1571; Percent complete: 39.3%; Average loss: 6.1468\n",
            "Iteration: 1572; Percent complete: 39.3%; Average loss: 5.9065\n",
            "Iteration: 1573; Percent complete: 39.3%; Average loss: 6.1521\n",
            "Iteration: 1574; Percent complete: 39.4%; Average loss: 5.9949\n",
            "Iteration: 1575; Percent complete: 39.4%; Average loss: 6.1595\n",
            "Iteration: 1576; Percent complete: 39.4%; Average loss: 6.0005\n",
            "Iteration: 1577; Percent complete: 39.4%; Average loss: 5.9424\n",
            "Iteration: 1578; Percent complete: 39.5%; Average loss: 5.7571\n",
            "Iteration: 1579; Percent complete: 39.5%; Average loss: 5.8285\n",
            "Iteration: 1580; Percent complete: 39.5%; Average loss: 6.0755\n",
            "Iteration: 1581; Percent complete: 39.5%; Average loss: 6.2085\n",
            "Iteration: 1582; Percent complete: 39.6%; Average loss: 6.2788\n",
            "Iteration: 1583; Percent complete: 39.6%; Average loss: 5.8533\n",
            "Iteration: 1584; Percent complete: 39.6%; Average loss: 5.9440\n",
            "Iteration: 1585; Percent complete: 39.6%; Average loss: 6.1307\n",
            "Iteration: 1586; Percent complete: 39.6%; Average loss: 6.0258\n",
            "Iteration: 1587; Percent complete: 39.7%; Average loss: 5.9510\n",
            "Iteration: 1588; Percent complete: 39.7%; Average loss: 5.9863\n",
            "Iteration: 1589; Percent complete: 39.7%; Average loss: 5.8192\n",
            "Iteration: 1590; Percent complete: 39.8%; Average loss: 6.0626\n",
            "Iteration: 1591; Percent complete: 39.8%; Average loss: 5.8121\n",
            "Iteration: 1592; Percent complete: 39.8%; Average loss: 5.9518\n",
            "Iteration: 1593; Percent complete: 39.8%; Average loss: 6.0143\n",
            "Iteration: 1594; Percent complete: 39.9%; Average loss: 5.9156\n",
            "Iteration: 1595; Percent complete: 39.9%; Average loss: 5.9022\n",
            "Iteration: 1596; Percent complete: 39.9%; Average loss: 6.0437\n",
            "Iteration: 1597; Percent complete: 39.9%; Average loss: 5.9232\n",
            "Iteration: 1598; Percent complete: 40.0%; Average loss: 6.1523\n",
            "Iteration: 1599; Percent complete: 40.0%; Average loss: 6.0906\n",
            "Iteration: 1600; Percent complete: 40.0%; Average loss: 6.2483\n",
            "Iteration: 1601; Percent complete: 40.0%; Average loss: 5.9760\n",
            "Iteration: 1602; Percent complete: 40.1%; Average loss: 5.9309\n",
            "Iteration: 1603; Percent complete: 40.1%; Average loss: 5.9426\n",
            "Iteration: 1604; Percent complete: 40.1%; Average loss: 6.0003\n",
            "Iteration: 1605; Percent complete: 40.1%; Average loss: 5.9083\n",
            "Iteration: 1606; Percent complete: 40.2%; Average loss: 6.0387\n",
            "Iteration: 1607; Percent complete: 40.2%; Average loss: 6.0896\n",
            "Iteration: 1608; Percent complete: 40.2%; Average loss: 6.0879\n",
            "Iteration: 1609; Percent complete: 40.2%; Average loss: 6.1868\n",
            "Iteration: 1610; Percent complete: 40.2%; Average loss: 5.9349\n",
            "Iteration: 1611; Percent complete: 40.3%; Average loss: 6.1673\n",
            "Iteration: 1612; Percent complete: 40.3%; Average loss: 6.1256\n",
            "Iteration: 1613; Percent complete: 40.3%; Average loss: 6.0830\n",
            "Iteration: 1614; Percent complete: 40.4%; Average loss: 5.9684\n",
            "Iteration: 1615; Percent complete: 40.4%; Average loss: 6.1081\n",
            "Iteration: 1616; Percent complete: 40.4%; Average loss: 5.9467\n",
            "Iteration: 1617; Percent complete: 40.4%; Average loss: 5.9709\n",
            "Iteration: 1618; Percent complete: 40.5%; Average loss: 5.7313\n",
            "Iteration: 1619; Percent complete: 40.5%; Average loss: 6.0757\n",
            "Iteration: 1620; Percent complete: 40.5%; Average loss: 5.9353\n",
            "Iteration: 1621; Percent complete: 40.5%; Average loss: 5.8699\n",
            "Iteration: 1622; Percent complete: 40.6%; Average loss: 5.8332\n",
            "Iteration: 1623; Percent complete: 40.6%; Average loss: 6.0633\n",
            "Iteration: 1624; Percent complete: 40.6%; Average loss: 6.0706\n",
            "Iteration: 1625; Percent complete: 40.6%; Average loss: 6.0011\n",
            "Iteration: 1626; Percent complete: 40.6%; Average loss: 6.1131\n",
            "Iteration: 1627; Percent complete: 40.7%; Average loss: 6.0034\n",
            "Iteration: 1628; Percent complete: 40.7%; Average loss: 5.8320\n",
            "Iteration: 1629; Percent complete: 40.7%; Average loss: 6.2290\n",
            "Iteration: 1630; Percent complete: 40.8%; Average loss: 6.0994\n",
            "Iteration: 1631; Percent complete: 40.8%; Average loss: 6.0257\n",
            "Iteration: 1632; Percent complete: 40.8%; Average loss: 6.0166\n",
            "Iteration: 1633; Percent complete: 40.8%; Average loss: 6.0107\n",
            "Iteration: 1634; Percent complete: 40.8%; Average loss: 6.0208\n",
            "Iteration: 1635; Percent complete: 40.9%; Average loss: 5.9985\n",
            "Iteration: 1636; Percent complete: 40.9%; Average loss: 6.0883\n",
            "Iteration: 1637; Percent complete: 40.9%; Average loss: 6.0571\n",
            "Iteration: 1638; Percent complete: 40.9%; Average loss: 6.1631\n",
            "Iteration: 1639; Percent complete: 41.0%; Average loss: 6.0977\n",
            "Iteration: 1640; Percent complete: 41.0%; Average loss: 5.7513\n",
            "Iteration: 1641; Percent complete: 41.0%; Average loss: 6.0872\n",
            "Iteration: 1642; Percent complete: 41.0%; Average loss: 6.0398\n",
            "Iteration: 1643; Percent complete: 41.1%; Average loss: 5.9266\n",
            "Iteration: 1644; Percent complete: 41.1%; Average loss: 6.0060\n",
            "Iteration: 1645; Percent complete: 41.1%; Average loss: 5.7979\n",
            "Iteration: 1646; Percent complete: 41.1%; Average loss: 6.1371\n",
            "Iteration: 1647; Percent complete: 41.2%; Average loss: 6.0050\n",
            "Iteration: 1648; Percent complete: 41.2%; Average loss: 5.9587\n",
            "Iteration: 1649; Percent complete: 41.2%; Average loss: 6.2020\n",
            "Iteration: 1650; Percent complete: 41.2%; Average loss: 5.9553\n",
            "Iteration: 1651; Percent complete: 41.3%; Average loss: 5.9893\n",
            "Iteration: 1652; Percent complete: 41.3%; Average loss: 6.0370\n",
            "Iteration: 1653; Percent complete: 41.3%; Average loss: 6.0599\n",
            "Iteration: 1654; Percent complete: 41.3%; Average loss: 6.1382\n",
            "Iteration: 1655; Percent complete: 41.4%; Average loss: 5.8881\n",
            "Iteration: 1656; Percent complete: 41.4%; Average loss: 5.9248\n",
            "Iteration: 1657; Percent complete: 41.4%; Average loss: 5.9255\n",
            "Iteration: 1658; Percent complete: 41.4%; Average loss: 6.0052\n",
            "Iteration: 1659; Percent complete: 41.5%; Average loss: 5.8024\n",
            "Iteration: 1660; Percent complete: 41.5%; Average loss: 5.8632\n",
            "Iteration: 1661; Percent complete: 41.5%; Average loss: 6.0607\n",
            "Iteration: 1662; Percent complete: 41.5%; Average loss: 5.8185\n",
            "Iteration: 1663; Percent complete: 41.6%; Average loss: 6.1437\n",
            "Iteration: 1664; Percent complete: 41.6%; Average loss: 6.1100\n",
            "Iteration: 1665; Percent complete: 41.6%; Average loss: 6.0543\n",
            "Iteration: 1666; Percent complete: 41.6%; Average loss: 5.9126\n",
            "Iteration: 1667; Percent complete: 41.7%; Average loss: 6.0383\n",
            "Iteration: 1668; Percent complete: 41.7%; Average loss: 6.1486\n",
            "Iteration: 1669; Percent complete: 41.7%; Average loss: 6.1652\n",
            "Iteration: 1670; Percent complete: 41.8%; Average loss: 6.0243\n",
            "Iteration: 1671; Percent complete: 41.8%; Average loss: 6.0234\n",
            "Iteration: 1672; Percent complete: 41.8%; Average loss: 5.9364\n",
            "Iteration: 1673; Percent complete: 41.8%; Average loss: 5.9140\n",
            "Iteration: 1674; Percent complete: 41.9%; Average loss: 6.1845\n",
            "Iteration: 1675; Percent complete: 41.9%; Average loss: 5.8508\n",
            "Iteration: 1676; Percent complete: 41.9%; Average loss: 6.2485\n",
            "Iteration: 1677; Percent complete: 41.9%; Average loss: 6.0073\n",
            "Iteration: 1678; Percent complete: 41.9%; Average loss: 5.8679\n",
            "Iteration: 1679; Percent complete: 42.0%; Average loss: 5.7641\n",
            "Iteration: 1680; Percent complete: 42.0%; Average loss: 6.0165\n",
            "Iteration: 1681; Percent complete: 42.0%; Average loss: 5.9346\n",
            "Iteration: 1682; Percent complete: 42.0%; Average loss: 6.1187\n",
            "Iteration: 1683; Percent complete: 42.1%; Average loss: 5.6629\n",
            "Iteration: 1684; Percent complete: 42.1%; Average loss: 5.9837\n",
            "Iteration: 1685; Percent complete: 42.1%; Average loss: 5.9118\n",
            "Iteration: 1686; Percent complete: 42.1%; Average loss: 6.1294\n",
            "Iteration: 1687; Percent complete: 42.2%; Average loss: 5.7534\n",
            "Iteration: 1688; Percent complete: 42.2%; Average loss: 6.0651\n",
            "Iteration: 1689; Percent complete: 42.2%; Average loss: 5.8456\n",
            "Iteration: 1690; Percent complete: 42.2%; Average loss: 6.1081\n",
            "Iteration: 1691; Percent complete: 42.3%; Average loss: 6.0301\n",
            "Iteration: 1692; Percent complete: 42.3%; Average loss: 5.9537\n",
            "Iteration: 1693; Percent complete: 42.3%; Average loss: 5.8151\n",
            "Iteration: 1694; Percent complete: 42.4%; Average loss: 5.7915\n",
            "Iteration: 1695; Percent complete: 42.4%; Average loss: 5.9799\n",
            "Iteration: 1696; Percent complete: 42.4%; Average loss: 6.0018\n",
            "Iteration: 1697; Percent complete: 42.4%; Average loss: 5.9522\n",
            "Iteration: 1698; Percent complete: 42.4%; Average loss: 5.9463\n",
            "Iteration: 1699; Percent complete: 42.5%; Average loss: 5.9620\n",
            "Iteration: 1700; Percent complete: 42.5%; Average loss: 5.7537\n",
            "Iteration: 1701; Percent complete: 42.5%; Average loss: 5.8968\n",
            "Iteration: 1702; Percent complete: 42.5%; Average loss: 5.8619\n",
            "Iteration: 1703; Percent complete: 42.6%; Average loss: 5.9532\n",
            "Iteration: 1704; Percent complete: 42.6%; Average loss: 6.0056\n",
            "Iteration: 1705; Percent complete: 42.6%; Average loss: 5.9995\n",
            "Iteration: 1706; Percent complete: 42.6%; Average loss: 5.9614\n",
            "Iteration: 1707; Percent complete: 42.7%; Average loss: 5.8282\n",
            "Iteration: 1708; Percent complete: 42.7%; Average loss: 6.0364\n",
            "Iteration: 1709; Percent complete: 42.7%; Average loss: 5.6805\n",
            "Iteration: 1710; Percent complete: 42.8%; Average loss: 5.8540\n",
            "Iteration: 1711; Percent complete: 42.8%; Average loss: 5.8610\n",
            "Iteration: 1712; Percent complete: 42.8%; Average loss: 5.9085\n",
            "Iteration: 1713; Percent complete: 42.8%; Average loss: 5.8447\n",
            "Iteration: 1714; Percent complete: 42.9%; Average loss: 5.8420\n",
            "Iteration: 1715; Percent complete: 42.9%; Average loss: 6.0289\n",
            "Iteration: 1716; Percent complete: 42.9%; Average loss: 6.0495\n",
            "Iteration: 1717; Percent complete: 42.9%; Average loss: 6.1715\n",
            "Iteration: 1718; Percent complete: 43.0%; Average loss: 6.0435\n",
            "Iteration: 1719; Percent complete: 43.0%; Average loss: 5.9085\n",
            "Iteration: 1720; Percent complete: 43.0%; Average loss: 5.9415\n",
            "Iteration: 1721; Percent complete: 43.0%; Average loss: 5.7997\n",
            "Iteration: 1722; Percent complete: 43.0%; Average loss: 5.8264\n",
            "Iteration: 1723; Percent complete: 43.1%; Average loss: 5.9092\n",
            "Iteration: 1724; Percent complete: 43.1%; Average loss: 6.1343\n",
            "Iteration: 1725; Percent complete: 43.1%; Average loss: 5.7019\n",
            "Iteration: 1726; Percent complete: 43.1%; Average loss: 5.8616\n",
            "Iteration: 1727; Percent complete: 43.2%; Average loss: 5.8298\n",
            "Iteration: 1728; Percent complete: 43.2%; Average loss: 6.0549\n",
            "Iteration: 1729; Percent complete: 43.2%; Average loss: 5.8061\n",
            "Iteration: 1730; Percent complete: 43.2%; Average loss: 5.8264\n",
            "Iteration: 1731; Percent complete: 43.3%; Average loss: 5.9787\n",
            "Iteration: 1732; Percent complete: 43.3%; Average loss: 6.0374\n",
            "Iteration: 1733; Percent complete: 43.3%; Average loss: 5.8100\n",
            "Iteration: 1734; Percent complete: 43.4%; Average loss: 5.7189\n",
            "Iteration: 1735; Percent complete: 43.4%; Average loss: 5.8945\n",
            "Iteration: 1736; Percent complete: 43.4%; Average loss: 5.9432\n",
            "Iteration: 1737; Percent complete: 43.4%; Average loss: 5.6798\n",
            "Iteration: 1738; Percent complete: 43.5%; Average loss: 5.9084\n",
            "Iteration: 1739; Percent complete: 43.5%; Average loss: 5.7344\n",
            "Iteration: 1740; Percent complete: 43.5%; Average loss: 6.0501\n",
            "Iteration: 1741; Percent complete: 43.5%; Average loss: 6.1187\n",
            "Iteration: 1742; Percent complete: 43.5%; Average loss: 6.0086\n",
            "Iteration: 1743; Percent complete: 43.6%; Average loss: 6.0300\n",
            "Iteration: 1744; Percent complete: 43.6%; Average loss: 5.9419\n",
            "Iteration: 1745; Percent complete: 43.6%; Average loss: 5.6951\n",
            "Iteration: 1746; Percent complete: 43.6%; Average loss: 6.0639\n",
            "Iteration: 1747; Percent complete: 43.7%; Average loss: 5.9267\n",
            "Iteration: 1748; Percent complete: 43.7%; Average loss: 5.6855\n",
            "Iteration: 1749; Percent complete: 43.7%; Average loss: 6.1304\n",
            "Iteration: 1750; Percent complete: 43.8%; Average loss: 6.1620\n",
            "Iteration: 1751; Percent complete: 43.8%; Average loss: 6.0605\n",
            "Iteration: 1752; Percent complete: 43.8%; Average loss: 5.6768\n",
            "Iteration: 1753; Percent complete: 43.8%; Average loss: 5.6187\n",
            "Iteration: 1754; Percent complete: 43.9%; Average loss: 5.7052\n",
            "Iteration: 1755; Percent complete: 43.9%; Average loss: 5.7268\n",
            "Iteration: 1756; Percent complete: 43.9%; Average loss: 5.8420\n",
            "Iteration: 1757; Percent complete: 43.9%; Average loss: 5.7273\n",
            "Iteration: 1758; Percent complete: 44.0%; Average loss: 5.8726\n",
            "Iteration: 1759; Percent complete: 44.0%; Average loss: 5.8234\n",
            "Iteration: 1760; Percent complete: 44.0%; Average loss: 5.9654\n",
            "Iteration: 1761; Percent complete: 44.0%; Average loss: 5.8608\n",
            "Iteration: 1762; Percent complete: 44.0%; Average loss: 5.9920\n",
            "Iteration: 1763; Percent complete: 44.1%; Average loss: 5.9640\n",
            "Iteration: 1764; Percent complete: 44.1%; Average loss: 5.8865\n",
            "Iteration: 1765; Percent complete: 44.1%; Average loss: 5.7122\n",
            "Iteration: 1766; Percent complete: 44.1%; Average loss: 6.1083\n",
            "Iteration: 1767; Percent complete: 44.2%; Average loss: 5.9380\n",
            "Iteration: 1768; Percent complete: 44.2%; Average loss: 5.8717\n",
            "Iteration: 1769; Percent complete: 44.2%; Average loss: 6.2103\n",
            "Iteration: 1770; Percent complete: 44.2%; Average loss: 5.9759\n",
            "Iteration: 1771; Percent complete: 44.3%; Average loss: 6.1887\n",
            "Iteration: 1772; Percent complete: 44.3%; Average loss: 6.0464\n",
            "Iteration: 1773; Percent complete: 44.3%; Average loss: 5.7937\n",
            "Iteration: 1774; Percent complete: 44.4%; Average loss: 6.0470\n",
            "Iteration: 1775; Percent complete: 44.4%; Average loss: 5.8714\n",
            "Iteration: 1776; Percent complete: 44.4%; Average loss: 5.7313\n",
            "Iteration: 1777; Percent complete: 44.4%; Average loss: 5.9394\n",
            "Iteration: 1778; Percent complete: 44.5%; Average loss: 5.8652\n",
            "Iteration: 1779; Percent complete: 44.5%; Average loss: 5.8338\n",
            "Iteration: 1780; Percent complete: 44.5%; Average loss: 5.6985\n",
            "Iteration: 1781; Percent complete: 44.5%; Average loss: 5.9780\n",
            "Iteration: 1782; Percent complete: 44.5%; Average loss: 5.9453\n",
            "Iteration: 1783; Percent complete: 44.6%; Average loss: 5.7963\n",
            "Iteration: 1784; Percent complete: 44.6%; Average loss: 5.7264\n",
            "Iteration: 1785; Percent complete: 44.6%; Average loss: 5.9469\n",
            "Iteration: 1786; Percent complete: 44.6%; Average loss: 5.7025\n",
            "Iteration: 1787; Percent complete: 44.7%; Average loss: 6.1236\n",
            "Iteration: 1788; Percent complete: 44.7%; Average loss: 5.9285\n",
            "Iteration: 1789; Percent complete: 44.7%; Average loss: 6.1036\n",
            "Iteration: 1790; Percent complete: 44.8%; Average loss: 5.7534\n",
            "Iteration: 1791; Percent complete: 44.8%; Average loss: 5.8127\n",
            "Iteration: 1792; Percent complete: 44.8%; Average loss: 5.9328\n",
            "Iteration: 1793; Percent complete: 44.8%; Average loss: 5.8506\n",
            "Iteration: 1794; Percent complete: 44.9%; Average loss: 5.7748\n",
            "Iteration: 1795; Percent complete: 44.9%; Average loss: 5.9160\n",
            "Iteration: 1796; Percent complete: 44.9%; Average loss: 5.7011\n",
            "Iteration: 1797; Percent complete: 44.9%; Average loss: 5.5488\n",
            "Iteration: 1798; Percent complete: 45.0%; Average loss: 5.9371\n",
            "Iteration: 1799; Percent complete: 45.0%; Average loss: 5.6916\n",
            "Iteration: 1800; Percent complete: 45.0%; Average loss: 5.9451\n",
            "Iteration: 1801; Percent complete: 45.0%; Average loss: 5.8454\n",
            "Iteration: 1802; Percent complete: 45.1%; Average loss: 6.0197\n",
            "Iteration: 1803; Percent complete: 45.1%; Average loss: 5.8239\n",
            "Iteration: 1804; Percent complete: 45.1%; Average loss: 5.5717\n",
            "Iteration: 1805; Percent complete: 45.1%; Average loss: 5.9775\n",
            "Iteration: 1806; Percent complete: 45.1%; Average loss: 5.8501\n",
            "Iteration: 1807; Percent complete: 45.2%; Average loss: 5.9515\n",
            "Iteration: 1808; Percent complete: 45.2%; Average loss: 5.9297\n",
            "Iteration: 1809; Percent complete: 45.2%; Average loss: 5.9160\n",
            "Iteration: 1810; Percent complete: 45.2%; Average loss: 5.8511\n",
            "Iteration: 1811; Percent complete: 45.3%; Average loss: 6.0912\n",
            "Iteration: 1812; Percent complete: 45.3%; Average loss: 5.7657\n",
            "Iteration: 1813; Percent complete: 45.3%; Average loss: 5.8567\n",
            "Iteration: 1814; Percent complete: 45.4%; Average loss: 5.9710\n",
            "Iteration: 1815; Percent complete: 45.4%; Average loss: 5.5917\n",
            "Iteration: 1816; Percent complete: 45.4%; Average loss: 5.8293\n",
            "Iteration: 1817; Percent complete: 45.4%; Average loss: 5.9352\n",
            "Iteration: 1818; Percent complete: 45.5%; Average loss: 5.6544\n",
            "Iteration: 1819; Percent complete: 45.5%; Average loss: 5.9431\n",
            "Iteration: 1820; Percent complete: 45.5%; Average loss: 5.9589\n",
            "Iteration: 1821; Percent complete: 45.5%; Average loss: 5.6967\n",
            "Iteration: 1822; Percent complete: 45.6%; Average loss: 6.1529\n",
            "Iteration: 1823; Percent complete: 45.6%; Average loss: 5.8182\n",
            "Iteration: 1824; Percent complete: 45.6%; Average loss: 5.8595\n",
            "Iteration: 1825; Percent complete: 45.6%; Average loss: 5.6612\n",
            "Iteration: 1826; Percent complete: 45.6%; Average loss: 6.0152\n",
            "Iteration: 1827; Percent complete: 45.7%; Average loss: 5.8322\n",
            "Iteration: 1828; Percent complete: 45.7%; Average loss: 5.6629\n",
            "Iteration: 1829; Percent complete: 45.7%; Average loss: 5.7928\n",
            "Iteration: 1830; Percent complete: 45.8%; Average loss: 5.9056\n",
            "Iteration: 1831; Percent complete: 45.8%; Average loss: 5.9335\n",
            "Iteration: 1832; Percent complete: 45.8%; Average loss: 5.8845\n",
            "Iteration: 1833; Percent complete: 45.8%; Average loss: 5.7549\n",
            "Iteration: 1834; Percent complete: 45.9%; Average loss: 5.8752\n",
            "Iteration: 1835; Percent complete: 45.9%; Average loss: 6.1121\n",
            "Iteration: 1836; Percent complete: 45.9%; Average loss: 5.8725\n",
            "Iteration: 1837; Percent complete: 45.9%; Average loss: 6.1913\n",
            "Iteration: 1838; Percent complete: 46.0%; Average loss: 5.5526\n",
            "Iteration: 1839; Percent complete: 46.0%; Average loss: 5.9450\n",
            "Iteration: 1840; Percent complete: 46.0%; Average loss: 5.8759\n",
            "Iteration: 1841; Percent complete: 46.0%; Average loss: 5.8301\n",
            "Iteration: 1842; Percent complete: 46.1%; Average loss: 6.0969\n",
            "Iteration: 1843; Percent complete: 46.1%; Average loss: 6.0028\n",
            "Iteration: 1844; Percent complete: 46.1%; Average loss: 5.8615\n",
            "Iteration: 1845; Percent complete: 46.1%; Average loss: 6.0979\n",
            "Iteration: 1846; Percent complete: 46.2%; Average loss: 5.8910\n",
            "Iteration: 1847; Percent complete: 46.2%; Average loss: 6.1887\n",
            "Iteration: 1848; Percent complete: 46.2%; Average loss: 5.6800\n",
            "Iteration: 1849; Percent complete: 46.2%; Average loss: 5.8444\n",
            "Iteration: 1850; Percent complete: 46.2%; Average loss: 5.7587\n",
            "Iteration: 1851; Percent complete: 46.3%; Average loss: 6.0603\n",
            "Iteration: 1852; Percent complete: 46.3%; Average loss: 5.8308\n",
            "Iteration: 1853; Percent complete: 46.3%; Average loss: 5.6880\n",
            "Iteration: 1854; Percent complete: 46.4%; Average loss: 5.8133\n",
            "Iteration: 1855; Percent complete: 46.4%; Average loss: 5.9178\n",
            "Iteration: 1856; Percent complete: 46.4%; Average loss: 5.7189\n",
            "Iteration: 1857; Percent complete: 46.4%; Average loss: 5.8652\n",
            "Iteration: 1858; Percent complete: 46.5%; Average loss: 5.6612\n",
            "Iteration: 1859; Percent complete: 46.5%; Average loss: 5.9633\n",
            "Iteration: 1860; Percent complete: 46.5%; Average loss: 6.0370\n",
            "Iteration: 1861; Percent complete: 46.5%; Average loss: 5.8728\n",
            "Iteration: 1862; Percent complete: 46.6%; Average loss: 6.0295\n",
            "Iteration: 1863; Percent complete: 46.6%; Average loss: 5.7814\n",
            "Iteration: 1864; Percent complete: 46.6%; Average loss: 5.8531\n",
            "Iteration: 1865; Percent complete: 46.6%; Average loss: 6.0984\n",
            "Iteration: 1866; Percent complete: 46.7%; Average loss: 5.6600\n",
            "Iteration: 1867; Percent complete: 46.7%; Average loss: 6.0318\n",
            "Iteration: 1868; Percent complete: 46.7%; Average loss: 5.7686\n",
            "Iteration: 1869; Percent complete: 46.7%; Average loss: 5.7822\n",
            "Iteration: 1870; Percent complete: 46.8%; Average loss: 5.4769\n",
            "Iteration: 1871; Percent complete: 46.8%; Average loss: 5.8437\n",
            "Iteration: 1872; Percent complete: 46.8%; Average loss: 5.6961\n",
            "Iteration: 1873; Percent complete: 46.8%; Average loss: 5.7960\n",
            "Iteration: 1874; Percent complete: 46.9%; Average loss: 5.9031\n",
            "Iteration: 1875; Percent complete: 46.9%; Average loss: 6.0123\n",
            "Iteration: 1876; Percent complete: 46.9%; Average loss: 6.0723\n",
            "Iteration: 1877; Percent complete: 46.9%; Average loss: 5.7342\n",
            "Iteration: 1878; Percent complete: 46.9%; Average loss: 5.7743\n",
            "Iteration: 1879; Percent complete: 47.0%; Average loss: 5.7783\n",
            "Iteration: 1880; Percent complete: 47.0%; Average loss: 5.9047\n",
            "Iteration: 1881; Percent complete: 47.0%; Average loss: 5.8394\n",
            "Iteration: 1882; Percent complete: 47.0%; Average loss: 5.8344\n",
            "Iteration: 1883; Percent complete: 47.1%; Average loss: 5.8788\n",
            "Iteration: 1884; Percent complete: 47.1%; Average loss: 5.7311\n",
            "Iteration: 1885; Percent complete: 47.1%; Average loss: 6.1402\n",
            "Iteration: 1886; Percent complete: 47.1%; Average loss: 6.1442\n",
            "Iteration: 1887; Percent complete: 47.2%; Average loss: 6.0345\n",
            "Iteration: 1888; Percent complete: 47.2%; Average loss: 5.7764\n",
            "Iteration: 1889; Percent complete: 47.2%; Average loss: 5.9556\n",
            "Iteration: 1890; Percent complete: 47.2%; Average loss: 5.6603\n",
            "Iteration: 1891; Percent complete: 47.3%; Average loss: 5.9415\n",
            "Iteration: 1892; Percent complete: 47.3%; Average loss: 5.8956\n",
            "Iteration: 1893; Percent complete: 47.3%; Average loss: 5.7591\n",
            "Iteration: 1894; Percent complete: 47.3%; Average loss: 5.7039\n",
            "Iteration: 1895; Percent complete: 47.4%; Average loss: 5.8817\n",
            "Iteration: 1896; Percent complete: 47.4%; Average loss: 5.9617\n",
            "Iteration: 1897; Percent complete: 47.4%; Average loss: 5.7239\n",
            "Iteration: 1898; Percent complete: 47.4%; Average loss: 5.6491\n",
            "Iteration: 1899; Percent complete: 47.5%; Average loss: 5.8118\n",
            "Iteration: 1900; Percent complete: 47.5%; Average loss: 5.8175\n",
            "Iteration: 1901; Percent complete: 47.5%; Average loss: 6.0052\n",
            "Iteration: 1902; Percent complete: 47.5%; Average loss: 6.0583\n",
            "Iteration: 1903; Percent complete: 47.6%; Average loss: 5.6318\n",
            "Iteration: 1904; Percent complete: 47.6%; Average loss: 5.8566\n",
            "Iteration: 1905; Percent complete: 47.6%; Average loss: 5.8414\n",
            "Iteration: 1906; Percent complete: 47.6%; Average loss: 5.6722\n",
            "Iteration: 1907; Percent complete: 47.7%; Average loss: 5.9610\n",
            "Iteration: 1908; Percent complete: 47.7%; Average loss: 6.0207\n",
            "Iteration: 1909; Percent complete: 47.7%; Average loss: 5.6779\n",
            "Iteration: 1910; Percent complete: 47.8%; Average loss: 5.6741\n",
            "Iteration: 1911; Percent complete: 47.8%; Average loss: 5.9712\n",
            "Iteration: 1912; Percent complete: 47.8%; Average loss: 6.0573\n",
            "Iteration: 1913; Percent complete: 47.8%; Average loss: 5.9000\n",
            "Iteration: 1914; Percent complete: 47.9%; Average loss: 5.8242\n",
            "Iteration: 1915; Percent complete: 47.9%; Average loss: 5.7652\n",
            "Iteration: 1916; Percent complete: 47.9%; Average loss: 5.8354\n",
            "Iteration: 1917; Percent complete: 47.9%; Average loss: 5.8877\n",
            "Iteration: 1918; Percent complete: 47.9%; Average loss: 5.7992\n",
            "Iteration: 1919; Percent complete: 48.0%; Average loss: 5.9570\n",
            "Iteration: 1920; Percent complete: 48.0%; Average loss: 5.9990\n",
            "Iteration: 1921; Percent complete: 48.0%; Average loss: 5.7754\n",
            "Iteration: 1922; Percent complete: 48.0%; Average loss: 5.8385\n",
            "Iteration: 1923; Percent complete: 48.1%; Average loss: 5.8677\n",
            "Iteration: 1924; Percent complete: 48.1%; Average loss: 5.7679\n",
            "Iteration: 1925; Percent complete: 48.1%; Average loss: 5.9218\n",
            "Iteration: 1926; Percent complete: 48.1%; Average loss: 5.6232\n",
            "Iteration: 1927; Percent complete: 48.2%; Average loss: 5.5804\n",
            "Iteration: 1928; Percent complete: 48.2%; Average loss: 5.7487\n",
            "Iteration: 1929; Percent complete: 48.2%; Average loss: 6.0757\n",
            "Iteration: 1930; Percent complete: 48.2%; Average loss: 5.9145\n",
            "Iteration: 1931; Percent complete: 48.3%; Average loss: 5.9736\n",
            "Iteration: 1932; Percent complete: 48.3%; Average loss: 5.8012\n",
            "Iteration: 1933; Percent complete: 48.3%; Average loss: 5.8966\n",
            "Iteration: 1934; Percent complete: 48.4%; Average loss: 6.0327\n",
            "Iteration: 1935; Percent complete: 48.4%; Average loss: 5.8953\n",
            "Iteration: 1936; Percent complete: 48.4%; Average loss: 5.7163\n",
            "Iteration: 1937; Percent complete: 48.4%; Average loss: 5.7492\n",
            "Iteration: 1938; Percent complete: 48.4%; Average loss: 5.9716\n",
            "Iteration: 1939; Percent complete: 48.5%; Average loss: 6.0485\n",
            "Iteration: 1940; Percent complete: 48.5%; Average loss: 5.8781\n",
            "Iteration: 1941; Percent complete: 48.5%; Average loss: 5.8195\n",
            "Iteration: 1942; Percent complete: 48.5%; Average loss: 5.6367\n",
            "Iteration: 1943; Percent complete: 48.6%; Average loss: 5.7097\n",
            "Iteration: 1944; Percent complete: 48.6%; Average loss: 6.0063\n",
            "Iteration: 1945; Percent complete: 48.6%; Average loss: 5.7151\n",
            "Iteration: 1946; Percent complete: 48.6%; Average loss: 5.5846\n",
            "Iteration: 1947; Percent complete: 48.7%; Average loss: 6.0163\n",
            "Iteration: 1948; Percent complete: 48.7%; Average loss: 5.8420\n",
            "Iteration: 1949; Percent complete: 48.7%; Average loss: 5.6532\n",
            "Iteration: 1950; Percent complete: 48.8%; Average loss: 5.8844\n",
            "Iteration: 1951; Percent complete: 48.8%; Average loss: 5.9709\n",
            "Iteration: 1952; Percent complete: 48.8%; Average loss: 5.6922\n",
            "Iteration: 1953; Percent complete: 48.8%; Average loss: 5.8386\n",
            "Iteration: 1954; Percent complete: 48.9%; Average loss: 5.7279\n",
            "Iteration: 1955; Percent complete: 48.9%; Average loss: 5.5141\n",
            "Iteration: 1956; Percent complete: 48.9%; Average loss: 5.7065\n",
            "Iteration: 1957; Percent complete: 48.9%; Average loss: 5.8190\n",
            "Iteration: 1958; Percent complete: 48.9%; Average loss: 5.7569\n",
            "Iteration: 1959; Percent complete: 49.0%; Average loss: 5.8043\n",
            "Iteration: 1960; Percent complete: 49.0%; Average loss: 5.9342\n",
            "Iteration: 1961; Percent complete: 49.0%; Average loss: 5.6715\n",
            "Iteration: 1962; Percent complete: 49.0%; Average loss: 5.7172\n",
            "Iteration: 1963; Percent complete: 49.1%; Average loss: 6.0019\n",
            "Iteration: 1964; Percent complete: 49.1%; Average loss: 5.5245\n",
            "Iteration: 1965; Percent complete: 49.1%; Average loss: 5.8572\n",
            "Iteration: 1966; Percent complete: 49.1%; Average loss: 5.6196\n",
            "Iteration: 1967; Percent complete: 49.2%; Average loss: 5.9294\n",
            "Iteration: 1968; Percent complete: 49.2%; Average loss: 5.9535\n",
            "Iteration: 1969; Percent complete: 49.2%; Average loss: 5.7143\n",
            "Iteration: 1970; Percent complete: 49.2%; Average loss: 5.8600\n",
            "Iteration: 1971; Percent complete: 49.3%; Average loss: 5.8555\n",
            "Iteration: 1972; Percent complete: 49.3%; Average loss: 5.4633\n",
            "Iteration: 1973; Percent complete: 49.3%; Average loss: 5.8868\n",
            "Iteration: 1974; Percent complete: 49.4%; Average loss: 5.6296\n",
            "Iteration: 1975; Percent complete: 49.4%; Average loss: 6.0767\n",
            "Iteration: 1976; Percent complete: 49.4%; Average loss: 5.6521\n",
            "Iteration: 1977; Percent complete: 49.4%; Average loss: 5.8900\n",
            "Iteration: 1978; Percent complete: 49.5%; Average loss: 5.7620\n",
            "Iteration: 1979; Percent complete: 49.5%; Average loss: 5.6780\n",
            "Iteration: 1980; Percent complete: 49.5%; Average loss: 6.1192\n",
            "Iteration: 1981; Percent complete: 49.5%; Average loss: 5.8959\n",
            "Iteration: 1982; Percent complete: 49.5%; Average loss: 5.8640\n",
            "Iteration: 1983; Percent complete: 49.6%; Average loss: 5.7475\n",
            "Iteration: 1984; Percent complete: 49.6%; Average loss: 5.5920\n",
            "Iteration: 1985; Percent complete: 49.6%; Average loss: 5.7331\n",
            "Iteration: 1986; Percent complete: 49.6%; Average loss: 5.5977\n",
            "Iteration: 1987; Percent complete: 49.7%; Average loss: 5.6939\n",
            "Iteration: 1988; Percent complete: 49.7%; Average loss: 5.8359\n",
            "Iteration: 1989; Percent complete: 49.7%; Average loss: 5.9892\n",
            "Iteration: 1990; Percent complete: 49.8%; Average loss: 5.4587\n",
            "Iteration: 1991; Percent complete: 49.8%; Average loss: 5.6257\n",
            "Iteration: 1992; Percent complete: 49.8%; Average loss: 5.8953\n",
            "Iteration: 1993; Percent complete: 49.8%; Average loss: 5.6443\n",
            "Iteration: 1994; Percent complete: 49.9%; Average loss: 5.6065\n",
            "Iteration: 1995; Percent complete: 49.9%; Average loss: 5.9534\n",
            "Iteration: 1996; Percent complete: 49.9%; Average loss: 5.6030\n",
            "Iteration: 1997; Percent complete: 49.9%; Average loss: 5.6709\n",
            "Iteration: 1998; Percent complete: 50.0%; Average loss: 5.9104\n",
            "Iteration: 1999; Percent complete: 50.0%; Average loss: 5.6265\n",
            "Iteration: 2000; Percent complete: 50.0%; Average loss: 5.8373\n",
            "Iteration: 2001; Percent complete: 50.0%; Average loss: 5.5786\n",
            "Iteration: 2002; Percent complete: 50.0%; Average loss: 5.9456\n",
            "Iteration: 2003; Percent complete: 50.1%; Average loss: 5.8720\n",
            "Iteration: 2004; Percent complete: 50.1%; Average loss: 5.9442\n",
            "Iteration: 2005; Percent complete: 50.1%; Average loss: 5.6272\n",
            "Iteration: 2006; Percent complete: 50.1%; Average loss: 5.8442\n",
            "Iteration: 2007; Percent complete: 50.2%; Average loss: 5.8573\n",
            "Iteration: 2008; Percent complete: 50.2%; Average loss: 5.7806\n",
            "Iteration: 2009; Percent complete: 50.2%; Average loss: 5.8813\n",
            "Iteration: 2010; Percent complete: 50.2%; Average loss: 5.7683\n",
            "Iteration: 2011; Percent complete: 50.3%; Average loss: 5.3724\n",
            "Iteration: 2012; Percent complete: 50.3%; Average loss: 5.5903\n",
            "Iteration: 2013; Percent complete: 50.3%; Average loss: 5.9964\n",
            "Iteration: 2014; Percent complete: 50.3%; Average loss: 5.7397\n",
            "Iteration: 2015; Percent complete: 50.4%; Average loss: 5.7420\n",
            "Iteration: 2016; Percent complete: 50.4%; Average loss: 5.8967\n",
            "Iteration: 2017; Percent complete: 50.4%; Average loss: 5.9363\n",
            "Iteration: 2018; Percent complete: 50.4%; Average loss: 5.7752\n",
            "Iteration: 2019; Percent complete: 50.5%; Average loss: 5.6065\n",
            "Iteration: 2020; Percent complete: 50.5%; Average loss: 5.8376\n",
            "Iteration: 2021; Percent complete: 50.5%; Average loss: 5.6396\n",
            "Iteration: 2022; Percent complete: 50.5%; Average loss: 5.8115\n",
            "Iteration: 2023; Percent complete: 50.6%; Average loss: 5.5611\n",
            "Iteration: 2024; Percent complete: 50.6%; Average loss: 5.9721\n",
            "Iteration: 2025; Percent complete: 50.6%; Average loss: 5.8890\n",
            "Iteration: 2026; Percent complete: 50.6%; Average loss: 5.6951\n",
            "Iteration: 2027; Percent complete: 50.7%; Average loss: 5.7179\n",
            "Iteration: 2028; Percent complete: 50.7%; Average loss: 5.8386\n",
            "Iteration: 2029; Percent complete: 50.7%; Average loss: 5.9806\n",
            "Iteration: 2030; Percent complete: 50.7%; Average loss: 5.8201\n",
            "Iteration: 2031; Percent complete: 50.8%; Average loss: 5.5985\n",
            "Iteration: 2032; Percent complete: 50.8%; Average loss: 5.7369\n",
            "Iteration: 2033; Percent complete: 50.8%; Average loss: 6.1006\n",
            "Iteration: 2034; Percent complete: 50.8%; Average loss: 5.7245\n",
            "Iteration: 2035; Percent complete: 50.9%; Average loss: 5.9736\n",
            "Iteration: 2036; Percent complete: 50.9%; Average loss: 5.8727\n",
            "Iteration: 2037; Percent complete: 50.9%; Average loss: 5.7905\n",
            "Iteration: 2038; Percent complete: 50.9%; Average loss: 5.6138\n",
            "Iteration: 2039; Percent complete: 51.0%; Average loss: 5.5781\n",
            "Iteration: 2040; Percent complete: 51.0%; Average loss: 5.9043\n",
            "Iteration: 2041; Percent complete: 51.0%; Average loss: 5.7894\n",
            "Iteration: 2042; Percent complete: 51.0%; Average loss: 5.9678\n",
            "Iteration: 2043; Percent complete: 51.1%; Average loss: 5.8134\n",
            "Iteration: 2044; Percent complete: 51.1%; Average loss: 5.8191\n",
            "Iteration: 2045; Percent complete: 51.1%; Average loss: 5.7406\n",
            "Iteration: 2046; Percent complete: 51.1%; Average loss: 5.7474\n",
            "Iteration: 2047; Percent complete: 51.2%; Average loss: 5.6691\n",
            "Iteration: 2048; Percent complete: 51.2%; Average loss: 5.7112\n",
            "Iteration: 2049; Percent complete: 51.2%; Average loss: 5.5568\n",
            "Iteration: 2050; Percent complete: 51.2%; Average loss: 5.9142\n",
            "Iteration: 2051; Percent complete: 51.3%; Average loss: 5.7647\n",
            "Iteration: 2052; Percent complete: 51.3%; Average loss: 5.7783\n",
            "Iteration: 2053; Percent complete: 51.3%; Average loss: 5.8486\n",
            "Iteration: 2054; Percent complete: 51.3%; Average loss: 5.6264\n",
            "Iteration: 2055; Percent complete: 51.4%; Average loss: 5.7450\n",
            "Iteration: 2056; Percent complete: 51.4%; Average loss: 5.9107\n",
            "Iteration: 2057; Percent complete: 51.4%; Average loss: 5.8138\n",
            "Iteration: 2058; Percent complete: 51.4%; Average loss: 5.8108\n",
            "Iteration: 2059; Percent complete: 51.5%; Average loss: 5.8923\n",
            "Iteration: 2060; Percent complete: 51.5%; Average loss: 5.7202\n",
            "Iteration: 2061; Percent complete: 51.5%; Average loss: 5.7757\n",
            "Iteration: 2062; Percent complete: 51.5%; Average loss: 5.9912\n",
            "Iteration: 2063; Percent complete: 51.6%; Average loss: 5.7720\n",
            "Iteration: 2064; Percent complete: 51.6%; Average loss: 5.7194\n",
            "Iteration: 2065; Percent complete: 51.6%; Average loss: 5.5829\n",
            "Iteration: 2066; Percent complete: 51.6%; Average loss: 5.5702\n",
            "Iteration: 2067; Percent complete: 51.7%; Average loss: 5.9226\n",
            "Iteration: 2068; Percent complete: 51.7%; Average loss: 5.8209\n",
            "Iteration: 2069; Percent complete: 51.7%; Average loss: 5.6700\n",
            "Iteration: 2070; Percent complete: 51.7%; Average loss: 5.5883\n",
            "Iteration: 2071; Percent complete: 51.8%; Average loss: 5.8373\n",
            "Iteration: 2072; Percent complete: 51.8%; Average loss: 5.4097\n",
            "Iteration: 2073; Percent complete: 51.8%; Average loss: 5.8952\n",
            "Iteration: 2074; Percent complete: 51.8%; Average loss: 5.5515\n",
            "Iteration: 2075; Percent complete: 51.9%; Average loss: 5.5184\n",
            "Iteration: 2076; Percent complete: 51.9%; Average loss: 5.7548\n",
            "Iteration: 2077; Percent complete: 51.9%; Average loss: 5.7244\n",
            "Iteration: 2078; Percent complete: 51.9%; Average loss: 5.8519\n",
            "Iteration: 2079; Percent complete: 52.0%; Average loss: 5.8599\n",
            "Iteration: 2080; Percent complete: 52.0%; Average loss: 5.6962\n",
            "Iteration: 2081; Percent complete: 52.0%; Average loss: 5.6375\n",
            "Iteration: 2082; Percent complete: 52.0%; Average loss: 5.6685\n",
            "Iteration: 2083; Percent complete: 52.1%; Average loss: 5.7372\n",
            "Iteration: 2084; Percent complete: 52.1%; Average loss: 5.6099\n",
            "Iteration: 2085; Percent complete: 52.1%; Average loss: 5.7939\n",
            "Iteration: 2086; Percent complete: 52.1%; Average loss: 5.7036\n",
            "Iteration: 2087; Percent complete: 52.2%; Average loss: 5.7769\n",
            "Iteration: 2088; Percent complete: 52.2%; Average loss: 5.5614\n",
            "Iteration: 2089; Percent complete: 52.2%; Average loss: 5.7745\n",
            "Iteration: 2090; Percent complete: 52.2%; Average loss: 5.5062\n",
            "Iteration: 2091; Percent complete: 52.3%; Average loss: 5.7237\n",
            "Iteration: 2092; Percent complete: 52.3%; Average loss: 6.1312\n",
            "Iteration: 2093; Percent complete: 52.3%; Average loss: 5.9067\n",
            "Iteration: 2094; Percent complete: 52.3%; Average loss: 5.6150\n",
            "Iteration: 2095; Percent complete: 52.4%; Average loss: 5.5884\n",
            "Iteration: 2096; Percent complete: 52.4%; Average loss: 5.5544\n",
            "Iteration: 2097; Percent complete: 52.4%; Average loss: 5.7266\n",
            "Iteration: 2098; Percent complete: 52.4%; Average loss: 5.8573\n",
            "Iteration: 2099; Percent complete: 52.5%; Average loss: 5.6464\n",
            "Iteration: 2100; Percent complete: 52.5%; Average loss: 5.4148\n",
            "Iteration: 2101; Percent complete: 52.5%; Average loss: 5.7918\n",
            "Iteration: 2102; Percent complete: 52.5%; Average loss: 5.4289\n",
            "Iteration: 2103; Percent complete: 52.6%; Average loss: 5.8273\n",
            "Iteration: 2104; Percent complete: 52.6%; Average loss: 5.8458\n",
            "Iteration: 2105; Percent complete: 52.6%; Average loss: 5.5168\n",
            "Iteration: 2106; Percent complete: 52.6%; Average loss: 5.7636\n",
            "Iteration: 2107; Percent complete: 52.7%; Average loss: 5.8255\n",
            "Iteration: 2108; Percent complete: 52.7%; Average loss: 5.9561\n",
            "Iteration: 2109; Percent complete: 52.7%; Average loss: 5.7577\n",
            "Iteration: 2110; Percent complete: 52.8%; Average loss: 5.6390\n",
            "Iteration: 2111; Percent complete: 52.8%; Average loss: 5.5462\n",
            "Iteration: 2112; Percent complete: 52.8%; Average loss: 5.7824\n",
            "Iteration: 2113; Percent complete: 52.8%; Average loss: 5.9976\n",
            "Iteration: 2114; Percent complete: 52.8%; Average loss: 5.6163\n",
            "Iteration: 2115; Percent complete: 52.9%; Average loss: 5.6747\n",
            "Iteration: 2116; Percent complete: 52.9%; Average loss: 5.6032\n",
            "Iteration: 2117; Percent complete: 52.9%; Average loss: 5.7664\n",
            "Iteration: 2118; Percent complete: 52.9%; Average loss: 5.7125\n",
            "Iteration: 2119; Percent complete: 53.0%; Average loss: 5.6896\n",
            "Iteration: 2120; Percent complete: 53.0%; Average loss: 5.7410\n",
            "Iteration: 2121; Percent complete: 53.0%; Average loss: 5.7430\n",
            "Iteration: 2122; Percent complete: 53.0%; Average loss: 5.6639\n",
            "Iteration: 2123; Percent complete: 53.1%; Average loss: 5.8621\n",
            "Iteration: 2124; Percent complete: 53.1%; Average loss: 5.6521\n",
            "Iteration: 2125; Percent complete: 53.1%; Average loss: 5.6749\n",
            "Iteration: 2126; Percent complete: 53.1%; Average loss: 5.5675\n",
            "Iteration: 2127; Percent complete: 53.2%; Average loss: 5.7590\n",
            "Iteration: 2128; Percent complete: 53.2%; Average loss: 5.7556\n",
            "Iteration: 2129; Percent complete: 53.2%; Average loss: 5.7479\n",
            "Iteration: 2130; Percent complete: 53.2%; Average loss: 5.7438\n",
            "Iteration: 2131; Percent complete: 53.3%; Average loss: 5.8883\n",
            "Iteration: 2132; Percent complete: 53.3%; Average loss: 5.5476\n",
            "Iteration: 2133; Percent complete: 53.3%; Average loss: 5.6063\n",
            "Iteration: 2134; Percent complete: 53.3%; Average loss: 5.6089\n",
            "Iteration: 2135; Percent complete: 53.4%; Average loss: 5.6744\n",
            "Iteration: 2136; Percent complete: 53.4%; Average loss: 5.7196\n",
            "Iteration: 2137; Percent complete: 53.4%; Average loss: 5.7011\n",
            "Iteration: 2138; Percent complete: 53.4%; Average loss: 5.7141\n",
            "Iteration: 2139; Percent complete: 53.5%; Average loss: 5.5710\n",
            "Iteration: 2140; Percent complete: 53.5%; Average loss: 5.6766\n",
            "Iteration: 2141; Percent complete: 53.5%; Average loss: 5.4707\n",
            "Iteration: 2142; Percent complete: 53.5%; Average loss: 5.8503\n",
            "Iteration: 2143; Percent complete: 53.6%; Average loss: 5.5991\n",
            "Iteration: 2144; Percent complete: 53.6%; Average loss: 5.5554\n",
            "Iteration: 2145; Percent complete: 53.6%; Average loss: 5.9097\n",
            "Iteration: 2146; Percent complete: 53.6%; Average loss: 5.8958\n",
            "Iteration: 2147; Percent complete: 53.7%; Average loss: 5.8253\n",
            "Iteration: 2148; Percent complete: 53.7%; Average loss: 5.8923\n",
            "Iteration: 2149; Percent complete: 53.7%; Average loss: 5.6603\n",
            "Iteration: 2150; Percent complete: 53.8%; Average loss: 5.7306\n",
            "Iteration: 2151; Percent complete: 53.8%; Average loss: 5.4237\n",
            "Iteration: 2152; Percent complete: 53.8%; Average loss: 5.8382\n",
            "Iteration: 2153; Percent complete: 53.8%; Average loss: 5.6191\n",
            "Iteration: 2154; Percent complete: 53.8%; Average loss: 5.6884\n",
            "Iteration: 2155; Percent complete: 53.9%; Average loss: 5.7392\n",
            "Iteration: 2156; Percent complete: 53.9%; Average loss: 5.7453\n",
            "Iteration: 2157; Percent complete: 53.9%; Average loss: 5.6502\n",
            "Iteration: 2158; Percent complete: 53.9%; Average loss: 5.6035\n",
            "Iteration: 2159; Percent complete: 54.0%; Average loss: 5.3974\n",
            "Iteration: 2160; Percent complete: 54.0%; Average loss: 5.6873\n",
            "Iteration: 2161; Percent complete: 54.0%; Average loss: 5.8316\n",
            "Iteration: 2162; Percent complete: 54.0%; Average loss: 5.5643\n",
            "Iteration: 2163; Percent complete: 54.1%; Average loss: 5.7787\n",
            "Iteration: 2164; Percent complete: 54.1%; Average loss: 5.6909\n",
            "Iteration: 2165; Percent complete: 54.1%; Average loss: 5.4643\n",
            "Iteration: 2166; Percent complete: 54.1%; Average loss: 5.6685\n",
            "Iteration: 2167; Percent complete: 54.2%; Average loss: 5.8251\n",
            "Iteration: 2168; Percent complete: 54.2%; Average loss: 5.6093\n",
            "Iteration: 2169; Percent complete: 54.2%; Average loss: 5.6674\n",
            "Iteration: 2170; Percent complete: 54.2%; Average loss: 5.3967\n",
            "Iteration: 2171; Percent complete: 54.3%; Average loss: 5.8058\n",
            "Iteration: 2172; Percent complete: 54.3%; Average loss: 5.7883\n",
            "Iteration: 2173; Percent complete: 54.3%; Average loss: 5.5987\n",
            "Iteration: 2174; Percent complete: 54.4%; Average loss: 5.5957\n",
            "Iteration: 2175; Percent complete: 54.4%; Average loss: 5.7587\n",
            "Iteration: 2176; Percent complete: 54.4%; Average loss: 5.6439\n",
            "Iteration: 2177; Percent complete: 54.4%; Average loss: 5.6644\n",
            "Iteration: 2178; Percent complete: 54.4%; Average loss: 5.7276\n",
            "Iteration: 2179; Percent complete: 54.5%; Average loss: 5.8289\n",
            "Iteration: 2180; Percent complete: 54.5%; Average loss: 5.7264\n",
            "Iteration: 2181; Percent complete: 54.5%; Average loss: 5.4086\n",
            "Iteration: 2182; Percent complete: 54.5%; Average loss: 5.5737\n",
            "Iteration: 2183; Percent complete: 54.6%; Average loss: 5.4733\n",
            "Iteration: 2184; Percent complete: 54.6%; Average loss: 5.6161\n",
            "Iteration: 2185; Percent complete: 54.6%; Average loss: 5.5308\n",
            "Iteration: 2186; Percent complete: 54.6%; Average loss: 5.7321\n",
            "Iteration: 2187; Percent complete: 54.7%; Average loss: 5.6558\n",
            "Iteration: 2188; Percent complete: 54.7%; Average loss: 5.8990\n",
            "Iteration: 2189; Percent complete: 54.7%; Average loss: 5.6502\n",
            "Iteration: 2190; Percent complete: 54.8%; Average loss: 5.6382\n",
            "Iteration: 2191; Percent complete: 54.8%; Average loss: 5.8083\n",
            "Iteration: 2192; Percent complete: 54.8%; Average loss: 5.7261\n",
            "Iteration: 2193; Percent complete: 54.8%; Average loss: 5.7739\n",
            "Iteration: 2194; Percent complete: 54.9%; Average loss: 5.7359\n",
            "Iteration: 2195; Percent complete: 54.9%; Average loss: 5.6361\n",
            "Iteration: 2196; Percent complete: 54.9%; Average loss: 5.7533\n",
            "Iteration: 2197; Percent complete: 54.9%; Average loss: 5.5162\n",
            "Iteration: 2198; Percent complete: 54.9%; Average loss: 5.6982\n",
            "Iteration: 2199; Percent complete: 55.0%; Average loss: 5.7214\n",
            "Iteration: 2200; Percent complete: 55.0%; Average loss: 5.7970\n",
            "Iteration: 2201; Percent complete: 55.0%; Average loss: 5.9804\n",
            "Iteration: 2202; Percent complete: 55.0%; Average loss: 5.6101\n",
            "Iteration: 2203; Percent complete: 55.1%; Average loss: 5.7960\n",
            "Iteration: 2204; Percent complete: 55.1%; Average loss: 5.8052\n",
            "Iteration: 2205; Percent complete: 55.1%; Average loss: 5.4229\n",
            "Iteration: 2206; Percent complete: 55.1%; Average loss: 5.7378\n",
            "Iteration: 2207; Percent complete: 55.2%; Average loss: 5.6023\n",
            "Iteration: 2208; Percent complete: 55.2%; Average loss: 5.8683\n",
            "Iteration: 2209; Percent complete: 55.2%; Average loss: 5.5047\n",
            "Iteration: 2210; Percent complete: 55.2%; Average loss: 5.6437\n",
            "Iteration: 2211; Percent complete: 55.3%; Average loss: 5.6504\n",
            "Iteration: 2212; Percent complete: 55.3%; Average loss: 5.7268\n",
            "Iteration: 2213; Percent complete: 55.3%; Average loss: 5.7251\n",
            "Iteration: 2214; Percent complete: 55.4%; Average loss: 5.4062\n",
            "Iteration: 2215; Percent complete: 55.4%; Average loss: 5.6301\n",
            "Iteration: 2216; Percent complete: 55.4%; Average loss: 5.4148\n",
            "Iteration: 2217; Percent complete: 55.4%; Average loss: 5.6048\n",
            "Iteration: 2218; Percent complete: 55.5%; Average loss: 5.7268\n",
            "Iteration: 2219; Percent complete: 55.5%; Average loss: 5.7017\n",
            "Iteration: 2220; Percent complete: 55.5%; Average loss: 5.8477\n",
            "Iteration: 2221; Percent complete: 55.5%; Average loss: 5.5105\n",
            "Iteration: 2222; Percent complete: 55.5%; Average loss: 5.7673\n",
            "Iteration: 2223; Percent complete: 55.6%; Average loss: 5.5145\n",
            "Iteration: 2224; Percent complete: 55.6%; Average loss: 6.0136\n",
            "Iteration: 2225; Percent complete: 55.6%; Average loss: 5.5002\n",
            "Iteration: 2226; Percent complete: 55.6%; Average loss: 5.5662\n",
            "Iteration: 2227; Percent complete: 55.7%; Average loss: 5.7498\n",
            "Iteration: 2228; Percent complete: 55.7%; Average loss: 5.6562\n",
            "Iteration: 2229; Percent complete: 55.7%; Average loss: 5.8812\n",
            "Iteration: 2230; Percent complete: 55.8%; Average loss: 5.7168\n",
            "Iteration: 2231; Percent complete: 55.8%; Average loss: 5.7028\n",
            "Iteration: 2232; Percent complete: 55.8%; Average loss: 5.7634\n",
            "Iteration: 2233; Percent complete: 55.8%; Average loss: 5.6664\n",
            "Iteration: 2234; Percent complete: 55.9%; Average loss: 5.7782\n",
            "Iteration: 2235; Percent complete: 55.9%; Average loss: 5.7984\n",
            "Iteration: 2236; Percent complete: 55.9%; Average loss: 5.6941\n",
            "Iteration: 2237; Percent complete: 55.9%; Average loss: 5.5901\n",
            "Iteration: 2238; Percent complete: 56.0%; Average loss: 5.6077\n",
            "Iteration: 2239; Percent complete: 56.0%; Average loss: 5.6492\n",
            "Iteration: 2240; Percent complete: 56.0%; Average loss: 5.7850\n",
            "Iteration: 2241; Percent complete: 56.0%; Average loss: 5.2773\n",
            "Iteration: 2242; Percent complete: 56.0%; Average loss: 5.7065\n",
            "Iteration: 2243; Percent complete: 56.1%; Average loss: 5.5897\n",
            "Iteration: 2244; Percent complete: 56.1%; Average loss: 5.8003\n",
            "Iteration: 2245; Percent complete: 56.1%; Average loss: 5.7553\n",
            "Iteration: 2246; Percent complete: 56.1%; Average loss: 5.8697\n",
            "Iteration: 2247; Percent complete: 56.2%; Average loss: 5.7945\n",
            "Iteration: 2248; Percent complete: 56.2%; Average loss: 5.8496\n",
            "Iteration: 2249; Percent complete: 56.2%; Average loss: 5.5666\n",
            "Iteration: 2250; Percent complete: 56.2%; Average loss: 5.7413\n",
            "Iteration: 2251; Percent complete: 56.3%; Average loss: 5.7063\n",
            "Iteration: 2252; Percent complete: 56.3%; Average loss: 5.4708\n",
            "Iteration: 2253; Percent complete: 56.3%; Average loss: 5.3550\n",
            "Iteration: 2254; Percent complete: 56.4%; Average loss: 5.6893\n",
            "Iteration: 2255; Percent complete: 56.4%; Average loss: 5.5076\n",
            "Iteration: 2256; Percent complete: 56.4%; Average loss: 5.5681\n",
            "Iteration: 2257; Percent complete: 56.4%; Average loss: 5.7548\n",
            "Iteration: 2258; Percent complete: 56.5%; Average loss: 5.3993\n",
            "Iteration: 2259; Percent complete: 56.5%; Average loss: 5.4204\n",
            "Iteration: 2260; Percent complete: 56.5%; Average loss: 5.7612\n",
            "Iteration: 2261; Percent complete: 56.5%; Average loss: 5.7596\n",
            "Iteration: 2262; Percent complete: 56.5%; Average loss: 5.5235\n",
            "Iteration: 2263; Percent complete: 56.6%; Average loss: 5.6574\n",
            "Iteration: 2264; Percent complete: 56.6%; Average loss: 5.6028\n",
            "Iteration: 2265; Percent complete: 56.6%; Average loss: 5.6274\n",
            "Iteration: 2266; Percent complete: 56.6%; Average loss: 5.5122\n",
            "Iteration: 2267; Percent complete: 56.7%; Average loss: 5.5697\n",
            "Iteration: 2268; Percent complete: 56.7%; Average loss: 5.6339\n",
            "Iteration: 2269; Percent complete: 56.7%; Average loss: 5.7477\n",
            "Iteration: 2270; Percent complete: 56.8%; Average loss: 5.8331\n",
            "Iteration: 2271; Percent complete: 56.8%; Average loss: 5.7131\n",
            "Iteration: 2272; Percent complete: 56.8%; Average loss: 5.6678\n",
            "Iteration: 2273; Percent complete: 56.8%; Average loss: 5.5749\n",
            "Iteration: 2274; Percent complete: 56.9%; Average loss: 5.7603\n",
            "Iteration: 2275; Percent complete: 56.9%; Average loss: 5.7542\n",
            "Iteration: 2276; Percent complete: 56.9%; Average loss: 5.5659\n",
            "Iteration: 2277; Percent complete: 56.9%; Average loss: 5.6470\n",
            "Iteration: 2278; Percent complete: 57.0%; Average loss: 5.8024\n",
            "Iteration: 2279; Percent complete: 57.0%; Average loss: 5.7332\n",
            "Iteration: 2280; Percent complete: 57.0%; Average loss: 5.6607\n",
            "Iteration: 2281; Percent complete: 57.0%; Average loss: 5.9331\n",
            "Iteration: 2282; Percent complete: 57.0%; Average loss: 5.6583\n",
            "Iteration: 2283; Percent complete: 57.1%; Average loss: 5.7159\n",
            "Iteration: 2284; Percent complete: 57.1%; Average loss: 5.6581\n",
            "Iteration: 2285; Percent complete: 57.1%; Average loss: 5.6050\n",
            "Iteration: 2286; Percent complete: 57.1%; Average loss: 5.5826\n",
            "Iteration: 2287; Percent complete: 57.2%; Average loss: 5.7016\n",
            "Iteration: 2288; Percent complete: 57.2%; Average loss: 5.5880\n",
            "Iteration: 2289; Percent complete: 57.2%; Average loss: 5.7604\n",
            "Iteration: 2290; Percent complete: 57.2%; Average loss: 5.8207\n",
            "Iteration: 2291; Percent complete: 57.3%; Average loss: 5.7580\n",
            "Iteration: 2292; Percent complete: 57.3%; Average loss: 5.7634\n",
            "Iteration: 2293; Percent complete: 57.3%; Average loss: 5.4087\n",
            "Iteration: 2294; Percent complete: 57.4%; Average loss: 5.7165\n",
            "Iteration: 2295; Percent complete: 57.4%; Average loss: 5.4696\n",
            "Iteration: 2296; Percent complete: 57.4%; Average loss: 5.7117\n",
            "Iteration: 2297; Percent complete: 57.4%; Average loss: 5.7356\n",
            "Iteration: 2298; Percent complete: 57.5%; Average loss: 5.8390\n",
            "Iteration: 2299; Percent complete: 57.5%; Average loss: 5.7545\n",
            "Iteration: 2300; Percent complete: 57.5%; Average loss: 5.6282\n",
            "Iteration: 2301; Percent complete: 57.5%; Average loss: 5.5547\n",
            "Iteration: 2302; Percent complete: 57.6%; Average loss: 5.4711\n",
            "Iteration: 2303; Percent complete: 57.6%; Average loss: 5.6207\n",
            "Iteration: 2304; Percent complete: 57.6%; Average loss: 5.6834\n",
            "Iteration: 2305; Percent complete: 57.6%; Average loss: 5.4861\n",
            "Iteration: 2306; Percent complete: 57.6%; Average loss: 5.8175\n",
            "Iteration: 2307; Percent complete: 57.7%; Average loss: 5.6499\n",
            "Iteration: 2308; Percent complete: 57.7%; Average loss: 5.7922\n",
            "Iteration: 2309; Percent complete: 57.7%; Average loss: 5.7239\n",
            "Iteration: 2310; Percent complete: 57.8%; Average loss: 5.8323\n",
            "Iteration: 2311; Percent complete: 57.8%; Average loss: 5.6647\n",
            "Iteration: 2312; Percent complete: 57.8%; Average loss: 5.7245\n",
            "Iteration: 2313; Percent complete: 57.8%; Average loss: 5.3933\n",
            "Iteration: 2314; Percent complete: 57.9%; Average loss: 5.7796\n",
            "Iteration: 2315; Percent complete: 57.9%; Average loss: 5.5017\n",
            "Iteration: 2316; Percent complete: 57.9%; Average loss: 5.8254\n",
            "Iteration: 2317; Percent complete: 57.9%; Average loss: 5.6721\n",
            "Iteration: 2318; Percent complete: 58.0%; Average loss: 5.7020\n",
            "Iteration: 2319; Percent complete: 58.0%; Average loss: 5.6181\n",
            "Iteration: 2320; Percent complete: 58.0%; Average loss: 6.0151\n",
            "Iteration: 2321; Percent complete: 58.0%; Average loss: 5.4819\n",
            "Iteration: 2322; Percent complete: 58.1%; Average loss: 5.5836\n",
            "Iteration: 2323; Percent complete: 58.1%; Average loss: 5.5529\n",
            "Iteration: 2324; Percent complete: 58.1%; Average loss: 5.7086\n",
            "Iteration: 2325; Percent complete: 58.1%; Average loss: 5.7561\n",
            "Iteration: 2326; Percent complete: 58.1%; Average loss: 5.5844\n",
            "Iteration: 2327; Percent complete: 58.2%; Average loss: 5.9523\n",
            "Iteration: 2328; Percent complete: 58.2%; Average loss: 5.6612\n",
            "Iteration: 2329; Percent complete: 58.2%; Average loss: 5.6180\n",
            "Iteration: 2330; Percent complete: 58.2%; Average loss: 5.6144\n",
            "Iteration: 2331; Percent complete: 58.3%; Average loss: 5.6431\n",
            "Iteration: 2332; Percent complete: 58.3%; Average loss: 5.5872\n",
            "Iteration: 2333; Percent complete: 58.3%; Average loss: 5.6108\n",
            "Iteration: 2334; Percent complete: 58.4%; Average loss: 5.7172\n",
            "Iteration: 2335; Percent complete: 58.4%; Average loss: 5.9526\n",
            "Iteration: 2336; Percent complete: 58.4%; Average loss: 5.7006\n",
            "Iteration: 2337; Percent complete: 58.4%; Average loss: 5.8800\n",
            "Iteration: 2338; Percent complete: 58.5%; Average loss: 5.7488\n",
            "Iteration: 2339; Percent complete: 58.5%; Average loss: 5.6300\n",
            "Iteration: 2340; Percent complete: 58.5%; Average loss: 5.4847\n",
            "Iteration: 2341; Percent complete: 58.5%; Average loss: 5.7832\n",
            "Iteration: 2342; Percent complete: 58.6%; Average loss: 5.5956\n",
            "Iteration: 2343; Percent complete: 58.6%; Average loss: 5.8087\n",
            "Iteration: 2344; Percent complete: 58.6%; Average loss: 5.9533\n",
            "Iteration: 2345; Percent complete: 58.6%; Average loss: 5.5966\n",
            "Iteration: 2346; Percent complete: 58.7%; Average loss: 5.9033\n",
            "Iteration: 2347; Percent complete: 58.7%; Average loss: 5.5786\n",
            "Iteration: 2348; Percent complete: 58.7%; Average loss: 5.7039\n",
            "Iteration: 2349; Percent complete: 58.7%; Average loss: 5.7195\n",
            "Iteration: 2350; Percent complete: 58.8%; Average loss: 5.6516\n",
            "Iteration: 2351; Percent complete: 58.8%; Average loss: 5.5466\n",
            "Iteration: 2352; Percent complete: 58.8%; Average loss: 5.6113\n",
            "Iteration: 2353; Percent complete: 58.8%; Average loss: 5.6090\n",
            "Iteration: 2354; Percent complete: 58.9%; Average loss: 5.6773\n",
            "Iteration: 2355; Percent complete: 58.9%; Average loss: 5.5054\n",
            "Iteration: 2356; Percent complete: 58.9%; Average loss: 5.6086\n",
            "Iteration: 2357; Percent complete: 58.9%; Average loss: 5.6663\n",
            "Iteration: 2358; Percent complete: 59.0%; Average loss: 5.5684\n",
            "Iteration: 2359; Percent complete: 59.0%; Average loss: 5.7967\n",
            "Iteration: 2360; Percent complete: 59.0%; Average loss: 5.6789\n",
            "Iteration: 2361; Percent complete: 59.0%; Average loss: 5.6444\n",
            "Iteration: 2362; Percent complete: 59.1%; Average loss: 5.5783\n",
            "Iteration: 2363; Percent complete: 59.1%; Average loss: 5.5805\n",
            "Iteration: 2364; Percent complete: 59.1%; Average loss: 5.5878\n",
            "Iteration: 2365; Percent complete: 59.1%; Average loss: 5.5560\n",
            "Iteration: 2366; Percent complete: 59.2%; Average loss: 5.4349\n",
            "Iteration: 2367; Percent complete: 59.2%; Average loss: 5.6975\n",
            "Iteration: 2368; Percent complete: 59.2%; Average loss: 5.7718\n",
            "Iteration: 2369; Percent complete: 59.2%; Average loss: 5.7740\n",
            "Iteration: 2370; Percent complete: 59.2%; Average loss: 5.5626\n",
            "Iteration: 2371; Percent complete: 59.3%; Average loss: 5.4919\n",
            "Iteration: 2372; Percent complete: 59.3%; Average loss: 5.5049\n",
            "Iteration: 2373; Percent complete: 59.3%; Average loss: 5.5454\n",
            "Iteration: 2374; Percent complete: 59.4%; Average loss: 5.7726\n",
            "Iteration: 2375; Percent complete: 59.4%; Average loss: 5.8012\n",
            "Iteration: 2376; Percent complete: 59.4%; Average loss: 5.7354\n",
            "Iteration: 2377; Percent complete: 59.4%; Average loss: 5.6062\n",
            "Iteration: 2378; Percent complete: 59.5%; Average loss: 5.7944\n",
            "Iteration: 2379; Percent complete: 59.5%; Average loss: 5.5744\n",
            "Iteration: 2380; Percent complete: 59.5%; Average loss: 5.7126\n",
            "Iteration: 2381; Percent complete: 59.5%; Average loss: 5.4613\n",
            "Iteration: 2382; Percent complete: 59.6%; Average loss: 5.7622\n",
            "Iteration: 2383; Percent complete: 59.6%; Average loss: 5.6665\n",
            "Iteration: 2384; Percent complete: 59.6%; Average loss: 5.3640\n",
            "Iteration: 2385; Percent complete: 59.6%; Average loss: 5.6935\n",
            "Iteration: 2386; Percent complete: 59.7%; Average loss: 5.5569\n",
            "Iteration: 2387; Percent complete: 59.7%; Average loss: 5.5572\n",
            "Iteration: 2388; Percent complete: 59.7%; Average loss: 5.5371\n",
            "Iteration: 2389; Percent complete: 59.7%; Average loss: 5.6881\n",
            "Iteration: 2390; Percent complete: 59.8%; Average loss: 5.6126\n",
            "Iteration: 2391; Percent complete: 59.8%; Average loss: 5.5842\n",
            "Iteration: 2392; Percent complete: 59.8%; Average loss: 5.7074\n",
            "Iteration: 2393; Percent complete: 59.8%; Average loss: 5.5338\n",
            "Iteration: 2394; Percent complete: 59.9%; Average loss: 5.5444\n",
            "Iteration: 2395; Percent complete: 59.9%; Average loss: 5.8531\n",
            "Iteration: 2396; Percent complete: 59.9%; Average loss: 5.5616\n",
            "Iteration: 2397; Percent complete: 59.9%; Average loss: 5.5735\n",
            "Iteration: 2398; Percent complete: 60.0%; Average loss: 5.5808\n",
            "Iteration: 2399; Percent complete: 60.0%; Average loss: 5.5391\n",
            "Iteration: 2400; Percent complete: 60.0%; Average loss: 5.5196\n",
            "Iteration: 2401; Percent complete: 60.0%; Average loss: 5.9135\n",
            "Iteration: 2402; Percent complete: 60.1%; Average loss: 5.7196\n",
            "Iteration: 2403; Percent complete: 60.1%; Average loss: 5.7373\n",
            "Iteration: 2404; Percent complete: 60.1%; Average loss: 5.5849\n",
            "Iteration: 2405; Percent complete: 60.1%; Average loss: 5.5515\n",
            "Iteration: 2406; Percent complete: 60.2%; Average loss: 5.8551\n",
            "Iteration: 2407; Percent complete: 60.2%; Average loss: 5.5596\n",
            "Iteration: 2408; Percent complete: 60.2%; Average loss: 5.6981\n",
            "Iteration: 2409; Percent complete: 60.2%; Average loss: 5.4198\n",
            "Iteration: 2410; Percent complete: 60.2%; Average loss: 5.3258\n",
            "Iteration: 2411; Percent complete: 60.3%; Average loss: 5.8472\n",
            "Iteration: 2412; Percent complete: 60.3%; Average loss: 5.4474\n",
            "Iteration: 2413; Percent complete: 60.3%; Average loss: 5.5718\n",
            "Iteration: 2414; Percent complete: 60.4%; Average loss: 5.5982\n",
            "Iteration: 2415; Percent complete: 60.4%; Average loss: 5.7837\n",
            "Iteration: 2416; Percent complete: 60.4%; Average loss: 5.6048\n",
            "Iteration: 2417; Percent complete: 60.4%; Average loss: 5.7015\n",
            "Iteration: 2418; Percent complete: 60.5%; Average loss: 5.7089\n",
            "Iteration: 2419; Percent complete: 60.5%; Average loss: 5.6449\n",
            "Iteration: 2420; Percent complete: 60.5%; Average loss: 5.3912\n",
            "Iteration: 2421; Percent complete: 60.5%; Average loss: 5.7389\n",
            "Iteration: 2422; Percent complete: 60.6%; Average loss: 5.5013\n",
            "Iteration: 2423; Percent complete: 60.6%; Average loss: 5.5596\n",
            "Iteration: 2424; Percent complete: 60.6%; Average loss: 5.5058\n",
            "Iteration: 2425; Percent complete: 60.6%; Average loss: 5.5639\n",
            "Iteration: 2426; Percent complete: 60.7%; Average loss: 5.7329\n",
            "Iteration: 2427; Percent complete: 60.7%; Average loss: 5.4965\n",
            "Iteration: 2428; Percent complete: 60.7%; Average loss: 5.6290\n",
            "Iteration: 2429; Percent complete: 60.7%; Average loss: 5.7162\n",
            "Iteration: 2430; Percent complete: 60.8%; Average loss: 5.6726\n",
            "Iteration: 2431; Percent complete: 60.8%; Average loss: 5.2915\n",
            "Iteration: 2432; Percent complete: 60.8%; Average loss: 5.5866\n",
            "Iteration: 2433; Percent complete: 60.8%; Average loss: 5.5248\n",
            "Iteration: 2434; Percent complete: 60.9%; Average loss: 5.4037\n",
            "Iteration: 2435; Percent complete: 60.9%; Average loss: 5.6040\n",
            "Iteration: 2436; Percent complete: 60.9%; Average loss: 5.6105\n",
            "Iteration: 2437; Percent complete: 60.9%; Average loss: 5.4876\n",
            "Iteration: 2438; Percent complete: 61.0%; Average loss: 5.5801\n",
            "Iteration: 2439; Percent complete: 61.0%; Average loss: 5.1765\n",
            "Iteration: 2440; Percent complete: 61.0%; Average loss: 5.5803\n",
            "Iteration: 2441; Percent complete: 61.0%; Average loss: 5.5427\n",
            "Iteration: 2442; Percent complete: 61.1%; Average loss: 5.5546\n",
            "Iteration: 2443; Percent complete: 61.1%; Average loss: 5.7563\n",
            "Iteration: 2444; Percent complete: 61.1%; Average loss: 5.3256\n",
            "Iteration: 2445; Percent complete: 61.1%; Average loss: 5.5654\n",
            "Iteration: 2446; Percent complete: 61.2%; Average loss: 5.7401\n",
            "Iteration: 2447; Percent complete: 61.2%; Average loss: 5.5348\n",
            "Iteration: 2448; Percent complete: 61.2%; Average loss: 5.5584\n",
            "Iteration: 2449; Percent complete: 61.2%; Average loss: 5.4496\n",
            "Iteration: 2450; Percent complete: 61.3%; Average loss: 5.6563\n",
            "Iteration: 2451; Percent complete: 61.3%; Average loss: 5.6566\n",
            "Iteration: 2452; Percent complete: 61.3%; Average loss: 5.5264\n",
            "Iteration: 2453; Percent complete: 61.3%; Average loss: 5.8095\n",
            "Iteration: 2454; Percent complete: 61.4%; Average loss: 5.5931\n",
            "Iteration: 2455; Percent complete: 61.4%; Average loss: 5.7760\n",
            "Iteration: 2456; Percent complete: 61.4%; Average loss: 5.5531\n",
            "Iteration: 2457; Percent complete: 61.4%; Average loss: 5.5208\n",
            "Iteration: 2458; Percent complete: 61.5%; Average loss: 5.7192\n",
            "Iteration: 2459; Percent complete: 61.5%; Average loss: 5.7209\n",
            "Iteration: 2460; Percent complete: 61.5%; Average loss: 5.8034\n",
            "Iteration: 2461; Percent complete: 61.5%; Average loss: 5.6625\n",
            "Iteration: 2462; Percent complete: 61.6%; Average loss: 5.7240\n",
            "Iteration: 2463; Percent complete: 61.6%; Average loss: 5.5308\n",
            "Iteration: 2464; Percent complete: 61.6%; Average loss: 5.8655\n",
            "Iteration: 2465; Percent complete: 61.6%; Average loss: 5.6507\n",
            "Iteration: 2466; Percent complete: 61.7%; Average loss: 5.7128\n",
            "Iteration: 2467; Percent complete: 61.7%; Average loss: 5.3104\n",
            "Iteration: 2468; Percent complete: 61.7%; Average loss: 5.8171\n",
            "Iteration: 2469; Percent complete: 61.7%; Average loss: 5.4819\n",
            "Iteration: 2470; Percent complete: 61.8%; Average loss: 5.7178\n",
            "Iteration: 2471; Percent complete: 61.8%; Average loss: 5.5902\n",
            "Iteration: 2472; Percent complete: 61.8%; Average loss: 5.5776\n",
            "Iteration: 2473; Percent complete: 61.8%; Average loss: 5.4698\n",
            "Iteration: 2474; Percent complete: 61.9%; Average loss: 5.5405\n",
            "Iteration: 2475; Percent complete: 61.9%; Average loss: 5.7057\n",
            "Iteration: 2476; Percent complete: 61.9%; Average loss: 5.5864\n",
            "Iteration: 2477; Percent complete: 61.9%; Average loss: 5.4812\n",
            "Iteration: 2478; Percent complete: 62.0%; Average loss: 5.5384\n",
            "Iteration: 2479; Percent complete: 62.0%; Average loss: 5.5035\n",
            "Iteration: 2480; Percent complete: 62.0%; Average loss: 5.6179\n",
            "Iteration: 2481; Percent complete: 62.0%; Average loss: 5.6714\n",
            "Iteration: 2482; Percent complete: 62.1%; Average loss: 5.7428\n",
            "Iteration: 2483; Percent complete: 62.1%; Average loss: 5.5621\n",
            "Iteration: 2484; Percent complete: 62.1%; Average loss: 5.5376\n",
            "Iteration: 2485; Percent complete: 62.1%; Average loss: 5.5195\n",
            "Iteration: 2486; Percent complete: 62.2%; Average loss: 5.6557\n",
            "Iteration: 2487; Percent complete: 62.2%; Average loss: 5.5634\n",
            "Iteration: 2488; Percent complete: 62.2%; Average loss: 5.6305\n",
            "Iteration: 2489; Percent complete: 62.2%; Average loss: 5.5036\n",
            "Iteration: 2490; Percent complete: 62.3%; Average loss: 5.6420\n",
            "Iteration: 2491; Percent complete: 62.3%; Average loss: 5.5953\n",
            "Iteration: 2492; Percent complete: 62.3%; Average loss: 5.5741\n",
            "Iteration: 2493; Percent complete: 62.3%; Average loss: 5.4696\n",
            "Iteration: 2494; Percent complete: 62.4%; Average loss: 5.4830\n",
            "Iteration: 2495; Percent complete: 62.4%; Average loss: 5.5261\n",
            "Iteration: 2496; Percent complete: 62.4%; Average loss: 5.4323\n",
            "Iteration: 2497; Percent complete: 62.4%; Average loss: 5.2450\n",
            "Iteration: 2498; Percent complete: 62.5%; Average loss: 5.8312\n",
            "Iteration: 2499; Percent complete: 62.5%; Average loss: 5.6407\n",
            "Iteration: 2500; Percent complete: 62.5%; Average loss: 5.5726\n",
            "Iteration: 2501; Percent complete: 62.5%; Average loss: 5.3617\n",
            "Iteration: 2502; Percent complete: 62.5%; Average loss: 5.5305\n",
            "Iteration: 2503; Percent complete: 62.6%; Average loss: 5.6449\n",
            "Iteration: 2504; Percent complete: 62.6%; Average loss: 5.5617\n",
            "Iteration: 2505; Percent complete: 62.6%; Average loss: 5.6549\n",
            "Iteration: 2506; Percent complete: 62.6%; Average loss: 5.5253\n",
            "Iteration: 2507; Percent complete: 62.7%; Average loss: 5.4775\n",
            "Iteration: 2508; Percent complete: 62.7%; Average loss: 5.1619\n",
            "Iteration: 2509; Percent complete: 62.7%; Average loss: 5.4999\n",
            "Iteration: 2510; Percent complete: 62.7%; Average loss: 5.5747\n",
            "Iteration: 2511; Percent complete: 62.8%; Average loss: 5.6622\n",
            "Iteration: 2512; Percent complete: 62.8%; Average loss: 5.6329\n",
            "Iteration: 2513; Percent complete: 62.8%; Average loss: 5.3810\n",
            "Iteration: 2514; Percent complete: 62.8%; Average loss: 5.4239\n",
            "Iteration: 2515; Percent complete: 62.9%; Average loss: 5.6112\n",
            "Iteration: 2516; Percent complete: 62.9%; Average loss: 5.3642\n",
            "Iteration: 2517; Percent complete: 62.9%; Average loss: 5.5373\n",
            "Iteration: 2518; Percent complete: 62.9%; Average loss: 5.6013\n",
            "Iteration: 2519; Percent complete: 63.0%; Average loss: 5.5280\n",
            "Iteration: 2520; Percent complete: 63.0%; Average loss: 5.5511\n",
            "Iteration: 2521; Percent complete: 63.0%; Average loss: 5.6373\n",
            "Iteration: 2522; Percent complete: 63.0%; Average loss: 5.5976\n",
            "Iteration: 2523; Percent complete: 63.1%; Average loss: 5.3731\n",
            "Iteration: 2524; Percent complete: 63.1%; Average loss: 5.7257\n",
            "Iteration: 2525; Percent complete: 63.1%; Average loss: 5.6041\n",
            "Iteration: 2526; Percent complete: 63.1%; Average loss: 5.6642\n",
            "Iteration: 2527; Percent complete: 63.2%; Average loss: 5.5220\n",
            "Iteration: 2528; Percent complete: 63.2%; Average loss: 5.4800\n",
            "Iteration: 2529; Percent complete: 63.2%; Average loss: 5.5973\n",
            "Iteration: 2530; Percent complete: 63.2%; Average loss: 5.5794\n",
            "Iteration: 2531; Percent complete: 63.3%; Average loss: 5.5747\n",
            "Iteration: 2532; Percent complete: 63.3%; Average loss: 5.6970\n",
            "Iteration: 2533; Percent complete: 63.3%; Average loss: 5.6094\n",
            "Iteration: 2534; Percent complete: 63.3%; Average loss: 5.7607\n",
            "Iteration: 2535; Percent complete: 63.4%; Average loss: 5.7294\n",
            "Iteration: 2536; Percent complete: 63.4%; Average loss: 5.5809\n",
            "Iteration: 2537; Percent complete: 63.4%; Average loss: 5.5301\n",
            "Iteration: 2538; Percent complete: 63.4%; Average loss: 5.7752\n",
            "Iteration: 2539; Percent complete: 63.5%; Average loss: 5.7321\n",
            "Iteration: 2540; Percent complete: 63.5%; Average loss: 5.7640\n",
            "Iteration: 2541; Percent complete: 63.5%; Average loss: 5.4419\n",
            "Iteration: 2542; Percent complete: 63.5%; Average loss: 5.7236\n",
            "Iteration: 2543; Percent complete: 63.6%; Average loss: 5.9265\n",
            "Iteration: 2544; Percent complete: 63.6%; Average loss: 5.6557\n",
            "Iteration: 2545; Percent complete: 63.6%; Average loss: 5.4379\n",
            "Iteration: 2546; Percent complete: 63.6%; Average loss: 5.4440\n",
            "Iteration: 2547; Percent complete: 63.7%; Average loss: 5.4317\n",
            "Iteration: 2548; Percent complete: 63.7%; Average loss: 5.4718\n",
            "Iteration: 2549; Percent complete: 63.7%; Average loss: 5.5051\n",
            "Iteration: 2550; Percent complete: 63.7%; Average loss: 5.6262\n",
            "Iteration: 2551; Percent complete: 63.8%; Average loss: 5.5319\n",
            "Iteration: 2552; Percent complete: 63.8%; Average loss: 5.4731\n",
            "Iteration: 2553; Percent complete: 63.8%; Average loss: 5.5753\n",
            "Iteration: 2554; Percent complete: 63.8%; Average loss: 5.5820\n",
            "Iteration: 2555; Percent complete: 63.9%; Average loss: 5.6481\n",
            "Iteration: 2556; Percent complete: 63.9%; Average loss: 5.5118\n",
            "Iteration: 2557; Percent complete: 63.9%; Average loss: 5.4406\n",
            "Iteration: 2558; Percent complete: 63.9%; Average loss: 5.5957\n",
            "Iteration: 2559; Percent complete: 64.0%; Average loss: 5.3771\n",
            "Iteration: 2560; Percent complete: 64.0%; Average loss: 5.6902\n",
            "Iteration: 2561; Percent complete: 64.0%; Average loss: 5.5797\n",
            "Iteration: 2562; Percent complete: 64.0%; Average loss: 5.5901\n",
            "Iteration: 2563; Percent complete: 64.1%; Average loss: 5.6602\n",
            "Iteration: 2564; Percent complete: 64.1%; Average loss: 5.7623\n",
            "Iteration: 2565; Percent complete: 64.1%; Average loss: 5.5383\n",
            "Iteration: 2566; Percent complete: 64.1%; Average loss: 5.7385\n",
            "Iteration: 2567; Percent complete: 64.2%; Average loss: 5.5567\n",
            "Iteration: 2568; Percent complete: 64.2%; Average loss: 5.2713\n",
            "Iteration: 2569; Percent complete: 64.2%; Average loss: 5.3889\n",
            "Iteration: 2570; Percent complete: 64.2%; Average loss: 5.6663\n",
            "Iteration: 2571; Percent complete: 64.3%; Average loss: 5.5776\n",
            "Iteration: 2572; Percent complete: 64.3%; Average loss: 5.5263\n",
            "Iteration: 2573; Percent complete: 64.3%; Average loss: 5.6778\n",
            "Iteration: 2574; Percent complete: 64.3%; Average loss: 5.6073\n",
            "Iteration: 2575; Percent complete: 64.4%; Average loss: 5.5733\n",
            "Iteration: 2576; Percent complete: 64.4%; Average loss: 5.6280\n",
            "Iteration: 2577; Percent complete: 64.4%; Average loss: 5.3320\n",
            "Iteration: 2578; Percent complete: 64.5%; Average loss: 5.6801\n",
            "Iteration: 2579; Percent complete: 64.5%; Average loss: 5.6273\n",
            "Iteration: 2580; Percent complete: 64.5%; Average loss: 5.4772\n",
            "Iteration: 2581; Percent complete: 64.5%; Average loss: 5.5187\n",
            "Iteration: 2582; Percent complete: 64.5%; Average loss: 5.6667\n",
            "Iteration: 2583; Percent complete: 64.6%; Average loss: 5.5510\n",
            "Iteration: 2584; Percent complete: 64.6%; Average loss: 5.7907\n",
            "Iteration: 2585; Percent complete: 64.6%; Average loss: 5.4665\n",
            "Iteration: 2586; Percent complete: 64.6%; Average loss: 5.3507\n",
            "Iteration: 2587; Percent complete: 64.7%; Average loss: 5.3958\n",
            "Iteration: 2588; Percent complete: 64.7%; Average loss: 5.6681\n",
            "Iteration: 2589; Percent complete: 64.7%; Average loss: 5.5095\n",
            "Iteration: 2590; Percent complete: 64.8%; Average loss: 5.5828\n",
            "Iteration: 2591; Percent complete: 64.8%; Average loss: 5.6412\n",
            "Iteration: 2592; Percent complete: 64.8%; Average loss: 5.3743\n",
            "Iteration: 2593; Percent complete: 64.8%; Average loss: 5.6320\n",
            "Iteration: 2594; Percent complete: 64.8%; Average loss: 5.4782\n",
            "Iteration: 2595; Percent complete: 64.9%; Average loss: 5.6647\n",
            "Iteration: 2596; Percent complete: 64.9%; Average loss: 5.5777\n",
            "Iteration: 2597; Percent complete: 64.9%; Average loss: 5.5081\n",
            "Iteration: 2598; Percent complete: 65.0%; Average loss: 5.4706\n",
            "Iteration: 2599; Percent complete: 65.0%; Average loss: 5.7512\n",
            "Iteration: 2600; Percent complete: 65.0%; Average loss: 5.5503\n",
            "Iteration: 2601; Percent complete: 65.0%; Average loss: 5.8536\n",
            "Iteration: 2602; Percent complete: 65.0%; Average loss: 5.4888\n",
            "Iteration: 2603; Percent complete: 65.1%; Average loss: 5.6581\n",
            "Iteration: 2604; Percent complete: 65.1%; Average loss: 5.5539\n",
            "Iteration: 2605; Percent complete: 65.1%; Average loss: 5.6487\n",
            "Iteration: 2606; Percent complete: 65.1%; Average loss: 5.4754\n",
            "Iteration: 2607; Percent complete: 65.2%; Average loss: 5.7920\n",
            "Iteration: 2608; Percent complete: 65.2%; Average loss: 5.6559\n",
            "Iteration: 2609; Percent complete: 65.2%; Average loss: 5.6041\n",
            "Iteration: 2610; Percent complete: 65.2%; Average loss: 5.7416\n",
            "Iteration: 2611; Percent complete: 65.3%; Average loss: 5.5578\n",
            "Iteration: 2612; Percent complete: 65.3%; Average loss: 5.4508\n",
            "Iteration: 2613; Percent complete: 65.3%; Average loss: 5.5592\n",
            "Iteration: 2614; Percent complete: 65.3%; Average loss: 5.4403\n",
            "Iteration: 2615; Percent complete: 65.4%; Average loss: 5.4458\n",
            "Iteration: 2616; Percent complete: 65.4%; Average loss: 5.6899\n",
            "Iteration: 2617; Percent complete: 65.4%; Average loss: 5.3481\n",
            "Iteration: 2618; Percent complete: 65.5%; Average loss: 5.8034\n",
            "Iteration: 2619; Percent complete: 65.5%; Average loss: 5.2603\n",
            "Iteration: 2620; Percent complete: 65.5%; Average loss: 5.3299\n",
            "Iteration: 2621; Percent complete: 65.5%; Average loss: 5.6786\n",
            "Iteration: 2622; Percent complete: 65.5%; Average loss: 5.7436\n",
            "Iteration: 2623; Percent complete: 65.6%; Average loss: 5.5803\n",
            "Iteration: 2624; Percent complete: 65.6%; Average loss: 5.4751\n",
            "Iteration: 2625; Percent complete: 65.6%; Average loss: 5.7306\n",
            "Iteration: 2626; Percent complete: 65.6%; Average loss: 5.5747\n",
            "Iteration: 2627; Percent complete: 65.7%; Average loss: 5.6652\n",
            "Iteration: 2628; Percent complete: 65.7%; Average loss: 5.7930\n",
            "Iteration: 2629; Percent complete: 65.7%; Average loss: 5.2627\n",
            "Iteration: 2630; Percent complete: 65.8%; Average loss: 5.6262\n",
            "Iteration: 2631; Percent complete: 65.8%; Average loss: 5.6576\n",
            "Iteration: 2632; Percent complete: 65.8%; Average loss: 5.4907\n",
            "Iteration: 2633; Percent complete: 65.8%; Average loss: 5.5716\n",
            "Iteration: 2634; Percent complete: 65.8%; Average loss: 5.3400\n",
            "Iteration: 2635; Percent complete: 65.9%; Average loss: 5.5974\n",
            "Iteration: 2636; Percent complete: 65.9%; Average loss: 5.4711\n",
            "Iteration: 2637; Percent complete: 65.9%; Average loss: 5.5783\n",
            "Iteration: 2638; Percent complete: 66.0%; Average loss: 5.6966\n",
            "Iteration: 2639; Percent complete: 66.0%; Average loss: 5.3883\n",
            "Iteration: 2640; Percent complete: 66.0%; Average loss: 5.6036\n",
            "Iteration: 2641; Percent complete: 66.0%; Average loss: 5.5521\n",
            "Iteration: 2642; Percent complete: 66.0%; Average loss: 5.5818\n",
            "Iteration: 2643; Percent complete: 66.1%; Average loss: 5.6942\n",
            "Iteration: 2644; Percent complete: 66.1%; Average loss: 5.7881\n",
            "Iteration: 2645; Percent complete: 66.1%; Average loss: 5.2983\n",
            "Iteration: 2646; Percent complete: 66.1%; Average loss: 5.4187\n",
            "Iteration: 2647; Percent complete: 66.2%; Average loss: 5.4383\n",
            "Iteration: 2648; Percent complete: 66.2%; Average loss: 5.2925\n",
            "Iteration: 2649; Percent complete: 66.2%; Average loss: 5.7602\n",
            "Iteration: 2650; Percent complete: 66.2%; Average loss: 5.6514\n",
            "Iteration: 2651; Percent complete: 66.3%; Average loss: 5.5377\n",
            "Iteration: 2652; Percent complete: 66.3%; Average loss: 5.7951\n",
            "Iteration: 2653; Percent complete: 66.3%; Average loss: 5.5405\n",
            "Iteration: 2654; Percent complete: 66.3%; Average loss: 5.4512\n",
            "Iteration: 2655; Percent complete: 66.4%; Average loss: 5.4427\n",
            "Iteration: 2656; Percent complete: 66.4%; Average loss: 5.2962\n",
            "Iteration: 2657; Percent complete: 66.4%; Average loss: 5.4797\n",
            "Iteration: 2658; Percent complete: 66.5%; Average loss: 5.3459\n",
            "Iteration: 2659; Percent complete: 66.5%; Average loss: 5.5488\n",
            "Iteration: 2660; Percent complete: 66.5%; Average loss: 5.6440\n",
            "Iteration: 2661; Percent complete: 66.5%; Average loss: 5.6378\n",
            "Iteration: 2662; Percent complete: 66.5%; Average loss: 5.4300\n",
            "Iteration: 2663; Percent complete: 66.6%; Average loss: 5.3433\n",
            "Iteration: 2664; Percent complete: 66.6%; Average loss: 5.4736\n",
            "Iteration: 2665; Percent complete: 66.6%; Average loss: 5.4090\n",
            "Iteration: 2666; Percent complete: 66.6%; Average loss: 5.4547\n",
            "Iteration: 2667; Percent complete: 66.7%; Average loss: 5.5754\n",
            "Iteration: 2668; Percent complete: 66.7%; Average loss: 5.4453\n",
            "Iteration: 2669; Percent complete: 66.7%; Average loss: 5.6019\n",
            "Iteration: 2670; Percent complete: 66.8%; Average loss: 5.3284\n",
            "Iteration: 2671; Percent complete: 66.8%; Average loss: 5.5282\n",
            "Iteration: 2672; Percent complete: 66.8%; Average loss: 5.4850\n",
            "Iteration: 2673; Percent complete: 66.8%; Average loss: 5.4934\n",
            "Iteration: 2674; Percent complete: 66.8%; Average loss: 5.5549\n",
            "Iteration: 2675; Percent complete: 66.9%; Average loss: 5.5552\n",
            "Iteration: 2676; Percent complete: 66.9%; Average loss: 5.3752\n",
            "Iteration: 2677; Percent complete: 66.9%; Average loss: 5.5964\n",
            "Iteration: 2678; Percent complete: 67.0%; Average loss: 5.6042\n",
            "Iteration: 2679; Percent complete: 67.0%; Average loss: 5.5997\n",
            "Iteration: 2680; Percent complete: 67.0%; Average loss: 5.4647\n",
            "Iteration: 2681; Percent complete: 67.0%; Average loss: 5.5657\n",
            "Iteration: 2682; Percent complete: 67.0%; Average loss: 5.3780\n",
            "Iteration: 2683; Percent complete: 67.1%; Average loss: 5.4561\n",
            "Iteration: 2684; Percent complete: 67.1%; Average loss: 5.4126\n",
            "Iteration: 2685; Percent complete: 67.1%; Average loss: 5.7641\n",
            "Iteration: 2686; Percent complete: 67.2%; Average loss: 5.5756\n",
            "Iteration: 2687; Percent complete: 67.2%; Average loss: 5.6176\n",
            "Iteration: 2688; Percent complete: 67.2%; Average loss: 5.4479\n",
            "Iteration: 2689; Percent complete: 67.2%; Average loss: 5.1522\n",
            "Iteration: 2690; Percent complete: 67.2%; Average loss: 5.4285\n",
            "Iteration: 2691; Percent complete: 67.3%; Average loss: 5.5873\n",
            "Iteration: 2692; Percent complete: 67.3%; Average loss: 5.4662\n",
            "Iteration: 2693; Percent complete: 67.3%; Average loss: 5.4471\n",
            "Iteration: 2694; Percent complete: 67.3%; Average loss: 5.5146\n",
            "Iteration: 2695; Percent complete: 67.4%; Average loss: 5.3869\n",
            "Iteration: 2696; Percent complete: 67.4%; Average loss: 5.1819\n",
            "Iteration: 2697; Percent complete: 67.4%; Average loss: 5.4422\n",
            "Iteration: 2698; Percent complete: 67.5%; Average loss: 5.4105\n",
            "Iteration: 2699; Percent complete: 67.5%; Average loss: 5.5928\n",
            "Iteration: 2700; Percent complete: 67.5%; Average loss: 5.4219\n",
            "Iteration: 2701; Percent complete: 67.5%; Average loss: 5.5198\n",
            "Iteration: 2702; Percent complete: 67.5%; Average loss: 5.4781\n",
            "Iteration: 2703; Percent complete: 67.6%; Average loss: 5.5984\n",
            "Iteration: 2704; Percent complete: 67.6%; Average loss: 5.5501\n",
            "Iteration: 2705; Percent complete: 67.6%; Average loss: 5.6858\n",
            "Iteration: 2706; Percent complete: 67.7%; Average loss: 5.5157\n",
            "Iteration: 2707; Percent complete: 67.7%; Average loss: 5.4665\n",
            "Iteration: 2708; Percent complete: 67.7%; Average loss: 5.6974\n",
            "Iteration: 2709; Percent complete: 67.7%; Average loss: 5.3931\n",
            "Iteration: 2710; Percent complete: 67.8%; Average loss: 5.7380\n",
            "Iteration: 2711; Percent complete: 67.8%; Average loss: 5.4633\n",
            "Iteration: 2712; Percent complete: 67.8%; Average loss: 5.5877\n",
            "Iteration: 2713; Percent complete: 67.8%; Average loss: 5.5462\n",
            "Iteration: 2714; Percent complete: 67.8%; Average loss: 5.3855\n",
            "Iteration: 2715; Percent complete: 67.9%; Average loss: 5.6165\n",
            "Iteration: 2716; Percent complete: 67.9%; Average loss: 5.5202\n",
            "Iteration: 2717; Percent complete: 67.9%; Average loss: 5.5244\n",
            "Iteration: 2718; Percent complete: 68.0%; Average loss: 5.4302\n",
            "Iteration: 2719; Percent complete: 68.0%; Average loss: 5.4227\n",
            "Iteration: 2720; Percent complete: 68.0%; Average loss: 5.4600\n",
            "Iteration: 2721; Percent complete: 68.0%; Average loss: 5.6500\n",
            "Iteration: 2722; Percent complete: 68.0%; Average loss: 5.6839\n",
            "Iteration: 2723; Percent complete: 68.1%; Average loss: 5.7096\n",
            "Iteration: 2724; Percent complete: 68.1%; Average loss: 5.5682\n",
            "Iteration: 2725; Percent complete: 68.1%; Average loss: 5.4915\n",
            "Iteration: 2726; Percent complete: 68.2%; Average loss: 5.4054\n",
            "Iteration: 2727; Percent complete: 68.2%; Average loss: 5.6572\n",
            "Iteration: 2728; Percent complete: 68.2%; Average loss: 5.6579\n",
            "Iteration: 2729; Percent complete: 68.2%; Average loss: 5.5964\n",
            "Iteration: 2730; Percent complete: 68.2%; Average loss: 5.5052\n",
            "Iteration: 2731; Percent complete: 68.3%; Average loss: 5.4329\n",
            "Iteration: 2732; Percent complete: 68.3%; Average loss: 5.7331\n",
            "Iteration: 2733; Percent complete: 68.3%; Average loss: 5.6535\n",
            "Iteration: 2734; Percent complete: 68.3%; Average loss: 5.6701\n",
            "Iteration: 2735; Percent complete: 68.4%; Average loss: 5.2388\n",
            "Iteration: 2736; Percent complete: 68.4%; Average loss: 5.5068\n",
            "Iteration: 2737; Percent complete: 68.4%; Average loss: 5.4383\n",
            "Iteration: 2738; Percent complete: 68.5%; Average loss: 5.5165\n",
            "Iteration: 2739; Percent complete: 68.5%; Average loss: 5.5913\n",
            "Iteration: 2740; Percent complete: 68.5%; Average loss: 5.4237\n",
            "Iteration: 2741; Percent complete: 68.5%; Average loss: 5.4768\n",
            "Iteration: 2742; Percent complete: 68.5%; Average loss: 5.4288\n",
            "Iteration: 2743; Percent complete: 68.6%; Average loss: 5.4862\n",
            "Iteration: 2744; Percent complete: 68.6%; Average loss: 5.4591\n",
            "Iteration: 2745; Percent complete: 68.6%; Average loss: 5.5673\n",
            "Iteration: 2746; Percent complete: 68.7%; Average loss: 5.6328\n",
            "Iteration: 2747; Percent complete: 68.7%; Average loss: 5.5917\n",
            "Iteration: 2748; Percent complete: 68.7%; Average loss: 5.4892\n",
            "Iteration: 2749; Percent complete: 68.7%; Average loss: 5.5428\n",
            "Iteration: 2750; Percent complete: 68.8%; Average loss: 5.5082\n",
            "Iteration: 2751; Percent complete: 68.8%; Average loss: 5.7035\n",
            "Iteration: 2752; Percent complete: 68.8%; Average loss: 5.4107\n",
            "Iteration: 2753; Percent complete: 68.8%; Average loss: 5.4556\n",
            "Iteration: 2754; Percent complete: 68.8%; Average loss: 5.2598\n",
            "Iteration: 2755; Percent complete: 68.9%; Average loss: 5.4240\n",
            "Iteration: 2756; Percent complete: 68.9%; Average loss: 5.3909\n",
            "Iteration: 2757; Percent complete: 68.9%; Average loss: 5.5220\n",
            "Iteration: 2758; Percent complete: 69.0%; Average loss: 5.5438\n",
            "Iteration: 2759; Percent complete: 69.0%; Average loss: 5.5411\n",
            "Iteration: 2760; Percent complete: 69.0%; Average loss: 5.4410\n",
            "Iteration: 2761; Percent complete: 69.0%; Average loss: 5.5557\n",
            "Iteration: 2762; Percent complete: 69.0%; Average loss: 5.3527\n",
            "Iteration: 2763; Percent complete: 69.1%; Average loss: 5.4168\n",
            "Iteration: 2764; Percent complete: 69.1%; Average loss: 5.6035\n",
            "Iteration: 2765; Percent complete: 69.1%; Average loss: 5.4200\n",
            "Iteration: 2766; Percent complete: 69.2%; Average loss: 5.5747\n",
            "Iteration: 2767; Percent complete: 69.2%; Average loss: 5.2697\n",
            "Iteration: 2768; Percent complete: 69.2%; Average loss: 5.5136\n",
            "Iteration: 2769; Percent complete: 69.2%; Average loss: 5.3660\n",
            "Iteration: 2770; Percent complete: 69.2%; Average loss: 5.3624\n",
            "Iteration: 2771; Percent complete: 69.3%; Average loss: 5.4331\n",
            "Iteration: 2772; Percent complete: 69.3%; Average loss: 5.6168\n",
            "Iteration: 2773; Percent complete: 69.3%; Average loss: 5.4591\n",
            "Iteration: 2774; Percent complete: 69.3%; Average loss: 5.6353\n",
            "Iteration: 2775; Percent complete: 69.4%; Average loss: 5.6193\n",
            "Iteration: 2776; Percent complete: 69.4%; Average loss: 5.5313\n",
            "Iteration: 2777; Percent complete: 69.4%; Average loss: 5.5551\n",
            "Iteration: 2778; Percent complete: 69.5%; Average loss: 5.4317\n",
            "Iteration: 2779; Percent complete: 69.5%; Average loss: 5.7403\n",
            "Iteration: 2780; Percent complete: 69.5%; Average loss: 5.1235\n",
            "Iteration: 2781; Percent complete: 69.5%; Average loss: 5.4597\n",
            "Iteration: 2782; Percent complete: 69.5%; Average loss: 5.5071\n",
            "Iteration: 2783; Percent complete: 69.6%; Average loss: 5.5433\n",
            "Iteration: 2784; Percent complete: 69.6%; Average loss: 5.6221\n",
            "Iteration: 2785; Percent complete: 69.6%; Average loss: 5.5685\n",
            "Iteration: 2786; Percent complete: 69.7%; Average loss: 5.5397\n",
            "Iteration: 2787; Percent complete: 69.7%; Average loss: 5.3324\n",
            "Iteration: 2788; Percent complete: 69.7%; Average loss: 5.5044\n",
            "Iteration: 2789; Percent complete: 69.7%; Average loss: 5.4992\n",
            "Iteration: 2790; Percent complete: 69.8%; Average loss: 5.5884\n",
            "Iteration: 2791; Percent complete: 69.8%; Average loss: 5.4589\n",
            "Iteration: 2792; Percent complete: 69.8%; Average loss: 5.5510\n",
            "Iteration: 2793; Percent complete: 69.8%; Average loss: 5.6532\n",
            "Iteration: 2794; Percent complete: 69.8%; Average loss: 5.3664\n",
            "Iteration: 2795; Percent complete: 69.9%; Average loss: 5.3530\n",
            "Iteration: 2796; Percent complete: 69.9%; Average loss: 5.3775\n",
            "Iteration: 2797; Percent complete: 69.9%; Average loss: 5.5145\n",
            "Iteration: 2798; Percent complete: 70.0%; Average loss: 5.5480\n",
            "Iteration: 2799; Percent complete: 70.0%; Average loss: 5.5624\n",
            "Iteration: 2800; Percent complete: 70.0%; Average loss: 5.2413\n",
            "Iteration: 2801; Percent complete: 70.0%; Average loss: 5.4963\n",
            "Iteration: 2802; Percent complete: 70.0%; Average loss: 5.5726\n",
            "Iteration: 2803; Percent complete: 70.1%; Average loss: 5.1587\n",
            "Iteration: 2804; Percent complete: 70.1%; Average loss: 5.5332\n",
            "Iteration: 2805; Percent complete: 70.1%; Average loss: 5.3984\n",
            "Iteration: 2806; Percent complete: 70.2%; Average loss: 5.7291\n",
            "Iteration: 2807; Percent complete: 70.2%; Average loss: 5.5707\n",
            "Iteration: 2808; Percent complete: 70.2%; Average loss: 5.4122\n",
            "Iteration: 2809; Percent complete: 70.2%; Average loss: 5.3555\n",
            "Iteration: 2810; Percent complete: 70.2%; Average loss: 5.5820\n",
            "Iteration: 2811; Percent complete: 70.3%; Average loss: 5.3573\n",
            "Iteration: 2812; Percent complete: 70.3%; Average loss: 5.5573\n",
            "Iteration: 2813; Percent complete: 70.3%; Average loss: 5.4963\n",
            "Iteration: 2814; Percent complete: 70.3%; Average loss: 5.4477\n",
            "Iteration: 2815; Percent complete: 70.4%; Average loss: 5.4907\n",
            "Iteration: 2816; Percent complete: 70.4%; Average loss: 5.2510\n",
            "Iteration: 2817; Percent complete: 70.4%; Average loss: 5.4851\n",
            "Iteration: 2818; Percent complete: 70.5%; Average loss: 5.6671\n",
            "Iteration: 2819; Percent complete: 70.5%; Average loss: 5.4089\n",
            "Iteration: 2820; Percent complete: 70.5%; Average loss: 5.4463\n",
            "Iteration: 2821; Percent complete: 70.5%; Average loss: 5.5579\n",
            "Iteration: 2822; Percent complete: 70.5%; Average loss: 5.6404\n",
            "Iteration: 2823; Percent complete: 70.6%; Average loss: 5.4882\n",
            "Iteration: 2824; Percent complete: 70.6%; Average loss: 5.3836\n",
            "Iteration: 2825; Percent complete: 70.6%; Average loss: 5.6865\n",
            "Iteration: 2826; Percent complete: 70.7%; Average loss: 5.7205\n",
            "Iteration: 2827; Percent complete: 70.7%; Average loss: 5.2943\n",
            "Iteration: 2828; Percent complete: 70.7%; Average loss: 5.5921\n",
            "Iteration: 2829; Percent complete: 70.7%; Average loss: 5.5079\n",
            "Iteration: 2830; Percent complete: 70.8%; Average loss: 5.5730\n",
            "Iteration: 2831; Percent complete: 70.8%; Average loss: 5.1891\n",
            "Iteration: 2832; Percent complete: 70.8%; Average loss: 5.3859\n",
            "Iteration: 2833; Percent complete: 70.8%; Average loss: 5.4645\n",
            "Iteration: 2834; Percent complete: 70.9%; Average loss: 5.5305\n",
            "Iteration: 2835; Percent complete: 70.9%; Average loss: 5.4037\n",
            "Iteration: 2836; Percent complete: 70.9%; Average loss: 5.4911\n",
            "Iteration: 2837; Percent complete: 70.9%; Average loss: 5.5927\n",
            "Iteration: 2838; Percent complete: 71.0%; Average loss: 5.4197\n",
            "Iteration: 2839; Percent complete: 71.0%; Average loss: 5.5228\n",
            "Iteration: 2840; Percent complete: 71.0%; Average loss: 5.5855\n",
            "Iteration: 2841; Percent complete: 71.0%; Average loss: 5.2225\n",
            "Iteration: 2842; Percent complete: 71.0%; Average loss: 5.3509\n",
            "Iteration: 2843; Percent complete: 71.1%; Average loss: 5.7287\n",
            "Iteration: 2844; Percent complete: 71.1%; Average loss: 5.5339\n",
            "Iteration: 2845; Percent complete: 71.1%; Average loss: 5.5083\n",
            "Iteration: 2846; Percent complete: 71.2%; Average loss: 5.3706\n",
            "Iteration: 2847; Percent complete: 71.2%; Average loss: 5.4498\n",
            "Iteration: 2848; Percent complete: 71.2%; Average loss: 5.3007\n",
            "Iteration: 2849; Percent complete: 71.2%; Average loss: 5.3974\n",
            "Iteration: 2850; Percent complete: 71.2%; Average loss: 5.2271\n",
            "Iteration: 2851; Percent complete: 71.3%; Average loss: 5.4780\n",
            "Iteration: 2852; Percent complete: 71.3%; Average loss: 5.4211\n",
            "Iteration: 2853; Percent complete: 71.3%; Average loss: 5.5935\n",
            "Iteration: 2854; Percent complete: 71.4%; Average loss: 5.6285\n",
            "Iteration: 2855; Percent complete: 71.4%; Average loss: 5.5160\n",
            "Iteration: 2856; Percent complete: 71.4%; Average loss: 5.3640\n",
            "Iteration: 2857; Percent complete: 71.4%; Average loss: 5.5176\n",
            "Iteration: 2858; Percent complete: 71.5%; Average loss: 5.3937\n",
            "Iteration: 2859; Percent complete: 71.5%; Average loss: 5.5469\n",
            "Iteration: 2860; Percent complete: 71.5%; Average loss: 5.5344\n",
            "Iteration: 2861; Percent complete: 71.5%; Average loss: 5.3422\n",
            "Iteration: 2862; Percent complete: 71.5%; Average loss: 5.7188\n",
            "Iteration: 2863; Percent complete: 71.6%; Average loss: 5.2959\n",
            "Iteration: 2864; Percent complete: 71.6%; Average loss: 5.4922\n",
            "Iteration: 2865; Percent complete: 71.6%; Average loss: 5.5476\n",
            "Iteration: 2866; Percent complete: 71.7%; Average loss: 5.3402\n",
            "Iteration: 2867; Percent complete: 71.7%; Average loss: 5.2386\n",
            "Iteration: 2868; Percent complete: 71.7%; Average loss: 5.3641\n",
            "Iteration: 2869; Percent complete: 71.7%; Average loss: 5.3615\n",
            "Iteration: 2870; Percent complete: 71.8%; Average loss: 5.5556\n",
            "Iteration: 2871; Percent complete: 71.8%; Average loss: 5.4312\n",
            "Iteration: 2872; Percent complete: 71.8%; Average loss: 5.5381\n",
            "Iteration: 2873; Percent complete: 71.8%; Average loss: 5.3576\n",
            "Iteration: 2874; Percent complete: 71.9%; Average loss: 5.6693\n",
            "Iteration: 2875; Percent complete: 71.9%; Average loss: 5.2602\n",
            "Iteration: 2876; Percent complete: 71.9%; Average loss: 5.4028\n",
            "Iteration: 2877; Percent complete: 71.9%; Average loss: 5.4391\n",
            "Iteration: 2878; Percent complete: 72.0%; Average loss: 5.3493\n",
            "Iteration: 2879; Percent complete: 72.0%; Average loss: 5.4327\n",
            "Iteration: 2880; Percent complete: 72.0%; Average loss: 5.3330\n",
            "Iteration: 2881; Percent complete: 72.0%; Average loss: 5.3689\n",
            "Iteration: 2882; Percent complete: 72.0%; Average loss: 5.2953\n",
            "Iteration: 2883; Percent complete: 72.1%; Average loss: 5.4497\n",
            "Iteration: 2884; Percent complete: 72.1%; Average loss: 5.4147\n",
            "Iteration: 2885; Percent complete: 72.1%; Average loss: 5.4331\n",
            "Iteration: 2886; Percent complete: 72.2%; Average loss: 5.5601\n",
            "Iteration: 2887; Percent complete: 72.2%; Average loss: 5.4638\n",
            "Iteration: 2888; Percent complete: 72.2%; Average loss: 5.4558\n",
            "Iteration: 2889; Percent complete: 72.2%; Average loss: 5.4892\n",
            "Iteration: 2890; Percent complete: 72.2%; Average loss: 5.2721\n",
            "Iteration: 2891; Percent complete: 72.3%; Average loss: 5.3798\n",
            "Iteration: 2892; Percent complete: 72.3%; Average loss: 5.5247\n",
            "Iteration: 2893; Percent complete: 72.3%; Average loss: 5.5164\n",
            "Iteration: 2894; Percent complete: 72.4%; Average loss: 5.6067\n",
            "Iteration: 2895; Percent complete: 72.4%; Average loss: 5.6167\n",
            "Iteration: 2896; Percent complete: 72.4%; Average loss: 5.3182\n",
            "Iteration: 2897; Percent complete: 72.4%; Average loss: 5.4635\n",
            "Iteration: 2898; Percent complete: 72.5%; Average loss: 5.4303\n",
            "Iteration: 2899; Percent complete: 72.5%; Average loss: 5.7093\n",
            "Iteration: 2900; Percent complete: 72.5%; Average loss: 5.6437\n",
            "Iteration: 2901; Percent complete: 72.5%; Average loss: 5.4848\n",
            "Iteration: 2902; Percent complete: 72.5%; Average loss: 5.5074\n",
            "Iteration: 2903; Percent complete: 72.6%; Average loss: 5.3968\n",
            "Iteration: 2904; Percent complete: 72.6%; Average loss: 5.5444\n",
            "Iteration: 2905; Percent complete: 72.6%; Average loss: 5.4197\n",
            "Iteration: 2906; Percent complete: 72.7%; Average loss: 5.2703\n",
            "Iteration: 2907; Percent complete: 72.7%; Average loss: 5.6431\n",
            "Iteration: 2908; Percent complete: 72.7%; Average loss: 5.3579\n",
            "Iteration: 2909; Percent complete: 72.7%; Average loss: 5.3606\n",
            "Iteration: 2910; Percent complete: 72.8%; Average loss: 5.1545\n",
            "Iteration: 2911; Percent complete: 72.8%; Average loss: 5.6348\n",
            "Iteration: 2912; Percent complete: 72.8%; Average loss: 5.8873\n",
            "Iteration: 2913; Percent complete: 72.8%; Average loss: 5.7519\n",
            "Iteration: 2914; Percent complete: 72.9%; Average loss: 5.6266\n",
            "Iteration: 2915; Percent complete: 72.9%; Average loss: 5.4036\n",
            "Iteration: 2916; Percent complete: 72.9%; Average loss: 5.7883\n",
            "Iteration: 2917; Percent complete: 72.9%; Average loss: 5.7535\n",
            "Iteration: 2918; Percent complete: 73.0%; Average loss: 5.2709\n",
            "Iteration: 2919; Percent complete: 73.0%; Average loss: 5.5122\n",
            "Iteration: 2920; Percent complete: 73.0%; Average loss: 5.4542\n",
            "Iteration: 2921; Percent complete: 73.0%; Average loss: 5.6160\n",
            "Iteration: 2922; Percent complete: 73.0%; Average loss: 5.3989\n",
            "Iteration: 2923; Percent complete: 73.1%; Average loss: 5.6978\n",
            "Iteration: 2924; Percent complete: 73.1%; Average loss: 5.3142\n",
            "Iteration: 2925; Percent complete: 73.1%; Average loss: 5.5015\n",
            "Iteration: 2926; Percent complete: 73.2%; Average loss: 5.6321\n",
            "Iteration: 2927; Percent complete: 73.2%; Average loss: 5.5133\n",
            "Iteration: 2928; Percent complete: 73.2%; Average loss: 5.4445\n",
            "Iteration: 2929; Percent complete: 73.2%; Average loss: 5.5046\n",
            "Iteration: 2930; Percent complete: 73.2%; Average loss: 5.5246\n",
            "Iteration: 2931; Percent complete: 73.3%; Average loss: 5.4015\n",
            "Iteration: 2932; Percent complete: 73.3%; Average loss: 5.0620\n",
            "Iteration: 2933; Percent complete: 73.3%; Average loss: 5.5205\n",
            "Iteration: 2934; Percent complete: 73.4%; Average loss: 5.4562\n",
            "Iteration: 2935; Percent complete: 73.4%; Average loss: 5.6031\n",
            "Iteration: 2936; Percent complete: 73.4%; Average loss: 5.4543\n",
            "Iteration: 2937; Percent complete: 73.4%; Average loss: 5.1633\n",
            "Iteration: 2938; Percent complete: 73.5%; Average loss: 5.5138\n",
            "Iteration: 2939; Percent complete: 73.5%; Average loss: 5.6664\n",
            "Iteration: 2940; Percent complete: 73.5%; Average loss: 5.3869\n",
            "Iteration: 2941; Percent complete: 73.5%; Average loss: 5.5299\n",
            "Iteration: 2942; Percent complete: 73.6%; Average loss: 5.2315\n",
            "Iteration: 2943; Percent complete: 73.6%; Average loss: 5.3319\n",
            "Iteration: 2944; Percent complete: 73.6%; Average loss: 5.4008\n",
            "Iteration: 2945; Percent complete: 73.6%; Average loss: 5.5886\n",
            "Iteration: 2946; Percent complete: 73.7%; Average loss: 5.4709\n",
            "Iteration: 2947; Percent complete: 73.7%; Average loss: 5.6282\n",
            "Iteration: 2948; Percent complete: 73.7%; Average loss: 5.5479\n",
            "Iteration: 2949; Percent complete: 73.7%; Average loss: 5.5044\n",
            "Iteration: 2950; Percent complete: 73.8%; Average loss: 5.4676\n",
            "Iteration: 2951; Percent complete: 73.8%; Average loss: 5.3455\n",
            "Iteration: 2952; Percent complete: 73.8%; Average loss: 5.2792\n",
            "Iteration: 2953; Percent complete: 73.8%; Average loss: 5.4857\n",
            "Iteration: 2954; Percent complete: 73.9%; Average loss: 5.4199\n",
            "Iteration: 2955; Percent complete: 73.9%; Average loss: 5.4561\n",
            "Iteration: 2956; Percent complete: 73.9%; Average loss: 5.4568\n",
            "Iteration: 2957; Percent complete: 73.9%; Average loss: 5.3988\n",
            "Iteration: 2958; Percent complete: 74.0%; Average loss: 5.5343\n",
            "Iteration: 2959; Percent complete: 74.0%; Average loss: 5.2783\n",
            "Iteration: 2960; Percent complete: 74.0%; Average loss: 5.5506\n",
            "Iteration: 2961; Percent complete: 74.0%; Average loss: 5.4992\n",
            "Iteration: 2962; Percent complete: 74.1%; Average loss: 5.4362\n",
            "Iteration: 2963; Percent complete: 74.1%; Average loss: 5.6153\n",
            "Iteration: 2964; Percent complete: 74.1%; Average loss: 5.4065\n",
            "Iteration: 2965; Percent complete: 74.1%; Average loss: 5.6893\n",
            "Iteration: 2966; Percent complete: 74.2%; Average loss: 5.4712\n",
            "Iteration: 2967; Percent complete: 74.2%; Average loss: 5.2806\n",
            "Iteration: 2968; Percent complete: 74.2%; Average loss: 5.3858\n",
            "Iteration: 2969; Percent complete: 74.2%; Average loss: 5.6380\n",
            "Iteration: 2970; Percent complete: 74.2%; Average loss: 5.3910\n",
            "Iteration: 2971; Percent complete: 74.3%; Average loss: 5.3349\n",
            "Iteration: 2972; Percent complete: 74.3%; Average loss: 5.2194\n",
            "Iteration: 2973; Percent complete: 74.3%; Average loss: 5.5444\n",
            "Iteration: 2974; Percent complete: 74.4%; Average loss: 5.5455\n",
            "Iteration: 2975; Percent complete: 74.4%; Average loss: 5.5952\n",
            "Iteration: 2976; Percent complete: 74.4%; Average loss: 5.3759\n",
            "Iteration: 2977; Percent complete: 74.4%; Average loss: 5.4981\n",
            "Iteration: 2978; Percent complete: 74.5%; Average loss: 5.3857\n",
            "Iteration: 2979; Percent complete: 74.5%; Average loss: 5.5468\n",
            "Iteration: 2980; Percent complete: 74.5%; Average loss: 5.5028\n",
            "Iteration: 2981; Percent complete: 74.5%; Average loss: 5.4265\n",
            "Iteration: 2982; Percent complete: 74.6%; Average loss: 5.1607\n",
            "Iteration: 2983; Percent complete: 74.6%; Average loss: 5.6277\n",
            "Iteration: 2984; Percent complete: 74.6%; Average loss: 5.4993\n",
            "Iteration: 2985; Percent complete: 74.6%; Average loss: 5.4950\n",
            "Iteration: 2986; Percent complete: 74.7%; Average loss: 5.5157\n",
            "Iteration: 2987; Percent complete: 74.7%; Average loss: 5.5005\n",
            "Iteration: 2988; Percent complete: 74.7%; Average loss: 5.4191\n",
            "Iteration: 2989; Percent complete: 74.7%; Average loss: 5.5444\n",
            "Iteration: 2990; Percent complete: 74.8%; Average loss: 5.2817\n",
            "Iteration: 2991; Percent complete: 74.8%; Average loss: 5.4647\n",
            "Iteration: 2992; Percent complete: 74.8%; Average loss: 5.4760\n",
            "Iteration: 2993; Percent complete: 74.8%; Average loss: 5.4782\n",
            "Iteration: 2994; Percent complete: 74.9%; Average loss: 5.3685\n",
            "Iteration: 2995; Percent complete: 74.9%; Average loss: 5.3774\n",
            "Iteration: 2996; Percent complete: 74.9%; Average loss: 5.4630\n",
            "Iteration: 2997; Percent complete: 74.9%; Average loss: 5.3333\n",
            "Iteration: 2998; Percent complete: 75.0%; Average loss: 5.4702\n",
            "Iteration: 2999; Percent complete: 75.0%; Average loss: 5.2782\n",
            "Iteration: 3000; Percent complete: 75.0%; Average loss: 5.6235\n",
            "Iteration: 3001; Percent complete: 75.0%; Average loss: 5.1901\n",
            "Iteration: 3002; Percent complete: 75.0%; Average loss: 5.7516\n",
            "Iteration: 3003; Percent complete: 75.1%; Average loss: 5.2924\n",
            "Iteration: 3004; Percent complete: 75.1%; Average loss: 5.5214\n",
            "Iteration: 3005; Percent complete: 75.1%; Average loss: 5.3532\n",
            "Iteration: 3006; Percent complete: 75.1%; Average loss: 5.4100\n",
            "Iteration: 3007; Percent complete: 75.2%; Average loss: 5.4527\n",
            "Iteration: 3008; Percent complete: 75.2%; Average loss: 5.4545\n",
            "Iteration: 3009; Percent complete: 75.2%; Average loss: 5.2622\n",
            "Iteration: 3010; Percent complete: 75.2%; Average loss: 5.4206\n",
            "Iteration: 3011; Percent complete: 75.3%; Average loss: 5.3317\n",
            "Iteration: 3012; Percent complete: 75.3%; Average loss: 5.6383\n",
            "Iteration: 3013; Percent complete: 75.3%; Average loss: 5.6594\n",
            "Iteration: 3014; Percent complete: 75.3%; Average loss: 5.4032\n",
            "Iteration: 3015; Percent complete: 75.4%; Average loss: 5.3954\n",
            "Iteration: 3016; Percent complete: 75.4%; Average loss: 5.3138\n",
            "Iteration: 3017; Percent complete: 75.4%; Average loss: 5.4897\n",
            "Iteration: 3018; Percent complete: 75.4%; Average loss: 5.3936\n",
            "Iteration: 3019; Percent complete: 75.5%; Average loss: 5.5378\n",
            "Iteration: 3020; Percent complete: 75.5%; Average loss: 5.4165\n",
            "Iteration: 3021; Percent complete: 75.5%; Average loss: 5.5053\n",
            "Iteration: 3022; Percent complete: 75.5%; Average loss: 5.2807\n",
            "Iteration: 3023; Percent complete: 75.6%; Average loss: 5.3998\n",
            "Iteration: 3024; Percent complete: 75.6%; Average loss: 5.3230\n",
            "Iteration: 3025; Percent complete: 75.6%; Average loss: 5.5018\n",
            "Iteration: 3026; Percent complete: 75.6%; Average loss: 5.3278\n",
            "Iteration: 3027; Percent complete: 75.7%; Average loss: 5.3190\n",
            "Iteration: 3028; Percent complete: 75.7%; Average loss: 5.4198\n",
            "Iteration: 3029; Percent complete: 75.7%; Average loss: 5.3631\n",
            "Iteration: 3030; Percent complete: 75.8%; Average loss: 5.5239\n",
            "Iteration: 3031; Percent complete: 75.8%; Average loss: 5.5858\n",
            "Iteration: 3032; Percent complete: 75.8%; Average loss: 5.4249\n",
            "Iteration: 3033; Percent complete: 75.8%; Average loss: 5.3797\n",
            "Iteration: 3034; Percent complete: 75.8%; Average loss: 5.3746\n",
            "Iteration: 3035; Percent complete: 75.9%; Average loss: 5.4879\n",
            "Iteration: 3036; Percent complete: 75.9%; Average loss: 5.2455\n",
            "Iteration: 3037; Percent complete: 75.9%; Average loss: 5.6208\n",
            "Iteration: 3038; Percent complete: 75.9%; Average loss: 5.3681\n",
            "Iteration: 3039; Percent complete: 76.0%; Average loss: 5.4637\n",
            "Iteration: 3040; Percent complete: 76.0%; Average loss: 5.2644\n",
            "Iteration: 3041; Percent complete: 76.0%; Average loss: 5.4635\n",
            "Iteration: 3042; Percent complete: 76.0%; Average loss: 5.6491\n",
            "Iteration: 3043; Percent complete: 76.1%; Average loss: 5.4285\n",
            "Iteration: 3044; Percent complete: 76.1%; Average loss: 5.2631\n",
            "Iteration: 3045; Percent complete: 76.1%; Average loss: 5.1263\n",
            "Iteration: 3046; Percent complete: 76.1%; Average loss: 5.3947\n",
            "Iteration: 3047; Percent complete: 76.2%; Average loss: 5.4551\n",
            "Iteration: 3048; Percent complete: 76.2%; Average loss: 5.3765\n",
            "Iteration: 3049; Percent complete: 76.2%; Average loss: 5.3767\n",
            "Iteration: 3050; Percent complete: 76.2%; Average loss: 5.6050\n",
            "Iteration: 3051; Percent complete: 76.3%; Average loss: 5.3994\n",
            "Iteration: 3052; Percent complete: 76.3%; Average loss: 5.3831\n",
            "Iteration: 3053; Percent complete: 76.3%; Average loss: 5.5729\n",
            "Iteration: 3054; Percent complete: 76.3%; Average loss: 5.5438\n",
            "Iteration: 3055; Percent complete: 76.4%; Average loss: 5.4719\n",
            "Iteration: 3056; Percent complete: 76.4%; Average loss: 5.6140\n",
            "Iteration: 3057; Percent complete: 76.4%; Average loss: 5.3610\n",
            "Iteration: 3058; Percent complete: 76.4%; Average loss: 5.4447\n",
            "Iteration: 3059; Percent complete: 76.5%; Average loss: 5.4598\n",
            "Iteration: 3060; Percent complete: 76.5%; Average loss: 5.4214\n",
            "Iteration: 3061; Percent complete: 76.5%; Average loss: 5.5307\n",
            "Iteration: 3062; Percent complete: 76.5%; Average loss: 5.3688\n",
            "Iteration: 3063; Percent complete: 76.6%; Average loss: 5.3092\n",
            "Iteration: 3064; Percent complete: 76.6%; Average loss: 5.7496\n",
            "Iteration: 3065; Percent complete: 76.6%; Average loss: 5.4716\n",
            "Iteration: 3066; Percent complete: 76.6%; Average loss: 5.5431\n",
            "Iteration: 3067; Percent complete: 76.7%; Average loss: 5.4082\n",
            "Iteration: 3068; Percent complete: 76.7%; Average loss: 5.2986\n",
            "Iteration: 3069; Percent complete: 76.7%; Average loss: 5.4413\n",
            "Iteration: 3070; Percent complete: 76.8%; Average loss: 5.4228\n",
            "Iteration: 3071; Percent complete: 76.8%; Average loss: 5.2282\n",
            "Iteration: 3072; Percent complete: 76.8%; Average loss: 5.3575\n",
            "Iteration: 3073; Percent complete: 76.8%; Average loss: 5.5761\n",
            "Iteration: 3074; Percent complete: 76.8%; Average loss: 5.2915\n",
            "Iteration: 3075; Percent complete: 76.9%; Average loss: 5.4060\n",
            "Iteration: 3076; Percent complete: 76.9%; Average loss: 5.5182\n",
            "Iteration: 3077; Percent complete: 76.9%; Average loss: 5.2667\n",
            "Iteration: 3078; Percent complete: 77.0%; Average loss: 5.4330\n",
            "Iteration: 3079; Percent complete: 77.0%; Average loss: 5.3522\n",
            "Iteration: 3080; Percent complete: 77.0%; Average loss: 5.5551\n",
            "Iteration: 3081; Percent complete: 77.0%; Average loss: 5.3044\n",
            "Iteration: 3082; Percent complete: 77.0%; Average loss: 5.2630\n",
            "Iteration: 3083; Percent complete: 77.1%; Average loss: 5.2649\n",
            "Iteration: 3084; Percent complete: 77.1%; Average loss: 5.3826\n",
            "Iteration: 3085; Percent complete: 77.1%; Average loss: 5.3547\n",
            "Iteration: 3086; Percent complete: 77.1%; Average loss: 5.4844\n",
            "Iteration: 3087; Percent complete: 77.2%; Average loss: 5.1473\n",
            "Iteration: 3088; Percent complete: 77.2%; Average loss: 5.4903\n",
            "Iteration: 3089; Percent complete: 77.2%; Average loss: 5.4375\n",
            "Iteration: 3090; Percent complete: 77.2%; Average loss: 5.3257\n",
            "Iteration: 3091; Percent complete: 77.3%; Average loss: 5.6232\n",
            "Iteration: 3092; Percent complete: 77.3%; Average loss: 5.5947\n",
            "Iteration: 3093; Percent complete: 77.3%; Average loss: 5.4244\n",
            "Iteration: 3094; Percent complete: 77.3%; Average loss: 5.4885\n",
            "Iteration: 3095; Percent complete: 77.4%; Average loss: 5.5084\n",
            "Iteration: 3096; Percent complete: 77.4%; Average loss: 5.3243\n",
            "Iteration: 3097; Percent complete: 77.4%; Average loss: 5.4317\n",
            "Iteration: 3098; Percent complete: 77.5%; Average loss: 5.4855\n",
            "Iteration: 3099; Percent complete: 77.5%; Average loss: 5.1751\n",
            "Iteration: 3100; Percent complete: 77.5%; Average loss: 5.6897\n",
            "Iteration: 3101; Percent complete: 77.5%; Average loss: 5.4228\n",
            "Iteration: 3102; Percent complete: 77.5%; Average loss: 5.4936\n",
            "Iteration: 3103; Percent complete: 77.6%; Average loss: 5.3916\n",
            "Iteration: 3104; Percent complete: 77.6%; Average loss: 5.4903\n",
            "Iteration: 3105; Percent complete: 77.6%; Average loss: 5.0635\n",
            "Iteration: 3106; Percent complete: 77.6%; Average loss: 5.3638\n",
            "Iteration: 3107; Percent complete: 77.7%; Average loss: 5.2297\n",
            "Iteration: 3108; Percent complete: 77.7%; Average loss: 5.4776\n",
            "Iteration: 3109; Percent complete: 77.7%; Average loss: 5.6018\n",
            "Iteration: 3110; Percent complete: 77.8%; Average loss: 5.5159\n",
            "Iteration: 3111; Percent complete: 77.8%; Average loss: 5.2157\n",
            "Iteration: 3112; Percent complete: 77.8%; Average loss: 5.2199\n",
            "Iteration: 3113; Percent complete: 77.8%; Average loss: 5.5870\n",
            "Iteration: 3114; Percent complete: 77.8%; Average loss: 5.6198\n",
            "Iteration: 3115; Percent complete: 77.9%; Average loss: 5.2146\n",
            "Iteration: 3116; Percent complete: 77.9%; Average loss: 5.4424\n",
            "Iteration: 3117; Percent complete: 77.9%; Average loss: 5.3526\n",
            "Iteration: 3118; Percent complete: 78.0%; Average loss: 5.3664\n",
            "Iteration: 3119; Percent complete: 78.0%; Average loss: 5.3803\n",
            "Iteration: 3120; Percent complete: 78.0%; Average loss: 5.5342\n",
            "Iteration: 3121; Percent complete: 78.0%; Average loss: 5.5039\n",
            "Iteration: 3122; Percent complete: 78.0%; Average loss: 5.2784\n",
            "Iteration: 3123; Percent complete: 78.1%; Average loss: 5.2769\n",
            "Iteration: 3124; Percent complete: 78.1%; Average loss: 5.4271\n",
            "Iteration: 3125; Percent complete: 78.1%; Average loss: 5.4571\n",
            "Iteration: 3126; Percent complete: 78.1%; Average loss: 5.5385\n",
            "Iteration: 3127; Percent complete: 78.2%; Average loss: 5.4714\n",
            "Iteration: 3128; Percent complete: 78.2%; Average loss: 5.6963\n",
            "Iteration: 3129; Percent complete: 78.2%; Average loss: 5.3313\n",
            "Iteration: 3130; Percent complete: 78.2%; Average loss: 5.2644\n",
            "Iteration: 3131; Percent complete: 78.3%; Average loss: 5.4205\n",
            "Iteration: 3132; Percent complete: 78.3%; Average loss: 5.3762\n",
            "Iteration: 3133; Percent complete: 78.3%; Average loss: 5.3426\n",
            "Iteration: 3134; Percent complete: 78.3%; Average loss: 5.4252\n",
            "Iteration: 3135; Percent complete: 78.4%; Average loss: 5.5776\n",
            "Iteration: 3136; Percent complete: 78.4%; Average loss: 5.5807\n",
            "Iteration: 3137; Percent complete: 78.4%; Average loss: 5.1805\n",
            "Iteration: 3138; Percent complete: 78.5%; Average loss: 5.2393\n",
            "Iteration: 3139; Percent complete: 78.5%; Average loss: 5.6016\n",
            "Iteration: 3140; Percent complete: 78.5%; Average loss: 5.2576\n",
            "Iteration: 3141; Percent complete: 78.5%; Average loss: 5.7114\n",
            "Iteration: 3142; Percent complete: 78.5%; Average loss: 5.5844\n",
            "Iteration: 3143; Percent complete: 78.6%; Average loss: 5.4154\n",
            "Iteration: 3144; Percent complete: 78.6%; Average loss: 5.1068\n",
            "Iteration: 3145; Percent complete: 78.6%; Average loss: 5.3945\n",
            "Iteration: 3146; Percent complete: 78.6%; Average loss: 5.3540\n",
            "Iteration: 3147; Percent complete: 78.7%; Average loss: 5.3252\n",
            "Iteration: 3148; Percent complete: 78.7%; Average loss: 5.4183\n",
            "Iteration: 3149; Percent complete: 78.7%; Average loss: 5.4001\n",
            "Iteration: 3150; Percent complete: 78.8%; Average loss: 5.2262\n",
            "Iteration: 3151; Percent complete: 78.8%; Average loss: 5.5973\n",
            "Iteration: 3152; Percent complete: 78.8%; Average loss: 5.3623\n",
            "Iteration: 3153; Percent complete: 78.8%; Average loss: 5.4388\n",
            "Iteration: 3154; Percent complete: 78.8%; Average loss: 5.3390\n",
            "Iteration: 3155; Percent complete: 78.9%; Average loss: 5.1913\n",
            "Iteration: 3156; Percent complete: 78.9%; Average loss: 5.5011\n",
            "Iteration: 3157; Percent complete: 78.9%; Average loss: 5.4746\n",
            "Iteration: 3158; Percent complete: 79.0%; Average loss: 5.4788\n",
            "Iteration: 3159; Percent complete: 79.0%; Average loss: 5.2556\n",
            "Iteration: 3160; Percent complete: 79.0%; Average loss: 5.2244\n",
            "Iteration: 3161; Percent complete: 79.0%; Average loss: 5.3431\n",
            "Iteration: 3162; Percent complete: 79.0%; Average loss: 5.2270\n",
            "Iteration: 3163; Percent complete: 79.1%; Average loss: 5.3840\n",
            "Iteration: 3164; Percent complete: 79.1%; Average loss: 5.3172\n",
            "Iteration: 3165; Percent complete: 79.1%; Average loss: 5.3155\n",
            "Iteration: 3166; Percent complete: 79.1%; Average loss: 5.3325\n",
            "Iteration: 3167; Percent complete: 79.2%; Average loss: 5.3815\n",
            "Iteration: 3168; Percent complete: 79.2%; Average loss: 5.5193\n",
            "Iteration: 3169; Percent complete: 79.2%; Average loss: 5.2193\n",
            "Iteration: 3170; Percent complete: 79.2%; Average loss: 5.4451\n",
            "Iteration: 3171; Percent complete: 79.3%; Average loss: 5.5231\n",
            "Iteration: 3172; Percent complete: 79.3%; Average loss: 5.3266\n",
            "Iteration: 3173; Percent complete: 79.3%; Average loss: 5.3523\n",
            "Iteration: 3174; Percent complete: 79.3%; Average loss: 5.5013\n",
            "Iteration: 3175; Percent complete: 79.4%; Average loss: 5.3502\n",
            "Iteration: 3176; Percent complete: 79.4%; Average loss: 5.4247\n",
            "Iteration: 3177; Percent complete: 79.4%; Average loss: 5.3543\n",
            "Iteration: 3178; Percent complete: 79.5%; Average loss: 5.4143\n",
            "Iteration: 3179; Percent complete: 79.5%; Average loss: 5.3903\n",
            "Iteration: 3180; Percent complete: 79.5%; Average loss: 5.4578\n",
            "Iteration: 3181; Percent complete: 79.5%; Average loss: 5.5114\n",
            "Iteration: 3182; Percent complete: 79.5%; Average loss: 5.3107\n",
            "Iteration: 3183; Percent complete: 79.6%; Average loss: 5.5180\n",
            "Iteration: 3184; Percent complete: 79.6%; Average loss: 5.2077\n",
            "Iteration: 3185; Percent complete: 79.6%; Average loss: 5.5895\n",
            "Iteration: 3186; Percent complete: 79.7%; Average loss: 5.2591\n",
            "Iteration: 3187; Percent complete: 79.7%; Average loss: 5.3913\n",
            "Iteration: 3188; Percent complete: 79.7%; Average loss: 5.1650\n",
            "Iteration: 3189; Percent complete: 79.7%; Average loss: 5.4021\n",
            "Iteration: 3190; Percent complete: 79.8%; Average loss: 5.1799\n",
            "Iteration: 3191; Percent complete: 79.8%; Average loss: 5.1987\n",
            "Iteration: 3192; Percent complete: 79.8%; Average loss: 5.5562\n",
            "Iteration: 3193; Percent complete: 79.8%; Average loss: 5.7606\n",
            "Iteration: 3194; Percent complete: 79.8%; Average loss: 5.3721\n",
            "Iteration: 3195; Percent complete: 79.9%; Average loss: 5.5088\n",
            "Iteration: 3196; Percent complete: 79.9%; Average loss: 5.3612\n",
            "Iteration: 3197; Percent complete: 79.9%; Average loss: 5.4518\n",
            "Iteration: 3198; Percent complete: 80.0%; Average loss: 5.0199\n",
            "Iteration: 3199; Percent complete: 80.0%; Average loss: 5.3934\n",
            "Iteration: 3200; Percent complete: 80.0%; Average loss: 5.4337\n",
            "Iteration: 3201; Percent complete: 80.0%; Average loss: 5.3005\n",
            "Iteration: 3202; Percent complete: 80.0%; Average loss: 5.3395\n",
            "Iteration: 3203; Percent complete: 80.1%; Average loss: 5.3532\n",
            "Iteration: 3204; Percent complete: 80.1%; Average loss: 5.4457\n",
            "Iteration: 3205; Percent complete: 80.1%; Average loss: 5.5712\n",
            "Iteration: 3206; Percent complete: 80.2%; Average loss: 5.3005\n",
            "Iteration: 3207; Percent complete: 80.2%; Average loss: 5.5399\n",
            "Iteration: 3208; Percent complete: 80.2%; Average loss: 5.4284\n",
            "Iteration: 3209; Percent complete: 80.2%; Average loss: 5.5300\n",
            "Iteration: 3210; Percent complete: 80.2%; Average loss: 5.3165\n",
            "Iteration: 3211; Percent complete: 80.3%; Average loss: 5.4428\n",
            "Iteration: 3212; Percent complete: 80.3%; Average loss: 5.1803\n",
            "Iteration: 3213; Percent complete: 80.3%; Average loss: 5.4258\n",
            "Iteration: 3214; Percent complete: 80.3%; Average loss: 5.0191\n",
            "Iteration: 3215; Percent complete: 80.4%; Average loss: 5.4581\n",
            "Iteration: 3216; Percent complete: 80.4%; Average loss: 5.5675\n",
            "Iteration: 3217; Percent complete: 80.4%; Average loss: 5.2898\n",
            "Iteration: 3218; Percent complete: 80.5%; Average loss: 5.1954\n",
            "Iteration: 3219; Percent complete: 80.5%; Average loss: 5.5230\n",
            "Iteration: 3220; Percent complete: 80.5%; Average loss: 5.4668\n",
            "Iteration: 3221; Percent complete: 80.5%; Average loss: 5.3057\n",
            "Iteration: 3222; Percent complete: 80.5%; Average loss: 5.3071\n",
            "Iteration: 3223; Percent complete: 80.6%; Average loss: 5.3530\n",
            "Iteration: 3224; Percent complete: 80.6%; Average loss: 5.5079\n",
            "Iteration: 3225; Percent complete: 80.6%; Average loss: 5.3667\n",
            "Iteration: 3226; Percent complete: 80.7%; Average loss: 5.5420\n",
            "Iteration: 3227; Percent complete: 80.7%; Average loss: 5.2986\n",
            "Iteration: 3228; Percent complete: 80.7%; Average loss: 5.3549\n",
            "Iteration: 3229; Percent complete: 80.7%; Average loss: 5.1765\n",
            "Iteration: 3230; Percent complete: 80.8%; Average loss: 5.3708\n",
            "Iteration: 3231; Percent complete: 80.8%; Average loss: 5.4132\n",
            "Iteration: 3232; Percent complete: 80.8%; Average loss: 5.4788\n",
            "Iteration: 3233; Percent complete: 80.8%; Average loss: 5.3379\n",
            "Iteration: 3234; Percent complete: 80.8%; Average loss: 5.2027\n",
            "Iteration: 3235; Percent complete: 80.9%; Average loss: 5.4611\n",
            "Iteration: 3236; Percent complete: 80.9%; Average loss: 5.4175\n",
            "Iteration: 3237; Percent complete: 80.9%; Average loss: 5.2976\n",
            "Iteration: 3238; Percent complete: 81.0%; Average loss: 5.5414\n",
            "Iteration: 3239; Percent complete: 81.0%; Average loss: 5.3432\n",
            "Iteration: 3240; Percent complete: 81.0%; Average loss: 5.2392\n",
            "Iteration: 3241; Percent complete: 81.0%; Average loss: 5.4155\n",
            "Iteration: 3242; Percent complete: 81.0%; Average loss: 5.2306\n",
            "Iteration: 3243; Percent complete: 81.1%; Average loss: 5.5646\n",
            "Iteration: 3244; Percent complete: 81.1%; Average loss: 5.5226\n",
            "Iteration: 3245; Percent complete: 81.1%; Average loss: 5.3805\n",
            "Iteration: 3246; Percent complete: 81.2%; Average loss: 5.5328\n",
            "Iteration: 3247; Percent complete: 81.2%; Average loss: 5.3725\n",
            "Iteration: 3248; Percent complete: 81.2%; Average loss: 5.3035\n",
            "Iteration: 3249; Percent complete: 81.2%; Average loss: 5.2288\n",
            "Iteration: 3250; Percent complete: 81.2%; Average loss: 5.4293\n",
            "Iteration: 3251; Percent complete: 81.3%; Average loss: 5.5354\n",
            "Iteration: 3252; Percent complete: 81.3%; Average loss: 5.5684\n",
            "Iteration: 3253; Percent complete: 81.3%; Average loss: 5.4144\n",
            "Iteration: 3254; Percent complete: 81.3%; Average loss: 5.3505\n",
            "Iteration: 3255; Percent complete: 81.4%; Average loss: 5.3019\n",
            "Iteration: 3256; Percent complete: 81.4%; Average loss: 5.4690\n",
            "Iteration: 3257; Percent complete: 81.4%; Average loss: 5.4159\n",
            "Iteration: 3258; Percent complete: 81.5%; Average loss: 5.2729\n",
            "Iteration: 3259; Percent complete: 81.5%; Average loss: 5.1873\n",
            "Iteration: 3260; Percent complete: 81.5%; Average loss: 5.4013\n",
            "Iteration: 3261; Percent complete: 81.5%; Average loss: 5.2291\n",
            "Iteration: 3262; Percent complete: 81.5%; Average loss: 5.5305\n",
            "Iteration: 3263; Percent complete: 81.6%; Average loss: 5.4838\n",
            "Iteration: 3264; Percent complete: 81.6%; Average loss: 5.2650\n",
            "Iteration: 3265; Percent complete: 81.6%; Average loss: 5.6238\n",
            "Iteration: 3266; Percent complete: 81.7%; Average loss: 5.4732\n",
            "Iteration: 3267; Percent complete: 81.7%; Average loss: 5.3553\n",
            "Iteration: 3268; Percent complete: 81.7%; Average loss: 5.4792\n",
            "Iteration: 3269; Percent complete: 81.7%; Average loss: 5.2732\n",
            "Iteration: 3270; Percent complete: 81.8%; Average loss: 5.5920\n",
            "Iteration: 3271; Percent complete: 81.8%; Average loss: 5.3921\n",
            "Iteration: 3272; Percent complete: 81.8%; Average loss: 5.5564\n",
            "Iteration: 3273; Percent complete: 81.8%; Average loss: 5.5442\n",
            "Iteration: 3274; Percent complete: 81.8%; Average loss: 5.3446\n",
            "Iteration: 3275; Percent complete: 81.9%; Average loss: 5.5720\n",
            "Iteration: 3276; Percent complete: 81.9%; Average loss: 5.3935\n",
            "Iteration: 3277; Percent complete: 81.9%; Average loss: 5.4169\n",
            "Iteration: 3278; Percent complete: 82.0%; Average loss: 5.2965\n",
            "Iteration: 3279; Percent complete: 82.0%; Average loss: 5.3113\n",
            "Iteration: 3280; Percent complete: 82.0%; Average loss: 5.4791\n",
            "Iteration: 3281; Percent complete: 82.0%; Average loss: 5.1926\n",
            "Iteration: 3282; Percent complete: 82.0%; Average loss: 5.3990\n",
            "Iteration: 3283; Percent complete: 82.1%; Average loss: 5.2448\n",
            "Iteration: 3284; Percent complete: 82.1%; Average loss: 5.2852\n",
            "Iteration: 3285; Percent complete: 82.1%; Average loss: 5.3944\n",
            "Iteration: 3286; Percent complete: 82.2%; Average loss: 5.3359\n",
            "Iteration: 3287; Percent complete: 82.2%; Average loss: 5.4180\n",
            "Iteration: 3288; Percent complete: 82.2%; Average loss: 5.1052\n",
            "Iteration: 3289; Percent complete: 82.2%; Average loss: 5.1206\n",
            "Iteration: 3290; Percent complete: 82.2%; Average loss: 5.4233\n",
            "Iteration: 3291; Percent complete: 82.3%; Average loss: 5.3691\n",
            "Iteration: 3292; Percent complete: 82.3%; Average loss: 5.2690\n",
            "Iteration: 3293; Percent complete: 82.3%; Average loss: 5.4265\n",
            "Iteration: 3294; Percent complete: 82.3%; Average loss: 5.3523\n",
            "Iteration: 3295; Percent complete: 82.4%; Average loss: 5.4005\n",
            "Iteration: 3296; Percent complete: 82.4%; Average loss: 5.4570\n",
            "Iteration: 3297; Percent complete: 82.4%; Average loss: 5.3697\n",
            "Iteration: 3298; Percent complete: 82.5%; Average loss: 5.4953\n",
            "Iteration: 3299; Percent complete: 82.5%; Average loss: 5.1596\n",
            "Iteration: 3300; Percent complete: 82.5%; Average loss: 5.5519\n",
            "Iteration: 3301; Percent complete: 82.5%; Average loss: 5.5740\n",
            "Iteration: 3302; Percent complete: 82.5%; Average loss: 5.4410\n",
            "Iteration: 3303; Percent complete: 82.6%; Average loss: 5.3161\n",
            "Iteration: 3304; Percent complete: 82.6%; Average loss: 5.3676\n",
            "Iteration: 3305; Percent complete: 82.6%; Average loss: 5.3566\n",
            "Iteration: 3306; Percent complete: 82.7%; Average loss: 5.1954\n",
            "Iteration: 3307; Percent complete: 82.7%; Average loss: 5.2094\n",
            "Iteration: 3308; Percent complete: 82.7%; Average loss: 5.1260\n",
            "Iteration: 3309; Percent complete: 82.7%; Average loss: 5.3928\n",
            "Iteration: 3310; Percent complete: 82.8%; Average loss: 5.2702\n",
            "Iteration: 3311; Percent complete: 82.8%; Average loss: 5.3839\n",
            "Iteration: 3312; Percent complete: 82.8%; Average loss: 5.1904\n",
            "Iteration: 3313; Percent complete: 82.8%; Average loss: 5.2513\n",
            "Iteration: 3314; Percent complete: 82.8%; Average loss: 5.3756\n",
            "Iteration: 3315; Percent complete: 82.9%; Average loss: 5.2199\n",
            "Iteration: 3316; Percent complete: 82.9%; Average loss: 5.2799\n",
            "Iteration: 3317; Percent complete: 82.9%; Average loss: 5.4085\n",
            "Iteration: 3318; Percent complete: 83.0%; Average loss: 5.1015\n",
            "Iteration: 3319; Percent complete: 83.0%; Average loss: 5.3727\n",
            "Iteration: 3320; Percent complete: 83.0%; Average loss: 5.4445\n",
            "Iteration: 3321; Percent complete: 83.0%; Average loss: 5.3663\n",
            "Iteration: 3322; Percent complete: 83.0%; Average loss: 5.3403\n",
            "Iteration: 3323; Percent complete: 83.1%; Average loss: 5.2094\n",
            "Iteration: 3324; Percent complete: 83.1%; Average loss: 5.3205\n",
            "Iteration: 3325; Percent complete: 83.1%; Average loss: 5.0651\n",
            "Iteration: 3326; Percent complete: 83.2%; Average loss: 5.5994\n",
            "Iteration: 3327; Percent complete: 83.2%; Average loss: 5.4218\n",
            "Iteration: 3328; Percent complete: 83.2%; Average loss: 5.4657\n",
            "Iteration: 3329; Percent complete: 83.2%; Average loss: 5.3507\n",
            "Iteration: 3330; Percent complete: 83.2%; Average loss: 5.3753\n",
            "Iteration: 3331; Percent complete: 83.3%; Average loss: 5.0985\n",
            "Iteration: 3332; Percent complete: 83.3%; Average loss: 5.6260\n",
            "Iteration: 3333; Percent complete: 83.3%; Average loss: 5.5106\n",
            "Iteration: 3334; Percent complete: 83.4%; Average loss: 5.3501\n",
            "Iteration: 3335; Percent complete: 83.4%; Average loss: 5.4727\n",
            "Iteration: 3336; Percent complete: 83.4%; Average loss: 5.2888\n",
            "Iteration: 3337; Percent complete: 83.4%; Average loss: 5.3052\n",
            "Iteration: 3338; Percent complete: 83.5%; Average loss: 5.5635\n",
            "Iteration: 3339; Percent complete: 83.5%; Average loss: 4.9911\n",
            "Iteration: 3340; Percent complete: 83.5%; Average loss: 5.4218\n",
            "Iteration: 3341; Percent complete: 83.5%; Average loss: 5.1155\n",
            "Iteration: 3342; Percent complete: 83.5%; Average loss: 5.3288\n",
            "Iteration: 3343; Percent complete: 83.6%; Average loss: 5.3396\n",
            "Iteration: 3344; Percent complete: 83.6%; Average loss: 5.0944\n",
            "Iteration: 3345; Percent complete: 83.6%; Average loss: 5.5041\n",
            "Iteration: 3346; Percent complete: 83.7%; Average loss: 5.3196\n",
            "Iteration: 3347; Percent complete: 83.7%; Average loss: 5.2883\n",
            "Iteration: 3348; Percent complete: 83.7%; Average loss: 5.2375\n",
            "Iteration: 3349; Percent complete: 83.7%; Average loss: 5.6025\n",
            "Iteration: 3350; Percent complete: 83.8%; Average loss: 5.3756\n",
            "Iteration: 3351; Percent complete: 83.8%; Average loss: 5.3123\n",
            "Iteration: 3352; Percent complete: 83.8%; Average loss: 5.2020\n",
            "Iteration: 3353; Percent complete: 83.8%; Average loss: 5.6234\n",
            "Iteration: 3354; Percent complete: 83.9%; Average loss: 5.2071\n",
            "Iteration: 3355; Percent complete: 83.9%; Average loss: 5.3951\n",
            "Iteration: 3356; Percent complete: 83.9%; Average loss: 5.2421\n",
            "Iteration: 3357; Percent complete: 83.9%; Average loss: 5.2328\n",
            "Iteration: 3358; Percent complete: 84.0%; Average loss: 5.5356\n",
            "Iteration: 3359; Percent complete: 84.0%; Average loss: 5.2767\n",
            "Iteration: 3360; Percent complete: 84.0%; Average loss: 5.0560\n",
            "Iteration: 3361; Percent complete: 84.0%; Average loss: 5.3737\n",
            "Iteration: 3362; Percent complete: 84.0%; Average loss: 5.3912\n",
            "Iteration: 3363; Percent complete: 84.1%; Average loss: 5.1948\n",
            "Iteration: 3364; Percent complete: 84.1%; Average loss: 5.3837\n",
            "Iteration: 3365; Percent complete: 84.1%; Average loss: 5.3202\n",
            "Iteration: 3366; Percent complete: 84.2%; Average loss: 5.4537\n",
            "Iteration: 3367; Percent complete: 84.2%; Average loss: 5.1714\n",
            "Iteration: 3368; Percent complete: 84.2%; Average loss: 5.2728\n",
            "Iteration: 3369; Percent complete: 84.2%; Average loss: 5.3050\n",
            "Iteration: 3370; Percent complete: 84.2%; Average loss: 5.2206\n",
            "Iteration: 3371; Percent complete: 84.3%; Average loss: 5.1559\n",
            "Iteration: 3372; Percent complete: 84.3%; Average loss: 5.4672\n",
            "Iteration: 3373; Percent complete: 84.3%; Average loss: 4.9980\n",
            "Iteration: 3374; Percent complete: 84.4%; Average loss: 5.3081\n",
            "Iteration: 3375; Percent complete: 84.4%; Average loss: 5.2859\n",
            "Iteration: 3376; Percent complete: 84.4%; Average loss: 5.4777\n",
            "Iteration: 3377; Percent complete: 84.4%; Average loss: 5.5320\n",
            "Iteration: 3378; Percent complete: 84.5%; Average loss: 5.4603\n",
            "Iteration: 3379; Percent complete: 84.5%; Average loss: 5.7097\n",
            "Iteration: 3380; Percent complete: 84.5%; Average loss: 5.1530\n",
            "Iteration: 3381; Percent complete: 84.5%; Average loss: 5.2676\n",
            "Iteration: 3382; Percent complete: 84.5%; Average loss: 5.3981\n",
            "Iteration: 3383; Percent complete: 84.6%; Average loss: 5.5487\n",
            "Iteration: 3384; Percent complete: 84.6%; Average loss: 5.2943\n",
            "Iteration: 3385; Percent complete: 84.6%; Average loss: 5.4199\n",
            "Iteration: 3386; Percent complete: 84.7%; Average loss: 5.3684\n",
            "Iteration: 3387; Percent complete: 84.7%; Average loss: 5.5222\n",
            "Iteration: 3388; Percent complete: 84.7%; Average loss: 5.3267\n",
            "Iteration: 3389; Percent complete: 84.7%; Average loss: 5.4377\n",
            "Iteration: 3390; Percent complete: 84.8%; Average loss: 5.3227\n",
            "Iteration: 3391; Percent complete: 84.8%; Average loss: 5.4313\n",
            "Iteration: 3392; Percent complete: 84.8%; Average loss: 5.1917\n",
            "Iteration: 3393; Percent complete: 84.8%; Average loss: 5.3052\n",
            "Iteration: 3394; Percent complete: 84.9%; Average loss: 5.2052\n",
            "Iteration: 3395; Percent complete: 84.9%; Average loss: 5.2216\n",
            "Iteration: 3396; Percent complete: 84.9%; Average loss: 5.2069\n",
            "Iteration: 3397; Percent complete: 84.9%; Average loss: 5.2041\n",
            "Iteration: 3398; Percent complete: 85.0%; Average loss: 5.1445\n",
            "Iteration: 3399; Percent complete: 85.0%; Average loss: 5.2274\n",
            "Iteration: 3400; Percent complete: 85.0%; Average loss: 5.3573\n",
            "Iteration: 3401; Percent complete: 85.0%; Average loss: 5.6149\n",
            "Iteration: 3402; Percent complete: 85.0%; Average loss: 5.4280\n",
            "Iteration: 3403; Percent complete: 85.1%; Average loss: 5.4606\n",
            "Iteration: 3404; Percent complete: 85.1%; Average loss: 5.5647\n",
            "Iteration: 3405; Percent complete: 85.1%; Average loss: 5.4984\n",
            "Iteration: 3406; Percent complete: 85.2%; Average loss: 5.1746\n",
            "Iteration: 3407; Percent complete: 85.2%; Average loss: 5.5361\n",
            "Iteration: 3408; Percent complete: 85.2%; Average loss: 5.3763\n",
            "Iteration: 3409; Percent complete: 85.2%; Average loss: 5.4939\n",
            "Iteration: 3410; Percent complete: 85.2%; Average loss: 5.5577\n",
            "Iteration: 3411; Percent complete: 85.3%; Average loss: 5.1188\n",
            "Iteration: 3412; Percent complete: 85.3%; Average loss: 5.3540\n",
            "Iteration: 3413; Percent complete: 85.3%; Average loss: 5.1227\n",
            "Iteration: 3414; Percent complete: 85.4%; Average loss: 5.2580\n",
            "Iteration: 3415; Percent complete: 85.4%; Average loss: 5.4629\n",
            "Iteration: 3416; Percent complete: 85.4%; Average loss: 5.4101\n",
            "Iteration: 3417; Percent complete: 85.4%; Average loss: 5.0299\n",
            "Iteration: 3418; Percent complete: 85.5%; Average loss: 5.4508\n",
            "Iteration: 3419; Percent complete: 85.5%; Average loss: 5.2583\n",
            "Iteration: 3420; Percent complete: 85.5%; Average loss: 5.4689\n",
            "Iteration: 3421; Percent complete: 85.5%; Average loss: 5.6979\n",
            "Iteration: 3422; Percent complete: 85.5%; Average loss: 5.3714\n",
            "Iteration: 3423; Percent complete: 85.6%; Average loss: 5.3984\n",
            "Iteration: 3424; Percent complete: 85.6%; Average loss: 5.4726\n",
            "Iteration: 3425; Percent complete: 85.6%; Average loss: 5.3891\n",
            "Iteration: 3426; Percent complete: 85.7%; Average loss: 5.3862\n",
            "Iteration: 3427; Percent complete: 85.7%; Average loss: 5.3998\n",
            "Iteration: 3428; Percent complete: 85.7%; Average loss: 5.1002\n",
            "Iteration: 3429; Percent complete: 85.7%; Average loss: 5.1622\n",
            "Iteration: 3430; Percent complete: 85.8%; Average loss: 5.2189\n",
            "Iteration: 3431; Percent complete: 85.8%; Average loss: 5.1756\n",
            "Iteration: 3432; Percent complete: 85.8%; Average loss: 5.2792\n",
            "Iteration: 3433; Percent complete: 85.8%; Average loss: 5.2075\n",
            "Iteration: 3434; Percent complete: 85.9%; Average loss: 5.1658\n",
            "Iteration: 3435; Percent complete: 85.9%; Average loss: 5.0893\n",
            "Iteration: 3436; Percent complete: 85.9%; Average loss: 5.1072\n",
            "Iteration: 3437; Percent complete: 85.9%; Average loss: 5.2207\n",
            "Iteration: 3438; Percent complete: 86.0%; Average loss: 5.1045\n",
            "Iteration: 3439; Percent complete: 86.0%; Average loss: 5.1878\n",
            "Iteration: 3440; Percent complete: 86.0%; Average loss: 5.3063\n",
            "Iteration: 3441; Percent complete: 86.0%; Average loss: 5.1246\n",
            "Iteration: 3442; Percent complete: 86.1%; Average loss: 5.5802\n",
            "Iteration: 3443; Percent complete: 86.1%; Average loss: 5.7479\n",
            "Iteration: 3444; Percent complete: 86.1%; Average loss: 5.6387\n",
            "Iteration: 3445; Percent complete: 86.1%; Average loss: 5.3464\n",
            "Iteration: 3446; Percent complete: 86.2%; Average loss: 5.5254\n",
            "Iteration: 3447; Percent complete: 86.2%; Average loss: 5.1212\n",
            "Iteration: 3448; Percent complete: 86.2%; Average loss: 5.2889\n",
            "Iteration: 3449; Percent complete: 86.2%; Average loss: 5.3059\n",
            "Iteration: 3450; Percent complete: 86.2%; Average loss: 5.4571\n",
            "Iteration: 3451; Percent complete: 86.3%; Average loss: 5.3641\n",
            "Iteration: 3452; Percent complete: 86.3%; Average loss: 4.9981\n",
            "Iteration: 3453; Percent complete: 86.3%; Average loss: 5.2309\n",
            "Iteration: 3454; Percent complete: 86.4%; Average loss: 5.4246\n",
            "Iteration: 3455; Percent complete: 86.4%; Average loss: 4.9225\n",
            "Iteration: 3456; Percent complete: 86.4%; Average loss: 5.3207\n",
            "Iteration: 3457; Percent complete: 86.4%; Average loss: 5.0190\n",
            "Iteration: 3458; Percent complete: 86.5%; Average loss: 5.2216\n",
            "Iteration: 3459; Percent complete: 86.5%; Average loss: 5.3332\n",
            "Iteration: 3460; Percent complete: 86.5%; Average loss: 5.3426\n",
            "Iteration: 3461; Percent complete: 86.5%; Average loss: 5.2201\n",
            "Iteration: 3462; Percent complete: 86.6%; Average loss: 5.3547\n",
            "Iteration: 3463; Percent complete: 86.6%; Average loss: 5.3655\n",
            "Iteration: 3464; Percent complete: 86.6%; Average loss: 5.1842\n",
            "Iteration: 3465; Percent complete: 86.6%; Average loss: 5.4486\n",
            "Iteration: 3466; Percent complete: 86.7%; Average loss: 5.2340\n",
            "Iteration: 3467; Percent complete: 86.7%; Average loss: 5.4723\n",
            "Iteration: 3468; Percent complete: 86.7%; Average loss: 5.3123\n",
            "Iteration: 3469; Percent complete: 86.7%; Average loss: 5.2220\n",
            "Iteration: 3470; Percent complete: 86.8%; Average loss: 5.3371\n",
            "Iteration: 3471; Percent complete: 86.8%; Average loss: 5.3483\n",
            "Iteration: 3472; Percent complete: 86.8%; Average loss: 5.2355\n",
            "Iteration: 3473; Percent complete: 86.8%; Average loss: 5.2561\n",
            "Iteration: 3474; Percent complete: 86.9%; Average loss: 5.2645\n",
            "Iteration: 3475; Percent complete: 86.9%; Average loss: 5.4657\n",
            "Iteration: 3476; Percent complete: 86.9%; Average loss: 5.6137\n",
            "Iteration: 3477; Percent complete: 86.9%; Average loss: 5.3707\n",
            "Iteration: 3478; Percent complete: 87.0%; Average loss: 5.4740\n",
            "Iteration: 3479; Percent complete: 87.0%; Average loss: 5.4846\n",
            "Iteration: 3480; Percent complete: 87.0%; Average loss: 5.1271\n",
            "Iteration: 3481; Percent complete: 87.0%; Average loss: 5.3289\n",
            "Iteration: 3482; Percent complete: 87.1%; Average loss: 5.3251\n",
            "Iteration: 3483; Percent complete: 87.1%; Average loss: 5.5711\n",
            "Iteration: 3484; Percent complete: 87.1%; Average loss: 5.4051\n",
            "Iteration: 3485; Percent complete: 87.1%; Average loss: 5.3563\n",
            "Iteration: 3486; Percent complete: 87.2%; Average loss: 5.3519\n",
            "Iteration: 3487; Percent complete: 87.2%; Average loss: 5.4190\n",
            "Iteration: 3488; Percent complete: 87.2%; Average loss: 5.3249\n",
            "Iteration: 3489; Percent complete: 87.2%; Average loss: 5.4057\n",
            "Iteration: 3490; Percent complete: 87.2%; Average loss: 5.2843\n",
            "Iteration: 3491; Percent complete: 87.3%; Average loss: 5.1319\n",
            "Iteration: 3492; Percent complete: 87.3%; Average loss: 5.2931\n",
            "Iteration: 3493; Percent complete: 87.3%; Average loss: 5.2671\n",
            "Iteration: 3494; Percent complete: 87.4%; Average loss: 5.3865\n",
            "Iteration: 3495; Percent complete: 87.4%; Average loss: 5.1940\n",
            "Iteration: 3496; Percent complete: 87.4%; Average loss: 5.4613\n",
            "Iteration: 3497; Percent complete: 87.4%; Average loss: 5.5051\n",
            "Iteration: 3498; Percent complete: 87.5%; Average loss: 5.3249\n",
            "Iteration: 3499; Percent complete: 87.5%; Average loss: 5.3889\n",
            "Iteration: 3500; Percent complete: 87.5%; Average loss: 5.2446\n",
            "Iteration: 3501; Percent complete: 87.5%; Average loss: 5.4697\n",
            "Iteration: 3502; Percent complete: 87.5%; Average loss: 5.2275\n",
            "Iteration: 3503; Percent complete: 87.6%; Average loss: 5.2660\n",
            "Iteration: 3504; Percent complete: 87.6%; Average loss: 5.4543\n",
            "Iteration: 3505; Percent complete: 87.6%; Average loss: 5.4408\n",
            "Iteration: 3506; Percent complete: 87.6%; Average loss: 5.3844\n",
            "Iteration: 3507; Percent complete: 87.7%; Average loss: 5.4641\n",
            "Iteration: 3508; Percent complete: 87.7%; Average loss: 5.3261\n",
            "Iteration: 3509; Percent complete: 87.7%; Average loss: 5.4215\n",
            "Iteration: 3510; Percent complete: 87.8%; Average loss: 5.4527\n",
            "Iteration: 3511; Percent complete: 87.8%; Average loss: 5.1595\n",
            "Iteration: 3512; Percent complete: 87.8%; Average loss: 5.3327\n",
            "Iteration: 3513; Percent complete: 87.8%; Average loss: 5.4320\n",
            "Iteration: 3514; Percent complete: 87.8%; Average loss: 5.4747\n",
            "Iteration: 3515; Percent complete: 87.9%; Average loss: 5.3766\n",
            "Iteration: 3516; Percent complete: 87.9%; Average loss: 5.3562\n",
            "Iteration: 3517; Percent complete: 87.9%; Average loss: 5.1703\n",
            "Iteration: 3518; Percent complete: 87.9%; Average loss: 5.4085\n",
            "Iteration: 3519; Percent complete: 88.0%; Average loss: 5.3395\n",
            "Iteration: 3520; Percent complete: 88.0%; Average loss: 5.1773\n",
            "Iteration: 3521; Percent complete: 88.0%; Average loss: 5.4006\n",
            "Iteration: 3522; Percent complete: 88.0%; Average loss: 5.1258\n",
            "Iteration: 3523; Percent complete: 88.1%; Average loss: 5.3163\n",
            "Iteration: 3524; Percent complete: 88.1%; Average loss: 5.3974\n",
            "Iteration: 3525; Percent complete: 88.1%; Average loss: 5.3671\n",
            "Iteration: 3526; Percent complete: 88.1%; Average loss: 5.3035\n",
            "Iteration: 3527; Percent complete: 88.2%; Average loss: 5.1559\n",
            "Iteration: 3528; Percent complete: 88.2%; Average loss: 5.4454\n",
            "Iteration: 3529; Percent complete: 88.2%; Average loss: 5.3337\n",
            "Iteration: 3530; Percent complete: 88.2%; Average loss: 5.2414\n",
            "Iteration: 3531; Percent complete: 88.3%; Average loss: 5.3112\n",
            "Iteration: 3532; Percent complete: 88.3%; Average loss: 5.1315\n",
            "Iteration: 3533; Percent complete: 88.3%; Average loss: 5.0792\n",
            "Iteration: 3534; Percent complete: 88.3%; Average loss: 5.4537\n",
            "Iteration: 3535; Percent complete: 88.4%; Average loss: 5.1938\n",
            "Iteration: 3536; Percent complete: 88.4%; Average loss: 5.3065\n",
            "Iteration: 3537; Percent complete: 88.4%; Average loss: 5.0999\n",
            "Iteration: 3538; Percent complete: 88.4%; Average loss: 5.5516\n",
            "Iteration: 3539; Percent complete: 88.5%; Average loss: 5.2006\n",
            "Iteration: 3540; Percent complete: 88.5%; Average loss: 5.2257\n",
            "Iteration: 3541; Percent complete: 88.5%; Average loss: 5.2007\n",
            "Iteration: 3542; Percent complete: 88.5%; Average loss: 5.1024\n",
            "Iteration: 3543; Percent complete: 88.6%; Average loss: 5.1583\n",
            "Iteration: 3544; Percent complete: 88.6%; Average loss: 5.3078\n",
            "Iteration: 3545; Percent complete: 88.6%; Average loss: 5.2557\n",
            "Iteration: 3546; Percent complete: 88.6%; Average loss: 5.0348\n",
            "Iteration: 3547; Percent complete: 88.7%; Average loss: 5.1692\n",
            "Iteration: 3548; Percent complete: 88.7%; Average loss: 5.1668\n",
            "Iteration: 3549; Percent complete: 88.7%; Average loss: 5.3095\n",
            "Iteration: 3550; Percent complete: 88.8%; Average loss: 5.2418\n",
            "Iteration: 3551; Percent complete: 88.8%; Average loss: 5.4875\n",
            "Iteration: 3552; Percent complete: 88.8%; Average loss: 5.3306\n",
            "Iteration: 3553; Percent complete: 88.8%; Average loss: 5.3288\n",
            "Iteration: 3554; Percent complete: 88.8%; Average loss: 5.4506\n",
            "Iteration: 3555; Percent complete: 88.9%; Average loss: 5.3645\n",
            "Iteration: 3556; Percent complete: 88.9%; Average loss: 5.1832\n",
            "Iteration: 3557; Percent complete: 88.9%; Average loss: 5.4761\n",
            "Iteration: 3558; Percent complete: 88.9%; Average loss: 5.3033\n",
            "Iteration: 3559; Percent complete: 89.0%; Average loss: 5.3393\n",
            "Iteration: 3560; Percent complete: 89.0%; Average loss: 5.1716\n",
            "Iteration: 3561; Percent complete: 89.0%; Average loss: 5.1502\n",
            "Iteration: 3562; Percent complete: 89.0%; Average loss: 5.1577\n",
            "Iteration: 3563; Percent complete: 89.1%; Average loss: 5.5547\n",
            "Iteration: 3564; Percent complete: 89.1%; Average loss: 5.1486\n",
            "Iteration: 3565; Percent complete: 89.1%; Average loss: 5.1593\n",
            "Iteration: 3566; Percent complete: 89.1%; Average loss: 5.3481\n",
            "Iteration: 3567; Percent complete: 89.2%; Average loss: 5.5749\n",
            "Iteration: 3568; Percent complete: 89.2%; Average loss: 5.3656\n",
            "Iteration: 3569; Percent complete: 89.2%; Average loss: 5.4379\n",
            "Iteration: 3570; Percent complete: 89.2%; Average loss: 5.5401\n",
            "Iteration: 3571; Percent complete: 89.3%; Average loss: 5.3247\n",
            "Iteration: 3572; Percent complete: 89.3%; Average loss: 5.4082\n",
            "Iteration: 3573; Percent complete: 89.3%; Average loss: 5.3758\n",
            "Iteration: 3574; Percent complete: 89.3%; Average loss: 5.3857\n",
            "Iteration: 3575; Percent complete: 89.4%; Average loss: 5.4455\n",
            "Iteration: 3576; Percent complete: 89.4%; Average loss: 5.2053\n",
            "Iteration: 3577; Percent complete: 89.4%; Average loss: 5.2645\n",
            "Iteration: 3578; Percent complete: 89.5%; Average loss: 5.3433\n",
            "Iteration: 3579; Percent complete: 89.5%; Average loss: 5.2888\n",
            "Iteration: 3580; Percent complete: 89.5%; Average loss: 5.2811\n",
            "Iteration: 3581; Percent complete: 89.5%; Average loss: 5.2307\n",
            "Iteration: 3582; Percent complete: 89.5%; Average loss: 5.1226\n",
            "Iteration: 3583; Percent complete: 89.6%; Average loss: 5.2080\n",
            "Iteration: 3584; Percent complete: 89.6%; Average loss: 5.4041\n",
            "Iteration: 3585; Percent complete: 89.6%; Average loss: 5.3886\n",
            "Iteration: 3586; Percent complete: 89.6%; Average loss: 5.0799\n",
            "Iteration: 3587; Percent complete: 89.7%; Average loss: 5.2686\n",
            "Iteration: 3588; Percent complete: 89.7%; Average loss: 5.3512\n",
            "Iteration: 3589; Percent complete: 89.7%; Average loss: 5.6663\n",
            "Iteration: 3590; Percent complete: 89.8%; Average loss: 5.2702\n",
            "Iteration: 3591; Percent complete: 89.8%; Average loss: 5.1507\n",
            "Iteration: 3592; Percent complete: 89.8%; Average loss: 5.3423\n",
            "Iteration: 3593; Percent complete: 89.8%; Average loss: 5.2630\n",
            "Iteration: 3594; Percent complete: 89.8%; Average loss: 5.1949\n",
            "Iteration: 3595; Percent complete: 89.9%; Average loss: 4.9632\n",
            "Iteration: 3596; Percent complete: 89.9%; Average loss: 5.3258\n",
            "Iteration: 3597; Percent complete: 89.9%; Average loss: 5.4629\n",
            "Iteration: 3598; Percent complete: 90.0%; Average loss: 5.1077\n",
            "Iteration: 3599; Percent complete: 90.0%; Average loss: 5.1864\n",
            "Iteration: 3600; Percent complete: 90.0%; Average loss: 5.4549\n",
            "Iteration: 3601; Percent complete: 90.0%; Average loss: 5.0350\n",
            "Iteration: 3602; Percent complete: 90.0%; Average loss: 5.2078\n",
            "Iteration: 3603; Percent complete: 90.1%; Average loss: 5.3366\n",
            "Iteration: 3604; Percent complete: 90.1%; Average loss: 5.1704\n",
            "Iteration: 3605; Percent complete: 90.1%; Average loss: 5.3281\n",
            "Iteration: 3606; Percent complete: 90.1%; Average loss: 5.3884\n",
            "Iteration: 3607; Percent complete: 90.2%; Average loss: 5.1376\n",
            "Iteration: 3608; Percent complete: 90.2%; Average loss: 5.2787\n",
            "Iteration: 3609; Percent complete: 90.2%; Average loss: 5.2646\n",
            "Iteration: 3610; Percent complete: 90.2%; Average loss: 5.2851\n",
            "Iteration: 3611; Percent complete: 90.3%; Average loss: 5.1252\n",
            "Iteration: 3612; Percent complete: 90.3%; Average loss: 5.3745\n",
            "Iteration: 3613; Percent complete: 90.3%; Average loss: 5.4611\n",
            "Iteration: 3614; Percent complete: 90.3%; Average loss: 5.2183\n",
            "Iteration: 3615; Percent complete: 90.4%; Average loss: 5.0438\n",
            "Iteration: 3616; Percent complete: 90.4%; Average loss: 5.5619\n",
            "Iteration: 3617; Percent complete: 90.4%; Average loss: 5.1490\n",
            "Iteration: 3618; Percent complete: 90.5%; Average loss: 5.2981\n",
            "Iteration: 3619; Percent complete: 90.5%; Average loss: 5.2507\n",
            "Iteration: 3620; Percent complete: 90.5%; Average loss: 5.4086\n",
            "Iteration: 3621; Percent complete: 90.5%; Average loss: 5.3602\n",
            "Iteration: 3622; Percent complete: 90.5%; Average loss: 5.6481\n",
            "Iteration: 3623; Percent complete: 90.6%; Average loss: 5.3914\n",
            "Iteration: 3624; Percent complete: 90.6%; Average loss: 5.0460\n",
            "Iteration: 3625; Percent complete: 90.6%; Average loss: 5.2080\n",
            "Iteration: 3626; Percent complete: 90.6%; Average loss: 5.3063\n",
            "Iteration: 3627; Percent complete: 90.7%; Average loss: 5.4174\n",
            "Iteration: 3628; Percent complete: 90.7%; Average loss: 5.4458\n",
            "Iteration: 3629; Percent complete: 90.7%; Average loss: 5.4635\n",
            "Iteration: 3630; Percent complete: 90.8%; Average loss: 5.0262\n",
            "Iteration: 3631; Percent complete: 90.8%; Average loss: 5.0952\n",
            "Iteration: 3632; Percent complete: 90.8%; Average loss: 5.1636\n",
            "Iteration: 3633; Percent complete: 90.8%; Average loss: 5.0721\n",
            "Iteration: 3634; Percent complete: 90.8%; Average loss: 5.1426\n",
            "Iteration: 3635; Percent complete: 90.9%; Average loss: 5.1648\n",
            "Iteration: 3636; Percent complete: 90.9%; Average loss: 5.3114\n",
            "Iteration: 3637; Percent complete: 90.9%; Average loss: 5.3480\n",
            "Iteration: 3638; Percent complete: 91.0%; Average loss: 5.3024\n",
            "Iteration: 3639; Percent complete: 91.0%; Average loss: 5.3661\n",
            "Iteration: 3640; Percent complete: 91.0%; Average loss: 4.9849\n",
            "Iteration: 3641; Percent complete: 91.0%; Average loss: 5.3233\n",
            "Iteration: 3642; Percent complete: 91.0%; Average loss: 5.1641\n",
            "Iteration: 3643; Percent complete: 91.1%; Average loss: 5.5504\n",
            "Iteration: 3644; Percent complete: 91.1%; Average loss: 5.4534\n",
            "Iteration: 3645; Percent complete: 91.1%; Average loss: 5.2036\n",
            "Iteration: 3646; Percent complete: 91.1%; Average loss: 5.3571\n",
            "Iteration: 3647; Percent complete: 91.2%; Average loss: 5.4304\n",
            "Iteration: 3648; Percent complete: 91.2%; Average loss: 5.1931\n",
            "Iteration: 3649; Percent complete: 91.2%; Average loss: 5.2372\n",
            "Iteration: 3650; Percent complete: 91.2%; Average loss: 5.5352\n",
            "Iteration: 3651; Percent complete: 91.3%; Average loss: 5.3504\n",
            "Iteration: 3652; Percent complete: 91.3%; Average loss: 5.1248\n",
            "Iteration: 3653; Percent complete: 91.3%; Average loss: 5.4426\n",
            "Iteration: 3654; Percent complete: 91.3%; Average loss: 5.3818\n",
            "Iteration: 3655; Percent complete: 91.4%; Average loss: 5.2353\n",
            "Iteration: 3656; Percent complete: 91.4%; Average loss: 5.2636\n",
            "Iteration: 3657; Percent complete: 91.4%; Average loss: 5.3047\n",
            "Iteration: 3658; Percent complete: 91.5%; Average loss: 5.2155\n",
            "Iteration: 3659; Percent complete: 91.5%; Average loss: 5.6317\n",
            "Iteration: 3660; Percent complete: 91.5%; Average loss: 5.2160\n",
            "Iteration: 3661; Percent complete: 91.5%; Average loss: 5.1525\n",
            "Iteration: 3662; Percent complete: 91.5%; Average loss: 5.5237\n",
            "Iteration: 3663; Percent complete: 91.6%; Average loss: 5.3405\n",
            "Iteration: 3664; Percent complete: 91.6%; Average loss: 5.2885\n",
            "Iteration: 3665; Percent complete: 91.6%; Average loss: 5.0743\n",
            "Iteration: 3666; Percent complete: 91.6%; Average loss: 5.1797\n",
            "Iteration: 3667; Percent complete: 91.7%; Average loss: 5.2800\n",
            "Iteration: 3668; Percent complete: 91.7%; Average loss: 5.4242\n",
            "Iteration: 3669; Percent complete: 91.7%; Average loss: 5.2201\n",
            "Iteration: 3670; Percent complete: 91.8%; Average loss: 5.3662\n",
            "Iteration: 3671; Percent complete: 91.8%; Average loss: 5.3333\n",
            "Iteration: 3672; Percent complete: 91.8%; Average loss: 5.1022\n",
            "Iteration: 3673; Percent complete: 91.8%; Average loss: 5.2095\n",
            "Iteration: 3674; Percent complete: 91.8%; Average loss: 5.1914\n",
            "Iteration: 3675; Percent complete: 91.9%; Average loss: 5.1214\n",
            "Iteration: 3676; Percent complete: 91.9%; Average loss: 5.2316\n",
            "Iteration: 3677; Percent complete: 91.9%; Average loss: 5.3312\n",
            "Iteration: 3678; Percent complete: 92.0%; Average loss: 5.1181\n",
            "Iteration: 3679; Percent complete: 92.0%; Average loss: 5.0010\n",
            "Iteration: 3680; Percent complete: 92.0%; Average loss: 5.5398\n",
            "Iteration: 3681; Percent complete: 92.0%; Average loss: 5.2988\n",
            "Iteration: 3682; Percent complete: 92.0%; Average loss: 5.2665\n",
            "Iteration: 3683; Percent complete: 92.1%; Average loss: 5.4324\n",
            "Iteration: 3684; Percent complete: 92.1%; Average loss: 5.2972\n",
            "Iteration: 3685; Percent complete: 92.1%; Average loss: 5.2972\n",
            "Iteration: 3686; Percent complete: 92.2%; Average loss: 5.4981\n",
            "Iteration: 3687; Percent complete: 92.2%; Average loss: 5.4714\n",
            "Iteration: 3688; Percent complete: 92.2%; Average loss: 5.0259\n",
            "Iteration: 3689; Percent complete: 92.2%; Average loss: 5.2601\n",
            "Iteration: 3690; Percent complete: 92.2%; Average loss: 5.4136\n",
            "Iteration: 3691; Percent complete: 92.3%; Average loss: 5.0063\n",
            "Iteration: 3692; Percent complete: 92.3%; Average loss: 5.1821\n",
            "Iteration: 3693; Percent complete: 92.3%; Average loss: 5.3343\n",
            "Iteration: 3694; Percent complete: 92.3%; Average loss: 5.1009\n",
            "Iteration: 3695; Percent complete: 92.4%; Average loss: 5.2657\n",
            "Iteration: 3696; Percent complete: 92.4%; Average loss: 5.2509\n",
            "Iteration: 3697; Percent complete: 92.4%; Average loss: 5.3573\n",
            "Iteration: 3698; Percent complete: 92.5%; Average loss: 5.3283\n",
            "Iteration: 3699; Percent complete: 92.5%; Average loss: 5.2457\n",
            "Iteration: 3700; Percent complete: 92.5%; Average loss: 5.4096\n",
            "Iteration: 3701; Percent complete: 92.5%; Average loss: 5.5013\n",
            "Iteration: 3702; Percent complete: 92.5%; Average loss: 5.1520\n",
            "Iteration: 3703; Percent complete: 92.6%; Average loss: 5.3229\n",
            "Iteration: 3704; Percent complete: 92.6%; Average loss: 5.3734\n",
            "Iteration: 3705; Percent complete: 92.6%; Average loss: 5.0921\n",
            "Iteration: 3706; Percent complete: 92.7%; Average loss: 5.3551\n",
            "Iteration: 3707; Percent complete: 92.7%; Average loss: 5.3920\n",
            "Iteration: 3708; Percent complete: 92.7%; Average loss: 5.2725\n",
            "Iteration: 3709; Percent complete: 92.7%; Average loss: 5.2219\n",
            "Iteration: 3710; Percent complete: 92.8%; Average loss: 5.5968\n",
            "Iteration: 3711; Percent complete: 92.8%; Average loss: 5.4596\n",
            "Iteration: 3712; Percent complete: 92.8%; Average loss: 5.0648\n",
            "Iteration: 3713; Percent complete: 92.8%; Average loss: 5.2399\n",
            "Iteration: 3714; Percent complete: 92.8%; Average loss: 5.3160\n",
            "Iteration: 3715; Percent complete: 92.9%; Average loss: 5.2991\n",
            "Iteration: 3716; Percent complete: 92.9%; Average loss: 5.5944\n",
            "Iteration: 3717; Percent complete: 92.9%; Average loss: 5.2206\n",
            "Iteration: 3718; Percent complete: 93.0%; Average loss: 5.4421\n",
            "Iteration: 3719; Percent complete: 93.0%; Average loss: 5.2797\n",
            "Iteration: 3720; Percent complete: 93.0%; Average loss: 5.3551\n",
            "Iteration: 3721; Percent complete: 93.0%; Average loss: 5.3170\n",
            "Iteration: 3722; Percent complete: 93.0%; Average loss: 5.3361\n",
            "Iteration: 3723; Percent complete: 93.1%; Average loss: 5.0020\n",
            "Iteration: 3724; Percent complete: 93.1%; Average loss: 5.0526\n",
            "Iteration: 3725; Percent complete: 93.1%; Average loss: 5.2307\n",
            "Iteration: 3726; Percent complete: 93.2%; Average loss: 5.3943\n",
            "Iteration: 3727; Percent complete: 93.2%; Average loss: 5.0964\n",
            "Iteration: 3728; Percent complete: 93.2%; Average loss: 5.2872\n",
            "Iteration: 3729; Percent complete: 93.2%; Average loss: 5.1860\n",
            "Iteration: 3730; Percent complete: 93.2%; Average loss: 5.3017\n",
            "Iteration: 3731; Percent complete: 93.3%; Average loss: 5.1741\n",
            "Iteration: 3732; Percent complete: 93.3%; Average loss: 5.3927\n",
            "Iteration: 3733; Percent complete: 93.3%; Average loss: 5.3429\n",
            "Iteration: 3734; Percent complete: 93.3%; Average loss: 5.4642\n",
            "Iteration: 3735; Percent complete: 93.4%; Average loss: 5.4164\n",
            "Iteration: 3736; Percent complete: 93.4%; Average loss: 5.2835\n",
            "Iteration: 3737; Percent complete: 93.4%; Average loss: 5.3318\n",
            "Iteration: 3738; Percent complete: 93.5%; Average loss: 5.3406\n",
            "Iteration: 3739; Percent complete: 93.5%; Average loss: 5.1542\n",
            "Iteration: 3740; Percent complete: 93.5%; Average loss: 5.0768\n",
            "Iteration: 3741; Percent complete: 93.5%; Average loss: 5.2925\n",
            "Iteration: 3742; Percent complete: 93.5%; Average loss: 5.2759\n",
            "Iteration: 3743; Percent complete: 93.6%; Average loss: 5.3981\n",
            "Iteration: 3744; Percent complete: 93.6%; Average loss: 5.3239\n",
            "Iteration: 3745; Percent complete: 93.6%; Average loss: 5.4429\n",
            "Iteration: 3746; Percent complete: 93.7%; Average loss: 5.2733\n",
            "Iteration: 3747; Percent complete: 93.7%; Average loss: 5.3257\n",
            "Iteration: 3748; Percent complete: 93.7%; Average loss: 5.2281\n",
            "Iteration: 3749; Percent complete: 93.7%; Average loss: 5.1893\n",
            "Iteration: 3750; Percent complete: 93.8%; Average loss: 5.1929\n",
            "Iteration: 3751; Percent complete: 93.8%; Average loss: 4.9608\n",
            "Iteration: 3752; Percent complete: 93.8%; Average loss: 5.2135\n",
            "Iteration: 3753; Percent complete: 93.8%; Average loss: 5.4204\n",
            "Iteration: 3754; Percent complete: 93.8%; Average loss: 5.1464\n",
            "Iteration: 3755; Percent complete: 93.9%; Average loss: 5.4362\n",
            "Iteration: 3756; Percent complete: 93.9%; Average loss: 5.1265\n",
            "Iteration: 3757; Percent complete: 93.9%; Average loss: 5.3555\n",
            "Iteration: 3758; Percent complete: 94.0%; Average loss: 5.1203\n",
            "Iteration: 3759; Percent complete: 94.0%; Average loss: 5.2953\n",
            "Iteration: 3760; Percent complete: 94.0%; Average loss: 5.1043\n",
            "Iteration: 3761; Percent complete: 94.0%; Average loss: 5.0894\n",
            "Iteration: 3762; Percent complete: 94.0%; Average loss: 5.4093\n",
            "Iteration: 3763; Percent complete: 94.1%; Average loss: 5.0202\n",
            "Iteration: 3764; Percent complete: 94.1%; Average loss: 5.2064\n",
            "Iteration: 3765; Percent complete: 94.1%; Average loss: 5.2170\n",
            "Iteration: 3766; Percent complete: 94.2%; Average loss: 5.3793\n",
            "Iteration: 3767; Percent complete: 94.2%; Average loss: 5.5121\n",
            "Iteration: 3768; Percent complete: 94.2%; Average loss: 5.0787\n",
            "Iteration: 3769; Percent complete: 94.2%; Average loss: 5.0031\n",
            "Iteration: 3770; Percent complete: 94.2%; Average loss: 5.3805\n",
            "Iteration: 3771; Percent complete: 94.3%; Average loss: 5.2433\n",
            "Iteration: 3772; Percent complete: 94.3%; Average loss: 5.3665\n",
            "Iteration: 3773; Percent complete: 94.3%; Average loss: 5.2355\n",
            "Iteration: 3774; Percent complete: 94.3%; Average loss: 5.4653\n",
            "Iteration: 3775; Percent complete: 94.4%; Average loss: 5.4123\n",
            "Iteration: 3776; Percent complete: 94.4%; Average loss: 5.3697\n",
            "Iteration: 3777; Percent complete: 94.4%; Average loss: 5.3511\n",
            "Iteration: 3778; Percent complete: 94.5%; Average loss: 5.5557\n",
            "Iteration: 3779; Percent complete: 94.5%; Average loss: 5.2568\n",
            "Iteration: 3780; Percent complete: 94.5%; Average loss: 5.5978\n",
            "Iteration: 3781; Percent complete: 94.5%; Average loss: 5.1890\n",
            "Iteration: 3782; Percent complete: 94.5%; Average loss: 5.2112\n",
            "Iteration: 3783; Percent complete: 94.6%; Average loss: 5.3220\n",
            "Iteration: 3784; Percent complete: 94.6%; Average loss: 5.4099\n",
            "Iteration: 3785; Percent complete: 94.6%; Average loss: 5.0830\n",
            "Iteration: 3786; Percent complete: 94.7%; Average loss: 5.2362\n",
            "Iteration: 3787; Percent complete: 94.7%; Average loss: 5.2056\n",
            "Iteration: 3788; Percent complete: 94.7%; Average loss: 5.2015\n",
            "Iteration: 3789; Percent complete: 94.7%; Average loss: 5.3731\n",
            "Iteration: 3790; Percent complete: 94.8%; Average loss: 5.0813\n",
            "Iteration: 3791; Percent complete: 94.8%; Average loss: 5.0991\n",
            "Iteration: 3792; Percent complete: 94.8%; Average loss: 5.1930\n",
            "Iteration: 3793; Percent complete: 94.8%; Average loss: 5.1525\n",
            "Iteration: 3794; Percent complete: 94.8%; Average loss: 5.0721\n",
            "Iteration: 3795; Percent complete: 94.9%; Average loss: 5.0906\n",
            "Iteration: 3796; Percent complete: 94.9%; Average loss: 5.5141\n",
            "Iteration: 3797; Percent complete: 94.9%; Average loss: 5.1015\n",
            "Iteration: 3798; Percent complete: 95.0%; Average loss: 5.1609\n",
            "Iteration: 3799; Percent complete: 95.0%; Average loss: 5.4016\n",
            "Iteration: 3800; Percent complete: 95.0%; Average loss: 5.4222\n",
            "Iteration: 3801; Percent complete: 95.0%; Average loss: 5.0745\n",
            "Iteration: 3802; Percent complete: 95.0%; Average loss: 5.1738\n",
            "Iteration: 3803; Percent complete: 95.1%; Average loss: 5.4544\n",
            "Iteration: 3804; Percent complete: 95.1%; Average loss: 5.3079\n",
            "Iteration: 3805; Percent complete: 95.1%; Average loss: 4.9968\n",
            "Iteration: 3806; Percent complete: 95.2%; Average loss: 5.1752\n",
            "Iteration: 3807; Percent complete: 95.2%; Average loss: 5.3934\n",
            "Iteration: 3808; Percent complete: 95.2%; Average loss: 5.4054\n",
            "Iteration: 3809; Percent complete: 95.2%; Average loss: 5.4231\n",
            "Iteration: 3810; Percent complete: 95.2%; Average loss: 5.5798\n",
            "Iteration: 3811; Percent complete: 95.3%; Average loss: 5.2824\n",
            "Iteration: 3812; Percent complete: 95.3%; Average loss: 5.4186\n",
            "Iteration: 3813; Percent complete: 95.3%; Average loss: 5.1473\n",
            "Iteration: 3814; Percent complete: 95.3%; Average loss: 5.4380\n",
            "Iteration: 3815; Percent complete: 95.4%; Average loss: 5.2840\n",
            "Iteration: 3816; Percent complete: 95.4%; Average loss: 5.1463\n",
            "Iteration: 3817; Percent complete: 95.4%; Average loss: 5.0296\n",
            "Iteration: 3818; Percent complete: 95.5%; Average loss: 5.3602\n",
            "Iteration: 3819; Percent complete: 95.5%; Average loss: 5.0926\n",
            "Iteration: 3820; Percent complete: 95.5%; Average loss: 5.1525\n",
            "Iteration: 3821; Percent complete: 95.5%; Average loss: 5.1633\n",
            "Iteration: 3822; Percent complete: 95.5%; Average loss: 5.2342\n",
            "Iteration: 3823; Percent complete: 95.6%; Average loss: 5.1106\n",
            "Iteration: 3824; Percent complete: 95.6%; Average loss: 5.0327\n",
            "Iteration: 3825; Percent complete: 95.6%; Average loss: 5.3710\n",
            "Iteration: 3826; Percent complete: 95.7%; Average loss: 5.1952\n",
            "Iteration: 3827; Percent complete: 95.7%; Average loss: 5.0819\n",
            "Iteration: 3828; Percent complete: 95.7%; Average loss: 5.2526\n",
            "Iteration: 3829; Percent complete: 95.7%; Average loss: 4.9919\n",
            "Iteration: 3830; Percent complete: 95.8%; Average loss: 5.0409\n",
            "Iteration: 3831; Percent complete: 95.8%; Average loss: 5.0981\n",
            "Iteration: 3832; Percent complete: 95.8%; Average loss: 5.3472\n",
            "Iteration: 3833; Percent complete: 95.8%; Average loss: 5.2598\n",
            "Iteration: 3834; Percent complete: 95.9%; Average loss: 5.1818\n",
            "Iteration: 3835; Percent complete: 95.9%; Average loss: 5.3333\n",
            "Iteration: 3836; Percent complete: 95.9%; Average loss: 5.4274\n",
            "Iteration: 3837; Percent complete: 95.9%; Average loss: 5.3145\n",
            "Iteration: 3838; Percent complete: 96.0%; Average loss: 5.3446\n",
            "Iteration: 3839; Percent complete: 96.0%; Average loss: 5.4409\n",
            "Iteration: 3840; Percent complete: 96.0%; Average loss: 5.3790\n",
            "Iteration: 3841; Percent complete: 96.0%; Average loss: 5.2532\n",
            "Iteration: 3842; Percent complete: 96.0%; Average loss: 5.2925\n",
            "Iteration: 3843; Percent complete: 96.1%; Average loss: 5.2777\n",
            "Iteration: 3844; Percent complete: 96.1%; Average loss: 5.3851\n",
            "Iteration: 3845; Percent complete: 96.1%; Average loss: 5.2759\n",
            "Iteration: 3846; Percent complete: 96.2%; Average loss: 5.0402\n",
            "Iteration: 3847; Percent complete: 96.2%; Average loss: 5.4929\n",
            "Iteration: 3848; Percent complete: 96.2%; Average loss: 5.1794\n",
            "Iteration: 3849; Percent complete: 96.2%; Average loss: 5.0924\n",
            "Iteration: 3850; Percent complete: 96.2%; Average loss: 5.3035\n",
            "Iteration: 3851; Percent complete: 96.3%; Average loss: 5.1939\n",
            "Iteration: 3852; Percent complete: 96.3%; Average loss: 5.3055\n",
            "Iteration: 3853; Percent complete: 96.3%; Average loss: 5.3653\n",
            "Iteration: 3854; Percent complete: 96.4%; Average loss: 5.3541\n",
            "Iteration: 3855; Percent complete: 96.4%; Average loss: 5.2860\n",
            "Iteration: 3856; Percent complete: 96.4%; Average loss: 5.3503\n",
            "Iteration: 3857; Percent complete: 96.4%; Average loss: 5.2936\n",
            "Iteration: 3858; Percent complete: 96.5%; Average loss: 5.4039\n",
            "Iteration: 3859; Percent complete: 96.5%; Average loss: 5.3163\n",
            "Iteration: 3860; Percent complete: 96.5%; Average loss: 5.0422\n",
            "Iteration: 3861; Percent complete: 96.5%; Average loss: 5.1649\n",
            "Iteration: 3862; Percent complete: 96.5%; Average loss: 5.5261\n",
            "Iteration: 3863; Percent complete: 96.6%; Average loss: 5.1750\n",
            "Iteration: 3864; Percent complete: 96.6%; Average loss: 5.2485\n",
            "Iteration: 3865; Percent complete: 96.6%; Average loss: 5.2176\n",
            "Iteration: 3866; Percent complete: 96.7%; Average loss: 5.1232\n",
            "Iteration: 3867; Percent complete: 96.7%; Average loss: 5.2363\n",
            "Iteration: 3868; Percent complete: 96.7%; Average loss: 5.1653\n",
            "Iteration: 3869; Percent complete: 96.7%; Average loss: 5.3614\n",
            "Iteration: 3870; Percent complete: 96.8%; Average loss: 5.3667\n",
            "Iteration: 3871; Percent complete: 96.8%; Average loss: 5.3011\n",
            "Iteration: 3872; Percent complete: 96.8%; Average loss: 5.4689\n",
            "Iteration: 3873; Percent complete: 96.8%; Average loss: 5.2914\n",
            "Iteration: 3874; Percent complete: 96.9%; Average loss: 5.5137\n",
            "Iteration: 3875; Percent complete: 96.9%; Average loss: 5.3378\n",
            "Iteration: 3876; Percent complete: 96.9%; Average loss: 5.3564\n",
            "Iteration: 3877; Percent complete: 96.9%; Average loss: 5.1609\n",
            "Iteration: 3878; Percent complete: 97.0%; Average loss: 5.4737\n",
            "Iteration: 3879; Percent complete: 97.0%; Average loss: 5.1419\n",
            "Iteration: 3880; Percent complete: 97.0%; Average loss: 5.5965\n",
            "Iteration: 3881; Percent complete: 97.0%; Average loss: 5.2448\n",
            "Iteration: 3882; Percent complete: 97.0%; Average loss: 5.2825\n",
            "Iteration: 3883; Percent complete: 97.1%; Average loss: 5.3035\n",
            "Iteration: 3884; Percent complete: 97.1%; Average loss: 5.3080\n",
            "Iteration: 3885; Percent complete: 97.1%; Average loss: 5.2368\n",
            "Iteration: 3886; Percent complete: 97.2%; Average loss: 5.2530\n",
            "Iteration: 3887; Percent complete: 97.2%; Average loss: 5.1290\n",
            "Iteration: 3888; Percent complete: 97.2%; Average loss: 5.4333\n",
            "Iteration: 3889; Percent complete: 97.2%; Average loss: 5.1759\n",
            "Iteration: 3890; Percent complete: 97.2%; Average loss: 5.3585\n",
            "Iteration: 3891; Percent complete: 97.3%; Average loss: 5.2875\n",
            "Iteration: 3892; Percent complete: 97.3%; Average loss: 5.2320\n",
            "Iteration: 3893; Percent complete: 97.3%; Average loss: 5.3110\n",
            "Iteration: 3894; Percent complete: 97.4%; Average loss: 5.2986\n",
            "Iteration: 3895; Percent complete: 97.4%; Average loss: 5.1447\n",
            "Iteration: 3896; Percent complete: 97.4%; Average loss: 4.9728\n",
            "Iteration: 3897; Percent complete: 97.4%; Average loss: 5.1465\n",
            "Iteration: 3898; Percent complete: 97.5%; Average loss: 5.3109\n",
            "Iteration: 3899; Percent complete: 97.5%; Average loss: 5.3269\n",
            "Iteration: 3900; Percent complete: 97.5%; Average loss: 5.4227\n",
            "Iteration: 3901; Percent complete: 97.5%; Average loss: 5.3671\n",
            "Iteration: 3902; Percent complete: 97.5%; Average loss: 5.1187\n",
            "Iteration: 3903; Percent complete: 97.6%; Average loss: 5.1692\n",
            "Iteration: 3904; Percent complete: 97.6%; Average loss: 5.3053\n",
            "Iteration: 3905; Percent complete: 97.6%; Average loss: 5.4533\n",
            "Iteration: 3906; Percent complete: 97.7%; Average loss: 5.1744\n",
            "Iteration: 3907; Percent complete: 97.7%; Average loss: 5.0857\n",
            "Iteration: 3908; Percent complete: 97.7%; Average loss: 5.3970\n",
            "Iteration: 3909; Percent complete: 97.7%; Average loss: 5.1598\n",
            "Iteration: 3910; Percent complete: 97.8%; Average loss: 5.2896\n",
            "Iteration: 3911; Percent complete: 97.8%; Average loss: 5.1406\n",
            "Iteration: 3912; Percent complete: 97.8%; Average loss: 5.4112\n",
            "Iteration: 3913; Percent complete: 97.8%; Average loss: 5.3189\n",
            "Iteration: 3914; Percent complete: 97.9%; Average loss: 5.0553\n",
            "Iteration: 3915; Percent complete: 97.9%; Average loss: 5.3376\n",
            "Iteration: 3916; Percent complete: 97.9%; Average loss: 5.3633\n",
            "Iteration: 3917; Percent complete: 97.9%; Average loss: 5.3125\n",
            "Iteration: 3918; Percent complete: 98.0%; Average loss: 5.2627\n",
            "Iteration: 3919; Percent complete: 98.0%; Average loss: 5.2110\n",
            "Iteration: 3920; Percent complete: 98.0%; Average loss: 4.9842\n",
            "Iteration: 3921; Percent complete: 98.0%; Average loss: 5.3087\n",
            "Iteration: 3922; Percent complete: 98.0%; Average loss: 5.3144\n",
            "Iteration: 3923; Percent complete: 98.1%; Average loss: 5.1894\n",
            "Iteration: 3924; Percent complete: 98.1%; Average loss: 5.3021\n",
            "Iteration: 3925; Percent complete: 98.1%; Average loss: 5.2113\n",
            "Iteration: 3926; Percent complete: 98.2%; Average loss: 5.3647\n",
            "Iteration: 3927; Percent complete: 98.2%; Average loss: 5.2294\n",
            "Iteration: 3928; Percent complete: 98.2%; Average loss: 5.0589\n",
            "Iteration: 3929; Percent complete: 98.2%; Average loss: 5.1618\n",
            "Iteration: 3930; Percent complete: 98.2%; Average loss: 5.1824\n",
            "Iteration: 3931; Percent complete: 98.3%; Average loss: 5.3556\n",
            "Iteration: 3932; Percent complete: 98.3%; Average loss: 5.1477\n",
            "Iteration: 3933; Percent complete: 98.3%; Average loss: 5.1636\n",
            "Iteration: 3934; Percent complete: 98.4%; Average loss: 5.0875\n",
            "Iteration: 3935; Percent complete: 98.4%; Average loss: 5.1501\n",
            "Iteration: 3936; Percent complete: 98.4%; Average loss: 5.4212\n",
            "Iteration: 3937; Percent complete: 98.4%; Average loss: 5.2968\n",
            "Iteration: 3938; Percent complete: 98.5%; Average loss: 5.4122\n",
            "Iteration: 3939; Percent complete: 98.5%; Average loss: 5.3546\n",
            "Iteration: 3940; Percent complete: 98.5%; Average loss: 5.1672\n",
            "Iteration: 3941; Percent complete: 98.5%; Average loss: 5.1747\n",
            "Iteration: 3942; Percent complete: 98.6%; Average loss: 5.1573\n",
            "Iteration: 3943; Percent complete: 98.6%; Average loss: 5.1685\n",
            "Iteration: 3944; Percent complete: 98.6%; Average loss: 5.2495\n",
            "Iteration: 3945; Percent complete: 98.6%; Average loss: 5.4926\n",
            "Iteration: 3946; Percent complete: 98.7%; Average loss: 5.2079\n",
            "Iteration: 3947; Percent complete: 98.7%; Average loss: 5.4199\n",
            "Iteration: 3948; Percent complete: 98.7%; Average loss: 5.0966\n",
            "Iteration: 3949; Percent complete: 98.7%; Average loss: 5.3610\n",
            "Iteration: 3950; Percent complete: 98.8%; Average loss: 5.4354\n",
            "Iteration: 3951; Percent complete: 98.8%; Average loss: 5.3612\n",
            "Iteration: 3952; Percent complete: 98.8%; Average loss: 5.3505\n",
            "Iteration: 3953; Percent complete: 98.8%; Average loss: 5.0113\n",
            "Iteration: 3954; Percent complete: 98.9%; Average loss: 5.2773\n",
            "Iteration: 3955; Percent complete: 98.9%; Average loss: 5.3557\n",
            "Iteration: 3956; Percent complete: 98.9%; Average loss: 5.3112\n",
            "Iteration: 3957; Percent complete: 98.9%; Average loss: 5.1201\n",
            "Iteration: 3958; Percent complete: 99.0%; Average loss: 5.0943\n",
            "Iteration: 3959; Percent complete: 99.0%; Average loss: 5.0118\n",
            "Iteration: 3960; Percent complete: 99.0%; Average loss: 5.3337\n",
            "Iteration: 3961; Percent complete: 99.0%; Average loss: 5.3198\n",
            "Iteration: 3962; Percent complete: 99.1%; Average loss: 5.0689\n",
            "Iteration: 3963; Percent complete: 99.1%; Average loss: 5.1844\n",
            "Iteration: 3964; Percent complete: 99.1%; Average loss: 5.3052\n",
            "Iteration: 3965; Percent complete: 99.1%; Average loss: 5.0838\n",
            "Iteration: 3966; Percent complete: 99.2%; Average loss: 5.1194\n",
            "Iteration: 3967; Percent complete: 99.2%; Average loss: 5.2407\n",
            "Iteration: 3968; Percent complete: 99.2%; Average loss: 5.4360\n",
            "Iteration: 3969; Percent complete: 99.2%; Average loss: 5.1311\n",
            "Iteration: 3970; Percent complete: 99.2%; Average loss: 5.2911\n",
            "Iteration: 3971; Percent complete: 99.3%; Average loss: 5.3945\n",
            "Iteration: 3972; Percent complete: 99.3%; Average loss: 5.1349\n",
            "Iteration: 3973; Percent complete: 99.3%; Average loss: 5.2367\n",
            "Iteration: 3974; Percent complete: 99.4%; Average loss: 5.4539\n",
            "Iteration: 3975; Percent complete: 99.4%; Average loss: 5.2368\n",
            "Iteration: 3976; Percent complete: 99.4%; Average loss: 5.1260\n",
            "Iteration: 3977; Percent complete: 99.4%; Average loss: 4.9645\n",
            "Iteration: 3978; Percent complete: 99.5%; Average loss: 5.2626\n",
            "Iteration: 3979; Percent complete: 99.5%; Average loss: 5.2525\n",
            "Iteration: 3980; Percent complete: 99.5%; Average loss: 5.3707\n",
            "Iteration: 3981; Percent complete: 99.5%; Average loss: 5.1293\n",
            "Iteration: 3982; Percent complete: 99.6%; Average loss: 5.1405\n",
            "Iteration: 3983; Percent complete: 99.6%; Average loss: 5.6321\n",
            "Iteration: 3984; Percent complete: 99.6%; Average loss: 5.3768\n",
            "Iteration: 3985; Percent complete: 99.6%; Average loss: 5.0385\n",
            "Iteration: 3986; Percent complete: 99.7%; Average loss: 5.1198\n",
            "Iteration: 3987; Percent complete: 99.7%; Average loss: 5.2431\n",
            "Iteration: 3988; Percent complete: 99.7%; Average loss: 5.3062\n",
            "Iteration: 3989; Percent complete: 99.7%; Average loss: 5.2753\n",
            "Iteration: 3990; Percent complete: 99.8%; Average loss: 5.1864\n",
            "Iteration: 3991; Percent complete: 99.8%; Average loss: 5.4171\n",
            "Iteration: 3992; Percent complete: 99.8%; Average loss: 5.3044\n",
            "Iteration: 3993; Percent complete: 99.8%; Average loss: 5.0696\n",
            "Iteration: 3994; Percent complete: 99.9%; Average loss: 5.0132\n",
            "Iteration: 3995; Percent complete: 99.9%; Average loss: 5.4498\n",
            "Iteration: 3996; Percent complete: 99.9%; Average loss: 5.2032\n",
            "Iteration: 3997; Percent complete: 99.9%; Average loss: 5.4732\n",
            "Iteration: 3998; Percent complete: 100.0%; Average loss: 5.2908\n",
            "Iteration: 3999; Percent complete: 100.0%; Average loss: 5.0463\n",
            "Iteration: 4000; Percent complete: 100.0%; Average loss: 5.2214\n"
          ]
        }
      ],
      "source": [
        "# Configure models\n",
        "model_name = 'cb_model_opt'\n",
        "attn_model = 'dot'\n",
        "#``attn_model = 'general'``\n",
        "#``attn_model = 'concat'``\n",
        "hidden_size = 500\n",
        "encoder_n_layers = 2\n",
        "decoder_n_layers = 2\n",
        "dropout = 0.1\n",
        "batch_size = 64\n",
        "\n",
        "# Set checkpoint to load from; set to None if starting from scratch\n",
        "loadFilename = None\n",
        "checkpoint_iter = 4000\n",
        "\n",
        "print('Building encoder and decoder ...')\n",
        "# Initialize word embeddings\n",
        "embedding = nn.Embedding(voc.num_words, hidden_size)\n",
        "# Initialize encoder & decoder models\n",
        "encoder = EncoderRNN(hidden_size, embedding, encoder_n_layers, dropout)\n",
        "decoder = LuongAttnDecoderRNN(attn_model, embedding, hidden_size, voc.num_words, decoder_n_layers, dropout)\n",
        "# Use appropriate device\n",
        "encoder = encoder.to(device)\n",
        "decoder = decoder.to(device)\n",
        "print('Models built and ready to go!')\n",
        "\n",
        "# Configure training/optimization\n",
        "clip = 100.0\n",
        "teacher_forcing_ratio = 1.0\n",
        "learning_rate = 0.00025\n",
        "decoder_learning_ratio = 1.0\n",
        "n_iteration = 4000\n",
        "print_every = 1\n",
        "save_every = 500\n",
        "\n",
        "# Ensure dropout layers are in train mode\n",
        "encoder.train()\n",
        "decoder.train()\n",
        "\n",
        "# Initialize optimizers\n",
        "print('Building optimizers ...')\n",
        "encoder_optimizer = optim.SGD(encoder.parameters(), lr=learning_rate)\n",
        "decoder_optimizer = optim.SGD(decoder.parameters(), lr=learning_rate * decoder_learning_ratio)\n",
        "\n",
        "# If you have CUDA, configure CUDA to call\n",
        "for state in encoder_optimizer.state.values():\n",
        "    for k, v in state.items():\n",
        "        if isinstance(v, torch.Tensor):\n",
        "            state[k] = v.cuda()\n",
        "\n",
        "for state in decoder_optimizer.state.values():\n",
        "    for k, v in state.items():\n",
        "        if isinstance(v, torch.Tensor):\n",
        "            state[k] = v.cuda()\n",
        "\n",
        "# Run training iterations\n",
        "print(\"Starting Training!\")\n",
        "trainIters(model_name, voc, pairs, encoder, decoder, encoder_optimizer, decoder_optimizer,\n",
        "            embedding, encoder_n_layers, decoder_n_layers, save_dir, n_iteration, batch_size,\n",
        "            print_every, save_every, clip, corpus_name, loadFilename)"
      ]
    },
    {
      "cell_type": "markdown",
      "metadata": {
        "id": "v_QEHAtGh_vc"
      },
      "source": [
        "# Pytorch Profiling"
      ]
    },
    {
      "cell_type": "code",
      "execution_count": 22,
      "metadata": {
        "id": "BXbzkJpGh_Lp"
      },
      "outputs": [],
      "source": [
        "from torch.profiler import profile, record_function, ProfilerActivity"
      ]
    },
    {
      "cell_type": "code",
      "execution_count": 26,
      "metadata": {
        "id": "dA6taAvbiQOi"
      },
      "outputs": [
        {
          "name": "stderr",
          "output_type": "stream",
          "text": [
            "STAGE:2023-11-07 00:02:00 460988:460988 ActivityProfilerController.cpp:311] Completed Stage: Warm Up\n",
            "STAGE:2023-11-07 00:02:01 460988:460988 ActivityProfilerController.cpp:317] Completed Stage: Collection\n",
            "STAGE:2023-11-07 00:02:01 460988:460988 ActivityProfilerController.cpp:321] Completed Stage: Post Processing\n"
          ]
        }
      ],
      "source": [
        "with profile(activities=[\n",
        "        ProfilerActivity.CPU, ProfilerActivity.CUDA], record_shapes=True, profile_memory=True, with_stack=True) as prof:\n",
        "    with record_function(\"model_inference\"):\n",
        "        for i in range(50):\n",
        "          evaluate(encoder, decoder, searcher, voc, random.choice(pairs)[0], max_length=MAX_LENGTH)"
      ]
    },
    {
      "cell_type": "code",
      "execution_count": 27,
      "metadata": {},
      "outputs": [
        {
          "name": "stdout",
          "output_type": "stream",
          "text": [
            "-------------------------------------------------------  ------------  ------------  ------------  ------------  ------------  ------------  ------------  ------------  ------------  ------------  ------------  ------------  ------------  ------------  \n",
            "                                                   Name    Self CPU %      Self CPU   CPU total %     CPU total  CPU time avg     Self CUDA   Self CUDA %    CUDA total  CUDA time avg       CPU Mem  Self CPU Mem      CUDA Mem  Self CUDA Mem    # of Calls  \n",
            "-------------------------------------------------------  ------------  ------------  ------------  ------------  ------------  ------------  ------------  ------------  ------------  ------------  ------------  ------------  ------------  ------------  \n",
            "                                            aten::empty         3.46%      22.950ms         3.46%      22.950ms       4.330us       0.000us         0.00%       0.000us       0.000us       5.40 Kb       5.40 Kb      17.36 Gb      17.36 Gb          5300  \n",
            "                            aten::_pack_padded_sequence         0.13%     890.000us         0.56%       3.706ms      74.120us       0.000us         0.00%     166.000us       3.320us       2.39 Kb          48 b     612.00 Kb           0 b            50  \n",
            "                             aten::_pad_packed_sequence         0.13%     894.000us         0.82%       5.426ms     108.520us       0.000us         0.00%     332.000us       6.640us         400 b          16 b       1.18 Mb           0 b            50  \n",
            "                                               aten::to         0.55%       3.619ms         0.91%       6.030ms      24.120us       0.000us         0.00%      70.000us       0.280us           0 b           0 b      25.00 Kb       2.00 Kb           250  \n",
            "                                       aten::lift_fresh         0.00%       2.000us         0.00%       2.000us       0.020us       0.000us         0.00%       0.000us       0.000us           0 b           0 b           0 b           0 b           100  \n",
            "                                          aten::detach_         0.02%     110.000us         0.02%     148.000us       2.960us       0.000us         0.00%       0.000us       0.000us           0 b           0 b           0 b           0 b            50  \n",
            "                                                detach_         0.01%      42.000us         0.01%      42.000us       0.840us       0.000us         0.00%       0.000us       0.000us           0 b           0 b           0 b           0 b            50  \n",
            "                                        aten::transpose         1.00%       6.598ms         1.17%       7.756ms       3.783us       0.000us         0.00%       0.000us       0.000us           0 b           0 b           0 b           0 b          2050  \n",
            "                                       aten::as_strided         0.52%       3.423ms         0.52%       3.423ms       0.439us       0.000us         0.00%       0.000us       0.000us           0 b           0 b           0 b           0 b          7800  \n",
            "                                         aten::_to_copy         0.06%     414.000us         0.39%       2.561ms      51.220us       0.000us         0.00%      73.000us       1.460us           0 b           0 b      25.00 Kb           0 b            50  \n",
            "-------------------------------------------------------  ------------  ------------  ------------  ------------  ------------  ------------  ------------  ------------  ------------  ------------  ------------  ------------  ------------  ------------  \n",
            "Self CPU time total: 663.109ms\n",
            "Self CUDA time total: 175.738ms\n",
            "\n"
          ]
        }
      ],
      "source": [
        "print(prof.key_averages().table(sort_by=\"self_cpu_memory_usage\", row_limit=10))"
      ]
    },
    {
      "cell_type": "code",
      "execution_count": 61,
      "metadata": {
        "id": "6eIWAq7ZKcWq"
      },
      "outputs": [],
      "source": [
        "prof.export_chrome_trace(\"/content/drive/MyDrive/School/MS/Coursework/Fall 2023/High Performance ML/HW/HW3/data/save/trace.json\")"
      ]
    },
    {
      "cell_type": "markdown",
      "metadata": {
        "id": "1PbU3xNzOTMJ"
      },
      "source": [
        "# Converting the Model to Torchscript"
      ]
    },
    {
      "cell_type": "code",
      "execution_count": 118,
      "metadata": {
        "id": "3TBJoukdXDc6"
      },
      "outputs": [],
      "source": [
        "device = 'cpu'\n",
        "encoder = encoder.to(device)\n",
        "decoder = decoder.to(device)\n",
        "# Initialize search module\n",
        "searcher = GreedySearchDecoder(encoder, decoder)"
      ]
    },
    {
      "cell_type": "code",
      "execution_count": 119,
      "metadata": {
        "id": "W3ISJ-NBMwrv"
      },
      "outputs": [],
      "source": [
        "class GreedySearchDecoder(nn.Module):\n",
        "    def __init__(self, encoder, decoder, decoder_n_layers):\n",
        "        super(GreedySearchDecoder, self).__init__()\n",
        "        self.encoder = encoder\n",
        "        self.decoder = decoder\n",
        "        self._device = device\n",
        "        self._SOS_token = SOS_token\n",
        "        self._decoder_n_layers = decoder_n_layers\n",
        "\n",
        "    __constants__ = ['_device', '_SOS_token', '_decoder_n_layers']\n",
        "\n",
        "    def forward(self, input_seq : torch.Tensor, input_length : torch.Tensor, max_length : int):\n",
        "        # Forward input through encoder model\n",
        "        encoder_outputs, encoder_hidden = self.encoder(input_seq, input_length)\n",
        "        # Prepare encoder's final hidden layer to be first hidden input to the decoder\n",
        "        decoder_hidden = encoder_hidden[:self._decoder_n_layers]\n",
        "        # Initialize decoder input with SOS_token\n",
        "        decoder_input = torch.ones(1, 1, device=self._device, dtype=torch.long) * self._SOS_token\n",
        "        # Initialize tensors to append decoded words to\n",
        "        all_tokens = torch.zeros([0], device=self._device, dtype=torch.long)\n",
        "        all_scores = torch.zeros([0], device=self._device)\n",
        "        # Iteratively decode one word token at a time\n",
        "        for _ in range(max_length):\n",
        "            # Forward pass through decoder\n",
        "            decoder_output, decoder_hidden = self.decoder(decoder_input, decoder_hidden, encoder_outputs)\n",
        "            # Obtain most likely word token and its softmax score\n",
        "            decoder_scores, decoder_input = torch.max(decoder_output, dim=1)\n",
        "            # Record token and score\n",
        "            all_tokens = torch.cat((all_tokens, decoder_input), dim=0)\n",
        "            all_scores = torch.cat((all_scores, decoder_scores), dim=0)\n",
        "            # Prepare current token to be next decoder input (add a dimension)\n",
        "            decoder_input = torch.unsqueeze(decoder_input, 0)\n",
        "        # Return collections of word tokens and scores\n",
        "        return all_tokens, all_scores"
      ]
    },
    {
      "cell_type": "code",
      "execution_count": 120,
      "metadata": {
        "colab": {
          "base_uri": "https://localhost:8080/"
        },
        "id": "arSb7Fn0PCbd",
        "outputId": "dc018570-6f5f-4e02-d710-f3d34ab8aeb5"
      },
      "outputs": [
        {
          "name": "stderr",
          "output_type": "stream",
          "text": [
            "/usr/local/lib/python3.10/dist-packages/torch/jit/_trace.py:160: UserWarning: The .grad attribute of a Tensor that is not a leaf Tensor is being accessed. Its .grad attribute won't be populated during autograd.backward(). If you indeed want the .grad field to be populated for a non-leaf Tensor, use .retain_grad() on the non-leaf Tensor. If you access the non-leaf Tensor by mistake, make sure you access the leaf Tensor instead. See github.com/pytorch/pytorch/pull/30531 for more informations. (Triggered internally at aten/src/ATen/core/TensorBody.h:489.)\n",
            "  if a.grad is not None:\n"
          ]
        }
      ],
      "source": [
        "### Compile the whole greedy search model to TorchScript model\n",
        "# Create artificial inputs\n",
        "test_seq = torch.LongTensor(MAX_LENGTH, 1).random_(0, voc.num_words).to(device)\n",
        "test_seq_length = torch.LongTensor([test_seq.size()[0]]).to(device)\n",
        "# Trace the model\n",
        "traced_encoder = torch.jit.trace(encoder, (test_seq, test_seq_length))\n",
        "\n",
        "### Convert decoder model\n",
        "# Create and generate artificial inputs\n",
        "test_encoder_outputs, test_encoder_hidden = traced_encoder(test_seq, test_seq_length)\n",
        "test_decoder_hidden = test_encoder_hidden[:decoder.n_layers]\n",
        "test_decoder_input = torch.LongTensor(1, 1).random_(0, voc.num_words)\n",
        "# Trace the model\n",
        "traced_decoder = torch.jit.trace(decoder, (test_decoder_input, test_decoder_hidden, test_encoder_outputs))\n",
        "\n",
        "### Initialize searcher module by wrapping ``torch.jit.script`` call\n",
        "scripted_searcher = torch.jit.script(GreedySearchDecoder(traced_encoder, traced_decoder, decoder.n_layers))"
      ]
    },
    {
      "cell_type": "code",
      "execution_count": 121,
      "metadata": {
        "colab": {
          "base_uri": "https://localhost:8080/"
        },
        "id": "msaq999NPgCj",
        "outputId": "b2036028-e6d0-4bef-bdf6-3e9ab4020660"
      },
      "outputs": [
        {
          "name": "stdout",
          "output_type": "stream",
          "text": [
            "scripted_searcher graph:\n",
            " graph(%self : __torch__.___torch_mangle_75.GreedySearchDecoder,\n",
            "      %input_seq.1 : Tensor,\n",
            "      %input_length.1 : Tensor,\n",
            "      %max_length.1 : int):\n",
            "  %59 : bool = prim::Constant[value=0]()\n",
            "  %48 : bool = prim::Constant[value=1]() # <ipython-input-119-7c45bc0b22de>:23:8\n",
            "  %107 : Device = prim::Constant[value=\"cpu\"]()\n",
            "  %18 : int = prim::Constant[value=4]() # <ipython-input-119-7c45bc0b22de>:18:68\n",
            "  %14 : NoneType = prim::Constant()\n",
            "  %12 : int = prim::Constant[value=2]() # <ipython-input-119-7c45bc0b22de>:16:41\n",
            "  %16 : int = prim::Constant[value=1]() # <ipython-input-119-7c45bc0b22de>:18:35\n",
            "  %27 : int = prim::Constant[value=0]() # <ipython-input-119-7c45bc0b22de>:20:34\n",
            "  %encoder : __torch__.___torch_mangle_57.EncoderRNN = prim::GetAttr[name=\"encoder\"](%self)\n",
            "  %7 : (Tensor, Tensor) = prim::CallMethod[name=\"forward\"](%encoder, %input_seq.1, %input_length.1) # <ipython-input-119-7c45bc0b22de>:14:42\n",
            "  %encoder_outputs.1 : Tensor, %encoder_hidden.1 : Tensor = prim::TupleUnpack(%7)\n",
            "  %decoder_hidden.1 : Tensor = aten::slice(%encoder_hidden.1, %27, %14, %12, %16) # <ipython-input-119-7c45bc0b22de>:16:25\n",
            "  %20 : int[] = prim::ListConstruct(%16, %16)\n",
            "  %24 : Tensor = aten::ones(%20, %18, %14, %107, %14) # <ipython-input-119-7c45bc0b22de>:18:24\n",
            "  %decoder_input.1 : Tensor = aten::mul(%24, %16) # <ipython-input-119-7c45bc0b22de>:18:24\n",
            "  %28 : int[] = prim::ListConstruct(%27)\n",
            "  %all_tokens.1 : Tensor = aten::zeros(%28, %18, %14, %107, %14) # <ipython-input-119-7c45bc0b22de>:20:21\n",
            "  %36 : int[] = prim::ListConstruct(%27)\n",
            "  %all_scores.1 : Tensor = aten::zeros(%36, %14, %14, %107, %14) # <ipython-input-119-7c45bc0b22de>:21:21\n",
            "  %all_tokens : Tensor, %all_scores : Tensor, %decoder_hidden : Tensor, %decoder_input : Tensor = prim::Loop(%max_length.1, %48, %all_tokens.1, %all_scores.1, %decoder_hidden.1, %decoder_input.1) # <ipython-input-119-7c45bc0b22de>:23:8\n",
            "    block0(%49 : int, %all_tokens.11 : Tensor, %all_scores.11 : Tensor, %decoder_hidden.9 : Tensor, %decoder_input.17 : Tensor):\n",
            "      %decoder : __torch__.___torch_mangle_67.LuongAttnDecoderRNN = prim::GetAttr[name=\"decoder\"](%self)\n",
            "      %54 : (Tensor, Tensor) = prim::CallMethod[name=\"forward\"](%decoder, %decoder_input.17, %decoder_hidden.9, %encoder_outputs.1) # <ipython-input-119-7c45bc0b22de>:25:45\n",
            "      %decoder_output.1 : Tensor, %decoder_hidden.5 : Tensor = prim::TupleUnpack(%54)\n",
            "      %decoder_scores.1 : Tensor, %decoder_input.5 : Tensor = aten::max(%decoder_output.1, %16, %59) # <ipython-input-119-7c45bc0b22de>:27:44\n",
            "      %67 : Tensor[] = prim::ListConstruct(%all_tokens.11, %decoder_input.5)\n",
            "      %all_tokens.5 : Tensor = aten::cat(%67, %27) # <ipython-input-119-7c45bc0b22de>:29:25\n",
            "      %73 : Tensor[] = prim::ListConstruct(%all_scores.11, %decoder_scores.1)\n",
            "      %all_scores.5 : Tensor = aten::cat(%73, %27) # <ipython-input-119-7c45bc0b22de>:30:25\n",
            "      %decoder_input.13 : Tensor = aten::unsqueeze(%decoder_input.5, %27) # <ipython-input-119-7c45bc0b22de>:32:28\n",
            "      -> (%48, %all_tokens.5, %all_scores.5, %decoder_hidden.5, %decoder_input.13)\n",
            "  %81 : (Tensor, Tensor) = prim::TupleConstruct(%all_tokens, %all_scores)\n",
            "  return (%81)\n",
            "\n"
          ]
        }
      ],
      "source": [
        "print('scripted_searcher graph:\\n', scripted_searcher.graph)\n"
      ]
    },
    {
      "cell_type": "code",
      "execution_count": 142,
      "metadata": {
        "id": "z3j0_ufCQ0Gn"
      },
      "outputs": [],
      "source": [
        "def evaluate(searcher, voc, sentence, max_length=MAX_LENGTH):\n",
        "    ### Format input sentence as a batch\n",
        "    # words -> indexes\n",
        "    indexes_batch = [indexesFromSentence(voc, sentence)]\n",
        "    # Create lengths tensor\n",
        "    lengths = torch.tensor([len(indexes) for indexes in indexes_batch])\n",
        "    # Transpose dimensions of batch to match models' expectations\n",
        "    input_batch = torch.LongTensor(indexes_batch).transpose(0, 1)\n",
        "    # Use appropriate device\n",
        "    input_batch = input_batch.to(device)\n",
        "    lengths = lengths.to(device)\n",
        "    # Decode sentence with searcher\n",
        "    tokens, scores = searcher(input_batch, lengths, max_length)\n",
        "    # indexes -> words\n",
        "    decoded_words = [voc.index2word[token.item()] for token in tokens]\n",
        "    return decoded_words\n",
        "\n",
        "\n",
        "# Evaluate inputs from user input (``stdin``)\n",
        "def evaluateInput(searcher, voc):\n",
        "    input_sentence = ''\n",
        "    while(1):\n",
        "        try:\n",
        "            # Get input sentence\n",
        "            input_sentence = input('> ')\n",
        "            # Check if it is quit case\n",
        "            if input_sentence == 'q' or input_sentence == 'quit': break\n",
        "            # Normalize sentence\n",
        "            input_sentence = normalizeString(input_sentence)\n",
        "            # Evaluate sentence\n",
        "            output_words = evaluate(searcher, voc, input_sentence)\n",
        "            # Format and print response sentence\n",
        "            output_words[:] = [x for x in output_words if not (x == 'EOS' or x == 'PAD')]\n",
        "            print('Bot:', ' '.join(output_words))\n",
        "\n",
        "        except KeyError:\n",
        "            print(\"Error: Encountered unknown word.\")\n",
        "\n",
        "# Normalize input sentence and call ``evaluate()``\n",
        "def evaluateExample(sentence, searcher, voc, p=True):\n",
        "    if p: print(\"> \" + sentence)\n",
        "    # Normalize sentence\n",
        "    input_sentence = normalizeString(sentence)\n",
        "    # Evaluate sentence\n",
        "    output_words = evaluate(searcher, voc, input_sentence)\n",
        "    output_words[:] = [x for x in output_words if not (x == 'EOS' or x == 'PAD')]\n",
        "    if p: print('Bot:', ' '.join(output_words))"
      ]
    },
    {
      "cell_type": "code",
      "execution_count": 77,
      "metadata": {
        "colab": {
          "base_uri": "https://localhost:8080/",
          "height": 790
        },
        "id": "ovJMTtNHP492",
        "outputId": "7766f67d-42f6-42c6-e994-b8e4cccc2729"
      },
      "outputs": [
        {
          "name": "stdout",
          "output_type": "stream",
          "text": [
            "> hello\n",
            "Bot: hello . . . . .\n",
            "> what's up?\n",
            "Bot: nothing . the same . up .\n",
            "> who are you?\n",
            "Bot: i m here . . . .\n",
            "> where am I?\n",
            "Bot: you re not a pro . .\n",
            "> where are you from?\n",
            "Bot: i m going home . . .\n",
            "> hi\n",
            "Bot: hi . you alone . .\n",
            "> no\n",
            "Bot: you re a good man .\n",
            "> thanks\n",
            "Bot: you re a good man . analysis .\n",
            "> thanks\n",
            "Bot: you re a good man . analysis .\n",
            "> whats your name\n",
            "Bot: what ? my name ? ?\n",
            "> yes\n",
            "Bot: and you ve been here . ?\n",
            "> what is your name\n",
            "Bot: bob . . . . .\n"
          ]
        },
        {
          "ename": "KeyboardInterrupt",
          "evalue": "ignored",
          "output_type": "error",
          "traceback": [
            "\u001b[0;31m---------------------------------------------------------------------------\u001b[0m",
            "\u001b[0;31mKeyboardInterrupt\u001b[0m                         Traceback (most recent call last)",
            "\u001b[0;32m<ipython-input-77-b3fea168a678>\u001b[0m in \u001b[0;36m<cell line: 12>\u001b[0;34m()\u001b[0m\n\u001b[1;32m     10\u001b[0m \u001b[0;34m\u001b[0m\u001b[0m\n\u001b[1;32m     11\u001b[0m \u001b[0;31m# Evaluate your input by running\u001b[0m\u001b[0;34m\u001b[0m\u001b[0;34m\u001b[0m\u001b[0m\n\u001b[0;32m---> 12\u001b[0;31m \u001b[0mevaluateInput\u001b[0m\u001b[0;34m(\u001b[0m\u001b[0mscripted_searcher\u001b[0m\u001b[0;34m,\u001b[0m \u001b[0mvoc\u001b[0m\u001b[0;34m)\u001b[0m\u001b[0;34m\u001b[0m\u001b[0;34m\u001b[0m\u001b[0m\n\u001b[0m",
            "\u001b[0;32m<ipython-input-75-72f48e59474a>\u001b[0m in \u001b[0;36mevaluateInput\u001b[0;34m(searcher, voc)\u001b[0m\n\u001b[1;32m     23\u001b[0m         \u001b[0;32mtry\u001b[0m\u001b[0;34m:\u001b[0m\u001b[0;34m\u001b[0m\u001b[0;34m\u001b[0m\u001b[0m\n\u001b[1;32m     24\u001b[0m             \u001b[0;31m# Get input sentence\u001b[0m\u001b[0;34m\u001b[0m\u001b[0;34m\u001b[0m\u001b[0m\n\u001b[0;32m---> 25\u001b[0;31m             \u001b[0minput_sentence\u001b[0m \u001b[0;34m=\u001b[0m \u001b[0minput\u001b[0m\u001b[0;34m(\u001b[0m\u001b[0;34m'> '\u001b[0m\u001b[0;34m)\u001b[0m\u001b[0;34m\u001b[0m\u001b[0;34m\u001b[0m\u001b[0m\n\u001b[0m\u001b[1;32m     26\u001b[0m             \u001b[0;31m# Check if it is quit case\u001b[0m\u001b[0;34m\u001b[0m\u001b[0;34m\u001b[0m\u001b[0m\n\u001b[1;32m     27\u001b[0m             \u001b[0;32mif\u001b[0m \u001b[0minput_sentence\u001b[0m \u001b[0;34m==\u001b[0m \u001b[0;34m'q'\u001b[0m \u001b[0;32mor\u001b[0m \u001b[0minput_sentence\u001b[0m \u001b[0;34m==\u001b[0m \u001b[0;34m'quit'\u001b[0m\u001b[0;34m:\u001b[0m \u001b[0;32mbreak\u001b[0m\u001b[0;34m\u001b[0m\u001b[0;34m\u001b[0m\u001b[0m\n",
            "\u001b[0;32m/usr/local/lib/python3.10/dist-packages/ipykernel/kernelbase.py\u001b[0m in \u001b[0;36mraw_input\u001b[0;34m(self, prompt)\u001b[0m\n\u001b[1;32m    849\u001b[0m                 \u001b[0;34m\"raw_input was called, but this frontend does not support input requests.\"\u001b[0m\u001b[0;34m\u001b[0m\u001b[0;34m\u001b[0m\u001b[0m\n\u001b[1;32m    850\u001b[0m             )\n\u001b[0;32m--> 851\u001b[0;31m         return self._input_request(str(prompt),\n\u001b[0m\u001b[1;32m    852\u001b[0m             \u001b[0mself\u001b[0m\u001b[0;34m.\u001b[0m\u001b[0m_parent_ident\u001b[0m\u001b[0;34m,\u001b[0m\u001b[0;34m\u001b[0m\u001b[0;34m\u001b[0m\u001b[0m\n\u001b[1;32m    853\u001b[0m             \u001b[0mself\u001b[0m\u001b[0;34m.\u001b[0m\u001b[0m_parent_header\u001b[0m\u001b[0;34m,\u001b[0m\u001b[0;34m\u001b[0m\u001b[0;34m\u001b[0m\u001b[0m\n",
            "\u001b[0;32m/usr/local/lib/python3.10/dist-packages/ipykernel/kernelbase.py\u001b[0m in \u001b[0;36m_input_request\u001b[0;34m(self, prompt, ident, parent, password)\u001b[0m\n\u001b[1;32m    893\u001b[0m             \u001b[0;32mexcept\u001b[0m \u001b[0mKeyboardInterrupt\u001b[0m\u001b[0;34m:\u001b[0m\u001b[0;34m\u001b[0m\u001b[0;34m\u001b[0m\u001b[0m\n\u001b[1;32m    894\u001b[0m                 \u001b[0;31m# re-raise KeyboardInterrupt, to truncate traceback\u001b[0m\u001b[0;34m\u001b[0m\u001b[0;34m\u001b[0m\u001b[0m\n\u001b[0;32m--> 895\u001b[0;31m                 \u001b[0;32mraise\u001b[0m \u001b[0mKeyboardInterrupt\u001b[0m\u001b[0;34m(\u001b[0m\u001b[0;34m\"Interrupted by user\"\u001b[0m\u001b[0;34m)\u001b[0m \u001b[0;32mfrom\u001b[0m \u001b[0;32mNone\u001b[0m\u001b[0;34m\u001b[0m\u001b[0;34m\u001b[0m\u001b[0m\n\u001b[0m\u001b[1;32m    896\u001b[0m             \u001b[0;32mexcept\u001b[0m \u001b[0mException\u001b[0m \u001b[0;32mas\u001b[0m \u001b[0me\u001b[0m\u001b[0;34m:\u001b[0m\u001b[0;34m\u001b[0m\u001b[0;34m\u001b[0m\u001b[0m\n\u001b[1;32m    897\u001b[0m                 \u001b[0mself\u001b[0m\u001b[0;34m.\u001b[0m\u001b[0mlog\u001b[0m\u001b[0;34m.\u001b[0m\u001b[0mwarning\u001b[0m\u001b[0;34m(\u001b[0m\u001b[0;34m\"Invalid Message:\"\u001b[0m\u001b[0;34m,\u001b[0m \u001b[0mexc_info\u001b[0m\u001b[0;34m=\u001b[0m\u001b[0;32mTrue\u001b[0m\u001b[0;34m)\u001b[0m\u001b[0;34m\u001b[0m\u001b[0;34m\u001b[0m\u001b[0m\n",
            "\u001b[0;31mKeyboardInterrupt\u001b[0m: Interrupted by user"
          ]
        }
      ],
      "source": [
        "# Use appropriate device\n",
        "scripted_searcher.to(device)\n",
        "# Set dropout layers to ``eval`` mode\n",
        "scripted_searcher.eval()\n",
        "\n",
        "# # Evaluate examples\n",
        "# sentences = [\"hello\", \"what's up?\", \"who are you?\", \"where am I?\", \"where are you from?\"]\n",
        "# for s in sentences:\n",
        "#     evaluateExample(s, scripted_searcher, voc)\n",
        "\n",
        "# Evaluate your input by running\n",
        "evaluateInput(scripted_searcher, voc)"
      ]
    },
    {
      "cell_type": "code",
      "execution_count": 78,
      "metadata": {
        "id": "HMQZxN6WQDm1"
      },
      "outputs": [],
      "source": [
        "scripted_searcher.save(\"/content/drive/MyDrive/School/MS/Coursework/Fall 2023/High Performance ML/HW/HW3/data/save/scripted_chatbot.pth\")"
      ]
    },
    {
      "cell_type": "markdown",
      "metadata": {
        "id": "xmPQVN-laJNM"
      },
      "source": [
        "# Benchmark Latency of Torchscriped model and Pytorch model on GPU vs. CPU"
      ]
    },
    {
      "cell_type": "code",
      "execution_count": 123,
      "metadata": {
        "id": "RkHgtnt8bHn9"
      },
      "outputs": [],
      "source": [
        "from time import perf_counter"
      ]
    },
    {
      "cell_type": "code",
      "execution_count": 144,
      "metadata": {
        "id": "-FK8e0w1a0jV"
      },
      "outputs": [],
      "source": [
        "times = {}\n",
        "devices = ['cpu', 'cuda']\n",
        "models = ['pytorch', 'torchscript']\n",
        "s = \"what's up?\"\n",
        "for d in devices:\n",
        "  for m in models:\n",
        "    # Use appropriate device\n",
        "    scripted_searcher.to(device)\n",
        "    # Set dropout layers to ``eval`` mode\n",
        "    scripted_searcher.eval()\n",
        "    all_times = []\n",
        "    for i in range(100):\n",
        "      start = perf_counter()\n",
        "      evaluateExample(random.choice(pairs)[0], scripted_searcher, voc, p=False)\n",
        "      end = perf_counter()\n",
        "      all_times.append(end-start)\n",
        "    times[f'{m}_{d}'] = sum(all_times) / len(all_times)\n"
      ]
    },
    {
      "cell_type": "code",
      "execution_count": 146,
      "metadata": {
        "colab": {
          "base_uri": "https://localhost:8080/"
        },
        "id": "gr5vMJilbZS-",
        "outputId": "d20557c5-87c2-4096-86cc-3733ac346f7a"
      },
      "outputs": [
        {
          "data": {
            "text/plain": [
              "{'pytorch_cpu': 41.021882220020416,\n",
              " 'torchscript_cpu': 41.78662137998799,\n",
              " 'pytorch_cuda': 45.37607797994497,\n",
              " 'torchscript_cuda': 38.386942050046855}"
            ]
          },
          "execution_count": 146,
          "metadata": {},
          "output_type": "execute_result"
        }
      ],
      "source": [
        "times_ms = {m: times[m]*1000 for m in times}\n",
        "times_ms"
      ]
    }
  ],
  "metadata": {
    "colab": {
      "provenance": [],
      "toc_visible": true
    },
    "kernelspec": {
      "display_name": "Python 3",
      "name": "python3"
    },
    "language_info": {
      "codemirror_mode": {
        "name": "ipython",
        "version": 3
      },
      "file_extension": ".py",
      "mimetype": "text/x-python",
      "name": "python",
      "nbconvert_exporter": "python",
      "pygments_lexer": "ipython3",
      "version": "3.10.12"
    },
    "widgets": {
      "application/vnd.jupyter.widget-state+json": {
        "0170ec8478074a8dab063c671eb97ba4": {
          "model_module": "@jupyter-widgets/controls",
          "model_module_version": "1.5.0",
          "model_name": "FloatProgressModel",
          "state": {
            "_dom_classes": [],
            "_model_module": "@jupyter-widgets/controls",
            "_model_module_version": "1.5.0",
            "_model_name": "FloatProgressModel",
            "_view_count": null,
            "_view_module": "@jupyter-widgets/controls",
            "_view_module_version": "1.5.0",
            "_view_name": "ProgressView",
            "bar_style": "",
            "description": "",
            "description_tooltip": null,
            "layout": "IPY_MODEL_df691323845c4851ab352e9c7fe334bc",
            "max": 1,
            "min": 0,
            "orientation": "horizontal",
            "style": "IPY_MODEL_e81e4ff645484612957a2304928505be",
            "value": 1
          }
        },
        "017b0c11f581452c94f0175025d8cce9": {
          "model_module": "@jupyter-widgets/controls",
          "model_module_version": "1.5.0",
          "model_name": "LabelModel",
          "state": {
            "_dom_classes": [],
            "_model_module": "@jupyter-widgets/controls",
            "_model_module_version": "1.5.0",
            "_model_name": "LabelModel",
            "_view_count": null,
            "_view_module": "@jupyter-widgets/controls",
            "_view_module_version": "1.5.0",
            "_view_name": "LabelView",
            "description": "",
            "description_tooltip": null,
            "layout": "IPY_MODEL_2f5573f9f7bb454ca08ea677cb5fabe0",
            "placeholder": "​",
            "style": "IPY_MODEL_c0acd343d6ba404bb45aa6ceced9f574",
            "value": "0.010 MB of 0.010 MB uploaded (0.000 MB deduped)\r"
          }
        },
        "019d2b4367684af582c10d66e8ff6be8": {
          "model_module": "@jupyter-widgets/controls",
          "model_module_version": "1.5.0",
          "model_name": "VBoxModel",
          "state": {
            "_dom_classes": [],
            "_model_module": "@jupyter-widgets/controls",
            "_model_module_version": "1.5.0",
            "_model_name": "VBoxModel",
            "_view_count": null,
            "_view_module": "@jupyter-widgets/controls",
            "_view_module_version": "1.5.0",
            "_view_name": "VBoxView",
            "box_style": "",
            "children": [
              "IPY_MODEL_ec175ad65e5e4d3d8a59ac10d8f79f13",
              "IPY_MODEL_9b68721affa048629f90bb241e45a2ed"
            ],
            "layout": "IPY_MODEL_5c01885f684f408192f472899ef7ce39"
          }
        },
        "03275024237a41ff945969a308f5096d": {
          "model_module": "@jupyter-widgets/base",
          "model_module_version": "1.2.0",
          "model_name": "LayoutModel",
          "state": {
            "_model_module": "@jupyter-widgets/base",
            "_model_module_version": "1.2.0",
            "_model_name": "LayoutModel",
            "_view_count": null,
            "_view_module": "@jupyter-widgets/base",
            "_view_module_version": "1.2.0",
            "_view_name": "LayoutView",
            "align_content": null,
            "align_items": null,
            "align_self": null,
            "border": null,
            "bottom": null,
            "display": null,
            "flex": null,
            "flex_flow": null,
            "grid_area": null,
            "grid_auto_columns": null,
            "grid_auto_flow": null,
            "grid_auto_rows": null,
            "grid_column": null,
            "grid_gap": null,
            "grid_row": null,
            "grid_template_areas": null,
            "grid_template_columns": null,
            "grid_template_rows": null,
            "height": null,
            "justify_content": null,
            "justify_items": null,
            "left": null,
            "margin": null,
            "max_height": null,
            "max_width": null,
            "min_height": null,
            "min_width": null,
            "object_fit": null,
            "object_position": null,
            "order": null,
            "overflow": null,
            "overflow_x": null,
            "overflow_y": null,
            "padding": null,
            "right": null,
            "top": null,
            "visibility": null,
            "width": null
          }
        },
        "037751600e594af1872652b3db89b842": {
          "model_module": "@jupyter-widgets/controls",
          "model_module_version": "1.5.0",
          "model_name": "DescriptionStyleModel",
          "state": {
            "_model_module": "@jupyter-widgets/controls",
            "_model_module_version": "1.5.0",
            "_model_name": "DescriptionStyleModel",
            "_view_count": null,
            "_view_module": "@jupyter-widgets/base",
            "_view_module_version": "1.2.0",
            "_view_name": "StyleView",
            "description_width": ""
          }
        },
        "03ee8d18b36a43b1bf96e6c3117c8765": {
          "model_module": "@jupyter-widgets/base",
          "model_module_version": "1.2.0",
          "model_name": "LayoutModel",
          "state": {
            "_model_module": "@jupyter-widgets/base",
            "_model_module_version": "1.2.0",
            "_model_name": "LayoutModel",
            "_view_count": null,
            "_view_module": "@jupyter-widgets/base",
            "_view_module_version": "1.2.0",
            "_view_name": "LayoutView",
            "align_content": null,
            "align_items": null,
            "align_self": null,
            "border": null,
            "bottom": null,
            "display": null,
            "flex": null,
            "flex_flow": null,
            "grid_area": null,
            "grid_auto_columns": null,
            "grid_auto_flow": null,
            "grid_auto_rows": null,
            "grid_column": null,
            "grid_gap": null,
            "grid_row": null,
            "grid_template_areas": null,
            "grid_template_columns": null,
            "grid_template_rows": null,
            "height": null,
            "justify_content": null,
            "justify_items": null,
            "left": null,
            "margin": null,
            "max_height": null,
            "max_width": null,
            "min_height": null,
            "min_width": null,
            "object_fit": null,
            "object_position": null,
            "order": null,
            "overflow": null,
            "overflow_x": null,
            "overflow_y": null,
            "padding": null,
            "right": null,
            "top": null,
            "visibility": null,
            "width": null
          }
        },
        "0901f8e234d749748bf5712293286408": {
          "model_module": "@jupyter-widgets/base",
          "model_module_version": "1.2.0",
          "model_name": "LayoutModel",
          "state": {
            "_model_module": "@jupyter-widgets/base",
            "_model_module_version": "1.2.0",
            "_model_name": "LayoutModel",
            "_view_count": null,
            "_view_module": "@jupyter-widgets/base",
            "_view_module_version": "1.2.0",
            "_view_name": "LayoutView",
            "align_content": null,
            "align_items": null,
            "align_self": null,
            "border": null,
            "bottom": null,
            "display": null,
            "flex": null,
            "flex_flow": null,
            "grid_area": null,
            "grid_auto_columns": null,
            "grid_auto_flow": null,
            "grid_auto_rows": null,
            "grid_column": null,
            "grid_gap": null,
            "grid_row": null,
            "grid_template_areas": null,
            "grid_template_columns": null,
            "grid_template_rows": null,
            "height": null,
            "justify_content": null,
            "justify_items": null,
            "left": null,
            "margin": null,
            "max_height": null,
            "max_width": null,
            "min_height": null,
            "min_width": null,
            "object_fit": null,
            "object_position": null,
            "order": null,
            "overflow": null,
            "overflow_x": null,
            "overflow_y": null,
            "padding": null,
            "right": null,
            "top": null,
            "visibility": null,
            "width": null
          }
        },
        "09d1114ccee04220be0dc768952c17f1": {
          "model_module": "@jupyter-widgets/controls",
          "model_module_version": "1.5.0",
          "model_name": "FloatProgressModel",
          "state": {
            "_dom_classes": [],
            "_model_module": "@jupyter-widgets/controls",
            "_model_module_version": "1.5.0",
            "_model_name": "FloatProgressModel",
            "_view_count": null,
            "_view_module": "@jupyter-widgets/controls",
            "_view_module_version": "1.5.0",
            "_view_name": "ProgressView",
            "bar_style": "",
            "description": "",
            "description_tooltip": null,
            "layout": "IPY_MODEL_790fd9861a844822a7ea60b0e74cabdd",
            "max": 1,
            "min": 0,
            "orientation": "horizontal",
            "style": "IPY_MODEL_0f2e73016a464067a52e02a14f44e736",
            "value": 1
          }
        },
        "0a2871761c204189ac964f0063ccfe24": {
          "model_module": "@jupyter-widgets/base",
          "model_module_version": "1.2.0",
          "model_name": "LayoutModel",
          "state": {
            "_model_module": "@jupyter-widgets/base",
            "_model_module_version": "1.2.0",
            "_model_name": "LayoutModel",
            "_view_count": null,
            "_view_module": "@jupyter-widgets/base",
            "_view_module_version": "1.2.0",
            "_view_name": "LayoutView",
            "align_content": null,
            "align_items": null,
            "align_self": null,
            "border": null,
            "bottom": null,
            "display": null,
            "flex": null,
            "flex_flow": null,
            "grid_area": null,
            "grid_auto_columns": null,
            "grid_auto_flow": null,
            "grid_auto_rows": null,
            "grid_column": null,
            "grid_gap": null,
            "grid_row": null,
            "grid_template_areas": null,
            "grid_template_columns": null,
            "grid_template_rows": null,
            "height": null,
            "justify_content": null,
            "justify_items": null,
            "left": null,
            "margin": null,
            "max_height": null,
            "max_width": null,
            "min_height": null,
            "min_width": null,
            "object_fit": null,
            "object_position": null,
            "order": null,
            "overflow": null,
            "overflow_x": null,
            "overflow_y": null,
            "padding": null,
            "right": null,
            "top": null,
            "visibility": null,
            "width": null
          }
        },
        "0a61a2dd93ff44268cfef423343c28ff": {
          "model_module": "@jupyter-widgets/controls",
          "model_module_version": "1.5.0",
          "model_name": "DescriptionStyleModel",
          "state": {
            "_model_module": "@jupyter-widgets/controls",
            "_model_module_version": "1.5.0",
            "_model_name": "DescriptionStyleModel",
            "_view_count": null,
            "_view_module": "@jupyter-widgets/base",
            "_view_module_version": "1.2.0",
            "_view_name": "StyleView",
            "description_width": ""
          }
        },
        "0db6a300747d4093811147a596f7d0ff": {
          "model_module": "@jupyter-widgets/controls",
          "model_module_version": "1.5.0",
          "model_name": "FloatProgressModel",
          "state": {
            "_dom_classes": [],
            "_model_module": "@jupyter-widgets/controls",
            "_model_module_version": "1.5.0",
            "_model_name": "FloatProgressModel",
            "_view_count": null,
            "_view_module": "@jupyter-widgets/controls",
            "_view_module_version": "1.5.0",
            "_view_name": "ProgressView",
            "bar_style": "",
            "description": "",
            "description_tooltip": null,
            "layout": "IPY_MODEL_36f23675b63840368cad6c8f1cfd731b",
            "max": 1,
            "min": 0,
            "orientation": "horizontal",
            "style": "IPY_MODEL_ceccbe8a0873466bb0281b7a51085aba",
            "value": 1
          }
        },
        "0f2e73016a464067a52e02a14f44e736": {
          "model_module": "@jupyter-widgets/controls",
          "model_module_version": "1.5.0",
          "model_name": "ProgressStyleModel",
          "state": {
            "_model_module": "@jupyter-widgets/controls",
            "_model_module_version": "1.5.0",
            "_model_name": "ProgressStyleModel",
            "_view_count": null,
            "_view_module": "@jupyter-widgets/base",
            "_view_module_version": "1.2.0",
            "_view_name": "StyleView",
            "bar_color": null,
            "description_width": ""
          }
        },
        "0fcbbbb872c649c1b20f21dcb7ca5bc2": {
          "model_module": "@jupyter-widgets/base",
          "model_module_version": "1.2.0",
          "model_name": "LayoutModel",
          "state": {
            "_model_module": "@jupyter-widgets/base",
            "_model_module_version": "1.2.0",
            "_model_name": "LayoutModel",
            "_view_count": null,
            "_view_module": "@jupyter-widgets/base",
            "_view_module_version": "1.2.0",
            "_view_name": "LayoutView",
            "align_content": null,
            "align_items": null,
            "align_self": null,
            "border": null,
            "bottom": null,
            "display": null,
            "flex": null,
            "flex_flow": null,
            "grid_area": null,
            "grid_auto_columns": null,
            "grid_auto_flow": null,
            "grid_auto_rows": null,
            "grid_column": null,
            "grid_gap": null,
            "grid_row": null,
            "grid_template_areas": null,
            "grid_template_columns": null,
            "grid_template_rows": null,
            "height": null,
            "justify_content": null,
            "justify_items": null,
            "left": null,
            "margin": null,
            "max_height": null,
            "max_width": null,
            "min_height": null,
            "min_width": null,
            "object_fit": null,
            "object_position": null,
            "order": null,
            "overflow": null,
            "overflow_x": null,
            "overflow_y": null,
            "padding": null,
            "right": null,
            "top": null,
            "visibility": null,
            "width": null
          }
        },
        "0fe453dac5c44b5fa19d46c0f912eb90": {
          "model_module": "@jupyter-widgets/controls",
          "model_module_version": "1.5.0",
          "model_name": "ProgressStyleModel",
          "state": {
            "_model_module": "@jupyter-widgets/controls",
            "_model_module_version": "1.5.0",
            "_model_name": "ProgressStyleModel",
            "_view_count": null,
            "_view_module": "@jupyter-widgets/base",
            "_view_module_version": "1.2.0",
            "_view_name": "StyleView",
            "bar_color": null,
            "description_width": ""
          }
        },
        "115fb5e45eb840a6bcbc7bbd6e4b20fb": {
          "model_module": "@jupyter-widgets/base",
          "model_module_version": "1.2.0",
          "model_name": "LayoutModel",
          "state": {
            "_model_module": "@jupyter-widgets/base",
            "_model_module_version": "1.2.0",
            "_model_name": "LayoutModel",
            "_view_count": null,
            "_view_module": "@jupyter-widgets/base",
            "_view_module_version": "1.2.0",
            "_view_name": "LayoutView",
            "align_content": null,
            "align_items": null,
            "align_self": null,
            "border": null,
            "bottom": null,
            "display": null,
            "flex": null,
            "flex_flow": null,
            "grid_area": null,
            "grid_auto_columns": null,
            "grid_auto_flow": null,
            "grid_auto_rows": null,
            "grid_column": null,
            "grid_gap": null,
            "grid_row": null,
            "grid_template_areas": null,
            "grid_template_columns": null,
            "grid_template_rows": null,
            "height": null,
            "justify_content": null,
            "justify_items": null,
            "left": null,
            "margin": null,
            "max_height": null,
            "max_width": null,
            "min_height": null,
            "min_width": null,
            "object_fit": null,
            "object_position": null,
            "order": null,
            "overflow": null,
            "overflow_x": null,
            "overflow_y": null,
            "padding": null,
            "right": null,
            "top": null,
            "visibility": null,
            "width": null
          }
        },
        "16917dc547f145568e7b78af7f802c3b": {
          "model_module": "@jupyter-widgets/controls",
          "model_module_version": "1.5.0",
          "model_name": "DescriptionStyleModel",
          "state": {
            "_model_module": "@jupyter-widgets/controls",
            "_model_module_version": "1.5.0",
            "_model_name": "DescriptionStyleModel",
            "_view_count": null,
            "_view_module": "@jupyter-widgets/base",
            "_view_module_version": "1.2.0",
            "_view_name": "StyleView",
            "description_width": ""
          }
        },
        "179337824b004ee9932da4d79d809753": {
          "model_module": "@jupyter-widgets/base",
          "model_module_version": "1.2.0",
          "model_name": "LayoutModel",
          "state": {
            "_model_module": "@jupyter-widgets/base",
            "_model_module_version": "1.2.0",
            "_model_name": "LayoutModel",
            "_view_count": null,
            "_view_module": "@jupyter-widgets/base",
            "_view_module_version": "1.2.0",
            "_view_name": "LayoutView",
            "align_content": null,
            "align_items": null,
            "align_self": null,
            "border": null,
            "bottom": null,
            "display": null,
            "flex": null,
            "flex_flow": null,
            "grid_area": null,
            "grid_auto_columns": null,
            "grid_auto_flow": null,
            "grid_auto_rows": null,
            "grid_column": null,
            "grid_gap": null,
            "grid_row": null,
            "grid_template_areas": null,
            "grid_template_columns": null,
            "grid_template_rows": null,
            "height": null,
            "justify_content": null,
            "justify_items": null,
            "left": null,
            "margin": null,
            "max_height": null,
            "max_width": null,
            "min_height": null,
            "min_width": null,
            "object_fit": null,
            "object_position": null,
            "order": null,
            "overflow": null,
            "overflow_x": null,
            "overflow_y": null,
            "padding": null,
            "right": null,
            "top": null,
            "visibility": null,
            "width": null
          }
        },
        "198397b1ce754b409ad078410d1c8035": {
          "model_module": "@jupyter-widgets/controls",
          "model_module_version": "1.5.0",
          "model_name": "VBoxModel",
          "state": {
            "_dom_classes": [],
            "_model_module": "@jupyter-widgets/controls",
            "_model_module_version": "1.5.0",
            "_model_name": "VBoxModel",
            "_view_count": null,
            "_view_module": "@jupyter-widgets/controls",
            "_view_module_version": "1.5.0",
            "_view_name": "VBoxView",
            "box_style": "",
            "children": [
              "IPY_MODEL_bed6808ce7614c4da0e658de962df189",
              "IPY_MODEL_1bc1c6ad55854682b761a330356211d6"
            ],
            "layout": "IPY_MODEL_bc9472941a90467c94515cdfd89fd0e2"
          }
        },
        "19ebb9a69aec47fcb8ab1d682fbb2ef7": {
          "model_module": "@jupyter-widgets/base",
          "model_module_version": "1.2.0",
          "model_name": "LayoutModel",
          "state": {
            "_model_module": "@jupyter-widgets/base",
            "_model_module_version": "1.2.0",
            "_model_name": "LayoutModel",
            "_view_count": null,
            "_view_module": "@jupyter-widgets/base",
            "_view_module_version": "1.2.0",
            "_view_name": "LayoutView",
            "align_content": null,
            "align_items": null,
            "align_self": null,
            "border": null,
            "bottom": null,
            "display": null,
            "flex": null,
            "flex_flow": null,
            "grid_area": null,
            "grid_auto_columns": null,
            "grid_auto_flow": null,
            "grid_auto_rows": null,
            "grid_column": null,
            "grid_gap": null,
            "grid_row": null,
            "grid_template_areas": null,
            "grid_template_columns": null,
            "grid_template_rows": null,
            "height": null,
            "justify_content": null,
            "justify_items": null,
            "left": null,
            "margin": null,
            "max_height": null,
            "max_width": null,
            "min_height": null,
            "min_width": null,
            "object_fit": null,
            "object_position": null,
            "order": null,
            "overflow": null,
            "overflow_x": null,
            "overflow_y": null,
            "padding": null,
            "right": null,
            "top": null,
            "visibility": null,
            "width": null
          }
        },
        "1b48325379a04bb1b654fbaf31e9ec3e": {
          "model_module": "@jupyter-widgets/controls",
          "model_module_version": "1.5.0",
          "model_name": "VBoxModel",
          "state": {
            "_dom_classes": [],
            "_model_module": "@jupyter-widgets/controls",
            "_model_module_version": "1.5.0",
            "_model_name": "VBoxModel",
            "_view_count": null,
            "_view_module": "@jupyter-widgets/controls",
            "_view_module_version": "1.5.0",
            "_view_name": "VBoxView",
            "box_style": "",
            "children": [
              "IPY_MODEL_95220a05ab73417fb1ab05d8120cc519",
              "IPY_MODEL_7af7012f54174f7ab12eec6348689d4f"
            ],
            "layout": "IPY_MODEL_0fcbbbb872c649c1b20f21dcb7ca5bc2"
          }
        },
        "1bad455e0e264fdf840abd1e3e009bf7": {
          "model_module": "@jupyter-widgets/base",
          "model_module_version": "1.2.0",
          "model_name": "LayoutModel",
          "state": {
            "_model_module": "@jupyter-widgets/base",
            "_model_module_version": "1.2.0",
            "_model_name": "LayoutModel",
            "_view_count": null,
            "_view_module": "@jupyter-widgets/base",
            "_view_module_version": "1.2.0",
            "_view_name": "LayoutView",
            "align_content": null,
            "align_items": null,
            "align_self": null,
            "border": null,
            "bottom": null,
            "display": null,
            "flex": null,
            "flex_flow": null,
            "grid_area": null,
            "grid_auto_columns": null,
            "grid_auto_flow": null,
            "grid_auto_rows": null,
            "grid_column": null,
            "grid_gap": null,
            "grid_row": null,
            "grid_template_areas": null,
            "grid_template_columns": null,
            "grid_template_rows": null,
            "height": null,
            "justify_content": null,
            "justify_items": null,
            "left": null,
            "margin": null,
            "max_height": null,
            "max_width": null,
            "min_height": null,
            "min_width": null,
            "object_fit": null,
            "object_position": null,
            "order": null,
            "overflow": null,
            "overflow_x": null,
            "overflow_y": null,
            "padding": null,
            "right": null,
            "top": null,
            "visibility": null,
            "width": null
          }
        },
        "1bc1c6ad55854682b761a330356211d6": {
          "model_module": "@jupyter-widgets/controls",
          "model_module_version": "1.5.0",
          "model_name": "FloatProgressModel",
          "state": {
            "_dom_classes": [],
            "_model_module": "@jupyter-widgets/controls",
            "_model_module_version": "1.5.0",
            "_model_name": "FloatProgressModel",
            "_view_count": null,
            "_view_module": "@jupyter-widgets/controls",
            "_view_module_version": "1.5.0",
            "_view_name": "ProgressView",
            "bar_style": "",
            "description": "",
            "description_tooltip": null,
            "layout": "IPY_MODEL_75b741c441da4a2caaad581fcf412e93",
            "max": 1,
            "min": 0,
            "orientation": "horizontal",
            "style": "IPY_MODEL_fe39cf2cf31e4646a06613556c69b011",
            "value": 1
          }
        },
        "1c4e1fceefc14db49be887e7bce7f505": {
          "model_module": "@jupyter-widgets/controls",
          "model_module_version": "1.5.0",
          "model_name": "LabelModel",
          "state": {
            "_dom_classes": [],
            "_model_module": "@jupyter-widgets/controls",
            "_model_module_version": "1.5.0",
            "_model_name": "LabelModel",
            "_view_count": null,
            "_view_module": "@jupyter-widgets/controls",
            "_view_module_version": "1.5.0",
            "_view_name": "LabelView",
            "description": "",
            "description_tooltip": null,
            "layout": "IPY_MODEL_cf6642b932fa41eaa0f71525de6f7446",
            "placeholder": "​",
            "style": "IPY_MODEL_f6fbc473504c4af78d5070efe454befa",
            "value": "0.001 MB of 0.001 MB uploaded (0.000 MB deduped)\r"
          }
        },
        "1e2d7a9d13a94829b868c034a59ba039": {
          "model_module": "@jupyter-widgets/base",
          "model_module_version": "1.2.0",
          "model_name": "LayoutModel",
          "state": {
            "_model_module": "@jupyter-widgets/base",
            "_model_module_version": "1.2.0",
            "_model_name": "LayoutModel",
            "_view_count": null,
            "_view_module": "@jupyter-widgets/base",
            "_view_module_version": "1.2.0",
            "_view_name": "LayoutView",
            "align_content": null,
            "align_items": null,
            "align_self": null,
            "border": null,
            "bottom": null,
            "display": null,
            "flex": null,
            "flex_flow": null,
            "grid_area": null,
            "grid_auto_columns": null,
            "grid_auto_flow": null,
            "grid_auto_rows": null,
            "grid_column": null,
            "grid_gap": null,
            "grid_row": null,
            "grid_template_areas": null,
            "grid_template_columns": null,
            "grid_template_rows": null,
            "height": null,
            "justify_content": null,
            "justify_items": null,
            "left": null,
            "margin": null,
            "max_height": null,
            "max_width": null,
            "min_height": null,
            "min_width": null,
            "object_fit": null,
            "object_position": null,
            "order": null,
            "overflow": null,
            "overflow_x": null,
            "overflow_y": null,
            "padding": null,
            "right": null,
            "top": null,
            "visibility": null,
            "width": null
          }
        },
        "2303701c77e7402ba330e7bc18ce2e44": {
          "model_module": "@jupyter-widgets/base",
          "model_module_version": "1.2.0",
          "model_name": "LayoutModel",
          "state": {
            "_model_module": "@jupyter-widgets/base",
            "_model_module_version": "1.2.0",
            "_model_name": "LayoutModel",
            "_view_count": null,
            "_view_module": "@jupyter-widgets/base",
            "_view_module_version": "1.2.0",
            "_view_name": "LayoutView",
            "align_content": null,
            "align_items": null,
            "align_self": null,
            "border": null,
            "bottom": null,
            "display": null,
            "flex": null,
            "flex_flow": null,
            "grid_area": null,
            "grid_auto_columns": null,
            "grid_auto_flow": null,
            "grid_auto_rows": null,
            "grid_column": null,
            "grid_gap": null,
            "grid_row": null,
            "grid_template_areas": null,
            "grid_template_columns": null,
            "grid_template_rows": null,
            "height": null,
            "justify_content": null,
            "justify_items": null,
            "left": null,
            "margin": null,
            "max_height": null,
            "max_width": null,
            "min_height": null,
            "min_width": null,
            "object_fit": null,
            "object_position": null,
            "order": null,
            "overflow": null,
            "overflow_x": null,
            "overflow_y": null,
            "padding": null,
            "right": null,
            "top": null,
            "visibility": null,
            "width": null
          }
        },
        "2e27d6e28c00420ba1b0afa1275082d5": {
          "model_module": "@jupyter-widgets/base",
          "model_module_version": "1.2.0",
          "model_name": "LayoutModel",
          "state": {
            "_model_module": "@jupyter-widgets/base",
            "_model_module_version": "1.2.0",
            "_model_name": "LayoutModel",
            "_view_count": null,
            "_view_module": "@jupyter-widgets/base",
            "_view_module_version": "1.2.0",
            "_view_name": "LayoutView",
            "align_content": null,
            "align_items": null,
            "align_self": null,
            "border": null,
            "bottom": null,
            "display": null,
            "flex": null,
            "flex_flow": null,
            "grid_area": null,
            "grid_auto_columns": null,
            "grid_auto_flow": null,
            "grid_auto_rows": null,
            "grid_column": null,
            "grid_gap": null,
            "grid_row": null,
            "grid_template_areas": null,
            "grid_template_columns": null,
            "grid_template_rows": null,
            "height": null,
            "justify_content": null,
            "justify_items": null,
            "left": null,
            "margin": null,
            "max_height": null,
            "max_width": null,
            "min_height": null,
            "min_width": null,
            "object_fit": null,
            "object_position": null,
            "order": null,
            "overflow": null,
            "overflow_x": null,
            "overflow_y": null,
            "padding": null,
            "right": null,
            "top": null,
            "visibility": null,
            "width": null
          }
        },
        "2f5573f9f7bb454ca08ea677cb5fabe0": {
          "model_module": "@jupyter-widgets/base",
          "model_module_version": "1.2.0",
          "model_name": "LayoutModel",
          "state": {
            "_model_module": "@jupyter-widgets/base",
            "_model_module_version": "1.2.0",
            "_model_name": "LayoutModel",
            "_view_count": null,
            "_view_module": "@jupyter-widgets/base",
            "_view_module_version": "1.2.0",
            "_view_name": "LayoutView",
            "align_content": null,
            "align_items": null,
            "align_self": null,
            "border": null,
            "bottom": null,
            "display": null,
            "flex": null,
            "flex_flow": null,
            "grid_area": null,
            "grid_auto_columns": null,
            "grid_auto_flow": null,
            "grid_auto_rows": null,
            "grid_column": null,
            "grid_gap": null,
            "grid_row": null,
            "grid_template_areas": null,
            "grid_template_columns": null,
            "grid_template_rows": null,
            "height": null,
            "justify_content": null,
            "justify_items": null,
            "left": null,
            "margin": null,
            "max_height": null,
            "max_width": null,
            "min_height": null,
            "min_width": null,
            "object_fit": null,
            "object_position": null,
            "order": null,
            "overflow": null,
            "overflow_x": null,
            "overflow_y": null,
            "padding": null,
            "right": null,
            "top": null,
            "visibility": null,
            "width": null
          }
        },
        "32931406951e40d29388f27927982d15": {
          "model_module": "@jupyter-widgets/controls",
          "model_module_version": "1.5.0",
          "model_name": "FloatProgressModel",
          "state": {
            "_dom_classes": [],
            "_model_module": "@jupyter-widgets/controls",
            "_model_module_version": "1.5.0",
            "_model_name": "FloatProgressModel",
            "_view_count": null,
            "_view_module": "@jupyter-widgets/controls",
            "_view_module_version": "1.5.0",
            "_view_name": "ProgressView",
            "bar_style": "",
            "description": "",
            "description_tooltip": null,
            "layout": "IPY_MODEL_fe362cc9ab3c46c78139a4d4341ef197",
            "max": 1,
            "min": 0,
            "orientation": "horizontal",
            "style": "IPY_MODEL_ff8ede438539475d8011cfe811030633",
            "value": 1
          }
        },
        "343016ca6c30447aaddb65ddd0050931": {
          "model_module": "@jupyter-widgets/controls",
          "model_module_version": "1.5.0",
          "model_name": "LabelModel",
          "state": {
            "_dom_classes": [],
            "_model_module": "@jupyter-widgets/controls",
            "_model_module_version": "1.5.0",
            "_model_name": "LabelModel",
            "_view_count": null,
            "_view_module": "@jupyter-widgets/controls",
            "_view_module_version": "1.5.0",
            "_view_name": "LabelView",
            "description": "",
            "description_tooltip": null,
            "layout": "IPY_MODEL_487aff2c9d1e4326a74705765daa49af",
            "placeholder": "​",
            "style": "IPY_MODEL_5af409214d724c79955efb95f0983939",
            "value": "0.010 MB of 0.010 MB uploaded (0.000 MB deduped)\r"
          }
        },
        "365801bdff31497db2d4394cc5676277": {
          "model_module": "@jupyter-widgets/controls",
          "model_module_version": "1.5.0",
          "model_name": "DescriptionStyleModel",
          "state": {
            "_model_module": "@jupyter-widgets/controls",
            "_model_module_version": "1.5.0",
            "_model_name": "DescriptionStyleModel",
            "_view_count": null,
            "_view_module": "@jupyter-widgets/base",
            "_view_module_version": "1.2.0",
            "_view_name": "StyleView",
            "description_width": ""
          }
        },
        "36f23675b63840368cad6c8f1cfd731b": {
          "model_module": "@jupyter-widgets/base",
          "model_module_version": "1.2.0",
          "model_name": "LayoutModel",
          "state": {
            "_model_module": "@jupyter-widgets/base",
            "_model_module_version": "1.2.0",
            "_model_name": "LayoutModel",
            "_view_count": null,
            "_view_module": "@jupyter-widgets/base",
            "_view_module_version": "1.2.0",
            "_view_name": "LayoutView",
            "align_content": null,
            "align_items": null,
            "align_self": null,
            "border": null,
            "bottom": null,
            "display": null,
            "flex": null,
            "flex_flow": null,
            "grid_area": null,
            "grid_auto_columns": null,
            "grid_auto_flow": null,
            "grid_auto_rows": null,
            "grid_column": null,
            "grid_gap": null,
            "grid_row": null,
            "grid_template_areas": null,
            "grid_template_columns": null,
            "grid_template_rows": null,
            "height": null,
            "justify_content": null,
            "justify_items": null,
            "left": null,
            "margin": null,
            "max_height": null,
            "max_width": null,
            "min_height": null,
            "min_width": null,
            "object_fit": null,
            "object_position": null,
            "order": null,
            "overflow": null,
            "overflow_x": null,
            "overflow_y": null,
            "padding": null,
            "right": null,
            "top": null,
            "visibility": null,
            "width": null
          }
        },
        "38679f07ad674518a744d6456709e915": {
          "model_module": "@jupyter-widgets/controls",
          "model_module_version": "1.5.0",
          "model_name": "VBoxModel",
          "state": {
            "_dom_classes": [],
            "_model_module": "@jupyter-widgets/controls",
            "_model_module_version": "1.5.0",
            "_model_name": "VBoxModel",
            "_view_count": null,
            "_view_module": "@jupyter-widgets/controls",
            "_view_module_version": "1.5.0",
            "_view_name": "VBoxView",
            "box_style": "",
            "children": [
              "IPY_MODEL_f3e05bb389c04844ac4997e7cc3a3bb4",
              "IPY_MODEL_cea1ddae90e943b18fe3d1916d31362c"
            ],
            "layout": "IPY_MODEL_63cb0b422e164a979a9b3a51182bc353"
          }
        },
        "3a732a371f34407fa3f8f04380c2d3d3": {
          "model_module": "@jupyter-widgets/controls",
          "model_module_version": "1.5.0",
          "model_name": "DescriptionStyleModel",
          "state": {
            "_model_module": "@jupyter-widgets/controls",
            "_model_module_version": "1.5.0",
            "_model_name": "DescriptionStyleModel",
            "_view_count": null,
            "_view_module": "@jupyter-widgets/base",
            "_view_module_version": "1.2.0",
            "_view_name": "StyleView",
            "description_width": ""
          }
        },
        "3bac936ce6e14c6c8f25c75a0d40409b": {
          "model_module": "@jupyter-widgets/controls",
          "model_module_version": "1.5.0",
          "model_name": "FloatProgressModel",
          "state": {
            "_dom_classes": [],
            "_model_module": "@jupyter-widgets/controls",
            "_model_module_version": "1.5.0",
            "_model_name": "FloatProgressModel",
            "_view_count": null,
            "_view_module": "@jupyter-widgets/controls",
            "_view_module_version": "1.5.0",
            "_view_name": "ProgressView",
            "bar_style": "",
            "description": "",
            "description_tooltip": null,
            "layout": "IPY_MODEL_1e2d7a9d13a94829b868c034a59ba039",
            "max": 1,
            "min": 0,
            "orientation": "horizontal",
            "style": "IPY_MODEL_683e4d38c3f54338824b63009d5c7822",
            "value": 1
          }
        },
        "3d5ba303471e41fcafe475989fd60df5": {
          "model_module": "@jupyter-widgets/controls",
          "model_module_version": "1.5.0",
          "model_name": "VBoxModel",
          "state": {
            "_dom_classes": [],
            "_model_module": "@jupyter-widgets/controls",
            "_model_module_version": "1.5.0",
            "_model_name": "VBoxModel",
            "_view_count": null,
            "_view_module": "@jupyter-widgets/controls",
            "_view_module_version": "1.5.0",
            "_view_name": "VBoxView",
            "box_style": "",
            "children": [
              "IPY_MODEL_75851c9b4eb545658de6c143615a0716",
              "IPY_MODEL_ca5b221d2c0848dbb7e6ee29db2d9186"
            ],
            "layout": "IPY_MODEL_b0aaa621023146c88f123e8e409bb60b"
          }
        },
        "44e925e0ce3346c7973bbec89bd27416": {
          "model_module": "@jupyter-widgets/controls",
          "model_module_version": "1.5.0",
          "model_name": "ProgressStyleModel",
          "state": {
            "_model_module": "@jupyter-widgets/controls",
            "_model_module_version": "1.5.0",
            "_model_name": "ProgressStyleModel",
            "_view_count": null,
            "_view_module": "@jupyter-widgets/base",
            "_view_module_version": "1.2.0",
            "_view_name": "StyleView",
            "bar_color": null,
            "description_width": ""
          }
        },
        "487aff2c9d1e4326a74705765daa49af": {
          "model_module": "@jupyter-widgets/base",
          "model_module_version": "1.2.0",
          "model_name": "LayoutModel",
          "state": {
            "_model_module": "@jupyter-widgets/base",
            "_model_module_version": "1.2.0",
            "_model_name": "LayoutModel",
            "_view_count": null,
            "_view_module": "@jupyter-widgets/base",
            "_view_module_version": "1.2.0",
            "_view_name": "LayoutView",
            "align_content": null,
            "align_items": null,
            "align_self": null,
            "border": null,
            "bottom": null,
            "display": null,
            "flex": null,
            "flex_flow": null,
            "grid_area": null,
            "grid_auto_columns": null,
            "grid_auto_flow": null,
            "grid_auto_rows": null,
            "grid_column": null,
            "grid_gap": null,
            "grid_row": null,
            "grid_template_areas": null,
            "grid_template_columns": null,
            "grid_template_rows": null,
            "height": null,
            "justify_content": null,
            "justify_items": null,
            "left": null,
            "margin": null,
            "max_height": null,
            "max_width": null,
            "min_height": null,
            "min_width": null,
            "object_fit": null,
            "object_position": null,
            "order": null,
            "overflow": null,
            "overflow_x": null,
            "overflow_y": null,
            "padding": null,
            "right": null,
            "top": null,
            "visibility": null,
            "width": null
          }
        },
        "4b3807ad067a42be987ad7949ad2a0f9": {
          "model_module": "@jupyter-widgets/base",
          "model_module_version": "1.2.0",
          "model_name": "LayoutModel",
          "state": {
            "_model_module": "@jupyter-widgets/base",
            "_model_module_version": "1.2.0",
            "_model_name": "LayoutModel",
            "_view_count": null,
            "_view_module": "@jupyter-widgets/base",
            "_view_module_version": "1.2.0",
            "_view_name": "LayoutView",
            "align_content": null,
            "align_items": null,
            "align_self": null,
            "border": null,
            "bottom": null,
            "display": null,
            "flex": null,
            "flex_flow": null,
            "grid_area": null,
            "grid_auto_columns": null,
            "grid_auto_flow": null,
            "grid_auto_rows": null,
            "grid_column": null,
            "grid_gap": null,
            "grid_row": null,
            "grid_template_areas": null,
            "grid_template_columns": null,
            "grid_template_rows": null,
            "height": null,
            "justify_content": null,
            "justify_items": null,
            "left": null,
            "margin": null,
            "max_height": null,
            "max_width": null,
            "min_height": null,
            "min_width": null,
            "object_fit": null,
            "object_position": null,
            "order": null,
            "overflow": null,
            "overflow_x": null,
            "overflow_y": null,
            "padding": null,
            "right": null,
            "top": null,
            "visibility": null,
            "width": null
          }
        },
        "5085e65d3b444a8bbb07283fb564bccf": {
          "model_module": "@jupyter-widgets/controls",
          "model_module_version": "1.5.0",
          "model_name": "VBoxModel",
          "state": {
            "_dom_classes": [],
            "_model_module": "@jupyter-widgets/controls",
            "_model_module_version": "1.5.0",
            "_model_name": "VBoxModel",
            "_view_count": null,
            "_view_module": "@jupyter-widgets/controls",
            "_view_module_version": "1.5.0",
            "_view_name": "VBoxView",
            "box_style": "",
            "children": [
              "IPY_MODEL_7208c747314c41da9c6315889c21b3ed",
              "IPY_MODEL_6bf649c6df5a4773a7cf8b6fa6db293f"
            ],
            "layout": "IPY_MODEL_03275024237a41ff945969a308f5096d"
          }
        },
        "5a6c4c3ad1da4a9d8e655d9e7d93b35d": {
          "model_module": "@jupyter-widgets/base",
          "model_module_version": "1.2.0",
          "model_name": "LayoutModel",
          "state": {
            "_model_module": "@jupyter-widgets/base",
            "_model_module_version": "1.2.0",
            "_model_name": "LayoutModel",
            "_view_count": null,
            "_view_module": "@jupyter-widgets/base",
            "_view_module_version": "1.2.0",
            "_view_name": "LayoutView",
            "align_content": null,
            "align_items": null,
            "align_self": null,
            "border": null,
            "bottom": null,
            "display": null,
            "flex": null,
            "flex_flow": null,
            "grid_area": null,
            "grid_auto_columns": null,
            "grid_auto_flow": null,
            "grid_auto_rows": null,
            "grid_column": null,
            "grid_gap": null,
            "grid_row": null,
            "grid_template_areas": null,
            "grid_template_columns": null,
            "grid_template_rows": null,
            "height": null,
            "justify_content": null,
            "justify_items": null,
            "left": null,
            "margin": null,
            "max_height": null,
            "max_width": null,
            "min_height": null,
            "min_width": null,
            "object_fit": null,
            "object_position": null,
            "order": null,
            "overflow": null,
            "overflow_x": null,
            "overflow_y": null,
            "padding": null,
            "right": null,
            "top": null,
            "visibility": null,
            "width": null
          }
        },
        "5aeaa3f9750b40c0b799f3fc9153c715": {
          "model_module": "@jupyter-widgets/controls",
          "model_module_version": "1.5.0",
          "model_name": "FloatProgressModel",
          "state": {
            "_dom_classes": [],
            "_model_module": "@jupyter-widgets/controls",
            "_model_module_version": "1.5.0",
            "_model_name": "FloatProgressModel",
            "_view_count": null,
            "_view_module": "@jupyter-widgets/controls",
            "_view_module_version": "1.5.0",
            "_view_name": "ProgressView",
            "bar_style": "",
            "description": "",
            "description_tooltip": null,
            "layout": "IPY_MODEL_dbc564e3cbd84715ae49130d79fcf78d",
            "max": 1,
            "min": 0,
            "orientation": "horizontal",
            "style": "IPY_MODEL_affb89d63f884547a5282855dadc5e01",
            "value": 0.999907019990702
          }
        },
        "5af409214d724c79955efb95f0983939": {
          "model_module": "@jupyter-widgets/controls",
          "model_module_version": "1.5.0",
          "model_name": "DescriptionStyleModel",
          "state": {
            "_model_module": "@jupyter-widgets/controls",
            "_model_module_version": "1.5.0",
            "_model_name": "DescriptionStyleModel",
            "_view_count": null,
            "_view_module": "@jupyter-widgets/base",
            "_view_module_version": "1.2.0",
            "_view_name": "StyleView",
            "description_width": ""
          }
        },
        "5c01885f684f408192f472899ef7ce39": {
          "model_module": "@jupyter-widgets/base",
          "model_module_version": "1.2.0",
          "model_name": "LayoutModel",
          "state": {
            "_model_module": "@jupyter-widgets/base",
            "_model_module_version": "1.2.0",
            "_model_name": "LayoutModel",
            "_view_count": null,
            "_view_module": "@jupyter-widgets/base",
            "_view_module_version": "1.2.0",
            "_view_name": "LayoutView",
            "align_content": null,
            "align_items": null,
            "align_self": null,
            "border": null,
            "bottom": null,
            "display": null,
            "flex": null,
            "flex_flow": null,
            "grid_area": null,
            "grid_auto_columns": null,
            "grid_auto_flow": null,
            "grid_auto_rows": null,
            "grid_column": null,
            "grid_gap": null,
            "grid_row": null,
            "grid_template_areas": null,
            "grid_template_columns": null,
            "grid_template_rows": null,
            "height": null,
            "justify_content": null,
            "justify_items": null,
            "left": null,
            "margin": null,
            "max_height": null,
            "max_width": null,
            "min_height": null,
            "min_width": null,
            "object_fit": null,
            "object_position": null,
            "order": null,
            "overflow": null,
            "overflow_x": null,
            "overflow_y": null,
            "padding": null,
            "right": null,
            "top": null,
            "visibility": null,
            "width": null
          }
        },
        "5eb75c48dbbb45cca47b1cbdf39b4192": {
          "model_module": "@jupyter-widgets/controls",
          "model_module_version": "1.5.0",
          "model_name": "VBoxModel",
          "state": {
            "_dom_classes": [],
            "_model_module": "@jupyter-widgets/controls",
            "_model_module_version": "1.5.0",
            "_model_name": "VBoxModel",
            "_view_count": null,
            "_view_module": "@jupyter-widgets/controls",
            "_view_module_version": "1.5.0",
            "_view_name": "VBoxView",
            "box_style": "",
            "children": [
              "IPY_MODEL_76c99f7b7109424a817cf12febce6407",
              "IPY_MODEL_0db6a300747d4093811147a596f7d0ff"
            ],
            "layout": "IPY_MODEL_62e3360a3a1347b29eb2456939f4707b"
          }
        },
        "5fca700453bc423297308cccb30fc696": {
          "model_module": "@jupyter-widgets/base",
          "model_module_version": "1.2.0",
          "model_name": "LayoutModel",
          "state": {
            "_model_module": "@jupyter-widgets/base",
            "_model_module_version": "1.2.0",
            "_model_name": "LayoutModel",
            "_view_count": null,
            "_view_module": "@jupyter-widgets/base",
            "_view_module_version": "1.2.0",
            "_view_name": "LayoutView",
            "align_content": null,
            "align_items": null,
            "align_self": null,
            "border": null,
            "bottom": null,
            "display": null,
            "flex": null,
            "flex_flow": null,
            "grid_area": null,
            "grid_auto_columns": null,
            "grid_auto_flow": null,
            "grid_auto_rows": null,
            "grid_column": null,
            "grid_gap": null,
            "grid_row": null,
            "grid_template_areas": null,
            "grid_template_columns": null,
            "grid_template_rows": null,
            "height": null,
            "justify_content": null,
            "justify_items": null,
            "left": null,
            "margin": null,
            "max_height": null,
            "max_width": null,
            "min_height": null,
            "min_width": null,
            "object_fit": null,
            "object_position": null,
            "order": null,
            "overflow": null,
            "overflow_x": null,
            "overflow_y": null,
            "padding": null,
            "right": null,
            "top": null,
            "visibility": null,
            "width": null
          }
        },
        "60c9f61da11a439ea48edd12ec38625d": {
          "model_module": "@jupyter-widgets/base",
          "model_module_version": "1.2.0",
          "model_name": "LayoutModel",
          "state": {
            "_model_module": "@jupyter-widgets/base",
            "_model_module_version": "1.2.0",
            "_model_name": "LayoutModel",
            "_view_count": null,
            "_view_module": "@jupyter-widgets/base",
            "_view_module_version": "1.2.0",
            "_view_name": "LayoutView",
            "align_content": null,
            "align_items": null,
            "align_self": null,
            "border": null,
            "bottom": null,
            "display": null,
            "flex": null,
            "flex_flow": null,
            "grid_area": null,
            "grid_auto_columns": null,
            "grid_auto_flow": null,
            "grid_auto_rows": null,
            "grid_column": null,
            "grid_gap": null,
            "grid_row": null,
            "grid_template_areas": null,
            "grid_template_columns": null,
            "grid_template_rows": null,
            "height": null,
            "justify_content": null,
            "justify_items": null,
            "left": null,
            "margin": null,
            "max_height": null,
            "max_width": null,
            "min_height": null,
            "min_width": null,
            "object_fit": null,
            "object_position": null,
            "order": null,
            "overflow": null,
            "overflow_x": null,
            "overflow_y": null,
            "padding": null,
            "right": null,
            "top": null,
            "visibility": null,
            "width": null
          }
        },
        "62e3360a3a1347b29eb2456939f4707b": {
          "model_module": "@jupyter-widgets/base",
          "model_module_version": "1.2.0",
          "model_name": "LayoutModel",
          "state": {
            "_model_module": "@jupyter-widgets/base",
            "_model_module_version": "1.2.0",
            "_model_name": "LayoutModel",
            "_view_count": null,
            "_view_module": "@jupyter-widgets/base",
            "_view_module_version": "1.2.0",
            "_view_name": "LayoutView",
            "align_content": null,
            "align_items": null,
            "align_self": null,
            "border": null,
            "bottom": null,
            "display": null,
            "flex": null,
            "flex_flow": null,
            "grid_area": null,
            "grid_auto_columns": null,
            "grid_auto_flow": null,
            "grid_auto_rows": null,
            "grid_column": null,
            "grid_gap": null,
            "grid_row": null,
            "grid_template_areas": null,
            "grid_template_columns": null,
            "grid_template_rows": null,
            "height": null,
            "justify_content": null,
            "justify_items": null,
            "left": null,
            "margin": null,
            "max_height": null,
            "max_width": null,
            "min_height": null,
            "min_width": null,
            "object_fit": null,
            "object_position": null,
            "order": null,
            "overflow": null,
            "overflow_x": null,
            "overflow_y": null,
            "padding": null,
            "right": null,
            "top": null,
            "visibility": null,
            "width": null
          }
        },
        "63cb0b422e164a979a9b3a51182bc353": {
          "model_module": "@jupyter-widgets/base",
          "model_module_version": "1.2.0",
          "model_name": "LayoutModel",
          "state": {
            "_model_module": "@jupyter-widgets/base",
            "_model_module_version": "1.2.0",
            "_model_name": "LayoutModel",
            "_view_count": null,
            "_view_module": "@jupyter-widgets/base",
            "_view_module_version": "1.2.0",
            "_view_name": "LayoutView",
            "align_content": null,
            "align_items": null,
            "align_self": null,
            "border": null,
            "bottom": null,
            "display": null,
            "flex": null,
            "flex_flow": null,
            "grid_area": null,
            "grid_auto_columns": null,
            "grid_auto_flow": null,
            "grid_auto_rows": null,
            "grid_column": null,
            "grid_gap": null,
            "grid_row": null,
            "grid_template_areas": null,
            "grid_template_columns": null,
            "grid_template_rows": null,
            "height": null,
            "justify_content": null,
            "justify_items": null,
            "left": null,
            "margin": null,
            "max_height": null,
            "max_width": null,
            "min_height": null,
            "min_width": null,
            "object_fit": null,
            "object_position": null,
            "order": null,
            "overflow": null,
            "overflow_x": null,
            "overflow_y": null,
            "padding": null,
            "right": null,
            "top": null,
            "visibility": null,
            "width": null
          }
        },
        "6511b384e10b48bfa84c33f25a685410": {
          "model_module": "@jupyter-widgets/controls",
          "model_module_version": "1.5.0",
          "model_name": "VBoxModel",
          "state": {
            "_dom_classes": [],
            "_model_module": "@jupyter-widgets/controls",
            "_model_module_version": "1.5.0",
            "_model_name": "VBoxModel",
            "_view_count": null,
            "_view_module": "@jupyter-widgets/controls",
            "_view_module_version": "1.5.0",
            "_view_name": "VBoxView",
            "box_style": "",
            "children": [
              "IPY_MODEL_d49496aaa67045c78899e007a43bb904",
              "IPY_MODEL_df49c56d18764910938c12596923a025"
            ],
            "layout": "IPY_MODEL_19ebb9a69aec47fcb8ab1d682fbb2ef7"
          }
        },
        "683e4d38c3f54338824b63009d5c7822": {
          "model_module": "@jupyter-widgets/controls",
          "model_module_version": "1.5.0",
          "model_name": "ProgressStyleModel",
          "state": {
            "_model_module": "@jupyter-widgets/controls",
            "_model_module_version": "1.5.0",
            "_model_name": "ProgressStyleModel",
            "_view_count": null,
            "_view_module": "@jupyter-widgets/base",
            "_view_module_version": "1.2.0",
            "_view_name": "StyleView",
            "bar_color": null,
            "description_width": ""
          }
        },
        "6bf649c6df5a4773a7cf8b6fa6db293f": {
          "model_module": "@jupyter-widgets/controls",
          "model_module_version": "1.5.0",
          "model_name": "FloatProgressModel",
          "state": {
            "_dom_classes": [],
            "_model_module": "@jupyter-widgets/controls",
            "_model_module_version": "1.5.0",
            "_model_name": "FloatProgressModel",
            "_view_count": null,
            "_view_module": "@jupyter-widgets/controls",
            "_view_module_version": "1.5.0",
            "_view_name": "ProgressView",
            "bar_style": "",
            "description": "",
            "description_tooltip": null,
            "layout": "IPY_MODEL_7510284d083745b2937304925d673ac6",
            "max": 1,
            "min": 0,
            "orientation": "horizontal",
            "style": "IPY_MODEL_731e71b2336a4632a28bd82a25de4600",
            "value": 0.13121327986570921
          }
        },
        "7208c747314c41da9c6315889c21b3ed": {
          "model_module": "@jupyter-widgets/controls",
          "model_module_version": "1.5.0",
          "model_name": "LabelModel",
          "state": {
            "_dom_classes": [],
            "_model_module": "@jupyter-widgets/controls",
            "_model_module_version": "1.5.0",
            "_model_name": "LabelModel",
            "_view_count": null,
            "_view_module": "@jupyter-widgets/controls",
            "_view_module_version": "1.5.0",
            "_view_name": "LabelView",
            "description": "",
            "description_tooltip": null,
            "layout": "IPY_MODEL_115fb5e45eb840a6bcbc7bbd6e4b20fb",
            "placeholder": "​",
            "style": "IPY_MODEL_037751600e594af1872652b3db89b842",
            "value": "0.001 MB of 0.010 MB uploaded (0.000 MB deduped)\r"
          }
        },
        "731e71b2336a4632a28bd82a25de4600": {
          "model_module": "@jupyter-widgets/controls",
          "model_module_version": "1.5.0",
          "model_name": "ProgressStyleModel",
          "state": {
            "_model_module": "@jupyter-widgets/controls",
            "_model_module_version": "1.5.0",
            "_model_name": "ProgressStyleModel",
            "_view_count": null,
            "_view_module": "@jupyter-widgets/base",
            "_view_module_version": "1.2.0",
            "_view_name": "StyleView",
            "bar_color": null,
            "description_width": ""
          }
        },
        "7510284d083745b2937304925d673ac6": {
          "model_module": "@jupyter-widgets/base",
          "model_module_version": "1.2.0",
          "model_name": "LayoutModel",
          "state": {
            "_model_module": "@jupyter-widgets/base",
            "_model_module_version": "1.2.0",
            "_model_name": "LayoutModel",
            "_view_count": null,
            "_view_module": "@jupyter-widgets/base",
            "_view_module_version": "1.2.0",
            "_view_name": "LayoutView",
            "align_content": null,
            "align_items": null,
            "align_self": null,
            "border": null,
            "bottom": null,
            "display": null,
            "flex": null,
            "flex_flow": null,
            "grid_area": null,
            "grid_auto_columns": null,
            "grid_auto_flow": null,
            "grid_auto_rows": null,
            "grid_column": null,
            "grid_gap": null,
            "grid_row": null,
            "grid_template_areas": null,
            "grid_template_columns": null,
            "grid_template_rows": null,
            "height": null,
            "justify_content": null,
            "justify_items": null,
            "left": null,
            "margin": null,
            "max_height": null,
            "max_width": null,
            "min_height": null,
            "min_width": null,
            "object_fit": null,
            "object_position": null,
            "order": null,
            "overflow": null,
            "overflow_x": null,
            "overflow_y": null,
            "padding": null,
            "right": null,
            "top": null,
            "visibility": null,
            "width": null
          }
        },
        "75851c9b4eb545658de6c143615a0716": {
          "model_module": "@jupyter-widgets/controls",
          "model_module_version": "1.5.0",
          "model_name": "LabelModel",
          "state": {
            "_dom_classes": [],
            "_model_module": "@jupyter-widgets/controls",
            "_model_module_version": "1.5.0",
            "_model_name": "LabelModel",
            "_view_count": null,
            "_view_module": "@jupyter-widgets/controls",
            "_view_module_version": "1.5.0",
            "_view_name": "LabelView",
            "description": "",
            "description_tooltip": null,
            "layout": "IPY_MODEL_4b3807ad067a42be987ad7949ad2a0f9",
            "placeholder": "​",
            "style": "IPY_MODEL_16917dc547f145568e7b78af7f802c3b",
            "value": "0.001 MB of 0.010 MB uploaded (0.000 MB deduped)\r"
          }
        },
        "75b741c441da4a2caaad581fcf412e93": {
          "model_module": "@jupyter-widgets/base",
          "model_module_version": "1.2.0",
          "model_name": "LayoutModel",
          "state": {
            "_model_module": "@jupyter-widgets/base",
            "_model_module_version": "1.2.0",
            "_model_name": "LayoutModel",
            "_view_count": null,
            "_view_module": "@jupyter-widgets/base",
            "_view_module_version": "1.2.0",
            "_view_name": "LayoutView",
            "align_content": null,
            "align_items": null,
            "align_self": null,
            "border": null,
            "bottom": null,
            "display": null,
            "flex": null,
            "flex_flow": null,
            "grid_area": null,
            "grid_auto_columns": null,
            "grid_auto_flow": null,
            "grid_auto_rows": null,
            "grid_column": null,
            "grid_gap": null,
            "grid_row": null,
            "grid_template_areas": null,
            "grid_template_columns": null,
            "grid_template_rows": null,
            "height": null,
            "justify_content": null,
            "justify_items": null,
            "left": null,
            "margin": null,
            "max_height": null,
            "max_width": null,
            "min_height": null,
            "min_width": null,
            "object_fit": null,
            "object_position": null,
            "order": null,
            "overflow": null,
            "overflow_x": null,
            "overflow_y": null,
            "padding": null,
            "right": null,
            "top": null,
            "visibility": null,
            "width": null
          }
        },
        "76c99f7b7109424a817cf12febce6407": {
          "model_module": "@jupyter-widgets/controls",
          "model_module_version": "1.5.0",
          "model_name": "LabelModel",
          "state": {
            "_dom_classes": [],
            "_model_module": "@jupyter-widgets/controls",
            "_model_module_version": "1.5.0",
            "_model_name": "LabelModel",
            "_view_count": null,
            "_view_module": "@jupyter-widgets/controls",
            "_view_module_version": "1.5.0",
            "_view_name": "LabelView",
            "description": "",
            "description_tooltip": null,
            "layout": "IPY_MODEL_60c9f61da11a439ea48edd12ec38625d",
            "placeholder": "​",
            "style": "IPY_MODEL_365801bdff31497db2d4394cc5676277",
            "value": "0.010 MB of 0.010 MB uploaded (0.000 MB deduped)\r"
          }
        },
        "76f5f595a7024f7286cf712eb95363a0": {
          "model_module": "@jupyter-widgets/controls",
          "model_module_version": "1.5.0",
          "model_name": "FloatProgressModel",
          "state": {
            "_dom_classes": [],
            "_model_module": "@jupyter-widgets/controls",
            "_model_module_version": "1.5.0",
            "_model_name": "FloatProgressModel",
            "_view_count": null,
            "_view_module": "@jupyter-widgets/controls",
            "_view_module_version": "1.5.0",
            "_view_name": "ProgressView",
            "bar_style": "",
            "description": "",
            "description_tooltip": null,
            "layout": "IPY_MODEL_a352c7c0953b4044ab607a2e649de098",
            "max": 1,
            "min": 0,
            "orientation": "horizontal",
            "style": "IPY_MODEL_dea4c297e666419cacde1cac0540232b",
            "value": 1
          }
        },
        "790fd9861a844822a7ea60b0e74cabdd": {
          "model_module": "@jupyter-widgets/base",
          "model_module_version": "1.2.0",
          "model_name": "LayoutModel",
          "state": {
            "_model_module": "@jupyter-widgets/base",
            "_model_module_version": "1.2.0",
            "_model_name": "LayoutModel",
            "_view_count": null,
            "_view_module": "@jupyter-widgets/base",
            "_view_module_version": "1.2.0",
            "_view_name": "LayoutView",
            "align_content": null,
            "align_items": null,
            "align_self": null,
            "border": null,
            "bottom": null,
            "display": null,
            "flex": null,
            "flex_flow": null,
            "grid_area": null,
            "grid_auto_columns": null,
            "grid_auto_flow": null,
            "grid_auto_rows": null,
            "grid_column": null,
            "grid_gap": null,
            "grid_row": null,
            "grid_template_areas": null,
            "grid_template_columns": null,
            "grid_template_rows": null,
            "height": null,
            "justify_content": null,
            "justify_items": null,
            "left": null,
            "margin": null,
            "max_height": null,
            "max_width": null,
            "min_height": null,
            "min_width": null,
            "object_fit": null,
            "object_position": null,
            "order": null,
            "overflow": null,
            "overflow_x": null,
            "overflow_y": null,
            "padding": null,
            "right": null,
            "top": null,
            "visibility": null,
            "width": null
          }
        },
        "7af7012f54174f7ab12eec6348689d4f": {
          "model_module": "@jupyter-widgets/controls",
          "model_module_version": "1.5.0",
          "model_name": "FloatProgressModel",
          "state": {
            "_dom_classes": [],
            "_model_module": "@jupyter-widgets/controls",
            "_model_module_version": "1.5.0",
            "_model_name": "FloatProgressModel",
            "_view_count": null,
            "_view_module": "@jupyter-widgets/controls",
            "_view_module_version": "1.5.0",
            "_view_name": "ProgressView",
            "bar_style": "",
            "description": "",
            "description_tooltip": null,
            "layout": "IPY_MODEL_a807344afbd440b89298329cd84f7067",
            "max": 1,
            "min": 0,
            "orientation": "horizontal",
            "style": "IPY_MODEL_fa1de49126fa41efb935a2814a09ca96",
            "value": 1
          }
        },
        "7bc071c0e90d43b7b9b66e26770b4005": {
          "model_module": "@jupyter-widgets/controls",
          "model_module_version": "1.5.0",
          "model_name": "FloatProgressModel",
          "state": {
            "_dom_classes": [],
            "_model_module": "@jupyter-widgets/controls",
            "_model_module_version": "1.5.0",
            "_model_name": "FloatProgressModel",
            "_view_count": null,
            "_view_module": "@jupyter-widgets/controls",
            "_view_module_version": "1.5.0",
            "_view_name": "ProgressView",
            "bar_style": "",
            "description": "",
            "description_tooltip": null,
            "layout": "IPY_MODEL_8c498f1951e141bb9296b62f034c4c20",
            "max": 1,
            "min": 0,
            "orientation": "horizontal",
            "style": "IPY_MODEL_0fe453dac5c44b5fa19d46c0f912eb90",
            "value": 1
          }
        },
        "7e0ecb741f6047e9bfb3cc2a1c749869": {
          "model_module": "@jupyter-widgets/controls",
          "model_module_version": "1.5.0",
          "model_name": "VBoxModel",
          "state": {
            "_dom_classes": [],
            "_model_module": "@jupyter-widgets/controls",
            "_model_module_version": "1.5.0",
            "_model_name": "VBoxModel",
            "_view_count": null,
            "_view_module": "@jupyter-widgets/controls",
            "_view_module_version": "1.5.0",
            "_view_name": "VBoxView",
            "box_style": "",
            "children": [
              "IPY_MODEL_dc2ca48d71544df690025469c92c8dbd",
              "IPY_MODEL_3bac936ce6e14c6c8f25c75a0d40409b"
            ],
            "layout": "IPY_MODEL_0901f8e234d749748bf5712293286408"
          }
        },
        "7fa587a1dbce47eba20e1866335681a0": {
          "model_module": "@jupyter-widgets/controls",
          "model_module_version": "1.5.0",
          "model_name": "ProgressStyleModel",
          "state": {
            "_model_module": "@jupyter-widgets/controls",
            "_model_module_version": "1.5.0",
            "_model_name": "ProgressStyleModel",
            "_view_count": null,
            "_view_module": "@jupyter-widgets/base",
            "_view_module_version": "1.2.0",
            "_view_name": "StyleView",
            "bar_color": null,
            "description_width": ""
          }
        },
        "8333c1f8bce8450289ac83b5ce3b068a": {
          "model_module": "@jupyter-widgets/controls",
          "model_module_version": "1.5.0",
          "model_name": "DescriptionStyleModel",
          "state": {
            "_model_module": "@jupyter-widgets/controls",
            "_model_module_version": "1.5.0",
            "_model_name": "DescriptionStyleModel",
            "_view_count": null,
            "_view_module": "@jupyter-widgets/base",
            "_view_module_version": "1.2.0",
            "_view_name": "StyleView",
            "description_width": ""
          }
        },
        "839f9ac810484b24bdd76497ac0f2566": {
          "model_module": "@jupyter-widgets/base",
          "model_module_version": "1.2.0",
          "model_name": "LayoutModel",
          "state": {
            "_model_module": "@jupyter-widgets/base",
            "_model_module_version": "1.2.0",
            "_model_name": "LayoutModel",
            "_view_count": null,
            "_view_module": "@jupyter-widgets/base",
            "_view_module_version": "1.2.0",
            "_view_name": "LayoutView",
            "align_content": null,
            "align_items": null,
            "align_self": null,
            "border": null,
            "bottom": null,
            "display": null,
            "flex": null,
            "flex_flow": null,
            "grid_area": null,
            "grid_auto_columns": null,
            "grid_auto_flow": null,
            "grid_auto_rows": null,
            "grid_column": null,
            "grid_gap": null,
            "grid_row": null,
            "grid_template_areas": null,
            "grid_template_columns": null,
            "grid_template_rows": null,
            "height": null,
            "justify_content": null,
            "justify_items": null,
            "left": null,
            "margin": null,
            "max_height": null,
            "max_width": null,
            "min_height": null,
            "min_width": null,
            "object_fit": null,
            "object_position": null,
            "order": null,
            "overflow": null,
            "overflow_x": null,
            "overflow_y": null,
            "padding": null,
            "right": null,
            "top": null,
            "visibility": null,
            "width": null
          }
        },
        "83ce53c3fd5e4ac397964aff1101259b": {
          "model_module": "@jupyter-widgets/controls",
          "model_module_version": "1.5.0",
          "model_name": "ProgressStyleModel",
          "state": {
            "_model_module": "@jupyter-widgets/controls",
            "_model_module_version": "1.5.0",
            "_model_name": "ProgressStyleModel",
            "_view_count": null,
            "_view_module": "@jupyter-widgets/base",
            "_view_module_version": "1.2.0",
            "_view_name": "StyleView",
            "bar_color": null,
            "description_width": ""
          }
        },
        "8c498f1951e141bb9296b62f034c4c20": {
          "model_module": "@jupyter-widgets/base",
          "model_module_version": "1.2.0",
          "model_name": "LayoutModel",
          "state": {
            "_model_module": "@jupyter-widgets/base",
            "_model_module_version": "1.2.0",
            "_model_name": "LayoutModel",
            "_view_count": null,
            "_view_module": "@jupyter-widgets/base",
            "_view_module_version": "1.2.0",
            "_view_name": "LayoutView",
            "align_content": null,
            "align_items": null,
            "align_self": null,
            "border": null,
            "bottom": null,
            "display": null,
            "flex": null,
            "flex_flow": null,
            "grid_area": null,
            "grid_auto_columns": null,
            "grid_auto_flow": null,
            "grid_auto_rows": null,
            "grid_column": null,
            "grid_gap": null,
            "grid_row": null,
            "grid_template_areas": null,
            "grid_template_columns": null,
            "grid_template_rows": null,
            "height": null,
            "justify_content": null,
            "justify_items": null,
            "left": null,
            "margin": null,
            "max_height": null,
            "max_width": null,
            "min_height": null,
            "min_width": null,
            "object_fit": null,
            "object_position": null,
            "order": null,
            "overflow": null,
            "overflow_x": null,
            "overflow_y": null,
            "padding": null,
            "right": null,
            "top": null,
            "visibility": null,
            "width": null
          }
        },
        "94959432d31f4e629fd592fcc7716c97": {
          "model_module": "@jupyter-widgets/base",
          "model_module_version": "1.2.0",
          "model_name": "LayoutModel",
          "state": {
            "_model_module": "@jupyter-widgets/base",
            "_model_module_version": "1.2.0",
            "_model_name": "LayoutModel",
            "_view_count": null,
            "_view_module": "@jupyter-widgets/base",
            "_view_module_version": "1.2.0",
            "_view_name": "LayoutView",
            "align_content": null,
            "align_items": null,
            "align_self": null,
            "border": null,
            "bottom": null,
            "display": null,
            "flex": null,
            "flex_flow": null,
            "grid_area": null,
            "grid_auto_columns": null,
            "grid_auto_flow": null,
            "grid_auto_rows": null,
            "grid_column": null,
            "grid_gap": null,
            "grid_row": null,
            "grid_template_areas": null,
            "grid_template_columns": null,
            "grid_template_rows": null,
            "height": null,
            "justify_content": null,
            "justify_items": null,
            "left": null,
            "margin": null,
            "max_height": null,
            "max_width": null,
            "min_height": null,
            "min_width": null,
            "object_fit": null,
            "object_position": null,
            "order": null,
            "overflow": null,
            "overflow_x": null,
            "overflow_y": null,
            "padding": null,
            "right": null,
            "top": null,
            "visibility": null,
            "width": null
          }
        },
        "95220a05ab73417fb1ab05d8120cc519": {
          "model_module": "@jupyter-widgets/controls",
          "model_module_version": "1.5.0",
          "model_name": "LabelModel",
          "state": {
            "_dom_classes": [],
            "_model_module": "@jupyter-widgets/controls",
            "_model_module_version": "1.5.0",
            "_model_name": "LabelModel",
            "_view_count": null,
            "_view_module": "@jupyter-widgets/controls",
            "_view_module_version": "1.5.0",
            "_view_name": "LabelView",
            "description": "",
            "description_tooltip": null,
            "layout": "IPY_MODEL_5a6c4c3ad1da4a9d8e655d9e7d93b35d",
            "placeholder": "​",
            "style": "IPY_MODEL_e159cf933e0143ba8e50eb6a421716fe",
            "value": "0.010 MB of 0.010 MB uploaded (0.000 MB deduped)\r"
          }
        },
        "95c09eb12f254fe7a3950ee04ab07225": {
          "model_module": "@jupyter-widgets/base",
          "model_module_version": "1.2.0",
          "model_name": "LayoutModel",
          "state": {
            "_model_module": "@jupyter-widgets/base",
            "_model_module_version": "1.2.0",
            "_model_name": "LayoutModel",
            "_view_count": null,
            "_view_module": "@jupyter-widgets/base",
            "_view_module_version": "1.2.0",
            "_view_name": "LayoutView",
            "align_content": null,
            "align_items": null,
            "align_self": null,
            "border": null,
            "bottom": null,
            "display": null,
            "flex": null,
            "flex_flow": null,
            "grid_area": null,
            "grid_auto_columns": null,
            "grid_auto_flow": null,
            "grid_auto_rows": null,
            "grid_column": null,
            "grid_gap": null,
            "grid_row": null,
            "grid_template_areas": null,
            "grid_template_columns": null,
            "grid_template_rows": null,
            "height": null,
            "justify_content": null,
            "justify_items": null,
            "left": null,
            "margin": null,
            "max_height": null,
            "max_width": null,
            "min_height": null,
            "min_width": null,
            "object_fit": null,
            "object_position": null,
            "order": null,
            "overflow": null,
            "overflow_x": null,
            "overflow_y": null,
            "padding": null,
            "right": null,
            "top": null,
            "visibility": null,
            "width": null
          }
        },
        "95cc1f3c5e2a451ea9c9683bca91e9a9": {
          "model_module": "@jupyter-widgets/controls",
          "model_module_version": "1.5.0",
          "model_name": "DescriptionStyleModel",
          "state": {
            "_model_module": "@jupyter-widgets/controls",
            "_model_module_version": "1.5.0",
            "_model_name": "DescriptionStyleModel",
            "_view_count": null,
            "_view_module": "@jupyter-widgets/base",
            "_view_module_version": "1.2.0",
            "_view_name": "StyleView",
            "description_width": ""
          }
        },
        "9aff715e491b429d8fecf1c7523689d5": {
          "model_module": "@jupyter-widgets/controls",
          "model_module_version": "1.5.0",
          "model_name": "VBoxModel",
          "state": {
            "_dom_classes": [],
            "_model_module": "@jupyter-widgets/controls",
            "_model_module_version": "1.5.0",
            "_model_name": "VBoxModel",
            "_view_count": null,
            "_view_module": "@jupyter-widgets/controls",
            "_view_module_version": "1.5.0",
            "_view_name": "VBoxView",
            "box_style": "",
            "children": [
              "IPY_MODEL_343016ca6c30447aaddb65ddd0050931",
              "IPY_MODEL_09d1114ccee04220be0dc768952c17f1"
            ],
            "layout": "IPY_MODEL_bb7b3c95b6ef41c591f6bff5789f1c56"
          }
        },
        "9b68721affa048629f90bb241e45a2ed": {
          "model_module": "@jupyter-widgets/controls",
          "model_module_version": "1.5.0",
          "model_name": "FloatProgressModel",
          "state": {
            "_dom_classes": [],
            "_model_module": "@jupyter-widgets/controls",
            "_model_module_version": "1.5.0",
            "_model_name": "FloatProgressModel",
            "_view_count": null,
            "_view_module": "@jupyter-widgets/controls",
            "_view_module_version": "1.5.0",
            "_view_name": "ProgressView",
            "bar_style": "",
            "description": "",
            "description_tooltip": null,
            "layout": "IPY_MODEL_b4fcafce8af44160a252da153c845169",
            "max": 1,
            "min": 0,
            "orientation": "horizontal",
            "style": "IPY_MODEL_83ce53c3fd5e4ac397964aff1101259b",
            "value": 1
          }
        },
        "9df2a02c4ce347e989033e9c19540957": {
          "model_module": "@jupyter-widgets/controls",
          "model_module_version": "1.5.0",
          "model_name": "ProgressStyleModel",
          "state": {
            "_model_module": "@jupyter-widgets/controls",
            "_model_module_version": "1.5.0",
            "_model_name": "ProgressStyleModel",
            "_view_count": null,
            "_view_module": "@jupyter-widgets/base",
            "_view_module_version": "1.2.0",
            "_view_name": "StyleView",
            "bar_color": null,
            "description_width": ""
          }
        },
        "a352c7c0953b4044ab607a2e649de098": {
          "model_module": "@jupyter-widgets/base",
          "model_module_version": "1.2.0",
          "model_name": "LayoutModel",
          "state": {
            "_model_module": "@jupyter-widgets/base",
            "_model_module_version": "1.2.0",
            "_model_name": "LayoutModel",
            "_view_count": null,
            "_view_module": "@jupyter-widgets/base",
            "_view_module_version": "1.2.0",
            "_view_name": "LayoutView",
            "align_content": null,
            "align_items": null,
            "align_self": null,
            "border": null,
            "bottom": null,
            "display": null,
            "flex": null,
            "flex_flow": null,
            "grid_area": null,
            "grid_auto_columns": null,
            "grid_auto_flow": null,
            "grid_auto_rows": null,
            "grid_column": null,
            "grid_gap": null,
            "grid_row": null,
            "grid_template_areas": null,
            "grid_template_columns": null,
            "grid_template_rows": null,
            "height": null,
            "justify_content": null,
            "justify_items": null,
            "left": null,
            "margin": null,
            "max_height": null,
            "max_width": null,
            "min_height": null,
            "min_width": null,
            "object_fit": null,
            "object_position": null,
            "order": null,
            "overflow": null,
            "overflow_x": null,
            "overflow_y": null,
            "padding": null,
            "right": null,
            "top": null,
            "visibility": null,
            "width": null
          }
        },
        "a807344afbd440b89298329cd84f7067": {
          "model_module": "@jupyter-widgets/base",
          "model_module_version": "1.2.0",
          "model_name": "LayoutModel",
          "state": {
            "_model_module": "@jupyter-widgets/base",
            "_model_module_version": "1.2.0",
            "_model_name": "LayoutModel",
            "_view_count": null,
            "_view_module": "@jupyter-widgets/base",
            "_view_module_version": "1.2.0",
            "_view_name": "LayoutView",
            "align_content": null,
            "align_items": null,
            "align_self": null,
            "border": null,
            "bottom": null,
            "display": null,
            "flex": null,
            "flex_flow": null,
            "grid_area": null,
            "grid_auto_columns": null,
            "grid_auto_flow": null,
            "grid_auto_rows": null,
            "grid_column": null,
            "grid_gap": null,
            "grid_row": null,
            "grid_template_areas": null,
            "grid_template_columns": null,
            "grid_template_rows": null,
            "height": null,
            "justify_content": null,
            "justify_items": null,
            "left": null,
            "margin": null,
            "max_height": null,
            "max_width": null,
            "min_height": null,
            "min_width": null,
            "object_fit": null,
            "object_position": null,
            "order": null,
            "overflow": null,
            "overflow_x": null,
            "overflow_y": null,
            "padding": null,
            "right": null,
            "top": null,
            "visibility": null,
            "width": null
          }
        },
        "aa9b93b8864a496883b777a856cbeeaa": {
          "model_module": "@jupyter-widgets/controls",
          "model_module_version": "1.5.0",
          "model_name": "DescriptionStyleModel",
          "state": {
            "_model_module": "@jupyter-widgets/controls",
            "_model_module_version": "1.5.0",
            "_model_name": "DescriptionStyleModel",
            "_view_count": null,
            "_view_module": "@jupyter-widgets/base",
            "_view_module_version": "1.2.0",
            "_view_name": "StyleView",
            "description_width": ""
          }
        },
        "aecf55838a9841e68e5789f2778a4b83": {
          "model_module": "@jupyter-widgets/base",
          "model_module_version": "1.2.0",
          "model_name": "LayoutModel",
          "state": {
            "_model_module": "@jupyter-widgets/base",
            "_model_module_version": "1.2.0",
            "_model_name": "LayoutModel",
            "_view_count": null,
            "_view_module": "@jupyter-widgets/base",
            "_view_module_version": "1.2.0",
            "_view_name": "LayoutView",
            "align_content": null,
            "align_items": null,
            "align_self": null,
            "border": null,
            "bottom": null,
            "display": null,
            "flex": null,
            "flex_flow": null,
            "grid_area": null,
            "grid_auto_columns": null,
            "grid_auto_flow": null,
            "grid_auto_rows": null,
            "grid_column": null,
            "grid_gap": null,
            "grid_row": null,
            "grid_template_areas": null,
            "grid_template_columns": null,
            "grid_template_rows": null,
            "height": null,
            "justify_content": null,
            "justify_items": null,
            "left": null,
            "margin": null,
            "max_height": null,
            "max_width": null,
            "min_height": null,
            "min_width": null,
            "object_fit": null,
            "object_position": null,
            "order": null,
            "overflow": null,
            "overflow_x": null,
            "overflow_y": null,
            "padding": null,
            "right": null,
            "top": null,
            "visibility": null,
            "width": null
          }
        },
        "affb89d63f884547a5282855dadc5e01": {
          "model_module": "@jupyter-widgets/controls",
          "model_module_version": "1.5.0",
          "model_name": "ProgressStyleModel",
          "state": {
            "_model_module": "@jupyter-widgets/controls",
            "_model_module_version": "1.5.0",
            "_model_name": "ProgressStyleModel",
            "_view_count": null,
            "_view_module": "@jupyter-widgets/base",
            "_view_module_version": "1.2.0",
            "_view_name": "StyleView",
            "bar_color": null,
            "description_width": ""
          }
        },
        "b0aaa621023146c88f123e8e409bb60b": {
          "model_module": "@jupyter-widgets/base",
          "model_module_version": "1.2.0",
          "model_name": "LayoutModel",
          "state": {
            "_model_module": "@jupyter-widgets/base",
            "_model_module_version": "1.2.0",
            "_model_name": "LayoutModel",
            "_view_count": null,
            "_view_module": "@jupyter-widgets/base",
            "_view_module_version": "1.2.0",
            "_view_name": "LayoutView",
            "align_content": null,
            "align_items": null,
            "align_self": null,
            "border": null,
            "bottom": null,
            "display": null,
            "flex": null,
            "flex_flow": null,
            "grid_area": null,
            "grid_auto_columns": null,
            "grid_auto_flow": null,
            "grid_auto_rows": null,
            "grid_column": null,
            "grid_gap": null,
            "grid_row": null,
            "grid_template_areas": null,
            "grid_template_columns": null,
            "grid_template_rows": null,
            "height": null,
            "justify_content": null,
            "justify_items": null,
            "left": null,
            "margin": null,
            "max_height": null,
            "max_width": null,
            "min_height": null,
            "min_width": null,
            "object_fit": null,
            "object_position": null,
            "order": null,
            "overflow": null,
            "overflow_x": null,
            "overflow_y": null,
            "padding": null,
            "right": null,
            "top": null,
            "visibility": null,
            "width": null
          }
        },
        "b22b63d2aebd4563bcbdd091379fdb87": {
          "model_module": "@jupyter-widgets/controls",
          "model_module_version": "1.5.0",
          "model_name": "DescriptionStyleModel",
          "state": {
            "_model_module": "@jupyter-widgets/controls",
            "_model_module_version": "1.5.0",
            "_model_name": "DescriptionStyleModel",
            "_view_count": null,
            "_view_module": "@jupyter-widgets/base",
            "_view_module_version": "1.2.0",
            "_view_name": "StyleView",
            "description_width": ""
          }
        },
        "b43450b82b674d0896e0b6dcde836c24": {
          "model_module": "@jupyter-widgets/controls",
          "model_module_version": "1.5.0",
          "model_name": "VBoxModel",
          "state": {
            "_dom_classes": [],
            "_model_module": "@jupyter-widgets/controls",
            "_model_module_version": "1.5.0",
            "_model_name": "VBoxModel",
            "_view_count": null,
            "_view_module": "@jupyter-widgets/controls",
            "_view_module_version": "1.5.0",
            "_view_name": "VBoxView",
            "box_style": "",
            "children": [
              "IPY_MODEL_b4f95795107746a28688ef351c6e9398",
              "IPY_MODEL_7bc071c0e90d43b7b9b66e26770b4005"
            ],
            "layout": "IPY_MODEL_95c09eb12f254fe7a3950ee04ab07225"
          }
        },
        "b4f95795107746a28688ef351c6e9398": {
          "model_module": "@jupyter-widgets/controls",
          "model_module_version": "1.5.0",
          "model_name": "LabelModel",
          "state": {
            "_dom_classes": [],
            "_model_module": "@jupyter-widgets/controls",
            "_model_module_version": "1.5.0",
            "_model_name": "LabelModel",
            "_view_count": null,
            "_view_module": "@jupyter-widgets/controls",
            "_view_module_version": "1.5.0",
            "_view_name": "LabelView",
            "description": "",
            "description_tooltip": null,
            "layout": "IPY_MODEL_ba3b3a524f3b48ee835876a3fc095a37",
            "placeholder": "​",
            "style": "IPY_MODEL_95cc1f3c5e2a451ea9c9683bca91e9a9",
            "value": "0.010 MB of 0.010 MB uploaded (0.000 MB deduped)\r"
          }
        },
        "b4fcafce8af44160a252da153c845169": {
          "model_module": "@jupyter-widgets/base",
          "model_module_version": "1.2.0",
          "model_name": "LayoutModel",
          "state": {
            "_model_module": "@jupyter-widgets/base",
            "_model_module_version": "1.2.0",
            "_model_name": "LayoutModel",
            "_view_count": null,
            "_view_module": "@jupyter-widgets/base",
            "_view_module_version": "1.2.0",
            "_view_name": "LayoutView",
            "align_content": null,
            "align_items": null,
            "align_self": null,
            "border": null,
            "bottom": null,
            "display": null,
            "flex": null,
            "flex_flow": null,
            "grid_area": null,
            "grid_auto_columns": null,
            "grid_auto_flow": null,
            "grid_auto_rows": null,
            "grid_column": null,
            "grid_gap": null,
            "grid_row": null,
            "grid_template_areas": null,
            "grid_template_columns": null,
            "grid_template_rows": null,
            "height": null,
            "justify_content": null,
            "justify_items": null,
            "left": null,
            "margin": null,
            "max_height": null,
            "max_width": null,
            "min_height": null,
            "min_width": null,
            "object_fit": null,
            "object_position": null,
            "order": null,
            "overflow": null,
            "overflow_x": null,
            "overflow_y": null,
            "padding": null,
            "right": null,
            "top": null,
            "visibility": null,
            "width": null
          }
        },
        "ba3b3a524f3b48ee835876a3fc095a37": {
          "model_module": "@jupyter-widgets/base",
          "model_module_version": "1.2.0",
          "model_name": "LayoutModel",
          "state": {
            "_model_module": "@jupyter-widgets/base",
            "_model_module_version": "1.2.0",
            "_model_name": "LayoutModel",
            "_view_count": null,
            "_view_module": "@jupyter-widgets/base",
            "_view_module_version": "1.2.0",
            "_view_name": "LayoutView",
            "align_content": null,
            "align_items": null,
            "align_self": null,
            "border": null,
            "bottom": null,
            "display": null,
            "flex": null,
            "flex_flow": null,
            "grid_area": null,
            "grid_auto_columns": null,
            "grid_auto_flow": null,
            "grid_auto_rows": null,
            "grid_column": null,
            "grid_gap": null,
            "grid_row": null,
            "grid_template_areas": null,
            "grid_template_columns": null,
            "grid_template_rows": null,
            "height": null,
            "justify_content": null,
            "justify_items": null,
            "left": null,
            "margin": null,
            "max_height": null,
            "max_width": null,
            "min_height": null,
            "min_width": null,
            "object_fit": null,
            "object_position": null,
            "order": null,
            "overflow": null,
            "overflow_x": null,
            "overflow_y": null,
            "padding": null,
            "right": null,
            "top": null,
            "visibility": null,
            "width": null
          }
        },
        "bb7b3c95b6ef41c591f6bff5789f1c56": {
          "model_module": "@jupyter-widgets/base",
          "model_module_version": "1.2.0",
          "model_name": "LayoutModel",
          "state": {
            "_model_module": "@jupyter-widgets/base",
            "_model_module_version": "1.2.0",
            "_model_name": "LayoutModel",
            "_view_count": null,
            "_view_module": "@jupyter-widgets/base",
            "_view_module_version": "1.2.0",
            "_view_name": "LayoutView",
            "align_content": null,
            "align_items": null,
            "align_self": null,
            "border": null,
            "bottom": null,
            "display": null,
            "flex": null,
            "flex_flow": null,
            "grid_area": null,
            "grid_auto_columns": null,
            "grid_auto_flow": null,
            "grid_auto_rows": null,
            "grid_column": null,
            "grid_gap": null,
            "grid_row": null,
            "grid_template_areas": null,
            "grid_template_columns": null,
            "grid_template_rows": null,
            "height": null,
            "justify_content": null,
            "justify_items": null,
            "left": null,
            "margin": null,
            "max_height": null,
            "max_width": null,
            "min_height": null,
            "min_width": null,
            "object_fit": null,
            "object_position": null,
            "order": null,
            "overflow": null,
            "overflow_x": null,
            "overflow_y": null,
            "padding": null,
            "right": null,
            "top": null,
            "visibility": null,
            "width": null
          }
        },
        "bc9472941a90467c94515cdfd89fd0e2": {
          "model_module": "@jupyter-widgets/base",
          "model_module_version": "1.2.0",
          "model_name": "LayoutModel",
          "state": {
            "_model_module": "@jupyter-widgets/base",
            "_model_module_version": "1.2.0",
            "_model_name": "LayoutModel",
            "_view_count": null,
            "_view_module": "@jupyter-widgets/base",
            "_view_module_version": "1.2.0",
            "_view_name": "LayoutView",
            "align_content": null,
            "align_items": null,
            "align_self": null,
            "border": null,
            "bottom": null,
            "display": null,
            "flex": null,
            "flex_flow": null,
            "grid_area": null,
            "grid_auto_columns": null,
            "grid_auto_flow": null,
            "grid_auto_rows": null,
            "grid_column": null,
            "grid_gap": null,
            "grid_row": null,
            "grid_template_areas": null,
            "grid_template_columns": null,
            "grid_template_rows": null,
            "height": null,
            "justify_content": null,
            "justify_items": null,
            "left": null,
            "margin": null,
            "max_height": null,
            "max_width": null,
            "min_height": null,
            "min_width": null,
            "object_fit": null,
            "object_position": null,
            "order": null,
            "overflow": null,
            "overflow_x": null,
            "overflow_y": null,
            "padding": null,
            "right": null,
            "top": null,
            "visibility": null,
            "width": null
          }
        },
        "bed6808ce7614c4da0e658de962df189": {
          "model_module": "@jupyter-widgets/controls",
          "model_module_version": "1.5.0",
          "model_name": "LabelModel",
          "state": {
            "_dom_classes": [],
            "_model_module": "@jupyter-widgets/controls",
            "_model_module_version": "1.5.0",
            "_model_name": "LabelModel",
            "_view_count": null,
            "_view_module": "@jupyter-widgets/controls",
            "_view_module_version": "1.5.0",
            "_view_name": "LabelView",
            "description": "",
            "description_tooltip": null,
            "layout": "IPY_MODEL_5fca700453bc423297308cccb30fc696",
            "placeholder": "​",
            "style": "IPY_MODEL_0a61a2dd93ff44268cfef423343c28ff",
            "value": "0.010 MB of 0.010 MB uploaded (0.000 MB deduped)\r"
          }
        },
        "c0acd343d6ba404bb45aa6ceced9f574": {
          "model_module": "@jupyter-widgets/controls",
          "model_module_version": "1.5.0",
          "model_name": "DescriptionStyleModel",
          "state": {
            "_model_module": "@jupyter-widgets/controls",
            "_model_module_version": "1.5.0",
            "_model_name": "DescriptionStyleModel",
            "_view_count": null,
            "_view_module": "@jupyter-widgets/base",
            "_view_module_version": "1.2.0",
            "_view_name": "StyleView",
            "description_width": ""
          }
        },
        "c7c71c2b4f884b4c9970c90ef7a95de5": {
          "model_module": "@jupyter-widgets/controls",
          "model_module_version": "1.5.0",
          "model_name": "VBoxModel",
          "state": {
            "_dom_classes": [],
            "_model_module": "@jupyter-widgets/controls",
            "_model_module_version": "1.5.0",
            "_model_name": "VBoxModel",
            "_view_count": null,
            "_view_module": "@jupyter-widgets/controls",
            "_view_module_version": "1.5.0",
            "_view_name": "VBoxView",
            "box_style": "",
            "children": [
              "IPY_MODEL_e1ab4170f6d54cf1a794d06874bb5d29",
              "IPY_MODEL_0170ec8478074a8dab063c671eb97ba4"
            ],
            "layout": "IPY_MODEL_f876e23586c249ad9da7e83bc351394c"
          }
        },
        "ca4cb1b9df19474b842f9e787dd97d57": {
          "model_module": "@jupyter-widgets/controls",
          "model_module_version": "1.5.0",
          "model_name": "LabelModel",
          "state": {
            "_dom_classes": [],
            "_model_module": "@jupyter-widgets/controls",
            "_model_module_version": "1.5.0",
            "_model_name": "LabelModel",
            "_view_count": null,
            "_view_module": "@jupyter-widgets/controls",
            "_view_module_version": "1.5.0",
            "_view_name": "LabelView",
            "description": "",
            "description_tooltip": null,
            "layout": "IPY_MODEL_0a2871761c204189ac964f0063ccfe24",
            "placeholder": "​",
            "style": "IPY_MODEL_8333c1f8bce8450289ac83b5ce3b068a",
            "value": "0.010 MB of 0.010 MB uploaded (0.000 MB deduped)\r"
          }
        },
        "ca5b221d2c0848dbb7e6ee29db2d9186": {
          "model_module": "@jupyter-widgets/controls",
          "model_module_version": "1.5.0",
          "model_name": "FloatProgressModel",
          "state": {
            "_dom_classes": [],
            "_model_module": "@jupyter-widgets/controls",
            "_model_module_version": "1.5.0",
            "_model_name": "FloatProgressModel",
            "_view_count": null,
            "_view_module": "@jupyter-widgets/controls",
            "_view_module_version": "1.5.0",
            "_view_name": "ProgressView",
            "bar_style": "",
            "description": "",
            "description_tooltip": null,
            "layout": "IPY_MODEL_839f9ac810484b24bdd76497ac0f2566",
            "max": 1,
            "min": 0,
            "orientation": "horizontal",
            "style": "IPY_MODEL_7fa587a1dbce47eba20e1866335681a0",
            "value": 0.1301018025590735
          }
        },
        "cea1ddae90e943b18fe3d1916d31362c": {
          "model_module": "@jupyter-widgets/controls",
          "model_module_version": "1.5.0",
          "model_name": "FloatProgressModel",
          "state": {
            "_dom_classes": [],
            "_model_module": "@jupyter-widgets/controls",
            "_model_module_version": "1.5.0",
            "_model_name": "FloatProgressModel",
            "_view_count": null,
            "_view_module": "@jupyter-widgets/controls",
            "_view_module_version": "1.5.0",
            "_view_name": "ProgressView",
            "bar_style": "",
            "description": "",
            "description_tooltip": null,
            "layout": "IPY_MODEL_94959432d31f4e629fd592fcc7716c97",
            "max": 1,
            "min": 0,
            "orientation": "horizontal",
            "style": "IPY_MODEL_44e925e0ce3346c7973bbec89bd27416",
            "value": 1
          }
        },
        "ceccbe8a0873466bb0281b7a51085aba": {
          "model_module": "@jupyter-widgets/controls",
          "model_module_version": "1.5.0",
          "model_name": "ProgressStyleModel",
          "state": {
            "_model_module": "@jupyter-widgets/controls",
            "_model_module_version": "1.5.0",
            "_model_name": "ProgressStyleModel",
            "_view_count": null,
            "_view_module": "@jupyter-widgets/base",
            "_view_module_version": "1.2.0",
            "_view_name": "StyleView",
            "bar_color": null,
            "description_width": ""
          }
        },
        "cf6642b932fa41eaa0f71525de6f7446": {
          "model_module": "@jupyter-widgets/base",
          "model_module_version": "1.2.0",
          "model_name": "LayoutModel",
          "state": {
            "_model_module": "@jupyter-widgets/base",
            "_model_module_version": "1.2.0",
            "_model_name": "LayoutModel",
            "_view_count": null,
            "_view_module": "@jupyter-widgets/base",
            "_view_module_version": "1.2.0",
            "_view_name": "LayoutView",
            "align_content": null,
            "align_items": null,
            "align_self": null,
            "border": null,
            "bottom": null,
            "display": null,
            "flex": null,
            "flex_flow": null,
            "grid_area": null,
            "grid_auto_columns": null,
            "grid_auto_flow": null,
            "grid_auto_rows": null,
            "grid_column": null,
            "grid_gap": null,
            "grid_row": null,
            "grid_template_areas": null,
            "grid_template_columns": null,
            "grid_template_rows": null,
            "height": null,
            "justify_content": null,
            "justify_items": null,
            "left": null,
            "margin": null,
            "max_height": null,
            "max_width": null,
            "min_height": null,
            "min_width": null,
            "object_fit": null,
            "object_position": null,
            "order": null,
            "overflow": null,
            "overflow_x": null,
            "overflow_y": null,
            "padding": null,
            "right": null,
            "top": null,
            "visibility": null,
            "width": null
          }
        },
        "d49496aaa67045c78899e007a43bb904": {
          "model_module": "@jupyter-widgets/controls",
          "model_module_version": "1.5.0",
          "model_name": "LabelModel",
          "state": {
            "_dom_classes": [],
            "_model_module": "@jupyter-widgets/controls",
            "_model_module_version": "1.5.0",
            "_model_name": "LabelModel",
            "_view_count": null,
            "_view_module": "@jupyter-widgets/controls",
            "_view_module_version": "1.5.0",
            "_view_name": "LabelView",
            "description": "",
            "description_tooltip": null,
            "layout": "IPY_MODEL_03ee8d18b36a43b1bf96e6c3117c8765",
            "placeholder": "​",
            "style": "IPY_MODEL_aa9b93b8864a496883b777a856cbeeaa",
            "value": "0.010 MB of 0.010 MB uploaded (0.000 MB deduped)\r"
          }
        },
        "d93d1cbb943d42208c34904c0db5f814": {
          "model_module": "@jupyter-widgets/base",
          "model_module_version": "1.2.0",
          "model_name": "LayoutModel",
          "state": {
            "_model_module": "@jupyter-widgets/base",
            "_model_module_version": "1.2.0",
            "_model_name": "LayoutModel",
            "_view_count": null,
            "_view_module": "@jupyter-widgets/base",
            "_view_module_version": "1.2.0",
            "_view_name": "LayoutView",
            "align_content": null,
            "align_items": null,
            "align_self": null,
            "border": null,
            "bottom": null,
            "display": null,
            "flex": null,
            "flex_flow": null,
            "grid_area": null,
            "grid_auto_columns": null,
            "grid_auto_flow": null,
            "grid_auto_rows": null,
            "grid_column": null,
            "grid_gap": null,
            "grid_row": null,
            "grid_template_areas": null,
            "grid_template_columns": null,
            "grid_template_rows": null,
            "height": null,
            "justify_content": null,
            "justify_items": null,
            "left": null,
            "margin": null,
            "max_height": null,
            "max_width": null,
            "min_height": null,
            "min_width": null,
            "object_fit": null,
            "object_position": null,
            "order": null,
            "overflow": null,
            "overflow_x": null,
            "overflow_y": null,
            "padding": null,
            "right": null,
            "top": null,
            "visibility": null,
            "width": null
          }
        },
        "dbc564e3cbd84715ae49130d79fcf78d": {
          "model_module": "@jupyter-widgets/base",
          "model_module_version": "1.2.0",
          "model_name": "LayoutModel",
          "state": {
            "_model_module": "@jupyter-widgets/base",
            "_model_module_version": "1.2.0",
            "_model_name": "LayoutModel",
            "_view_count": null,
            "_view_module": "@jupyter-widgets/base",
            "_view_module_version": "1.2.0",
            "_view_name": "LayoutView",
            "align_content": null,
            "align_items": null,
            "align_self": null,
            "border": null,
            "bottom": null,
            "display": null,
            "flex": null,
            "flex_flow": null,
            "grid_area": null,
            "grid_auto_columns": null,
            "grid_auto_flow": null,
            "grid_auto_rows": null,
            "grid_column": null,
            "grid_gap": null,
            "grid_row": null,
            "grid_template_areas": null,
            "grid_template_columns": null,
            "grid_template_rows": null,
            "height": null,
            "justify_content": null,
            "justify_items": null,
            "left": null,
            "margin": null,
            "max_height": null,
            "max_width": null,
            "min_height": null,
            "min_width": null,
            "object_fit": null,
            "object_position": null,
            "order": null,
            "overflow": null,
            "overflow_x": null,
            "overflow_y": null,
            "padding": null,
            "right": null,
            "top": null,
            "visibility": null,
            "width": null
          }
        },
        "dc2ca48d71544df690025469c92c8dbd": {
          "model_module": "@jupyter-widgets/controls",
          "model_module_version": "1.5.0",
          "model_name": "LabelModel",
          "state": {
            "_dom_classes": [],
            "_model_module": "@jupyter-widgets/controls",
            "_model_module_version": "1.5.0",
            "_model_name": "LabelModel",
            "_view_count": null,
            "_view_module": "@jupyter-widgets/controls",
            "_view_module_version": "1.5.0",
            "_view_name": "LabelView",
            "description": "",
            "description_tooltip": null,
            "layout": "IPY_MODEL_1bad455e0e264fdf840abd1e3e009bf7",
            "placeholder": "​",
            "style": "IPY_MODEL_b22b63d2aebd4563bcbdd091379fdb87",
            "value": "0.010 MB of 0.010 MB uploaded (0.000 MB deduped)\r"
          }
        },
        "dea4c297e666419cacde1cac0540232b": {
          "model_module": "@jupyter-widgets/controls",
          "model_module_version": "1.5.0",
          "model_name": "ProgressStyleModel",
          "state": {
            "_model_module": "@jupyter-widgets/controls",
            "_model_module_version": "1.5.0",
            "_model_name": "ProgressStyleModel",
            "_view_count": null,
            "_view_module": "@jupyter-widgets/base",
            "_view_module_version": "1.2.0",
            "_view_name": "StyleView",
            "bar_color": null,
            "description_width": ""
          }
        },
        "df49c56d18764910938c12596923a025": {
          "model_module": "@jupyter-widgets/controls",
          "model_module_version": "1.5.0",
          "model_name": "FloatProgressModel",
          "state": {
            "_dom_classes": [],
            "_model_module": "@jupyter-widgets/controls",
            "_model_module_version": "1.5.0",
            "_model_name": "FloatProgressModel",
            "_view_count": null,
            "_view_module": "@jupyter-widgets/controls",
            "_view_module_version": "1.5.0",
            "_view_name": "ProgressView",
            "bar_style": "",
            "description": "",
            "description_tooltip": null,
            "layout": "IPY_MODEL_f710856c889741349d7f9041c882edfc",
            "max": 1,
            "min": 0,
            "orientation": "horizontal",
            "style": "IPY_MODEL_9df2a02c4ce347e989033e9c19540957",
            "value": 1
          }
        },
        "df691323845c4851ab352e9c7fe334bc": {
          "model_module": "@jupyter-widgets/base",
          "model_module_version": "1.2.0",
          "model_name": "LayoutModel",
          "state": {
            "_model_module": "@jupyter-widgets/base",
            "_model_module_version": "1.2.0",
            "_model_name": "LayoutModel",
            "_view_count": null,
            "_view_module": "@jupyter-widgets/base",
            "_view_module_version": "1.2.0",
            "_view_name": "LayoutView",
            "align_content": null,
            "align_items": null,
            "align_self": null,
            "border": null,
            "bottom": null,
            "display": null,
            "flex": null,
            "flex_flow": null,
            "grid_area": null,
            "grid_auto_columns": null,
            "grid_auto_flow": null,
            "grid_auto_rows": null,
            "grid_column": null,
            "grid_gap": null,
            "grid_row": null,
            "grid_template_areas": null,
            "grid_template_columns": null,
            "grid_template_rows": null,
            "height": null,
            "justify_content": null,
            "justify_items": null,
            "left": null,
            "margin": null,
            "max_height": null,
            "max_width": null,
            "min_height": null,
            "min_width": null,
            "object_fit": null,
            "object_position": null,
            "order": null,
            "overflow": null,
            "overflow_x": null,
            "overflow_y": null,
            "padding": null,
            "right": null,
            "top": null,
            "visibility": null,
            "width": null
          }
        },
        "e0afc6b15153443987cc040d492f6835": {
          "model_module": "@jupyter-widgets/controls",
          "model_module_version": "1.5.0",
          "model_name": "DescriptionStyleModel",
          "state": {
            "_model_module": "@jupyter-widgets/controls",
            "_model_module_version": "1.5.0",
            "_model_name": "DescriptionStyleModel",
            "_view_count": null,
            "_view_module": "@jupyter-widgets/base",
            "_view_module_version": "1.2.0",
            "_view_name": "StyleView",
            "description_width": ""
          }
        },
        "e159cf933e0143ba8e50eb6a421716fe": {
          "model_module": "@jupyter-widgets/controls",
          "model_module_version": "1.5.0",
          "model_name": "DescriptionStyleModel",
          "state": {
            "_model_module": "@jupyter-widgets/controls",
            "_model_module_version": "1.5.0",
            "_model_name": "DescriptionStyleModel",
            "_view_count": null,
            "_view_module": "@jupyter-widgets/base",
            "_view_module_version": "1.2.0",
            "_view_name": "StyleView",
            "description_width": ""
          }
        },
        "e1ab4170f6d54cf1a794d06874bb5d29": {
          "model_module": "@jupyter-widgets/controls",
          "model_module_version": "1.5.0",
          "model_name": "LabelModel",
          "state": {
            "_dom_classes": [],
            "_model_module": "@jupyter-widgets/controls",
            "_model_module_version": "1.5.0",
            "_model_name": "LabelModel",
            "_view_count": null,
            "_view_module": "@jupyter-widgets/controls",
            "_view_module_version": "1.5.0",
            "_view_name": "LabelView",
            "description": "",
            "description_tooltip": null,
            "layout": "IPY_MODEL_2e27d6e28c00420ba1b0afa1275082d5",
            "placeholder": "​",
            "style": "IPY_MODEL_3a732a371f34407fa3f8f04380c2d3d3",
            "value": "0.010 MB of 0.010 MB uploaded (0.000 MB deduped)\r"
          }
        },
        "e505cfcd7ff048318da0093636e86777": {
          "model_module": "@jupyter-widgets/controls",
          "model_module_version": "1.5.0",
          "model_name": "VBoxModel",
          "state": {
            "_dom_classes": [],
            "_model_module": "@jupyter-widgets/controls",
            "_model_module_version": "1.5.0",
            "_model_name": "VBoxModel",
            "_view_count": null,
            "_view_module": "@jupyter-widgets/controls",
            "_view_module_version": "1.5.0",
            "_view_name": "VBoxView",
            "box_style": "",
            "children": [
              "IPY_MODEL_017b0c11f581452c94f0175025d8cce9",
              "IPY_MODEL_32931406951e40d29388f27927982d15"
            ],
            "layout": "IPY_MODEL_aecf55838a9841e68e5789f2778a4b83"
          }
        },
        "e81e4ff645484612957a2304928505be": {
          "model_module": "@jupyter-widgets/controls",
          "model_module_version": "1.5.0",
          "model_name": "ProgressStyleModel",
          "state": {
            "_model_module": "@jupyter-widgets/controls",
            "_model_module_version": "1.5.0",
            "_model_name": "ProgressStyleModel",
            "_view_count": null,
            "_view_module": "@jupyter-widgets/base",
            "_view_module_version": "1.2.0",
            "_view_name": "StyleView",
            "bar_color": null,
            "description_width": ""
          }
        },
        "e864d1384dd0407e81d6e6452233aa81": {
          "model_module": "@jupyter-widgets/controls",
          "model_module_version": "1.5.0",
          "model_name": "DescriptionStyleModel",
          "state": {
            "_model_module": "@jupyter-widgets/controls",
            "_model_module_version": "1.5.0",
            "_model_name": "DescriptionStyleModel",
            "_view_count": null,
            "_view_module": "@jupyter-widgets/base",
            "_view_module_version": "1.2.0",
            "_view_name": "StyleView",
            "description_width": ""
          }
        },
        "ec175ad65e5e4d3d8a59ac10d8f79f13": {
          "model_module": "@jupyter-widgets/controls",
          "model_module_version": "1.5.0",
          "model_name": "LabelModel",
          "state": {
            "_dom_classes": [],
            "_model_module": "@jupyter-widgets/controls",
            "_model_module_version": "1.5.0",
            "_model_name": "LabelModel",
            "_view_count": null,
            "_view_module": "@jupyter-widgets/controls",
            "_view_module_version": "1.5.0",
            "_view_name": "LabelView",
            "description": "",
            "description_tooltip": null,
            "layout": "IPY_MODEL_2303701c77e7402ba330e7bc18ce2e44",
            "placeholder": "​",
            "style": "IPY_MODEL_e0afc6b15153443987cc040d492f6835",
            "value": "0.010 MB of 0.010 MB uploaded (0.000 MB deduped)\r"
          }
        },
        "f3e05bb389c04844ac4997e7cc3a3bb4": {
          "model_module": "@jupyter-widgets/controls",
          "model_module_version": "1.5.0",
          "model_name": "LabelModel",
          "state": {
            "_dom_classes": [],
            "_model_module": "@jupyter-widgets/controls",
            "_model_module_version": "1.5.0",
            "_model_name": "LabelModel",
            "_view_count": null,
            "_view_module": "@jupyter-widgets/controls",
            "_view_module_version": "1.5.0",
            "_view_name": "LabelView",
            "description": "",
            "description_tooltip": null,
            "layout": "IPY_MODEL_d93d1cbb943d42208c34904c0db5f814",
            "placeholder": "​",
            "style": "IPY_MODEL_e864d1384dd0407e81d6e6452233aa81",
            "value": "0.010 MB of 0.010 MB uploaded (0.000 MB deduped)\r"
          }
        },
        "f45b2b62946b4b7aaa4655e467336a58": {
          "model_module": "@jupyter-widgets/controls",
          "model_module_version": "1.5.0",
          "model_name": "VBoxModel",
          "state": {
            "_dom_classes": [],
            "_model_module": "@jupyter-widgets/controls",
            "_model_module_version": "1.5.0",
            "_model_name": "VBoxModel",
            "_view_count": null,
            "_view_module": "@jupyter-widgets/controls",
            "_view_module_version": "1.5.0",
            "_view_name": "VBoxView",
            "box_style": "",
            "children": [
              "IPY_MODEL_1c4e1fceefc14db49be887e7bce7f505",
              "IPY_MODEL_76f5f595a7024f7286cf712eb95363a0"
            ],
            "layout": "IPY_MODEL_f66b5189f219475f813078d2c1914ce0"
          }
        },
        "f55e46054d1a4bc0ae2ab34f5b3b730b": {
          "model_module": "@jupyter-widgets/controls",
          "model_module_version": "1.5.0",
          "model_name": "VBoxModel",
          "state": {
            "_dom_classes": [],
            "_model_module": "@jupyter-widgets/controls",
            "_model_module_version": "1.5.0",
            "_model_name": "VBoxModel",
            "_view_count": null,
            "_view_module": "@jupyter-widgets/controls",
            "_view_module_version": "1.5.0",
            "_view_name": "VBoxView",
            "box_style": "",
            "children": [
              "IPY_MODEL_ca4cb1b9df19474b842f9e787dd97d57",
              "IPY_MODEL_5aeaa3f9750b40c0b799f3fc9153c715"
            ],
            "layout": "IPY_MODEL_179337824b004ee9932da4d79d809753"
          }
        },
        "f66b5189f219475f813078d2c1914ce0": {
          "model_module": "@jupyter-widgets/base",
          "model_module_version": "1.2.0",
          "model_name": "LayoutModel",
          "state": {
            "_model_module": "@jupyter-widgets/base",
            "_model_module_version": "1.2.0",
            "_model_name": "LayoutModel",
            "_view_count": null,
            "_view_module": "@jupyter-widgets/base",
            "_view_module_version": "1.2.0",
            "_view_name": "LayoutView",
            "align_content": null,
            "align_items": null,
            "align_self": null,
            "border": null,
            "bottom": null,
            "display": null,
            "flex": null,
            "flex_flow": null,
            "grid_area": null,
            "grid_auto_columns": null,
            "grid_auto_flow": null,
            "grid_auto_rows": null,
            "grid_column": null,
            "grid_gap": null,
            "grid_row": null,
            "grid_template_areas": null,
            "grid_template_columns": null,
            "grid_template_rows": null,
            "height": null,
            "justify_content": null,
            "justify_items": null,
            "left": null,
            "margin": null,
            "max_height": null,
            "max_width": null,
            "min_height": null,
            "min_width": null,
            "object_fit": null,
            "object_position": null,
            "order": null,
            "overflow": null,
            "overflow_x": null,
            "overflow_y": null,
            "padding": null,
            "right": null,
            "top": null,
            "visibility": null,
            "width": null
          }
        },
        "f6fbc473504c4af78d5070efe454befa": {
          "model_module": "@jupyter-widgets/controls",
          "model_module_version": "1.5.0",
          "model_name": "DescriptionStyleModel",
          "state": {
            "_model_module": "@jupyter-widgets/controls",
            "_model_module_version": "1.5.0",
            "_model_name": "DescriptionStyleModel",
            "_view_count": null,
            "_view_module": "@jupyter-widgets/base",
            "_view_module_version": "1.2.0",
            "_view_name": "StyleView",
            "description_width": ""
          }
        },
        "f710856c889741349d7f9041c882edfc": {
          "model_module": "@jupyter-widgets/base",
          "model_module_version": "1.2.0",
          "model_name": "LayoutModel",
          "state": {
            "_model_module": "@jupyter-widgets/base",
            "_model_module_version": "1.2.0",
            "_model_name": "LayoutModel",
            "_view_count": null,
            "_view_module": "@jupyter-widgets/base",
            "_view_module_version": "1.2.0",
            "_view_name": "LayoutView",
            "align_content": null,
            "align_items": null,
            "align_self": null,
            "border": null,
            "bottom": null,
            "display": null,
            "flex": null,
            "flex_flow": null,
            "grid_area": null,
            "grid_auto_columns": null,
            "grid_auto_flow": null,
            "grid_auto_rows": null,
            "grid_column": null,
            "grid_gap": null,
            "grid_row": null,
            "grid_template_areas": null,
            "grid_template_columns": null,
            "grid_template_rows": null,
            "height": null,
            "justify_content": null,
            "justify_items": null,
            "left": null,
            "margin": null,
            "max_height": null,
            "max_width": null,
            "min_height": null,
            "min_width": null,
            "object_fit": null,
            "object_position": null,
            "order": null,
            "overflow": null,
            "overflow_x": null,
            "overflow_y": null,
            "padding": null,
            "right": null,
            "top": null,
            "visibility": null,
            "width": null
          }
        },
        "f876e23586c249ad9da7e83bc351394c": {
          "model_module": "@jupyter-widgets/base",
          "model_module_version": "1.2.0",
          "model_name": "LayoutModel",
          "state": {
            "_model_module": "@jupyter-widgets/base",
            "_model_module_version": "1.2.0",
            "_model_name": "LayoutModel",
            "_view_count": null,
            "_view_module": "@jupyter-widgets/base",
            "_view_module_version": "1.2.0",
            "_view_name": "LayoutView",
            "align_content": null,
            "align_items": null,
            "align_self": null,
            "border": null,
            "bottom": null,
            "display": null,
            "flex": null,
            "flex_flow": null,
            "grid_area": null,
            "grid_auto_columns": null,
            "grid_auto_flow": null,
            "grid_auto_rows": null,
            "grid_column": null,
            "grid_gap": null,
            "grid_row": null,
            "grid_template_areas": null,
            "grid_template_columns": null,
            "grid_template_rows": null,
            "height": null,
            "justify_content": null,
            "justify_items": null,
            "left": null,
            "margin": null,
            "max_height": null,
            "max_width": null,
            "min_height": null,
            "min_width": null,
            "object_fit": null,
            "object_position": null,
            "order": null,
            "overflow": null,
            "overflow_x": null,
            "overflow_y": null,
            "padding": null,
            "right": null,
            "top": null,
            "visibility": null,
            "width": null
          }
        },
        "fa1de49126fa41efb935a2814a09ca96": {
          "model_module": "@jupyter-widgets/controls",
          "model_module_version": "1.5.0",
          "model_name": "ProgressStyleModel",
          "state": {
            "_model_module": "@jupyter-widgets/controls",
            "_model_module_version": "1.5.0",
            "_model_name": "ProgressStyleModel",
            "_view_count": null,
            "_view_module": "@jupyter-widgets/base",
            "_view_module_version": "1.2.0",
            "_view_name": "StyleView",
            "bar_color": null,
            "description_width": ""
          }
        },
        "fe362cc9ab3c46c78139a4d4341ef197": {
          "model_module": "@jupyter-widgets/base",
          "model_module_version": "1.2.0",
          "model_name": "LayoutModel",
          "state": {
            "_model_module": "@jupyter-widgets/base",
            "_model_module_version": "1.2.0",
            "_model_name": "LayoutModel",
            "_view_count": null,
            "_view_module": "@jupyter-widgets/base",
            "_view_module_version": "1.2.0",
            "_view_name": "LayoutView",
            "align_content": null,
            "align_items": null,
            "align_self": null,
            "border": null,
            "bottom": null,
            "display": null,
            "flex": null,
            "flex_flow": null,
            "grid_area": null,
            "grid_auto_columns": null,
            "grid_auto_flow": null,
            "grid_auto_rows": null,
            "grid_column": null,
            "grid_gap": null,
            "grid_row": null,
            "grid_template_areas": null,
            "grid_template_columns": null,
            "grid_template_rows": null,
            "height": null,
            "justify_content": null,
            "justify_items": null,
            "left": null,
            "margin": null,
            "max_height": null,
            "max_width": null,
            "min_height": null,
            "min_width": null,
            "object_fit": null,
            "object_position": null,
            "order": null,
            "overflow": null,
            "overflow_x": null,
            "overflow_y": null,
            "padding": null,
            "right": null,
            "top": null,
            "visibility": null,
            "width": null
          }
        },
        "fe39cf2cf31e4646a06613556c69b011": {
          "model_module": "@jupyter-widgets/controls",
          "model_module_version": "1.5.0",
          "model_name": "ProgressStyleModel",
          "state": {
            "_model_module": "@jupyter-widgets/controls",
            "_model_module_version": "1.5.0",
            "_model_name": "ProgressStyleModel",
            "_view_count": null,
            "_view_module": "@jupyter-widgets/base",
            "_view_module_version": "1.2.0",
            "_view_name": "StyleView",
            "bar_color": null,
            "description_width": ""
          }
        },
        "ff8ede438539475d8011cfe811030633": {
          "model_module": "@jupyter-widgets/controls",
          "model_module_version": "1.5.0",
          "model_name": "ProgressStyleModel",
          "state": {
            "_model_module": "@jupyter-widgets/controls",
            "_model_module_version": "1.5.0",
            "_model_name": "ProgressStyleModel",
            "_view_count": null,
            "_view_module": "@jupyter-widgets/base",
            "_view_module_version": "1.2.0",
            "_view_name": "StyleView",
            "bar_color": null,
            "description_width": ""
          }
        }
      }
    }
  },
  "nbformat": 4,
  "nbformat_minor": 0
}
